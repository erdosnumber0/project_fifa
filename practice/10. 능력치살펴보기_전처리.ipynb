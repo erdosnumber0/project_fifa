{
 "cells": [
  {
   "cell_type": "code",
   "execution_count": 2,
   "metadata": {
    "id": "rrykq_ktzhn0"
   },
   "outputs": [],
   "source": [
    "import numpy as np\n",
    "import pandas as pd\n",
    "import matplotlib.pyplot as plt\n",
    "import matplotlib\n",
    "import seaborn as sns\n",
    "import warnings\n",
    "warnings.filterwarnings('ignore')"
   ]
  },
  {
   "cell_type": "code",
   "execution_count": null,
   "metadata": {
    "id": "IrPnNuxZzhoB"
   },
   "outputs": [],
   "source": [
    "df = pd.read_csv('dataset/data.csv', index_col=0)"
   ]
  },
  {
   "cell_type": "markdown",
   "metadata": {
    "id": "mRNvRw6DzhoD"
   },
   "source": [
    "변환"
   ]
  },
  {
   "cell_type": "code",
   "execution_count": null,
   "metadata": {
    "id": "croVMKISzhoD"
   },
   "outputs": [],
   "source": [
    "# 통화 변환-> 실수화\n",
    "def exchange(value):\n",
    "    out = value.replace('€', '')\n",
    "    if 'M' in out:\n",
    "        out = float(out.replace('M',''))*1000\n",
    "    elif 'K' in out:\n",
    "        out = float(out.replace('K',''))\n",
    "    return float(out)"
   ]
  },
  {
   "cell_type": "code",
   "execution_count": null,
   "metadata": {
    "id": "rQ_i-De4zhoE"
   },
   "outputs": [],
   "source": [
    "df.Value = df.Value.apply(lambda x: exchange(x))\n",
    "df.Wage = df.Wage.apply(lambda x: exchange(x))\n",
    "df['Release Clause'] = df['Release Clause'].astype('str')\n",
    "df['Release Clause'] = df['Release Clause'].apply(lambda x: exchange(x))"
   ]
  },
  {
   "cell_type": "code",
   "execution_count": null,
   "metadata": {
    "id": "52WaIc0WzhoG"
   },
   "outputs": [],
   "source": [
    "wr = df['Work Rate'].str.split('/', expand=True)\n",
    "df['Attack_WR']= wr[0]\n",
    "df['Attack_WR'].replace({'High':2, 'Medium':1,'Low':0},inplace= True)\n",
    "df['Defence_WR']=wr[1]\n",
    "df['Defence_WR'].replace({' High':2, ' Medium':1,' Low':0},inplace= True)"
   ]
  },
  {
   "cell_type": "code",
   "execution_count": null,
   "metadata": {
    "id": "ANxxROHZzhoH"
   },
   "outputs": [],
   "source": [
    "결측치가 많은 칼럼이나 불필요한 칼럼 삭제결측치가 많은 칼럼이나 불필요한 칼럼 삭제"
   ]
  },
  {
   "cell_type": "code",
   "execution_count": null,
   "metadata": {
    "id": "dMufw1SvzhoI"
   },
   "outputs": [],
   "source": [
    "# nan 행 삭제\n",
    "nan_data=df.iloc[13236:13284,:]\n",
    "nan_data.index\n",
    "df.drop(nan_data.index,inplace = True)"
   ]
  },
  {
   "cell_type": "code",
   "execution_count": null,
   "metadata": {
    "id": "CFctpxMTzhoJ"
   },
   "outputs": [],
   "source": [
    "value=0인 선수 11명 삭제(은퇴예정?)"
   ]
  },
  {
   "cell_type": "code",
   "execution_count": null,
   "metadata": {
    "id": "9bK68DcczhoK",
    "outputId": "d3dac62d-1d7f-4c63-919f-7f66d54cc290"
   },
   "outputs": [
    {
     "data": {
      "text/html": [
       "<div>\n",
       "<style scoped>\n",
       "    .dataframe tbody tr th:only-of-type {\n",
       "        vertical-align: middle;\n",
       "    }\n",
       "\n",
       "    .dataframe tbody tr th {\n",
       "        vertical-align: top;\n",
       "    }\n",
       "\n",
       "    .dataframe thead th {\n",
       "        text-align: right;\n",
       "    }\n",
       "</style>\n",
       "<table border=\"1\" class=\"dataframe\">\n",
       "  <thead>\n",
       "    <tr style=\"text-align: right;\">\n",
       "      <th></th>\n",
       "      <th>Name</th>\n",
       "      <th>Overall</th>\n",
       "      <th>Age</th>\n",
       "      <th>Joined</th>\n",
       "      <th>Contract Valid Until</th>\n",
       "      <th>Wage</th>\n",
       "      <th>Value</th>\n",
       "      <th>Loaned From</th>\n",
       "    </tr>\n",
       "  </thead>\n",
       "  <tbody>\n",
       "    <tr>\n",
       "      <th>864</th>\n",
       "      <td>Hilton</td>\n",
       "      <td>78</td>\n",
       "      <td>40</td>\n",
       "      <td>Aug 1, 2011</td>\n",
       "      <td>2019</td>\n",
       "      <td>18.0</td>\n",
       "      <td>0.0</td>\n",
       "      <td>NaN</td>\n",
       "    </tr>\n",
       "    <tr>\n",
       "      <th>3550</th>\n",
       "      <td>S. Nakamura</td>\n",
       "      <td>72</td>\n",
       "      <td>40</td>\n",
       "      <td>Jan 10, 2017</td>\n",
       "      <td>2021</td>\n",
       "      <td>4.0</td>\n",
       "      <td>0.0</td>\n",
       "      <td>NaN</td>\n",
       "    </tr>\n",
       "    <tr>\n",
       "      <th>4228</th>\n",
       "      <td>B. Nivet</td>\n",
       "      <td>71</td>\n",
       "      <td>41</td>\n",
       "      <td>Jul 1, 2012</td>\n",
       "      <td>2019</td>\n",
       "      <td>5.0</td>\n",
       "      <td>0.0</td>\n",
       "      <td>NaN</td>\n",
       "    </tr>\n",
       "    <tr>\n",
       "      <th>10356</th>\n",
       "      <td>F. Kippe</td>\n",
       "      <td>65</td>\n",
       "      <td>40</td>\n",
       "      <td>Feb 22, 2002</td>\n",
       "      <td>2019</td>\n",
       "      <td>1.0</td>\n",
       "      <td>0.0</td>\n",
       "      <td>NaN</td>\n",
       "    </tr>\n",
       "    <tr>\n",
       "      <th>12192</th>\n",
       "      <td>H. Sulaimani</td>\n",
       "      <td>63</td>\n",
       "      <td>41</td>\n",
       "      <td>Jun 11, 2018</td>\n",
       "      <td>2019</td>\n",
       "      <td>3.0</td>\n",
       "      <td>0.0</td>\n",
       "      <td>NaN</td>\n",
       "    </tr>\n",
       "    <tr>\n",
       "      <th>12453</th>\n",
       "      <td>W. Díaz</td>\n",
       "      <td>63</td>\n",
       "      <td>40</td>\n",
       "      <td>Jan 10, 2016</td>\n",
       "      <td>2023</td>\n",
       "      <td>1.0</td>\n",
       "      <td>0.0</td>\n",
       "      <td>NaN</td>\n",
       "    </tr>\n",
       "    <tr>\n",
       "      <th>14129</th>\n",
       "      <td>Y. Nakazawa</td>\n",
       "      <td>61</td>\n",
       "      <td>40</td>\n",
       "      <td>Jan 1, 2002</td>\n",
       "      <td>2022</td>\n",
       "      <td>1.0</td>\n",
       "      <td>0.0</td>\n",
       "      <td>NaN</td>\n",
       "    </tr>\n",
       "    <tr>\n",
       "      <th>17672</th>\n",
       "      <td>R. Kawai</td>\n",
       "      <td>53</td>\n",
       "      <td>39</td>\n",
       "      <td>Jan 1, 2011</td>\n",
       "      <td>2021</td>\n",
       "      <td>1.0</td>\n",
       "      <td>0.0</td>\n",
       "      <td>NaN</td>\n",
       "    </tr>\n",
       "    <tr>\n",
       "      <th>17726</th>\n",
       "      <td>T. Warner</td>\n",
       "      <td>53</td>\n",
       "      <td>44</td>\n",
       "      <td>Aug 3, 2018</td>\n",
       "      <td>2019</td>\n",
       "      <td>1.0</td>\n",
       "      <td>0.0</td>\n",
       "      <td>NaN</td>\n",
       "    </tr>\n",
       "    <tr>\n",
       "      <th>17752</th>\n",
       "      <td>S. Phillips</td>\n",
       "      <td>52</td>\n",
       "      <td>40</td>\n",
       "      <td>Aug 1, 2017</td>\n",
       "      <td>2022</td>\n",
       "      <td>1.0</td>\n",
       "      <td>0.0</td>\n",
       "      <td>NaN</td>\n",
       "    </tr>\n",
       "    <tr>\n",
       "      <th>18183</th>\n",
       "      <td>K. Pilkington</td>\n",
       "      <td>48</td>\n",
       "      <td>44</td>\n",
       "      <td>Aug 17, 2018</td>\n",
       "      <td>2023</td>\n",
       "      <td>1.0</td>\n",
       "      <td>0.0</td>\n",
       "      <td>NaN</td>\n",
       "    </tr>\n",
       "  </tbody>\n",
       "</table>\n",
       "</div>"
      ],
      "text/plain": [
       "                Name  Overall  Age        Joined Contract Valid Until  Wage  \\\n",
       "864           Hilton       78   40   Aug 1, 2011                 2019  18.0   \n",
       "3550     S. Nakamura       72   40  Jan 10, 2017                 2021   4.0   \n",
       "4228        B. Nivet       71   41   Jul 1, 2012                 2019   5.0   \n",
       "10356       F. Kippe       65   40  Feb 22, 2002                 2019   1.0   \n",
       "12192   H. Sulaimani       63   41  Jun 11, 2018                 2019   3.0   \n",
       "12453        W. Díaz       63   40  Jan 10, 2016                 2023   1.0   \n",
       "14129    Y. Nakazawa       61   40   Jan 1, 2002                 2022   1.0   \n",
       "17672       R. Kawai       53   39   Jan 1, 2011                 2021   1.0   \n",
       "17726      T. Warner       53   44   Aug 3, 2018                 2019   1.0   \n",
       "17752    S. Phillips       52   40   Aug 1, 2017                 2022   1.0   \n",
       "18183  K. Pilkington       48   44  Aug 17, 2018                 2023   1.0   \n",
       "\n",
       "       Value Loaned From  \n",
       "864      0.0         NaN  \n",
       "3550     0.0         NaN  \n",
       "4228     0.0         NaN  \n",
       "10356    0.0         NaN  \n",
       "12192    0.0         NaN  \n",
       "12453    0.0         NaN  \n",
       "14129    0.0         NaN  \n",
       "17672    0.0         NaN  \n",
       "17726    0.0         NaN  \n",
       "17752    0.0         NaN  \n",
       "18183    0.0         NaN  "
      ]
     },
     "execution_count": 13,
     "metadata": {
      "tags": []
     },
     "output_type": "execute_result"
    }
   ],
   "source": [
    "df.query('Value==0')[['Name', 'Overall', 'Age', 'Joined', 'Contract Valid Until','Wage', 'Value','Loaned From']]\n",
    "# value_zero=df[df.Value==0].index\n",
    "# df.drop(value_zero, inplace=True)"
   ]
  },
  {
   "cell_type": "code",
   "execution_count": null,
   "metadata": {
    "id": "bs31qAVczhoO"
   },
   "outputs": [],
   "source": [
    "# club nan 행 탐색\n",
    "df.Club.fillna('non_club', inplace = True)\n",
    "non_club_s=df[df.Club =='non_club'].index\n",
    "df.drop(non_club_s,inplace = True)  "
   ]
  },
  {
   "cell_type": "code",
   "execution_count": null,
   "metadata": {
    "id": "WPpOwCQCzhoQ",
    "outputId": "2f892915-4022-44b7-fc0e-754f6d48fb19"
   },
   "outputs": [
    {
     "data": {
      "text/plain": [
       "Index(['ID', 'Name', 'Age', 'Photo', 'Nationality', 'Flag', 'Overall',\n",
       "       'Potential', 'Club', 'Club Logo', 'Value', 'Wage', 'Special',\n",
       "       'Preferred Foot', 'International Reputation', 'Weak Foot',\n",
       "       'Skill Moves', 'Work Rate', 'Body Type', 'Real Face', 'Position',\n",
       "       'Jersey Number', 'Joined', 'Loaned From', 'Contract Valid Until',\n",
       "       'Height', 'Weight', 'LS', 'ST', 'RS', 'LW', 'LF', 'CF', 'RF', 'RW',\n",
       "       'LAM', 'CAM', 'RAM', 'LM', 'LCM', 'CM', 'RCM', 'RM', 'LWB', 'LDM',\n",
       "       'CDM', 'RDM', 'RWB', 'LB', 'LCB', 'CB', 'RCB', 'RB', 'Crossing',\n",
       "       'Finishing', 'HeadingAccuracy', 'ShortPassing', 'Volleys', 'Dribbling',\n",
       "       'Curve', 'FKAccuracy', 'LongPassing', 'BallControl', 'Acceleration',\n",
       "       'SprintSpeed', 'Agility', 'Reactions', 'Balance', 'ShotPower',\n",
       "       'Jumping', 'Stamina', 'Strength', 'LongShots', 'Aggression',\n",
       "       'Interceptions', 'Positioning', 'Vision', 'Penalties', 'Composure',\n",
       "       'Marking', 'StandingTackle', 'SlidingTackle', 'GKDiving', 'GKHandling',\n",
       "       'GKKicking', 'GKPositioning', 'GKReflexes', 'Release Clause'],\n",
       "      dtype='object')"
      ]
     },
     "execution_count": 69,
     "metadata": {
      "tags": []
     },
     "output_type": "execute_result"
    }
   ],
   "source": [
    "df.columns"
   ]
  },
  {
   "cell_type": "markdown",
   "metadata": {
    "id": "Bt_TXOSYzhoR"
   },
   "source": [
    "## 불필요한 컬럼 삭제"
   ]
  },
  {
   "cell_type": "code",
   "execution_count": null,
   "metadata": {
    "id": "Ez70PbkqzhoS"
   },
   "outputs": [],
   "source": [
    "df.drop(['Nationality','Work Rate','Photo', 'Flag','Club Logo',\n",
    "        'ID','Body Type','Height', 'Weight',\n",
    "        'Attack_WR', 'Defence_WR','Preferred Foot',\n",
    "        'Release Clause'], axis=1, inplace = True)"
   ]
  },
  {
   "cell_type": "code",
   "execution_count": null,
   "metadata": {
    "id": "ymu37YbozhoT"
   },
   "outputs": [],
   "source": [
    "joined, conract Valid Unitil(기간 계산기간 계산)"
   ]
  },
  {
   "cell_type": "code",
   "execution_count": null,
   "metadata": {
    "id": "iwU6id4OzhoU"
   },
   "outputs": [],
   "source": [
    "df['Joined'] = pd.to_datetime(df['Joined'])"
   ]
  },
  {
   "cell_type": "code",
   "execution_count": null,
   "metadata": {
    "id": "wWcfG1wSzhoV"
   },
   "outputs": [],
   "source": [
    "df['Contract Valid Until'] = pd.to_datetime(df['Contract Valid Until'])"
   ]
  },
  {
   "cell_type": "code",
   "execution_count": null,
   "metadata": {
    "id": "dJIxC_xWzhoW"
   },
   "outputs": [],
   "source": [
    "df['Loaned From'].fillna(0,inplace=True)"
   ]
  },
  {
   "cell_type": "code",
   "execution_count": null,
   "metadata": {
    "id": "21tJOHAEzhoW"
   },
   "outputs": [],
   "source": [
    "# 파생변수 만들기 : 임대 선수 0, 구단 소속선수 1\n",
    "def Loaned(df):\n",
    "    if (df['Loaned From']==0):\n",
    "        return 1\n",
    "    else:\n",
    "        return 0\n",
    "df['Loaned']=df.apply(Loaned,axis=1)"
   ]
  },
  {
   "cell_type": "markdown",
   "metadata": {
    "id": "afqXJ3l4zhoX"
   },
   "source": [
    "## 파생변수 만들기"
   ]
  },
  {
   "cell_type": "code",
   "execution_count": null,
   "metadata": {
    "id": "7rbApz11zhoX"
   },
   "outputs": [],
   "source": [
    "# Age_C\n",
    "def Age_2(x):\n",
    "    if x <20 : return 1\n",
    "    elif (20<= x <=22): return 2\n",
    "    elif (23<= x <=24): return 3\n",
    "    elif (25<= x <= 26): return 4\n",
    "    elif (27<= x <= 29): return 5\n",
    "    elif (30<= x <=31): return 6\n",
    "    elif (32<= x <=33): return 7\n",
    "    elif (34 ==x): return 8\n",
    "    elif (35 <= x <= 38): return 9\n",
    "    elif (39 ==x): return 10\n",
    "    elif (40 <= x <= 45): return 11\n",
    "df['Age_C'] = df.Age.apply(Age_2) "
   ]
  },
  {
   "cell_type": "code",
   "execution_count": null,
   "metadata": {
    "id": "xwqpxzV4zhoY"
   },
   "outputs": [],
   "source": [
    "# Over_C\n",
    "def Over_2(x):\n",
    "    if 46<= x <=62 : return 1\n",
    "    elif 63<= x <=68 : return 2\n",
    "    elif 69<= x <=72: return 3\n",
    "    elif 73<= x <=75: return 4\n",
    "    elif 76<= x <=78: return 5\n",
    "    elif 79<= x <=80: return 6\n",
    "    elif 81<= x <=82: return 7\n",
    "    elif 83==x: return 8\n",
    "    elif 84==x: return 9\n",
    "    elif 85==x: return 10\n",
    "    elif 86==x: return 11\n",
    "    elif 87==x: return 12\n",
    "    elif 88==x: return 13\n",
    "    elif 89==x: return 14\n",
    "    elif 90==x: return 15\n",
    "    elif 91==x: return 16\n",
    "    elif 92==x: return 17\n",
    "    elif 93<= x <=94 : return 18\n",
    "df['Over_C']=df.Overall.apply(Over_2)"
   ]
  },
  {
   "cell_type": "code",
   "execution_count": null,
   "metadata": {
    "id": "0wvFq-1czhoY"
   },
   "outputs": [],
   "source": [
    "Club_Value"
   ]
  },
  {
   "cell_type": "code",
   "execution_count": null,
   "metadata": {
    "id": "csroRUHdzhoZ",
    "outputId": "dd7f784d-67ed-49af-8e11-cbc202bd207c"
   },
   "outputs": [
    {
     "data": {
      "text/plain": [
       "<AxesSubplot:xlabel='Value', ylabel='Club'>"
      ]
     },
     "execution_count": 21,
     "metadata": {
      "tags": []
     },
     "output_type": "execute_result"
    },
    {
     "data": {
      "image/png": "[encoded data removed]",
      "text/plain": [
       "<Figure size 1440x720 with 1 Axes>"
      ]
     },
     "metadata": {
      "needs_background": "light",
      "tags": []
     },
     "output_type": "display_data"
    }
   ],
   "source": [
    "import seaborn as sns\n",
    "# 클럽 구단 가치 \n",
    "group = df.groupby('Club')['Value'].sum().reset_index().sort_values('Value', ascending = False).head(50)\n",
    "plt.figure(figsize = (20,10))\n",
    "sns.barplot(x = 'Value', y = 'Club', data = group)"
   ]
  },
  {
   "cell_type": "code",
   "execution_count": 232,
   "metadata": {
    "id": "qxjilaPyzhoa",
    "outputId": "389a246b-f031-4f82-8c05-e08ac5898fea",
    "scrolled": false
   },
   "outputs": [
    {
     "ename": "NameError",
     "evalue": "name 'group' is not defined",
     "output_type": "error",
     "traceback": [
      "\u001b[1;31m---------------------------------------------------------------------------\u001b[0m",
      "\u001b[1;31mNameError\u001b[0m                                 Traceback (most recent call last)",
      "\u001b[1;32m<ipython-input-232-f1deaf7db1c0>\u001b[0m in \u001b[0;36m<module>\u001b[1;34m\u001b[0m\n\u001b[1;32m----> 1\u001b[1;33m \u001b[0mgroup\u001b[0m\u001b[1;33m.\u001b[0m\u001b[0mhead\u001b[0m\u001b[1;33m(\u001b[0m\u001b[1;36m50\u001b[0m\u001b[1;33m)\u001b[0m\u001b[1;33m\u001b[0m\u001b[1;33m\u001b[0m\u001b[0m\n\u001b[0m",
      "\u001b[1;31mNameError\u001b[0m: name 'group' is not defined"
     ]
    }
   ],
   "source": [
    "group.head(50)"
   ]
  },
  {
   "cell_type": "code",
   "execution_count": null,
   "metadata": {
    "id": "48EPWuFxzhob"
   },
   "outputs": [],
   "source": [
    "group = df.groupby(['Club'])[['Value']]\n",
    "cmed= group.sum().sort_values(by=['Value'], ascending = False)"
   ]
  },
  {
   "cell_type": "code",
   "execution_count": null,
   "metadata": {
    "id": "c6jPOJ2Qzhod",
    "outputId": "76ac6ff0-a0bb-4bb6-b023-8ece05c5acd7"
   },
   "outputs": [
    {
     "data": {
      "text/html": [
       "<div>\n",
       "<style scoped>\n",
       "    .dataframe tbody tr th:only-of-type {\n",
       "        vertical-align: middle;\n",
       "    }\n",
       "\n",
       "    .dataframe tbody tr th {\n",
       "        vertical-align: top;\n",
       "    }\n",
       "\n",
       "    .dataframe thead th {\n",
       "        text-align: right;\n",
       "    }\n",
       "</style>\n",
       "<table border=\"1\" class=\"dataframe\">\n",
       "  <thead>\n",
       "    <tr style=\"text-align: right;\">\n",
       "      <th></th>\n",
       "      <th>Value</th>\n",
       "    </tr>\n",
       "  </thead>\n",
       "  <tbody>\n",
       "    <tr>\n",
       "      <th>count</th>\n",
       "      <td>651.000000</td>\n",
       "    </tr>\n",
       "    <tr>\n",
       "      <th>mean</th>\n",
       "      <td>67395.591398</td>\n",
       "    </tr>\n",
       "    <tr>\n",
       "      <th>std</th>\n",
       "      <td>109255.819191</td>\n",
       "    </tr>\n",
       "    <tr>\n",
       "      <th>min</th>\n",
       "      <td>1930.000000</td>\n",
       "    </tr>\n",
       "    <tr>\n",
       "      <th>25%</th>\n",
       "      <td>15277.500000</td>\n",
       "    </tr>\n",
       "    <tr>\n",
       "      <th>50%</th>\n",
       "      <td>30520.000000</td>\n",
       "    </tr>\n",
       "    <tr>\n",
       "      <th>75%</th>\n",
       "      <td>65742.500000</td>\n",
       "    </tr>\n",
       "    <tr>\n",
       "      <th>max</th>\n",
       "      <td>874425.000000</td>\n",
       "    </tr>\n",
       "  </tbody>\n",
       "</table>\n",
       "</div>"
      ],
      "text/plain": [
       "               Value\n",
       "count     651.000000\n",
       "mean    67395.591398\n",
       "std    109255.819191\n",
       "min      1930.000000\n",
       "25%     15277.500000\n",
       "50%     30520.000000\n",
       "75%     65742.500000\n",
       "max    874425.000000"
      ]
     },
     "execution_count": 24,
     "metadata": {
      "tags": []
     },
     "output_type": "execute_result"
    }
   ],
   "source": [
    "cmed.describe()"
   ]
  },
  {
   "cell_type": "code",
   "execution_count": null,
   "metadata": {
    "id": "1iFPEjDuzhoe"
   },
   "outputs": [],
   "source": [
    "club1=list(cmed.query('Value>=65745.2').index)\n",
    "club1\n",
    "club2=list(cmed.query('Value>=30520 & Value<65745.2').index)\n",
    "club2\n",
    "club3=list(cmed.query('Value>=15277.5 & Value <30520').index)\n",
    "club4=list(cmed.query('Value<15277.5').index)\n",
    "df.insert(7,'Club_4V',\n",
    "            df.apply(lambda x: \n",
    "            3 if x['Club'] in club1\n",
    "            else 2 if x['Club'] in club2\n",
    "            else 1 if x['Club'] in  club3\n",
    "            else 0, axis =1))"
   ]
  },
  {
   "cell_type": "code",
   "execution_count": null,
   "metadata": {
    "id": "ZuI1L2c5zhof"
   },
   "outputs": [],
   "source": [
    "# df.drop('Club_4V',axis=1, inplace=True)"
   ]
  },
  {
   "cell_type": "code",
   "execution_count": null,
   "metadata": {
    "id": "nL1UptvIzhog"
   },
   "outputs": [],
   "source": [
    "Club_overall"
   ]
  },
  {
   "cell_type": "code",
   "execution_count": null,
   "metadata": {
    "id": "uC_19HhQzhog",
    "outputId": "852a59b2-91d6-4632-9111-477aa97467ba"
   },
   "outputs": [
    {
     "data": {
      "text/plain": [
       "<AxesSubplot:xlabel='Overall', ylabel='Club'>"
      ]
     },
     "execution_count": 26,
     "metadata": {
      "tags": []
     },
     "output_type": "execute_result"
    },
    {
     "data": {
      "image/png": "[encoded data removed]",
      "text/plain": [
       "<Figure size 1440x720 with 1 Axes>"
      ]
     },
     "metadata": {
      "needs_background": "light",
      "tags": []
     },
     "output_type": "display_data"
    }
   ],
   "source": [
    "# 우승하는 구단이 돈을 많이 벌 것이고, 우승확률은 전체 overall 로 해보면 어떨까\n",
    "# -> 대신 선수 숫자가 다를 수 있으므로 mean으로 계산 해보자\n",
    "# 클럽 오버롤 평균\n",
    "group1 = df.groupby('Club')['Overall'].mean().reset_index().sort_values('Overall', ascending = False).head(50)\n",
    "plt.figure(figsize = (20,10))\n",
    "sns.barplot(x = 'Overall', y = 'Club', data = group1)"
   ]
  },
  {
   "cell_type": "code",
   "execution_count": null,
   "metadata": {
    "id": "G6DIUkYrzhoi",
    "outputId": "cd2ed488-9f83-40ba-cac1-ad1c62373af8"
   },
   "outputs": [
    {
     "data": {
      "text/html": [
       "<div>\n",
       "<style scoped>\n",
       "    .dataframe tbody tr th:only-of-type {\n",
       "        vertical-align: middle;\n",
       "    }\n",
       "\n",
       "    .dataframe tbody tr th {\n",
       "        vertical-align: top;\n",
       "    }\n",
       "\n",
       "    .dataframe thead th {\n",
       "        text-align: right;\n",
       "    }\n",
       "</style>\n",
       "<table border=\"1\" class=\"dataframe\">\n",
       "  <thead>\n",
       "    <tr style=\"text-align: right;\">\n",
       "      <th></th>\n",
       "      <th>Club</th>\n",
       "      <th>Overall</th>\n",
       "    </tr>\n",
       "  </thead>\n",
       "  <tbody>\n",
       "    <tr>\n",
       "      <th>326</th>\n",
       "      <td>Juventus</td>\n",
       "      <td>82.280000</td>\n",
       "    </tr>\n",
       "    <tr>\n",
       "      <th>398</th>\n",
       "      <td>Napoli</td>\n",
       "      <td>80.000000</td>\n",
       "    </tr>\n",
       "    <tr>\n",
       "      <th>315</th>\n",
       "      <td>Inter</td>\n",
       "      <td>79.750000</td>\n",
       "    </tr>\n",
       "    <tr>\n",
       "      <th>470</th>\n",
       "      <td>Real Madrid</td>\n",
       "      <td>78.242424</td>\n",
       "    </tr>\n",
       "    <tr>\n",
       "      <th>382</th>\n",
       "      <td>Milan</td>\n",
       "      <td>78.074074</td>\n",
       "    </tr>\n",
       "    <tr>\n",
       "      <th>212</th>\n",
       "      <td>FC Barcelona</td>\n",
       "      <td>78.030303</td>\n",
       "    </tr>\n",
       "    <tr>\n",
       "      <th>435</th>\n",
       "      <td>Paris Saint-Germain</td>\n",
       "      <td>77.433333</td>\n",
       "    </tr>\n",
       "    <tr>\n",
       "      <th>482</th>\n",
       "      <td>Roma</td>\n",
       "      <td>77.423077</td>\n",
       "    </tr>\n",
       "    <tr>\n",
       "      <th>375</th>\n",
       "      <td>Manchester United</td>\n",
       "      <td>77.242424</td>\n",
       "    </tr>\n",
       "    <tr>\n",
       "      <th>214</th>\n",
       "      <td>FC Bayern München</td>\n",
       "      <td>77.000000</td>\n",
       "    </tr>\n",
       "    <tr>\n",
       "      <th>504</th>\n",
       "      <td>SL Benfica</td>\n",
       "      <td>77.000000</td>\n",
       "    </tr>\n",
       "    <tr>\n",
       "      <th>134</th>\n",
       "      <td>Chelsea</td>\n",
       "      <td>76.787879</td>\n",
       "    </tr>\n",
       "    <tr>\n",
       "      <th>374</th>\n",
       "      <td>Manchester City</td>\n",
       "      <td>76.727273</td>\n",
       "    </tr>\n",
       "    <tr>\n",
       "      <th>583</th>\n",
       "      <td>Tottenham Hotspur</td>\n",
       "      <td>76.696970</td>\n",
       "    </tr>\n",
       "    <tr>\n",
       "      <th>232</th>\n",
       "      <td>FC Porto</td>\n",
       "      <td>76.678571</td>\n",
       "    </tr>\n",
       "    <tr>\n",
       "      <th>552</th>\n",
       "      <td>Sporting CP</td>\n",
       "      <td>76.133333</td>\n",
       "    </tr>\n",
       "    <tr>\n",
       "      <th>363</th>\n",
       "      <td>Liverpool</td>\n",
       "      <td>76.000000</td>\n",
       "    </tr>\n",
       "    <tr>\n",
       "      <th>72</th>\n",
       "      <td>Bayer 04 Leverkusen</td>\n",
       "      <td>75.807692</td>\n",
       "    </tr>\n",
       "    <tr>\n",
       "      <th>351</th>\n",
       "      <td>Lazio</td>\n",
       "      <td>75.437500</td>\n",
       "    </tr>\n",
       "    <tr>\n",
       "      <th>86</th>\n",
       "      <td>Borussia Dortmund</td>\n",
       "      <td>75.333333</td>\n",
       "    </tr>\n",
       "    <tr>\n",
       "      <th>530</th>\n",
       "      <td>Sevilla FC</td>\n",
       "      <td>75.200000</td>\n",
       "    </tr>\n",
       "    <tr>\n",
       "      <th>469</th>\n",
       "      <td>Real Betis</td>\n",
       "      <td>75.185185</td>\n",
       "    </tr>\n",
       "    <tr>\n",
       "      <th>52</th>\n",
       "      <td>Arsenal</td>\n",
       "      <td>75.181818</td>\n",
       "    </tr>\n",
       "    <tr>\n",
       "      <th>61</th>\n",
       "      <td>Atlético Madrid</td>\n",
       "      <td>75.060606</td>\n",
       "    </tr>\n",
       "    <tr>\n",
       "      <th>488</th>\n",
       "      <td>SC Braga</td>\n",
       "      <td>74.821429</td>\n",
       "    </tr>\n",
       "    <tr>\n",
       "      <th>605</th>\n",
       "      <td>Valencia CF</td>\n",
       "      <td>74.696970</td>\n",
       "    </tr>\n",
       "    <tr>\n",
       "      <th>206</th>\n",
       "      <td>Everton</td>\n",
       "      <td>74.500000</td>\n",
       "    </tr>\n",
       "    <tr>\n",
       "      <th>619</th>\n",
       "      <td>Villarreal CF</td>\n",
       "      <td>74.343750</td>\n",
       "    </tr>\n",
       "    <tr>\n",
       "      <th>234</th>\n",
       "      <td>FC Schalke 04</td>\n",
       "      <td>74.310345</td>\n",
       "    </tr>\n",
       "    <tr>\n",
       "      <th>358</th>\n",
       "      <td>Leicester City</td>\n",
       "      <td>73.843750</td>\n",
       "    </tr>\n",
       "  </tbody>\n",
       "</table>\n",
       "</div>"
      ],
      "text/plain": [
       "                    Club    Overall\n",
       "326             Juventus  82.280000\n",
       "398               Napoli  80.000000\n",
       "315                Inter  79.750000\n",
       "470          Real Madrid  78.242424\n",
       "382                Milan  78.074074\n",
       "212         FC Barcelona  78.030303\n",
       "435  Paris Saint-Germain  77.433333\n",
       "482                 Roma  77.423077\n",
       "375    Manchester United  77.242424\n",
       "214    FC Bayern München  77.000000\n",
       "504           SL Benfica  77.000000\n",
       "134              Chelsea  76.787879\n",
       "374      Manchester City  76.727273\n",
       "583    Tottenham Hotspur  76.696970\n",
       "232             FC Porto  76.678571\n",
       "552          Sporting CP  76.133333\n",
       "363            Liverpool  76.000000\n",
       "72   Bayer 04 Leverkusen  75.807692\n",
       "351                Lazio  75.437500\n",
       "86     Borussia Dortmund  75.333333\n",
       "530           Sevilla FC  75.200000\n",
       "469           Real Betis  75.185185\n",
       "52               Arsenal  75.181818\n",
       "61       Atlético Madrid  75.060606\n",
       "488             SC Braga  74.821429\n",
       "605          Valencia CF  74.696970\n",
       "206              Everton  74.500000\n",
       "619        Villarreal CF  74.343750\n",
       "234        FC Schalke 04  74.310345\n",
       "358       Leicester City  73.843750"
      ]
     },
     "execution_count": 27,
     "metadata": {
      "tags": []
     },
     "output_type": "execute_result"
    }
   ],
   "source": [
    "group1.head(30)"
   ]
  },
  {
   "cell_type": "code",
   "execution_count": null,
   "metadata": {
    "id": "P0qDw-MNzhoj"
   },
   "outputs": [],
   "source": [
    "Club_Wage"
   ]
  },
  {
   "cell_type": "code",
   "execution_count": null,
   "metadata": {
    "id": "rc_otKhjzhok",
    "outputId": "6dd7973b-6f9e-4ecd-e62c-36efb69c4aa7"
   },
   "outputs": [
    {
     "data": {
      "text/plain": [
       "<AxesSubplot:xlabel='Wage', ylabel='Club'>"
      ]
     },
     "execution_count": 96,
     "metadata": {
      "tags": []
     },
     "output_type": "execute_result"
    },
    {
     "data": {
      "image/png": "[encoded data removed]",
      "text/plain": [
       "<Figure size 1440x720 with 1 Axes>"
      ]
     },
     "metadata": {
      "needs_background": "light",
      "tags": []
     },
     "output_type": "display_data"
    }
   ],
   "source": [
    "group3 = df.groupby('Club')['Wage'].sum().reset_index().sort_values('Wage', ascending = False).head(50)\n",
    "plt.figure(figsize = (20,10))\n",
    "sns.barplot(x = 'Wage', y = 'Club', data = group3)"
   ]
  },
  {
   "cell_type": "code",
   "execution_count": null,
   "metadata": {
    "id": "sOePn6BPzhol",
    "outputId": "d3a84b09-c42a-4b29-95c3-299912b167c1"
   },
   "outputs": [
    {
     "data": {
      "text/html": [
       "<div>\n",
       "<style scoped>\n",
       "    .dataframe tbody tr th:only-of-type {\n",
       "        vertical-align: middle;\n",
       "    }\n",
       "\n",
       "    .dataframe tbody tr th {\n",
       "        vertical-align: top;\n",
       "    }\n",
       "\n",
       "    .dataframe thead th {\n",
       "        text-align: right;\n",
       "    }\n",
       "</style>\n",
       "<table border=\"1\" class=\"dataframe\">\n",
       "  <thead>\n",
       "    <tr style=\"text-align: right;\">\n",
       "      <th></th>\n",
       "      <th>Club</th>\n",
       "      <th>Wage</th>\n",
       "    </tr>\n",
       "  </thead>\n",
       "  <tbody>\n",
       "    <tr>\n",
       "      <th>470</th>\n",
       "      <td>Real Madrid</td>\n",
       "      <td>5017.0</td>\n",
       "    </tr>\n",
       "    <tr>\n",
       "      <th>212</th>\n",
       "      <td>FC Barcelona</td>\n",
       "      <td>4837.0</td>\n",
       "    </tr>\n",
       "    <tr>\n",
       "      <th>374</th>\n",
       "      <td>Manchester City</td>\n",
       "      <td>3741.0</td>\n",
       "    </tr>\n",
       "    <tr>\n",
       "      <th>375</th>\n",
       "      <td>Manchester United</td>\n",
       "      <td>3391.0</td>\n",
       "    </tr>\n",
       "    <tr>\n",
       "      <th>326</th>\n",
       "      <td>Juventus</td>\n",
       "      <td>3292.0</td>\n",
       "    </tr>\n",
       "    <tr>\n",
       "      <th>134</th>\n",
       "      <td>Chelsea</td>\n",
       "      <td>3249.0</td>\n",
       "    </tr>\n",
       "    <tr>\n",
       "      <th>363</th>\n",
       "      <td>Liverpool</td>\n",
       "      <td>2902.0</td>\n",
       "    </tr>\n",
       "    <tr>\n",
       "      <th>583</th>\n",
       "      <td>Tottenham Hotspur</td>\n",
       "      <td>2623.0</td>\n",
       "    </tr>\n",
       "    <tr>\n",
       "      <th>52</th>\n",
       "      <td>Arsenal</td>\n",
       "      <td>2588.0</td>\n",
       "    </tr>\n",
       "    <tr>\n",
       "      <th>214</th>\n",
       "      <td>FC Bayern München</td>\n",
       "      <td>2286.0</td>\n",
       "    </tr>\n",
       "    <tr>\n",
       "      <th>435</th>\n",
       "      <td>Paris Saint-Germain</td>\n",
       "      <td>2161.0</td>\n",
       "    </tr>\n",
       "    <tr>\n",
       "      <th>206</th>\n",
       "      <td>Everton</td>\n",
       "      <td>2009.0</td>\n",
       "    </tr>\n",
       "    <tr>\n",
       "      <th>382</th>\n",
       "      <td>Milan</td>\n",
       "      <td>1957.0</td>\n",
       "    </tr>\n",
       "    <tr>\n",
       "      <th>398</th>\n",
       "      <td>Napoli</td>\n",
       "      <td>1777.0</td>\n",
       "    </tr>\n",
       "    <tr>\n",
       "      <th>633</th>\n",
       "      <td>West Ham United</td>\n",
       "      <td>1720.0</td>\n",
       "    </tr>\n",
       "    <tr>\n",
       "      <th>315</th>\n",
       "      <td>Inter</td>\n",
       "      <td>1596.0</td>\n",
       "    </tr>\n",
       "    <tr>\n",
       "      <th>61</th>\n",
       "      <td>Atlético Madrid</td>\n",
       "      <td>1533.0</td>\n",
       "    </tr>\n",
       "    <tr>\n",
       "      <th>358</th>\n",
       "      <td>Leicester City</td>\n",
       "      <td>1405.0</td>\n",
       "    </tr>\n",
       "    <tr>\n",
       "      <th>482</th>\n",
       "      <td>Roma</td>\n",
       "      <td>1399.0</td>\n",
       "    </tr>\n",
       "    <tr>\n",
       "      <th>86</th>\n",
       "      <td>Borussia Dortmund</td>\n",
       "      <td>1258.0</td>\n",
       "    </tr>\n",
       "    <tr>\n",
       "      <th>17</th>\n",
       "      <td>AS Monaco</td>\n",
       "      <td>1251.0</td>\n",
       "    </tr>\n",
       "    <tr>\n",
       "      <th>351</th>\n",
       "      <td>Lazio</td>\n",
       "      <td>1226.0</td>\n",
       "    </tr>\n",
       "    <tr>\n",
       "      <th>250</th>\n",
       "      <td>Fenerbahçe SK</td>\n",
       "      <td>1186.0</td>\n",
       "    </tr>\n",
       "    <tr>\n",
       "      <th>72</th>\n",
       "      <td>Bayer 04 Leverkusen</td>\n",
       "      <td>1161.0</td>\n",
       "    </tr>\n",
       "    <tr>\n",
       "      <th>418</th>\n",
       "      <td>Olympique Lyonnais</td>\n",
       "      <td>1125.0</td>\n",
       "    </tr>\n",
       "    <tr>\n",
       "      <th>100</th>\n",
       "      <td>Burnley</td>\n",
       "      <td>1125.0</td>\n",
       "    </tr>\n",
       "    <tr>\n",
       "      <th>89</th>\n",
       "      <td>Bournemouth</td>\n",
       "      <td>1036.0</td>\n",
       "    </tr>\n",
       "    <tr>\n",
       "      <th>630</th>\n",
       "      <td>Watford</td>\n",
       "      <td>1012.0</td>\n",
       "    </tr>\n",
       "    <tr>\n",
       "      <th>169</th>\n",
       "      <td>Crystal Palace</td>\n",
       "      <td>998.0</td>\n",
       "    </tr>\n",
       "    <tr>\n",
       "      <th>544</th>\n",
       "      <td>Southampton</td>\n",
       "      <td>993.0</td>\n",
       "    </tr>\n",
       "  </tbody>\n",
       "</table>\n",
       "</div>"
      ],
      "text/plain": [
       "                    Club    Wage\n",
       "470          Real Madrid  5017.0\n",
       "212         FC Barcelona  4837.0\n",
       "374      Manchester City  3741.0\n",
       "375    Manchester United  3391.0\n",
       "326             Juventus  3292.0\n",
       "134              Chelsea  3249.0\n",
       "363            Liverpool  2902.0\n",
       "583    Tottenham Hotspur  2623.0\n",
       "52               Arsenal  2588.0\n",
       "214    FC Bayern München  2286.0\n",
       "435  Paris Saint-Germain  2161.0\n",
       "206              Everton  2009.0\n",
       "382                Milan  1957.0\n",
       "398               Napoli  1777.0\n",
       "633      West Ham United  1720.0\n",
       "315                Inter  1596.0\n",
       "61       Atlético Madrid  1533.0\n",
       "358       Leicester City  1405.0\n",
       "482                 Roma  1399.0\n",
       "86     Borussia Dortmund  1258.0\n",
       "17             AS Monaco  1251.0\n",
       "351                Lazio  1226.0\n",
       "250        Fenerbahçe SK  1186.0\n",
       "72   Bayer 04 Leverkusen  1161.0\n",
       "418   Olympique Lyonnais  1125.0\n",
       "100              Burnley  1125.0\n",
       "89           Bournemouth  1036.0\n",
       "630              Watford  1012.0\n",
       "169       Crystal Palace   998.0\n",
       "544          Southampton   993.0"
      ]
     },
     "execution_count": 29,
     "metadata": {
      "tags": []
     },
     "output_type": "execute_result"
    }
   ],
   "source": [
    "group3.head(30)"
   ]
  },
  {
   "cell_type": "code",
   "execution_count": 301,
   "metadata": {
    "id": "7qR511kPzhom"
   },
   "outputs": [],
   "source": [
    "group3 = df.groupby(['Club'])[['Wage']]\n",
    "cmed= group3.sum().sort_values(by=['Wage'], ascending = False)"
   ]
  },
  {
   "cell_type": "code",
   "execution_count": 302,
   "metadata": {
    "id": "KC0FjBOlzhon",
    "outputId": "10ec579e-0c84-4a12-ddd9-7d23af49e916"
   },
   "outputs": [
    {
     "data": {
      "text/html": [
       "<div>\n",
       "<style scoped>\n",
       "    .dataframe tbody tr th:only-of-type {\n",
       "        vertical-align: middle;\n",
       "    }\n",
       "\n",
       "    .dataframe tbody tr th {\n",
       "        vertical-align: top;\n",
       "    }\n",
       "\n",
       "    .dataframe thead th {\n",
       "        text-align: right;\n",
       "    }\n",
       "</style>\n",
       "<table border=\"1\" class=\"dataframe\">\n",
       "  <thead>\n",
       "    <tr style=\"text-align: right;\">\n",
       "      <th></th>\n",
       "      <th>Wage</th>\n",
       "    </tr>\n",
       "  </thead>\n",
       "  <tbody>\n",
       "    <tr>\n",
       "      <th>count</th>\n",
       "      <td>651.000000</td>\n",
       "    </tr>\n",
       "    <tr>\n",
       "      <th>mean</th>\n",
       "      <td>272.038402</td>\n",
       "    </tr>\n",
       "    <tr>\n",
       "      <th>std</th>\n",
       "      <td>499.444787</td>\n",
       "    </tr>\n",
       "    <tr>\n",
       "      <th>min</th>\n",
       "      <td>19.000000</td>\n",
       "    </tr>\n",
       "    <tr>\n",
       "      <th>25%</th>\n",
       "      <td>60.500000</td>\n",
       "    </tr>\n",
       "    <tr>\n",
       "      <th>50%</th>\n",
       "      <td>108.000000</td>\n",
       "    </tr>\n",
       "    <tr>\n",
       "      <th>75%</th>\n",
       "      <td>261.500000</td>\n",
       "    </tr>\n",
       "    <tr>\n",
       "      <th>max</th>\n",
       "      <td>5017.000000</td>\n",
       "    </tr>\n",
       "  </tbody>\n",
       "</table>\n",
       "</div>"
      ],
      "text/plain": [
       "              Wage\n",
       "count   651.000000\n",
       "mean    272.038402\n",
       "std     499.444787\n",
       "min      19.000000\n",
       "25%      60.500000\n",
       "50%     108.000000\n",
       "75%     261.500000\n",
       "max    5017.000000"
      ]
     },
     "execution_count": 302,
     "metadata": {},
     "output_type": "execute_result"
    }
   ],
   "source": [
    "cmed.describe()"
   ]
  },
  {
   "cell_type": "code",
   "execution_count": null,
   "metadata": {
    "id": "CT8oxchBzhoo",
    "outputId": "72be4c54-1874-4748-be17-96eaad17a3d6"
   },
   "outputs": [
    {
     "data": {
      "text/plain": [
       "array(['RF', 'ST', 'LW', 'GK', 'RCM', 'LF', 'RS', 'RCB', 'LCM', 'CB',\n",
       "       'LDM', 'CAM', 'CDM', 'LS', 'LCB', 'RM', 'LAM', 'LM', 'LB', 'RDM',\n",
       "       'RW', 'CM', 'RB', 'RAM', 'CF', 'RWB', 'LWB'], dtype=object)"
      ]
     },
     "execution_count": 31,
     "metadata": {
      "tags": []
     },
     "output_type": "execute_result"
    }
   ],
   "source": [
    "df['Position'].unique()"
   ]
  },
  {
   "cell_type": "code",
   "execution_count": null,
   "metadata": {
    "id": "zs8siymgzhop"
   },
   "outputs": [],
   "source": [
    "df.drop('Club_4W',axis=1, inplace=True)"
   ]
  },
  {
   "cell_type": "code",
   "execution_count": null,
   "metadata": {
    "id": "XPw_WU_mzhop"
   },
   "outputs": [],
   "source": [
    "club11=list(cmed.query('Wage>=261.5').index)\n",
    "club11\n",
    "club22=list(cmed.query('Wage>=108 & Wage<261.5').index)\n",
    "club22\n",
    "club33=list(cmed.query('Wage>=60.5 & Wage <108').index)\n",
    "club44=list(cmed.query('Wage<60.5').index)\n",
    "df.insert(7,'Club_4W',\n",
    "            df.apply(lambda x: \n",
    "            3 if x['Club'] in club11\n",
    "            else 2 if x['Club'] in club22\n",
    "            else 1 if x['Club'] in  club33\n",
    "            else 0, axis =1))"
   ]
  },
  {
   "cell_type": "code",
   "execution_count": null,
   "metadata": {
    "id": "_yG-dJ_Ozhoq",
    "outputId": "c13ae809-d85f-4712-d0e6-bdcf67d1e957"
   },
   "outputs": [
    {
     "data": {
      "text/plain": [
       "<AxesSubplot:xlabel='Club_4W', ylabel='Wage'>"
      ]
     },
     "execution_count": 36,
     "metadata": {
      "tags": []
     },
     "output_type": "execute_result"
    },
    {
     "data": {
      "image/png": "[encoded data removed]",
      "text/plain": [
       "<Figure size 432x288 with 1 Axes>"
      ]
     },
     "metadata": {
      "needs_background": "light",
      "tags": []
     },
     "output_type": "display_data"
    }
   ],
   "source": [
    "sns.barplot(x=df.Club_4W, y = df.Wage)"
   ]
  },
  {
   "cell_type": "code",
   "execution_count": null,
   "metadata": {
    "id": "cx527nFdzhor"
   },
   "outputs": [],
   "source": [
    "df['coe']=df.Potential-df.Overall "
   ]
  },
  {
   "cell_type": "code",
   "execution_count": null,
   "metadata": {
    "id": "ToZOaIGmzhos",
    "outputId": "b5150563-3986-4a4f-a7ba-85ab4f3e5346"
   },
   "outputs": [
    {
     "data": {
      "text/plain": [
       "array([ 0,  1,  2,  3,  5,  7,  4,  6,  9,  8, 11, 10, 12, 15, 14, 13, 16,\n",
       "       18, 17, 19, 20, 21, 22, 24, 23, 26, 25], dtype=int64)"
      ]
     },
     "execution_count": 50,
     "metadata": {
      "tags": []
     },
     "output_type": "execute_result"
    }
   ],
   "source": [
    "df['coe'].unique()"
   ]
  },
  {
   "cell_type": "code",
   "execution_count": null,
   "metadata": {
    "id": "wB2iwOp-zhot",
    "outputId": "5829fc8b-b6d6-49f4-c9e4-cc0013411c95"
   },
   "outputs": [
    {
     "data": {
      "text/plain": [
       "array([19, 18, 17, 20, 21, 16], dtype=int64)"
      ]
     },
     "execution_count": 67,
     "metadata": {
      "tags": []
     },
     "output_type": "execute_result"
    }
   ],
   "source": [
    "sort_coe=df.sort_values(by='coe', ascending=False)[['Age', 'coe']]\n",
    "# sort_coe[sort_coe.coe==26].Age.unique()\n",
    "# sort_coe[sort_coe.coe==25].Age.unique()\n",
    "# sort_coe[sort_coe.coe==24].Age.unique()\n",
    "# sort_coe[sort_coe.coe==23].Age.unique()\n",
    "# sort_coe[sort_coe.coe==22].Age.unique()\n",
    "# sort_coe[sort_coe.coe==21].Age.unique()\n",
    "# sort_coe[sort_coe.coe==20].Age.unique()\n",
    "# sort_coe[sort_coe.coe==19].Age.unique()\n",
    "# sort_coe[sort_coe.coe==18].Age.unique()\n",
    "# sort_coe[sort_coe.coe==17].Age.unique()\n",
    "# sort_coe[sort_coe.coe==16].Age.unique()\n",
    "sort_coe[sort_coe.coe==15].Age.unique()"
   ]
  },
  {
   "cell_type": "code",
   "execution_count": null,
   "metadata": {
    "id": "Tm0XF0v4zhou",
    "outputId": "9b2895dc-27a2-491e-d623-259e1c657d4b"
   },
   "outputs": [
    {
     "data": {
      "text/plain": [
       "array([33, 28, 30, 27, 32, 29, 31, 37, 35, 36, 26, 40, 34, 38, 39, 25, 44,\n",
       "       41, 45, 42], dtype=int64)"
      ]
     },
     "execution_count": 95,
     "metadata": {
      "tags": []
     },
     "output_type": "execute_result"
    }
   ],
   "source": [
    "sort_coe[sort_coe.coe==0].Age.unique()"
   ]
  },
  {
   "cell_type": "code",
   "execution_count": null,
   "metadata": {
    "id": "0D9pLTdAzhov"
   },
   "outputs": [],
   "source": [
    "df.to_csv('dataset/fifa_0310.csv')"
   ]
  },
  {
   "cell_type": "code",
   "execution_count": 299,
   "metadata": {
    "id": "swDxrWGczhov",
    "outputId": "ce27db24-4e02-4ece-f7c8-ebd87c293374"
   },
   "outputs": [
    {
     "data": {
      "text/html": [
       "<div>\n",
       "<style scoped>\n",
       "    .dataframe tbody tr th:only-of-type {\n",
       "        vertical-align: middle;\n",
       "    }\n",
       "\n",
       "    .dataframe tbody tr th {\n",
       "        vertical-align: top;\n",
       "    }\n",
       "\n",
       "    .dataframe thead th {\n",
       "        text-align: right;\n",
       "    }\n",
       "</style>\n",
       "<table border=\"1\" class=\"dataframe\">\n",
       "  <thead>\n",
       "    <tr style=\"text-align: right;\">\n",
       "      <th></th>\n",
       "      <th>Name</th>\n",
       "      <th>Age</th>\n",
       "      <th>Overall</th>\n",
       "      <th>Potential</th>\n",
       "      <th>Club</th>\n",
       "      <th>Value</th>\n",
       "      <th>Wage</th>\n",
       "      <th>Club_4W</th>\n",
       "      <th>Club_4V</th>\n",
       "      <th>Special</th>\n",
       "      <th>...</th>\n",
       "      <th>StandingTackle</th>\n",
       "      <th>SlidingTackle</th>\n",
       "      <th>GKDiving</th>\n",
       "      <th>GKHandling</th>\n",
       "      <th>GKKicking</th>\n",
       "      <th>GKPositioning</th>\n",
       "      <th>GKReflexes</th>\n",
       "      <th>Loaned</th>\n",
       "      <th>Age_C</th>\n",
       "      <th>Over_C</th>\n",
       "    </tr>\n",
       "  </thead>\n",
       "  <tbody>\n",
       "    <tr>\n",
       "      <th>0</th>\n",
       "      <td>L. Messi</td>\n",
       "      <td>31</td>\n",
       "      <td>94</td>\n",
       "      <td>94</td>\n",
       "      <td>FC Barcelona</td>\n",
       "      <td>110500.0</td>\n",
       "      <td>565.0</td>\n",
       "      <td>3</td>\n",
       "      <td>3</td>\n",
       "      <td>2202</td>\n",
       "      <td>...</td>\n",
       "      <td>28.0</td>\n",
       "      <td>26.0</td>\n",
       "      <td>6.0</td>\n",
       "      <td>11.0</td>\n",
       "      <td>15.0</td>\n",
       "      <td>14.0</td>\n",
       "      <td>8.0</td>\n",
       "      <td>1</td>\n",
       "      <td>6</td>\n",
       "      <td>18</td>\n",
       "    </tr>\n",
       "    <tr>\n",
       "      <th>1</th>\n",
       "      <td>Cristiano Ronaldo</td>\n",
       "      <td>33</td>\n",
       "      <td>94</td>\n",
       "      <td>94</td>\n",
       "      <td>Juventus</td>\n",
       "      <td>77000.0</td>\n",
       "      <td>405.0</td>\n",
       "      <td>3</td>\n",
       "      <td>3</td>\n",
       "      <td>2228</td>\n",
       "      <td>...</td>\n",
       "      <td>31.0</td>\n",
       "      <td>23.0</td>\n",
       "      <td>7.0</td>\n",
       "      <td>11.0</td>\n",
       "      <td>15.0</td>\n",
       "      <td>14.0</td>\n",
       "      <td>11.0</td>\n",
       "      <td>1</td>\n",
       "      <td>7</td>\n",
       "      <td>18</td>\n",
       "    </tr>\n",
       "    <tr>\n",
       "      <th>2</th>\n",
       "      <td>Neymar Jr</td>\n",
       "      <td>26</td>\n",
       "      <td>92</td>\n",
       "      <td>93</td>\n",
       "      <td>Paris Saint-Germain</td>\n",
       "      <td>118500.0</td>\n",
       "      <td>290.0</td>\n",
       "      <td>3</td>\n",
       "      <td>3</td>\n",
       "      <td>2143</td>\n",
       "      <td>...</td>\n",
       "      <td>24.0</td>\n",
       "      <td>33.0</td>\n",
       "      <td>9.0</td>\n",
       "      <td>9.0</td>\n",
       "      <td>15.0</td>\n",
       "      <td>15.0</td>\n",
       "      <td>11.0</td>\n",
       "      <td>1</td>\n",
       "      <td>4</td>\n",
       "      <td>17</td>\n",
       "    </tr>\n",
       "    <tr>\n",
       "      <th>3</th>\n",
       "      <td>De Gea</td>\n",
       "      <td>27</td>\n",
       "      <td>91</td>\n",
       "      <td>93</td>\n",
       "      <td>Manchester United</td>\n",
       "      <td>72000.0</td>\n",
       "      <td>260.0</td>\n",
       "      <td>3</td>\n",
       "      <td>3</td>\n",
       "      <td>1471</td>\n",
       "      <td>...</td>\n",
       "      <td>21.0</td>\n",
       "      <td>13.0</td>\n",
       "      <td>90.0</td>\n",
       "      <td>85.0</td>\n",
       "      <td>87.0</td>\n",
       "      <td>88.0</td>\n",
       "      <td>94.0</td>\n",
       "      <td>1</td>\n",
       "      <td>5</td>\n",
       "      <td>16</td>\n",
       "    </tr>\n",
       "    <tr>\n",
       "      <th>4</th>\n",
       "      <td>K. De Bruyne</td>\n",
       "      <td>27</td>\n",
       "      <td>91</td>\n",
       "      <td>92</td>\n",
       "      <td>Manchester City</td>\n",
       "      <td>102000.0</td>\n",
       "      <td>355.0</td>\n",
       "      <td>3</td>\n",
       "      <td>3</td>\n",
       "      <td>2281</td>\n",
       "      <td>...</td>\n",
       "      <td>58.0</td>\n",
       "      <td>51.0</td>\n",
       "      <td>15.0</td>\n",
       "      <td>13.0</td>\n",
       "      <td>5.0</td>\n",
       "      <td>10.0</td>\n",
       "      <td>13.0</td>\n",
       "      <td>1</td>\n",
       "      <td>5</td>\n",
       "      <td>16</td>\n",
       "    </tr>\n",
       "  </tbody>\n",
       "</table>\n",
       "<p>5 rows × 82 columns</p>\n",
       "</div>"
      ],
      "text/plain": [
       "                Name  Age  Overall  Potential                 Club     Value  \\\n",
       "0           L. Messi   31       94         94         FC Barcelona  110500.0   \n",
       "1  Cristiano Ronaldo   33       94         94             Juventus   77000.0   \n",
       "2          Neymar Jr   26       92         93  Paris Saint-Germain  118500.0   \n",
       "3             De Gea   27       91         93    Manchester United   72000.0   \n",
       "4       K. De Bruyne   27       91         92      Manchester City  102000.0   \n",
       "\n",
       "    Wage  Club_4W  Club_4V  Special  ...  StandingTackle  SlidingTackle  \\\n",
       "0  565.0        3        3     2202  ...            28.0           26.0   \n",
       "1  405.0        3        3     2228  ...            31.0           23.0   \n",
       "2  290.0        3        3     2143  ...            24.0           33.0   \n",
       "3  260.0        3        3     1471  ...            21.0           13.0   \n",
       "4  355.0        3        3     2281  ...            58.0           51.0   \n",
       "\n",
       "   GKDiving GKHandling GKKicking  GKPositioning GKReflexes Loaned Age_C Over_C  \n",
       "0       6.0       11.0      15.0           14.0        8.0      1     6     18  \n",
       "1       7.0       11.0      15.0           14.0       11.0      1     7     18  \n",
       "2       9.0        9.0      15.0           15.0       11.0      1     4     17  \n",
       "3      90.0       85.0      87.0           88.0       94.0      1     5     16  \n",
       "4      15.0       13.0       5.0           10.0       13.0      1     5     16  \n",
       "\n",
       "[5 rows x 82 columns]"
      ]
     },
     "execution_count": 299,
     "metadata": {},
     "output_type": "execute_result"
    }
   ],
   "source": [
    "df=pd.read_csv('dataset/fifa_0310.csv',index_col=0)\n",
    "df.head()"
   ]
  },
  {
   "cell_type": "code",
   "execution_count": 300,
   "metadata": {
    "id": "f9xHthy8zhov"
   },
   "outputs": [],
   "source": [
    "# 파생변수 1 Position_Class\n",
    "df.insert(9,'Position_Class',\n",
    "            df.apply(lambda x: \n",
    "            'Forward' if x['Position'] in ['LS','ST','RS','LW','LF','CF','RF','RW']\n",
    "            else 'Midfielder' if x['Position'] in ['LAM','CAM','RAM','LM','LCM','CM',\n",
    "                                                   'RCM','RM']\n",
    "            else 'Defender' if x['Position'] in  ['LWB','LDM','CDM','RDM','RWB','LB',\n",
    "                                                  'LCB','CB','RCB','RB']\n",
    "            else 'GoalKeeper', axis =1))"
   ]
  },
  {
   "cell_type": "code",
   "execution_count": 134,
   "metadata": {},
   "outputs": [],
   "source": [
    "def exchange1(value):\n",
    "    out1 = value.split('+')[0]\n",
    "    out2 = value.split('+')[1]\n",
    "    return int(out1)+int(out2)  "
   ]
  },
  {
   "cell_type": "markdown",
   "metadata": {
    "id": "4GiuAwP2zhox"
   },
   "source": [
    "포지션 데이터 내 + 계산하기"
   ]
  },
  {
   "cell_type": "code",
   "execution_count": 135,
   "metadata": {
    "id": "AyQgJmF-zho1",
    "outputId": "a29cb5e3-5723-4bfd-c71d-12e7c33a6c4d"
   },
   "outputs": [
    {
     "data": {
      "text/html": [
       "<div>\n",
       "<style scoped>\n",
       "    .dataframe tbody tr th:only-of-type {\n",
       "        vertical-align: middle;\n",
       "    }\n",
       "\n",
       "    .dataframe tbody tr th {\n",
       "        vertical-align: top;\n",
       "    }\n",
       "\n",
       "    .dataframe thead th {\n",
       "        text-align: right;\n",
       "    }\n",
       "</style>\n",
       "<table border=\"1\" class=\"dataframe\">\n",
       "  <thead>\n",
       "    <tr style=\"text-align: right;\">\n",
       "      <th></th>\n",
       "      <th>Name</th>\n",
       "      <th>Age</th>\n",
       "      <th>Overall</th>\n",
       "      <th>Potential</th>\n",
       "      <th>Club</th>\n",
       "      <th>Value</th>\n",
       "      <th>Wage</th>\n",
       "      <th>Club_4W</th>\n",
       "      <th>Club_4V</th>\n",
       "      <th>Position_Class</th>\n",
       "      <th>...</th>\n",
       "      <th>StandingTackle</th>\n",
       "      <th>SlidingTackle</th>\n",
       "      <th>GKDiving</th>\n",
       "      <th>GKHandling</th>\n",
       "      <th>GKKicking</th>\n",
       "      <th>GKPositioning</th>\n",
       "      <th>GKReflexes</th>\n",
       "      <th>Loaned</th>\n",
       "      <th>Age_C</th>\n",
       "      <th>Over_C</th>\n",
       "    </tr>\n",
       "  </thead>\n",
       "  <tbody>\n",
       "    <tr>\n",
       "      <th>0</th>\n",
       "      <td>L. Messi</td>\n",
       "      <td>31</td>\n",
       "      <td>94</td>\n",
       "      <td>94</td>\n",
       "      <td>FC Barcelona</td>\n",
       "      <td>110500.0</td>\n",
       "      <td>565.0</td>\n",
       "      <td>3</td>\n",
       "      <td>3</td>\n",
       "      <td>Forward</td>\n",
       "      <td>...</td>\n",
       "      <td>28.0</td>\n",
       "      <td>26.0</td>\n",
       "      <td>6.0</td>\n",
       "      <td>11.0</td>\n",
       "      <td>15.0</td>\n",
       "      <td>14.0</td>\n",
       "      <td>8.0</td>\n",
       "      <td>1</td>\n",
       "      <td>6</td>\n",
       "      <td>18</td>\n",
       "    </tr>\n",
       "    <tr>\n",
       "      <th>1</th>\n",
       "      <td>Cristiano Ronaldo</td>\n",
       "      <td>33</td>\n",
       "      <td>94</td>\n",
       "      <td>94</td>\n",
       "      <td>Juventus</td>\n",
       "      <td>77000.0</td>\n",
       "      <td>405.0</td>\n",
       "      <td>3</td>\n",
       "      <td>3</td>\n",
       "      <td>Forward</td>\n",
       "      <td>...</td>\n",
       "      <td>31.0</td>\n",
       "      <td>23.0</td>\n",
       "      <td>7.0</td>\n",
       "      <td>11.0</td>\n",
       "      <td>15.0</td>\n",
       "      <td>14.0</td>\n",
       "      <td>11.0</td>\n",
       "      <td>1</td>\n",
       "      <td>7</td>\n",
       "      <td>18</td>\n",
       "    </tr>\n",
       "    <tr>\n",
       "      <th>2</th>\n",
       "      <td>Neymar Jr</td>\n",
       "      <td>26</td>\n",
       "      <td>92</td>\n",
       "      <td>93</td>\n",
       "      <td>Paris Saint-Germain</td>\n",
       "      <td>118500.0</td>\n",
       "      <td>290.0</td>\n",
       "      <td>3</td>\n",
       "      <td>3</td>\n",
       "      <td>Forward</td>\n",
       "      <td>...</td>\n",
       "      <td>24.0</td>\n",
       "      <td>33.0</td>\n",
       "      <td>9.0</td>\n",
       "      <td>9.0</td>\n",
       "      <td>15.0</td>\n",
       "      <td>15.0</td>\n",
       "      <td>11.0</td>\n",
       "      <td>1</td>\n",
       "      <td>4</td>\n",
       "      <td>17</td>\n",
       "    </tr>\n",
       "    <tr>\n",
       "      <th>4</th>\n",
       "      <td>K. De Bruyne</td>\n",
       "      <td>27</td>\n",
       "      <td>91</td>\n",
       "      <td>92</td>\n",
       "      <td>Manchester City</td>\n",
       "      <td>102000.0</td>\n",
       "      <td>355.0</td>\n",
       "      <td>3</td>\n",
       "      <td>3</td>\n",
       "      <td>Midfielder</td>\n",
       "      <td>...</td>\n",
       "      <td>58.0</td>\n",
       "      <td>51.0</td>\n",
       "      <td>15.0</td>\n",
       "      <td>13.0</td>\n",
       "      <td>5.0</td>\n",
       "      <td>10.0</td>\n",
       "      <td>13.0</td>\n",
       "      <td>1</td>\n",
       "      <td>5</td>\n",
       "      <td>16</td>\n",
       "    </tr>\n",
       "    <tr>\n",
       "      <th>5</th>\n",
       "      <td>E. Hazard</td>\n",
       "      <td>27</td>\n",
       "      <td>91</td>\n",
       "      <td>91</td>\n",
       "      <td>Chelsea</td>\n",
       "      <td>93000.0</td>\n",
       "      <td>340.0</td>\n",
       "      <td>3</td>\n",
       "      <td>3</td>\n",
       "      <td>Forward</td>\n",
       "      <td>...</td>\n",
       "      <td>27.0</td>\n",
       "      <td>22.0</td>\n",
       "      <td>11.0</td>\n",
       "      <td>12.0</td>\n",
       "      <td>6.0</td>\n",
       "      <td>8.0</td>\n",
       "      <td>8.0</td>\n",
       "      <td>1</td>\n",
       "      <td>5</td>\n",
       "      <td>16</td>\n",
       "    </tr>\n",
       "    <tr>\n",
       "      <th>...</th>\n",
       "      <td>...</td>\n",
       "      <td>...</td>\n",
       "      <td>...</td>\n",
       "      <td>...</td>\n",
       "      <td>...</td>\n",
       "      <td>...</td>\n",
       "      <td>...</td>\n",
       "      <td>...</td>\n",
       "      <td>...</td>\n",
       "      <td>...</td>\n",
       "      <td>...</td>\n",
       "      <td>...</td>\n",
       "      <td>...</td>\n",
       "      <td>...</td>\n",
       "      <td>...</td>\n",
       "      <td>...</td>\n",
       "      <td>...</td>\n",
       "      <td>...</td>\n",
       "      <td>...</td>\n",
       "      <td>...</td>\n",
       "      <td>...</td>\n",
       "    </tr>\n",
       "    <tr>\n",
       "      <th>18202</th>\n",
       "      <td>J. Lundstram</td>\n",
       "      <td>19</td>\n",
       "      <td>47</td>\n",
       "      <td>65</td>\n",
       "      <td>Crewe Alexandra</td>\n",
       "      <td>60.0</td>\n",
       "      <td>1.0</td>\n",
       "      <td>1</td>\n",
       "      <td>0</td>\n",
       "      <td>Midfielder</td>\n",
       "      <td>...</td>\n",
       "      <td>48.0</td>\n",
       "      <td>47.0</td>\n",
       "      <td>10.0</td>\n",
       "      <td>13.0</td>\n",
       "      <td>7.0</td>\n",
       "      <td>8.0</td>\n",
       "      <td>9.0</td>\n",
       "      <td>1</td>\n",
       "      <td>1</td>\n",
       "      <td>1</td>\n",
       "    </tr>\n",
       "    <tr>\n",
       "      <th>18203</th>\n",
       "      <td>N. Christoffersson</td>\n",
       "      <td>19</td>\n",
       "      <td>47</td>\n",
       "      <td>63</td>\n",
       "      <td>Trelleborgs FF</td>\n",
       "      <td>60.0</td>\n",
       "      <td>1.0</td>\n",
       "      <td>0</td>\n",
       "      <td>0</td>\n",
       "      <td>Forward</td>\n",
       "      <td>...</td>\n",
       "      <td>15.0</td>\n",
       "      <td>19.0</td>\n",
       "      <td>10.0</td>\n",
       "      <td>9.0</td>\n",
       "      <td>9.0</td>\n",
       "      <td>5.0</td>\n",
       "      <td>12.0</td>\n",
       "      <td>1</td>\n",
       "      <td>1</td>\n",
       "      <td>1</td>\n",
       "    </tr>\n",
       "    <tr>\n",
       "      <th>18204</th>\n",
       "      <td>B. Worman</td>\n",
       "      <td>16</td>\n",
       "      <td>47</td>\n",
       "      <td>67</td>\n",
       "      <td>Cambridge United</td>\n",
       "      <td>60.0</td>\n",
       "      <td>1.0</td>\n",
       "      <td>0</td>\n",
       "      <td>0</td>\n",
       "      <td>Forward</td>\n",
       "      <td>...</td>\n",
       "      <td>13.0</td>\n",
       "      <td>11.0</td>\n",
       "      <td>6.0</td>\n",
       "      <td>5.0</td>\n",
       "      <td>10.0</td>\n",
       "      <td>6.0</td>\n",
       "      <td>13.0</td>\n",
       "      <td>1</td>\n",
       "      <td>1</td>\n",
       "      <td>1</td>\n",
       "    </tr>\n",
       "    <tr>\n",
       "      <th>18205</th>\n",
       "      <td>D. Walker-Rice</td>\n",
       "      <td>17</td>\n",
       "      <td>47</td>\n",
       "      <td>66</td>\n",
       "      <td>Tranmere Rovers</td>\n",
       "      <td>60.0</td>\n",
       "      <td>1.0</td>\n",
       "      <td>0</td>\n",
       "      <td>0</td>\n",
       "      <td>Forward</td>\n",
       "      <td>...</td>\n",
       "      <td>25.0</td>\n",
       "      <td>27.0</td>\n",
       "      <td>14.0</td>\n",
       "      <td>6.0</td>\n",
       "      <td>14.0</td>\n",
       "      <td>8.0</td>\n",
       "      <td>9.0</td>\n",
       "      <td>1</td>\n",
       "      <td>1</td>\n",
       "      <td>1</td>\n",
       "    </tr>\n",
       "    <tr>\n",
       "      <th>18206</th>\n",
       "      <td>G. Nugent</td>\n",
       "      <td>16</td>\n",
       "      <td>46</td>\n",
       "      <td>66</td>\n",
       "      <td>Tranmere Rovers</td>\n",
       "      <td>60.0</td>\n",
       "      <td>1.0</td>\n",
       "      <td>0</td>\n",
       "      <td>0</td>\n",
       "      <td>Midfielder</td>\n",
       "      <td>...</td>\n",
       "      <td>43.0</td>\n",
       "      <td>50.0</td>\n",
       "      <td>10.0</td>\n",
       "      <td>15.0</td>\n",
       "      <td>9.0</td>\n",
       "      <td>12.0</td>\n",
       "      <td>9.0</td>\n",
       "      <td>1</td>\n",
       "      <td>1</td>\n",
       "      <td>1</td>\n",
       "    </tr>\n",
       "  </tbody>\n",
       "</table>\n",
       "<p>15926 rows × 83 columns</p>\n",
       "</div>"
      ],
      "text/plain": [
       "                     Name  Age  Overall  Potential                 Club  \\\n",
       "0                L. Messi   31       94         94         FC Barcelona   \n",
       "1       Cristiano Ronaldo   33       94         94             Juventus   \n",
       "2               Neymar Jr   26       92         93  Paris Saint-Germain   \n",
       "4            K. De Bruyne   27       91         92      Manchester City   \n",
       "5               E. Hazard   27       91         91              Chelsea   \n",
       "...                   ...  ...      ...        ...                  ...   \n",
       "18202        J. Lundstram   19       47         65      Crewe Alexandra   \n",
       "18203  N. Christoffersson   19       47         63       Trelleborgs FF   \n",
       "18204           B. Worman   16       47         67     Cambridge United   \n",
       "18205      D. Walker-Rice   17       47         66      Tranmere Rovers   \n",
       "18206           G. Nugent   16       46         66      Tranmere Rovers   \n",
       "\n",
       "          Value   Wage  Club_4W  Club_4V Position_Class  ...  StandingTackle  \\\n",
       "0      110500.0  565.0        3        3        Forward  ...            28.0   \n",
       "1       77000.0  405.0        3        3        Forward  ...            31.0   \n",
       "2      118500.0  290.0        3        3        Forward  ...            24.0   \n",
       "4      102000.0  355.0        3        3     Midfielder  ...            58.0   \n",
       "5       93000.0  340.0        3        3        Forward  ...            27.0   \n",
       "...         ...    ...      ...      ...            ...  ...             ...   \n",
       "18202      60.0    1.0        1        0     Midfielder  ...            48.0   \n",
       "18203      60.0    1.0        0        0        Forward  ...            15.0   \n",
       "18204      60.0    1.0        0        0        Forward  ...            13.0   \n",
       "18205      60.0    1.0        0        0        Forward  ...            25.0   \n",
       "18206      60.0    1.0        0        0     Midfielder  ...            43.0   \n",
       "\n",
       "       SlidingTackle  GKDiving  GKHandling GKKicking GKPositioning  \\\n",
       "0               26.0       6.0        11.0      15.0          14.0   \n",
       "1               23.0       7.0        11.0      15.0          14.0   \n",
       "2               33.0       9.0         9.0      15.0          15.0   \n",
       "4               51.0      15.0        13.0       5.0          10.0   \n",
       "5               22.0      11.0        12.0       6.0           8.0   \n",
       "...              ...       ...         ...       ...           ...   \n",
       "18202           47.0      10.0        13.0       7.0           8.0   \n",
       "18203           19.0      10.0         9.0       9.0           5.0   \n",
       "18204           11.0       6.0         5.0      10.0           6.0   \n",
       "18205           27.0      14.0         6.0      14.0           8.0   \n",
       "18206           50.0      10.0        15.0       9.0          12.0   \n",
       "\n",
       "       GKReflexes Loaned Age_C Over_C  \n",
       "0             8.0      1     6     18  \n",
       "1            11.0      1     7     18  \n",
       "2            11.0      1     4     17  \n",
       "4            13.0      1     5     16  \n",
       "5             8.0      1     5     16  \n",
       "...           ...    ...   ...    ...  \n",
       "18202         9.0      1     1      1  \n",
       "18203        12.0      1     1      1  \n",
       "18204        13.0      1     1      1  \n",
       "18205         9.0      1     1      1  \n",
       "18206         9.0      1     1      1  \n",
       "\n",
       "[15926 rows x 83 columns]"
      ]
     },
     "execution_count": 135,
     "metadata": {},
     "output_type": "execute_result"
    }
   ],
   "source": [
    "df1=df[df['Position']!='GK']\n",
    "df1"
   ]
  },
  {
   "cell_type": "code",
   "execution_count": 136,
   "metadata": {
    "id": "rOoL5AJlzho4"
   },
   "outputs": [],
   "source": [
    "def exchange1(value):\n",
    "    out1 = value.split('+')[0]\n",
    "    out2 = value.split('+')[1]\n",
    "    return int(out1)+int(out2)  "
   ]
  },
  {
   "cell_type": "code",
   "execution_count": 137,
   "metadata": {
    "id": "Ua4BDEydzho5"
   },
   "outputs": [],
   "source": [
    "df1.LS = df1.LS.apply(lambda x: exchange1(x))\n",
    "df1.ST = df1.ST.apply(lambda x: exchange1(x))\n",
    "df1.RS = df1.RS.apply(lambda x: exchange1(x))\n",
    "df1.LW = df1.LW.apply(lambda x: exchange1(x))\n",
    "df1.LF = df1.LF.apply(lambda x: exchange1(x))\n",
    "df1.CF = df1.CF.apply(lambda x: exchange1(x))\n",
    "df1.RF = df1.RF.apply(lambda x: exchange1(x))\n",
    "df1.RW = df1.RW.apply(lambda x: exchange1(x))\n",
    "df1.LAM = df1.LAM.apply(lambda x: exchange1(x))\n",
    "df1.CAM = df1.CAM.apply(lambda x: exchange1(x))\n",
    "df1.RAM = df1.RAM.apply(lambda x: exchange1(x))\n",
    "df1.LM = df1.LM.apply(lambda x: exchange1(x))\n",
    "df1.LCM = df1.LCM.apply(lambda x: exchange1(x))\n",
    "df1.CM = df1.CM.apply(lambda x: exchange1(x))\n",
    "df1.RCM = df1.RCM.apply(lambda x: exchange1(x))\n",
    "df1.RM = df1.RM.apply(lambda x: exchange1(x))\n",
    "df1.LWB = df1.LWB.apply(lambda x: exchange1(x))\n",
    "df1.LDM = df1.LDM.apply(lambda x: exchange1(x))\n",
    "df1.CDM = df1.CDM.apply(lambda x: exchange1(x))\n",
    "df1.RDM = df1.RDM.apply(lambda x: exchange1(x))\n",
    "df1.RWB = df1.RWB.apply(lambda x: exchange1(x))\n",
    "df1.LB = df1.LB.apply(lambda x: exchange1(x))\n",
    "df1.LCB = df1.LCB.apply(lambda x: exchange1(x))\n",
    "df1.CB = df1.CB.apply(lambda x: exchange1(x))\n",
    "df1.RCB = df1.RCB.apply(lambda x: exchange1(x))\n",
    "df1.RB = df1.RB.apply(lambda x: exchange1(x))"
   ]
  },
  {
   "cell_type": "code",
   "execution_count": null,
   "metadata": {},
   "outputs": [],
   "source": [
    "#스킬류 모두 합산하는 코드\n",
    "# dd=df1[['LS', 'ST', 'RS', 'LW', 'LF', 'CF', 'RF', 'RW',\n",
    "#        'LAM', 'CAM', 'RAM', 'LM', 'LCM', 'CM', 'RCM', 'RM', 'LWB', 'LDM',\n",
    "#        'CDM', 'RDM', 'RWB', 'LB', 'LCB', 'CB', 'RCB', 'RB']]\n",
    "# df1['Position_Score']=dd.apply(lambda x: x.sum(),axis=1)"
   ]
  },
  {
   "cell_type": "code",
   "execution_count": 138,
   "metadata": {},
   "outputs": [],
   "source": [
    "forw=['LS', 'ST', 'RS', 'LW', 'LF', 'CF', 'RF', 'RW']\n",
    "mid=['LAM', 'CAM', 'RAM', 'LM', 'LCM', 'CM', 'RCM', 'RM']\n",
    "defen=['LWB', 'LDM','CDM', 'RDM', 'RWB', 'LB', 'LCB', 'CB', 'RCB', 'RB']"
   ]
  },
  {
   "cell_type": "code",
   "execution_count": 139,
   "metadata": {},
   "outputs": [],
   "source": [
    "df1['forward']=df1[forw].mean(axis=1).round(0)\n",
    "df1['midfielder']=df1[mid].mean(axis=1).round(0)\n",
    "df1['defender']=df1[defen].mean(axis=1).round(0)"
   ]
  },
  {
   "cell_type": "code",
   "execution_count": 140,
   "metadata": {},
   "outputs": [],
   "source": [
    "df1['Position_Score']=np.nan"
   ]
  },
  {
   "cell_type": "code",
   "execution_count": 141,
   "metadata": {},
   "outputs": [],
   "source": [
    "# 으아 됐다아아아아아 ㅠㅠㅠㅠㅠㅠㅠㅠㅠㅠㅠㅠㅠㅠㅠㅠㅠㅠㅠㅠㅠㅠㅠㅠ\n",
    "for i in range(len(df1)):\n",
    "    if df1.iloc[i, 9] == 'Forward':\n",
    "        df1.iloc[i, 86] = df1.iloc[i,83]\n",
    "    elif df1.iloc[i, 9] == 'Midfielder':\n",
    "        df1.iloc[i, 86] = df1.iloc[i,84]\n",
    "    elif df1.iloc[i, 9] == 'Defender':\n",
    "        df1.iloc[i, 86] = df1.iloc[i,85]\n",
    "#     elif df1.iloc[i, 9] == 'GoalKeeper':\n",
    "#         df1.iloc[i, 86] = df1.iloc[i,2]"
   ]
  },
  {
   "cell_type": "code",
   "execution_count": 142,
   "metadata": {},
   "outputs": [],
   "source": [
    "df1.drop(['forward','midfielder','defender'], axis=1, inplace=True)"
   ]
  },
  {
   "cell_type": "code",
   "execution_count": 143,
   "metadata": {
    "id": "1TdXYAsXzho3",
    "outputId": "c6413628-70a5-482c-fe71-54c2353b94bc"
   },
   "outputs": [
    {
     "data": {
      "text/html": [
       "<div>\n",
       "<style scoped>\n",
       "    .dataframe tbody tr th:only-of-type {\n",
       "        vertical-align: middle;\n",
       "    }\n",
       "\n",
       "    .dataframe tbody tr th {\n",
       "        vertical-align: top;\n",
       "    }\n",
       "\n",
       "    .dataframe thead th {\n",
       "        text-align: right;\n",
       "    }\n",
       "</style>\n",
       "<table border=\"1\" class=\"dataframe\">\n",
       "  <thead>\n",
       "    <tr style=\"text-align: right;\">\n",
       "      <th></th>\n",
       "      <th>Name</th>\n",
       "      <th>Age</th>\n",
       "      <th>Overall</th>\n",
       "      <th>Potential</th>\n",
       "      <th>Club</th>\n",
       "      <th>Value</th>\n",
       "      <th>Wage</th>\n",
       "      <th>Club_4W</th>\n",
       "      <th>Club_4V</th>\n",
       "      <th>Position_Class</th>\n",
       "      <th>...</th>\n",
       "      <th>StandingTackle</th>\n",
       "      <th>SlidingTackle</th>\n",
       "      <th>GKDiving</th>\n",
       "      <th>GKHandling</th>\n",
       "      <th>GKKicking</th>\n",
       "      <th>GKPositioning</th>\n",
       "      <th>GKReflexes</th>\n",
       "      <th>Loaned</th>\n",
       "      <th>Age_C</th>\n",
       "      <th>Over_C</th>\n",
       "    </tr>\n",
       "  </thead>\n",
       "  <tbody>\n",
       "    <tr>\n",
       "      <th>3</th>\n",
       "      <td>De Gea</td>\n",
       "      <td>27</td>\n",
       "      <td>91</td>\n",
       "      <td>93</td>\n",
       "      <td>Manchester United</td>\n",
       "      <td>72000.0</td>\n",
       "      <td>260.0</td>\n",
       "      <td>3</td>\n",
       "      <td>3</td>\n",
       "      <td>GoalKeeper</td>\n",
       "      <td>...</td>\n",
       "      <td>21.0</td>\n",
       "      <td>13.0</td>\n",
       "      <td>90.0</td>\n",
       "      <td>85.0</td>\n",
       "      <td>87.0</td>\n",
       "      <td>88.0</td>\n",
       "      <td>94.0</td>\n",
       "      <td>1</td>\n",
       "      <td>5</td>\n",
       "      <td>16</td>\n",
       "    </tr>\n",
       "    <tr>\n",
       "      <th>9</th>\n",
       "      <td>J. Oblak</td>\n",
       "      <td>25</td>\n",
       "      <td>90</td>\n",
       "      <td>93</td>\n",
       "      <td>Atlético Madrid</td>\n",
       "      <td>68000.0</td>\n",
       "      <td>94.0</td>\n",
       "      <td>3</td>\n",
       "      <td>3</td>\n",
       "      <td>GoalKeeper</td>\n",
       "      <td>...</td>\n",
       "      <td>12.0</td>\n",
       "      <td>18.0</td>\n",
       "      <td>86.0</td>\n",
       "      <td>92.0</td>\n",
       "      <td>78.0</td>\n",
       "      <td>88.0</td>\n",
       "      <td>89.0</td>\n",
       "      <td>1</td>\n",
       "      <td>4</td>\n",
       "      <td>15</td>\n",
       "    </tr>\n",
       "    <tr>\n",
       "      <th>18</th>\n",
       "      <td>M. ter Stegen</td>\n",
       "      <td>26</td>\n",
       "      <td>89</td>\n",
       "      <td>92</td>\n",
       "      <td>FC Barcelona</td>\n",
       "      <td>58000.0</td>\n",
       "      <td>240.0</td>\n",
       "      <td>3</td>\n",
       "      <td>3</td>\n",
       "      <td>GoalKeeper</td>\n",
       "      <td>...</td>\n",
       "      <td>13.0</td>\n",
       "      <td>10.0</td>\n",
       "      <td>87.0</td>\n",
       "      <td>85.0</td>\n",
       "      <td>88.0</td>\n",
       "      <td>85.0</td>\n",
       "      <td>90.0</td>\n",
       "      <td>1</td>\n",
       "      <td>4</td>\n",
       "      <td>14</td>\n",
       "    </tr>\n",
       "    <tr>\n",
       "      <th>19</th>\n",
       "      <td>T. Courtois</td>\n",
       "      <td>26</td>\n",
       "      <td>89</td>\n",
       "      <td>90</td>\n",
       "      <td>Real Madrid</td>\n",
       "      <td>53500.0</td>\n",
       "      <td>240.0</td>\n",
       "      <td>3</td>\n",
       "      <td>3</td>\n",
       "      <td>GoalKeeper</td>\n",
       "      <td>...</td>\n",
       "      <td>18.0</td>\n",
       "      <td>16.0</td>\n",
       "      <td>85.0</td>\n",
       "      <td>91.0</td>\n",
       "      <td>72.0</td>\n",
       "      <td>86.0</td>\n",
       "      <td>88.0</td>\n",
       "      <td>1</td>\n",
       "      <td>4</td>\n",
       "      <td>14</td>\n",
       "    </tr>\n",
       "    <tr>\n",
       "      <th>22</th>\n",
       "      <td>M. Neuer</td>\n",
       "      <td>32</td>\n",
       "      <td>89</td>\n",
       "      <td>89</td>\n",
       "      <td>FC Bayern München</td>\n",
       "      <td>38000.0</td>\n",
       "      <td>130.0</td>\n",
       "      <td>3</td>\n",
       "      <td>3</td>\n",
       "      <td>GoalKeeper</td>\n",
       "      <td>...</td>\n",
       "      <td>10.0</td>\n",
       "      <td>11.0</td>\n",
       "      <td>90.0</td>\n",
       "      <td>86.0</td>\n",
       "      <td>91.0</td>\n",
       "      <td>87.0</td>\n",
       "      <td>87.0</td>\n",
       "      <td>1</td>\n",
       "      <td>7</td>\n",
       "      <td>14</td>\n",
       "    </tr>\n",
       "    <tr>\n",
       "      <th>...</th>\n",
       "      <td>...</td>\n",
       "      <td>...</td>\n",
       "      <td>...</td>\n",
       "      <td>...</td>\n",
       "      <td>...</td>\n",
       "      <td>...</td>\n",
       "      <td>...</td>\n",
       "      <td>...</td>\n",
       "      <td>...</td>\n",
       "      <td>...</td>\n",
       "      <td>...</td>\n",
       "      <td>...</td>\n",
       "      <td>...</td>\n",
       "      <td>...</td>\n",
       "      <td>...</td>\n",
       "      <td>...</td>\n",
       "      <td>...</td>\n",
       "      <td>...</td>\n",
       "      <td>...</td>\n",
       "      <td>...</td>\n",
       "      <td>...</td>\n",
       "    </tr>\n",
       "    <tr>\n",
       "      <th>18178</th>\n",
       "      <td>L. Wahlstedt</td>\n",
       "      <td>18</td>\n",
       "      <td>48</td>\n",
       "      <td>65</td>\n",
       "      <td>Dalkurd FF</td>\n",
       "      <td>50.0</td>\n",
       "      <td>1.0</td>\n",
       "      <td>0</td>\n",
       "      <td>0</td>\n",
       "      <td>GoalKeeper</td>\n",
       "      <td>...</td>\n",
       "      <td>11.0</td>\n",
       "      <td>10.0</td>\n",
       "      <td>47.0</td>\n",
       "      <td>46.0</td>\n",
       "      <td>50.0</td>\n",
       "      <td>45.0</td>\n",
       "      <td>51.0</td>\n",
       "      <td>1</td>\n",
       "      <td>1</td>\n",
       "      <td>1</td>\n",
       "    </tr>\n",
       "    <tr>\n",
       "      <th>18180</th>\n",
       "      <td>M. Hurst</td>\n",
       "      <td>22</td>\n",
       "      <td>48</td>\n",
       "      <td>58</td>\n",
       "      <td>St. Johnstone FC</td>\n",
       "      <td>40.0</td>\n",
       "      <td>1.0</td>\n",
       "      <td>0</td>\n",
       "      <td>0</td>\n",
       "      <td>GoalKeeper</td>\n",
       "      <td>...</td>\n",
       "      <td>15.0</td>\n",
       "      <td>16.0</td>\n",
       "      <td>45.0</td>\n",
       "      <td>49.0</td>\n",
       "      <td>50.0</td>\n",
       "      <td>50.0</td>\n",
       "      <td>45.0</td>\n",
       "      <td>1</td>\n",
       "      <td>2</td>\n",
       "      <td>1</td>\n",
       "    </tr>\n",
       "    <tr>\n",
       "      <th>18183</th>\n",
       "      <td>K. Pilkington</td>\n",
       "      <td>44</td>\n",
       "      <td>48</td>\n",
       "      <td>48</td>\n",
       "      <td>Cambridge United</td>\n",
       "      <td>0.0</td>\n",
       "      <td>1.0</td>\n",
       "      <td>0</td>\n",
       "      <td>0</td>\n",
       "      <td>GoalKeeper</td>\n",
       "      <td>...</td>\n",
       "      <td>15.0</td>\n",
       "      <td>13.0</td>\n",
       "      <td>45.0</td>\n",
       "      <td>48.0</td>\n",
       "      <td>44.0</td>\n",
       "      <td>49.0</td>\n",
       "      <td>46.0</td>\n",
       "      <td>1</td>\n",
       "      <td>11</td>\n",
       "      <td>1</td>\n",
       "    </tr>\n",
       "    <tr>\n",
       "      <th>18194</th>\n",
       "      <td>J. Milli</td>\n",
       "      <td>18</td>\n",
       "      <td>47</td>\n",
       "      <td>65</td>\n",
       "      <td>Lecce</td>\n",
       "      <td>50.0</td>\n",
       "      <td>1.0</td>\n",
       "      <td>1</td>\n",
       "      <td>1</td>\n",
       "      <td>GoalKeeper</td>\n",
       "      <td>...</td>\n",
       "      <td>10.0</td>\n",
       "      <td>11.0</td>\n",
       "      <td>52.0</td>\n",
       "      <td>52.0</td>\n",
       "      <td>52.0</td>\n",
       "      <td>40.0</td>\n",
       "      <td>44.0</td>\n",
       "      <td>1</td>\n",
       "      <td>1</td>\n",
       "      <td>1</td>\n",
       "    </tr>\n",
       "    <tr>\n",
       "      <th>18198</th>\n",
       "      <td>J. Livesey</td>\n",
       "      <td>18</td>\n",
       "      <td>47</td>\n",
       "      <td>70</td>\n",
       "      <td>Burton Albion</td>\n",
       "      <td>60.0</td>\n",
       "      <td>1.0</td>\n",
       "      <td>1</td>\n",
       "      <td>0</td>\n",
       "      <td>GoalKeeper</td>\n",
       "      <td>...</td>\n",
       "      <td>11.0</td>\n",
       "      <td>13.0</td>\n",
       "      <td>46.0</td>\n",
       "      <td>52.0</td>\n",
       "      <td>58.0</td>\n",
       "      <td>42.0</td>\n",
       "      <td>48.0</td>\n",
       "      <td>1</td>\n",
       "      <td>1</td>\n",
       "      <td>1</td>\n",
       "    </tr>\n",
       "  </tbody>\n",
       "</table>\n",
       "<p>1992 rows × 83 columns</p>\n",
       "</div>"
      ],
      "text/plain": [
       "                Name  Age  Overall  Potential               Club    Value  \\\n",
       "3             De Gea   27       91         93  Manchester United  72000.0   \n",
       "9           J. Oblak   25       90         93    Atlético Madrid  68000.0   \n",
       "18     M. ter Stegen   26       89         92       FC Barcelona  58000.0   \n",
       "19       T. Courtois   26       89         90        Real Madrid  53500.0   \n",
       "22          M. Neuer   32       89         89  FC Bayern München  38000.0   \n",
       "...              ...  ...      ...        ...                ...      ...   \n",
       "18178   L. Wahlstedt   18       48         65         Dalkurd FF     50.0   \n",
       "18180       M. Hurst   22       48         58   St. Johnstone FC     40.0   \n",
       "18183  K. Pilkington   44       48         48   Cambridge United      0.0   \n",
       "18194       J. Milli   18       47         65              Lecce     50.0   \n",
       "18198     J. Livesey   18       47         70      Burton Albion     60.0   \n",
       "\n",
       "        Wage  Club_4W  Club_4V Position_Class  ...  StandingTackle  \\\n",
       "3      260.0        3        3     GoalKeeper  ...            21.0   \n",
       "9       94.0        3        3     GoalKeeper  ...            12.0   \n",
       "18     240.0        3        3     GoalKeeper  ...            13.0   \n",
       "19     240.0        3        3     GoalKeeper  ...            18.0   \n",
       "22     130.0        3        3     GoalKeeper  ...            10.0   \n",
       "...      ...      ...      ...            ...  ...             ...   \n",
       "18178    1.0        0        0     GoalKeeper  ...            11.0   \n",
       "18180    1.0        0        0     GoalKeeper  ...            15.0   \n",
       "18183    1.0        0        0     GoalKeeper  ...            15.0   \n",
       "18194    1.0        1        1     GoalKeeper  ...            10.0   \n",
       "18198    1.0        1        0     GoalKeeper  ...            11.0   \n",
       "\n",
       "       SlidingTackle  GKDiving  GKHandling GKKicking GKPositioning  \\\n",
       "3               13.0      90.0        85.0      87.0          88.0   \n",
       "9               18.0      86.0        92.0      78.0          88.0   \n",
       "18              10.0      87.0        85.0      88.0          85.0   \n",
       "19              16.0      85.0        91.0      72.0          86.0   \n",
       "22              11.0      90.0        86.0      91.0          87.0   \n",
       "...              ...       ...         ...       ...           ...   \n",
       "18178           10.0      47.0        46.0      50.0          45.0   \n",
       "18180           16.0      45.0        49.0      50.0          50.0   \n",
       "18183           13.0      45.0        48.0      44.0          49.0   \n",
       "18194           11.0      52.0        52.0      52.0          40.0   \n",
       "18198           13.0      46.0        52.0      58.0          42.0   \n",
       "\n",
       "       GKReflexes Loaned Age_C Over_C  \n",
       "3            94.0      1     5     16  \n",
       "9            89.0      1     4     15  \n",
       "18           90.0      1     4     14  \n",
       "19           88.0      1     4     14  \n",
       "22           87.0      1     7     14  \n",
       "...           ...    ...   ...    ...  \n",
       "18178        51.0      1     1      1  \n",
       "18180        45.0      1     2      1  \n",
       "18183        46.0      1    11      1  \n",
       "18194        44.0      1     1      1  \n",
       "18198        48.0      1     1      1  \n",
       "\n",
       "[1992 rows x 83 columns]"
      ]
     },
     "execution_count": 143,
     "metadata": {},
     "output_type": "execute_result"
    }
   ],
   "source": [
    "df_GK=df[df['Position']=='GK']\n",
    "df_GK"
   ]
  },
  {
   "cell_type": "code",
   "execution_count": 144,
   "metadata": {},
   "outputs": [],
   "source": [
    "df_GK['Position_Score']=np.nan"
   ]
  },
  {
   "cell_type": "code",
   "execution_count": 145,
   "metadata": {},
   "outputs": [],
   "source": [
    "for i in range(len(df_GK)):\n",
    "    if df_GK.iloc[i, 9] == 'GoalKeeper':\n",
    "        df_GK.iloc[i, 83] = df_GK.iloc[i,2]"
   ]
  },
  {
   "cell_type": "code",
   "execution_count": 146,
   "metadata": {},
   "outputs": [
    {
     "data": {
      "text/plain": [
       "3        91.0\n",
       "9        90.0\n",
       "18       89.0\n",
       "19       89.0\n",
       "22       89.0\n",
       "         ... \n",
       "18178    48.0\n",
       "18180    48.0\n",
       "18183    48.0\n",
       "18194    47.0\n",
       "18198    47.0\n",
       "Name: Position_Score, Length: 1992, dtype: float64"
      ]
     },
     "execution_count": 146,
     "metadata": {},
     "output_type": "execute_result"
    }
   ],
   "source": [
    "df_GK.iloc[:,83]"
   ]
  },
  {
   "cell_type": "code",
   "execution_count": 147,
   "metadata": {
    "id": "WbZG7WGFzhpF"
   },
   "outputs": [],
   "source": [
    "# df1(GK 아닌 선수들) + df_GK 합치기\n",
    "df_all = pd.concat([df1,df_GK]) "
   ]
  },
  {
   "cell_type": "code",
   "execution_count": 34,
   "metadata": {},
   "outputs": [
    {
     "data": {
      "text/html": [
       "<div>\n",
       "<style scoped>\n",
       "    .dataframe tbody tr th:only-of-type {\n",
       "        vertical-align: middle;\n",
       "    }\n",
       "\n",
       "    .dataframe tbody tr th {\n",
       "        vertical-align: top;\n",
       "    }\n",
       "\n",
       "    .dataframe thead th {\n",
       "        text-align: right;\n",
       "    }\n",
       "</style>\n",
       "<table border=\"1\" class=\"dataframe\">\n",
       "  <thead>\n",
       "    <tr style=\"text-align: right;\">\n",
       "      <th></th>\n",
       "      <th>Name</th>\n",
       "      <th>Age</th>\n",
       "      <th>Overall</th>\n",
       "      <th>Potential</th>\n",
       "      <th>Club</th>\n",
       "      <th>Value</th>\n",
       "      <th>Wage</th>\n",
       "      <th>Club_4W</th>\n",
       "      <th>Club_4V</th>\n",
       "      <th>Position_Class</th>\n",
       "      <th>...</th>\n",
       "      <th>SlidingTackle</th>\n",
       "      <th>GKDiving</th>\n",
       "      <th>GKHandling</th>\n",
       "      <th>GKKicking</th>\n",
       "      <th>GKPositioning</th>\n",
       "      <th>GKReflexes</th>\n",
       "      <th>Loaned</th>\n",
       "      <th>Age_C</th>\n",
       "      <th>Over_C</th>\n",
       "      <th>Position_Score</th>\n",
       "    </tr>\n",
       "  </thead>\n",
       "  <tbody>\n",
       "    <tr>\n",
       "      <th>0</th>\n",
       "      <td>L. Messi</td>\n",
       "      <td>31</td>\n",
       "      <td>94</td>\n",
       "      <td>94</td>\n",
       "      <td>FC Barcelona</td>\n",
       "      <td>110500.0</td>\n",
       "      <td>565.0</td>\n",
       "      <td>3</td>\n",
       "      <td>3</td>\n",
       "      <td>Forward</td>\n",
       "      <td>...</td>\n",
       "      <td>26.0</td>\n",
       "      <td>6.0</td>\n",
       "      <td>11.0</td>\n",
       "      <td>15.0</td>\n",
       "      <td>14.0</td>\n",
       "      <td>8.0</td>\n",
       "      <td>1</td>\n",
       "      <td>6</td>\n",
       "      <td>18</td>\n",
       "      <td>93.0</td>\n",
       "    </tr>\n",
       "    <tr>\n",
       "      <th>1</th>\n",
       "      <td>Cristiano Ronaldo</td>\n",
       "      <td>33</td>\n",
       "      <td>94</td>\n",
       "      <td>94</td>\n",
       "      <td>Juventus</td>\n",
       "      <td>77000.0</td>\n",
       "      <td>405.0</td>\n",
       "      <td>3</td>\n",
       "      <td>3</td>\n",
       "      <td>Forward</td>\n",
       "      <td>...</td>\n",
       "      <td>23.0</td>\n",
       "      <td>7.0</td>\n",
       "      <td>11.0</td>\n",
       "      <td>15.0</td>\n",
       "      <td>14.0</td>\n",
       "      <td>11.0</td>\n",
       "      <td>1</td>\n",
       "      <td>7</td>\n",
       "      <td>18</td>\n",
       "      <td>93.0</td>\n",
       "    </tr>\n",
       "    <tr>\n",
       "      <th>2</th>\n",
       "      <td>Neymar Jr</td>\n",
       "      <td>26</td>\n",
       "      <td>92</td>\n",
       "      <td>93</td>\n",
       "      <td>Paris Saint-Germain</td>\n",
       "      <td>118500.0</td>\n",
       "      <td>290.0</td>\n",
       "      <td>3</td>\n",
       "      <td>3</td>\n",
       "      <td>Forward</td>\n",
       "      <td>...</td>\n",
       "      <td>33.0</td>\n",
       "      <td>9.0</td>\n",
       "      <td>9.0</td>\n",
       "      <td>15.0</td>\n",
       "      <td>15.0</td>\n",
       "      <td>11.0</td>\n",
       "      <td>1</td>\n",
       "      <td>4</td>\n",
       "      <td>17</td>\n",
       "      <td>90.0</td>\n",
       "    </tr>\n",
       "    <tr>\n",
       "      <th>4</th>\n",
       "      <td>K. De Bruyne</td>\n",
       "      <td>27</td>\n",
       "      <td>91</td>\n",
       "      <td>92</td>\n",
       "      <td>Manchester City</td>\n",
       "      <td>102000.0</td>\n",
       "      <td>355.0</td>\n",
       "      <td>3</td>\n",
       "      <td>3</td>\n",
       "      <td>Midfielder</td>\n",
       "      <td>...</td>\n",
       "      <td>51.0</td>\n",
       "      <td>15.0</td>\n",
       "      <td>13.0</td>\n",
       "      <td>5.0</td>\n",
       "      <td>10.0</td>\n",
       "      <td>13.0</td>\n",
       "      <td>1</td>\n",
       "      <td>5</td>\n",
       "      <td>16</td>\n",
       "      <td>91.0</td>\n",
       "    </tr>\n",
       "    <tr>\n",
       "      <th>5</th>\n",
       "      <td>E. Hazard</td>\n",
       "      <td>27</td>\n",
       "      <td>91</td>\n",
       "      <td>91</td>\n",
       "      <td>Chelsea</td>\n",
       "      <td>93000.0</td>\n",
       "      <td>340.0</td>\n",
       "      <td>3</td>\n",
       "      <td>3</td>\n",
       "      <td>Forward</td>\n",
       "      <td>...</td>\n",
       "      <td>22.0</td>\n",
       "      <td>11.0</td>\n",
       "      <td>12.0</td>\n",
       "      <td>6.0</td>\n",
       "      <td>8.0</td>\n",
       "      <td>8.0</td>\n",
       "      <td>1</td>\n",
       "      <td>5</td>\n",
       "      <td>16</td>\n",
       "      <td>89.0</td>\n",
       "    </tr>\n",
       "  </tbody>\n",
       "</table>\n",
       "<p>5 rows × 84 columns</p>\n",
       "</div>"
      ],
      "text/plain": [
       "                Name  Age  Overall  Potential                 Club     Value  \\\n",
       "0           L. Messi   31       94         94         FC Barcelona  110500.0   \n",
       "1  Cristiano Ronaldo   33       94         94             Juventus   77000.0   \n",
       "2          Neymar Jr   26       92         93  Paris Saint-Germain  118500.0   \n",
       "4       K. De Bruyne   27       91         92      Manchester City  102000.0   \n",
       "5          E. Hazard   27       91         91              Chelsea   93000.0   \n",
       "\n",
       "    Wage  Club_4W  Club_4V Position_Class  ...  SlidingTackle  GKDiving  \\\n",
       "0  565.0        3        3        Forward  ...           26.0       6.0   \n",
       "1  405.0        3        3        Forward  ...           23.0       7.0   \n",
       "2  290.0        3        3        Forward  ...           33.0       9.0   \n",
       "4  355.0        3        3     Midfielder  ...           51.0      15.0   \n",
       "5  340.0        3        3        Forward  ...           22.0      11.0   \n",
       "\n",
       "   GKHandling  GKKicking GKPositioning GKReflexes  Loaned Age_C Over_C  \\\n",
       "0        11.0       15.0          14.0        8.0       1     6     18   \n",
       "1        11.0       15.0          14.0       11.0       1     7     18   \n",
       "2         9.0       15.0          15.0       11.0       1     4     17   \n",
       "4        13.0        5.0          10.0       13.0       1     5     16   \n",
       "5        12.0        6.0           8.0        8.0       1     5     16   \n",
       "\n",
       "  Position_Score  \n",
       "0           93.0  \n",
       "1           93.0  \n",
       "2           90.0  \n",
       "4           91.0  \n",
       "5           89.0  \n",
       "\n",
       "[5 rows x 84 columns]"
      ]
     },
     "execution_count": 34,
     "metadata": {},
     "output_type": "execute_result"
    }
   ],
   "source": [
    "df_all.head()"
   ]
  },
  {
   "cell_type": "markdown",
   "metadata": {},
   "source": [
    "OLS 회귀 분석으로 어떤 Special이 더 좋을지 파악해봄(Ordinary Least Square)"
   ]
  },
  {
   "cell_type": "code",
   "execution_count": 148,
   "metadata": {},
   "outputs": [
    {
     "data": {
      "text/plain": [
       "Intercept        -10.150418\n",
       "Value              0.003232\n",
       "Overall            0.130594\n",
       "Position_Score     0.053379\n",
       "dtype: float64"
      ]
     },
     "execution_count": 148,
     "metadata": {},
     "output_type": "execute_result"
    }
   ],
   "source": [
    "lm_fifa=smf.ols('Wage~ Value + Overall + Position_Score', data=df_all).fit()\n",
    "lm_fifa.params"
   ]
  },
  {
   "cell_type": "code",
   "execution_count": 149,
   "metadata": {
    "id": "9MeuRhU-zhpG"
   },
   "outputs": [
    {
     "data": {
      "text/html": [
       "<div>\n",
       "<style scoped>\n",
       "    .dataframe tbody tr th:only-of-type {\n",
       "        vertical-align: middle;\n",
       "    }\n",
       "\n",
       "    .dataframe tbody tr th {\n",
       "        vertical-align: top;\n",
       "    }\n",
       "\n",
       "    .dataframe thead th {\n",
       "        text-align: right;\n",
       "    }\n",
       "</style>\n",
       "<table border=\"1\" class=\"dataframe\">\n",
       "  <thead>\n",
       "    <tr style=\"text-align: right;\">\n",
       "      <th></th>\n",
       "      <th>df</th>\n",
       "      <th>sum_sq</th>\n",
       "      <th>mean_sq</th>\n",
       "      <th>F</th>\n",
       "      <th>PR(&gt;F)</th>\n",
       "    </tr>\n",
       "  </thead>\n",
       "  <tbody>\n",
       "    <tr>\n",
       "      <th>Value</th>\n",
       "      <td>1.0</td>\n",
       "      <td>6467469.2</td>\n",
       "      <td>6467469.2</td>\n",
       "      <td>50372.7</td>\n",
       "      <td>0.0</td>\n",
       "    </tr>\n",
       "    <tr>\n",
       "      <th>Overall</th>\n",
       "      <td>1.0</td>\n",
       "      <td>17071.0</td>\n",
       "      <td>17071.0</td>\n",
       "      <td>133.0</td>\n",
       "      <td>0.0</td>\n",
       "    </tr>\n",
       "    <tr>\n",
       "      <th>Position_Score</th>\n",
       "      <td>1.0</td>\n",
       "      <td>182.9</td>\n",
       "      <td>182.9</td>\n",
       "      <td>1.4</td>\n",
       "      <td>0.2</td>\n",
       "    </tr>\n",
       "    <tr>\n",
       "      <th>Residual</th>\n",
       "      <td>17914.0</td>\n",
       "      <td>2300021.8</td>\n",
       "      <td>128.4</td>\n",
       "      <td>NaN</td>\n",
       "      <td>NaN</td>\n",
       "    </tr>\n",
       "  </tbody>\n",
       "</table>\n",
       "</div>"
      ],
      "text/plain": [
       "                     df     sum_sq    mean_sq        F  PR(>F)\n",
       "Value               1.0  6467469.2  6467469.2  50372.7     0.0\n",
       "Overall             1.0    17071.0    17071.0    133.0     0.0\n",
       "Position_Score      1.0      182.9      182.9      1.4     0.2\n",
       "Residual        17914.0  2300021.8      128.4      NaN     NaN"
      ]
     },
     "execution_count": 149,
     "metadata": {},
     "output_type": "execute_result"
    }
   ],
   "source": [
    "sm.stats.anova_lm(lm_fifa).round(1)"
   ]
  },
  {
   "cell_type": "code",
   "execution_count": 150,
   "metadata": {},
   "outputs": [],
   "source": [
    "df_all['Special_Score1']=df_all.Special+df_all.Composure"
   ]
  },
  {
   "cell_type": "code",
   "execution_count": 151,
   "metadata": {},
   "outputs": [],
   "source": [
    "df_all['Special_Score2']=df_all.Special\n",
    "df_all['Special_Score3']=df_all.Special+df_all.Composure\n",
    "df_all['Special_Score4']=df_all.Potential+df_all.Special\n",
    "df_all['Special_Score5']=df_all.Potential+df_all.Special+df_all.Composure"
   ]
  },
  {
   "cell_type": "code",
   "execution_count": 174,
   "metadata": {},
   "outputs": [],
   "source": [
    "df_all['Special_Score6']=df_all.Overall+df_all.Potential+df_all.Special+df_all.Composure"
   ]
  },
  {
   "cell_type": "code",
   "execution_count": 166,
   "metadata": {},
   "outputs": [
    {
     "data": {
      "text/plain": [
       "Index(['Name', 'Age', 'Overall', 'Potential', 'Club', 'Value', 'Wage',\n",
       "       'Club_4W', 'Club_4V', 'Position_Class', 'Special',\n",
       "       'International Reputation', 'Weak Foot', 'Skill Moves', 'Real Face',\n",
       "       'Position', 'Jersey Number', 'Joined', 'Loaned From',\n",
       "       'Contract Valid Until', 'LS', 'ST', 'RS', 'LW', 'LF', 'CF', 'RF', 'RW',\n",
       "       'LAM', 'CAM', 'RAM', 'LM', 'LCM', 'CM', 'RCM', 'RM', 'LWB', 'LDM',\n",
       "       'CDM', 'RDM', 'RWB', 'LB', 'LCB', 'CB', 'RCB', 'RB', 'Crossing',\n",
       "       'Finishing', 'HeadingAccuracy', 'ShortPassing', 'Volleys', 'Dribbling',\n",
       "       'Curve', 'FKAccuracy', 'LongPassing', 'BallControl', 'Acceleration',\n",
       "       'SprintSpeed', 'Agility', 'Reactions', 'Balance', 'ShotPower',\n",
       "       'Jumping', 'Stamina', 'Strength', 'LongShots', 'Aggression',\n",
       "       'Interceptions', 'Positioning', 'Vision', 'Penalties', 'Composure',\n",
       "       'Marking', 'StandingTackle', 'SlidingTackle', 'GKDiving', 'GKHandling',\n",
       "       'GKKicking', 'GKPositioning', 'GKReflexes', 'Loaned', 'Age_C', 'Over_C',\n",
       "       'Position_Score', 'Special_Score1', 'Special_Score2', 'Special_Score3',\n",
       "       'Special_Score4', 'Special_Score5'],\n",
       "      dtype='object')"
      ]
     },
     "execution_count": 166,
     "metadata": {},
     "output_type": "execute_result"
    }
   ],
   "source": [
    "df_all.columns"
   ]
  },
  {
   "cell_type": "code",
   "execution_count": 167,
   "metadata": {},
   "outputs": [
    {
     "data": {
      "text/html": [
       "<table class=\"simpletable\">\n",
       "<caption>OLS Regression Results</caption>\n",
       "<tr>\n",
       "  <th>Dep. Variable:</th>          <td>Wage</td>       <th>  R-squared:         </th>  <td>   1.000</td> \n",
       "</tr>\n",
       "<tr>\n",
       "  <th>Model:</th>                   <td>OLS</td>       <th>  Adj. R-squared:    </th>  <td>   1.000</td> \n",
       "</tr>\n",
       "<tr>\n",
       "  <th>Method:</th>             <td>Least Squares</td>  <th>  F-statistic:       </th>  <td>2.233e+32</td>\n",
       "</tr>\n",
       "<tr>\n",
       "  <th>Date:</th>             <td>Mon, 15 Mar 2021</td> <th>  Prob (F-statistic):</th>   <td>  0.00</td>  \n",
       "</tr>\n",
       "<tr>\n",
       "  <th>Time:</th>                 <td>00:27:33</td>     <th>  Log-Likelihood:    </th> <td>5.0487e+05</td>\n",
       "</tr>\n",
       "<tr>\n",
       "  <th>No. Observations:</th>      <td> 17918</td>      <th>  AIC:               </th> <td>-1.010e+06</td>\n",
       "</tr>\n",
       "<tr>\n",
       "  <th>Df Residuals:</th>          <td> 17915</td>      <th>  BIC:               </th> <td>-1.010e+06</td>\n",
       "</tr>\n",
       "<tr>\n",
       "  <th>Df Model:</th>              <td>     2</td>      <th>                     </th>      <td> </td>    \n",
       "</tr>\n",
       "<tr>\n",
       "  <th>Covariance Type:</th>      <td>nonrobust</td>    <th>                     </th>      <td> </td>    \n",
       "</tr>\n",
       "</table>\n",
       "<table class=\"simpletable\">\n",
       "<tr>\n",
       "      <td></td>         <th>coef</th>     <th>std err</th>      <th>t</th>      <th>P>|t|</th>  <th>[0.025</th>    <th>0.975]</th>  \n",
       "</tr>\n",
       "<tr>\n",
       "  <th>Intercept</th> <td>-2.526e-13</td> <td> 2.32e-15</td> <td> -109.089</td> <td> 0.000</td> <td>-2.57e-13</td> <td>-2.48e-13</td>\n",
       "</tr>\n",
       "<tr>\n",
       "  <th>Over_C</th>    <td> 1.183e-13</td> <td> 1.06e-15</td> <td>  111.747</td> <td> 0.000</td> <td> 1.16e-13</td> <td>  1.2e-13</td>\n",
       "</tr>\n",
       "<tr>\n",
       "  <th>Wage</th>      <td>    1.0000</td> <td> 7.56e-17</td> <td> 1.32e+16</td> <td> 0.000</td> <td>    1.000</td> <td>    1.000</td>\n",
       "</tr>\n",
       "</table>\n",
       "<table class=\"simpletable\">\n",
       "<tr>\n",
       "  <th>Omnibus:</th>       <td>5462.877</td> <th>  Durbin-Watson:     </th> <td>   0.110</td> \n",
       "</tr>\n",
       "<tr>\n",
       "  <th>Prob(Omnibus):</th>  <td> 0.000</td>  <th>  Jarque-Bera (JB):  </th> <td>19681.771</td>\n",
       "</tr>\n",
       "<tr>\n",
       "  <th>Skew:</th>           <td>-1.511</td>  <th>  Prob(JB):          </th> <td>    0.00</td> \n",
       "</tr>\n",
       "<tr>\n",
       "  <th>Kurtosis:</th>       <td> 7.150</td>  <th>  Cond. No.          </th> <td>    58.1</td> \n",
       "</tr>\n",
       "</table><br/><br/>Warnings:<br/>[1] Standard Errors assume that the covariance matrix of the errors is correctly specified."
      ],
      "text/plain": [
       "<class 'statsmodels.iolib.summary.Summary'>\n",
       "\"\"\"\n",
       "                            OLS Regression Results                            \n",
       "==============================================================================\n",
       "Dep. Variable:                   Wage   R-squared:                       1.000\n",
       "Model:                            OLS   Adj. R-squared:                  1.000\n",
       "Method:                 Least Squares   F-statistic:                 2.233e+32\n",
       "Date:                Mon, 15 Mar 2021   Prob (F-statistic):               0.00\n",
       "Time:                        00:27:33   Log-Likelihood:             5.0487e+05\n",
       "No. Observations:               17918   AIC:                        -1.010e+06\n",
       "Df Residuals:                   17915   BIC:                        -1.010e+06\n",
       "Df Model:                           2                                         \n",
       "Covariance Type:            nonrobust                                         \n",
       "==============================================================================\n",
       "                 coef    std err          t      P>|t|      [0.025      0.975]\n",
       "------------------------------------------------------------------------------\n",
       "Intercept  -2.526e-13   2.32e-15   -109.089      0.000   -2.57e-13   -2.48e-13\n",
       "Over_C      1.183e-13   1.06e-15    111.747      0.000    1.16e-13     1.2e-13\n",
       "Wage           1.0000   7.56e-17   1.32e+16      0.000       1.000       1.000\n",
       "==============================================================================\n",
       "Omnibus:                     5462.877   Durbin-Watson:                   0.110\n",
       "Prob(Omnibus):                  0.000   Jarque-Bera (JB):            19681.771\n",
       "Skew:                          -1.511   Prob(JB):                         0.00\n",
       "Kurtosis:                       7.150   Cond. No.                         58.1\n",
       "==============================================================================\n",
       "\n",
       "Warnings:\n",
       "[1] Standard Errors assume that the covariance matrix of the errors is correctly specified.\n",
       "\"\"\""
      ]
     },
     "execution_count": 167,
     "metadata": {},
     "output_type": "execute_result"
    }
   ],
   "source": [
    "lm_fifa2=smf.ols('Wage~ Over_C+Wage', data=df_all).fit()\n",
    "lm_fifa2.summary()"
   ]
  },
  {
   "cell_type": "code",
   "execution_count": 244,
   "metadata": {},
   "outputs": [],
   "source": [
    "club1=['Real Madrid',\n",
    " 'FC Barcelona',\n",
    " 'Manchester City',\n",
    " 'Manchester United',\n",
    " 'Juventus',\n",
    " 'Chelsea',\n",
    " 'Liverpool',\n",
    " 'Tottenham Hotspur',\n",
    " 'Arsenal',\n",
    " 'FC Bayern München',\n",
    " 'Paris Saint-Germain',\n",
    " 'Everton',\n",
    " 'Milan',\n",
    " 'Napoli',\n",
    " 'West Ham United',\n",
    " 'Inter',\n",
    " 'Atlético Madrid',\n",
    " 'Leicester City',\n",
    " 'Roma',\n",
    " 'Borussia Dortmund',\n",
    " 'AS Monaco',\n",
    " 'Lazio',\n",
    " 'Fenerbahçe SK',\n",
    " 'Bayer 04 Leverkusen',\n",
    " 'Olympique Lyonnais',\n",
    " 'Burnley',\n",
    " 'Bournemouth',\n",
    " 'Watford',\n",
    " 'Crystal Palace',\n",
    " 'Southampton']"
   ]
  },
  {
   "cell_type": "code",
   "execution_count": 237,
   "metadata": {},
   "outputs": [],
   "source": [
    "club2=['Galatasaray SK',\n",
    " 'Beşiktaş JK',\n",
    " 'Newcastle United',\n",
    " 'Olympique de Marseille',\n",
    " 'Wolverhampton Wanderers',\n",
    " 'Valencia CF',\n",
    " 'Fulham',\n",
    " 'VfL Wolfsburg',\n",
    " 'Brighton & Hove Albion',\n",
    " 'RB Leipzig',\n",
    " 'Tigres U.A.N.L.',\n",
    " 'Fiorentina',\n",
    " 'Club América',\n",
    " 'Sassuolo',\n",
    " 'Celtic',\n",
    " 'TSG 1899 Hoffenheim',\n",
    " 'Villarreal CF',\n",
    " 'Stoke City',\n",
    " 'Eintracht Frankfurt',\n",
    " 'Cardiff City',\n",
    " 'Nottingham Forest',\n",
    " 'Torino',\n",
    " 'Middlesbrough',\n",
    " 'Huddersfield Town',\n",
    " 'FC Schalke 04',\n",
    " 'FC Girondins de Bordeaux',\n",
    " 'Sampdoria',\n",
    " 'Parma',\n",
    " 'Rangers FC',\n",
    " 'Real Sociedad',\n",
    " 'Girona FC',\n",
    " 'Derby County',\n",
    " 'Borussia Mönchengladbach',\n",
    " 'Bologna',\n",
    " 'Real Betis',\n",
    " 'CD Leganés',\n",
    " 'Monterrey',\n",
    " 'Leeds United',\n",
    " 'SV Werder Bremen',\n",
    " 'Cagliari',\n",
    " 'VfB Stuttgart',\n",
    " 'SD Eibar',\n",
    " 'Hannover 96',\n",
    " 'Sevilla FC',\n",
    " 'Levante UD',\n",
    " 'Medipol Başakşehir FK',\n",
    " 'Al Hilal',\n",
    " 'Athletic Club de Bilbao',\n",
    " 'Hertha BSC',\n",
    " 'West Bromwich Albion',\n",
    " 'OGC Nice',\n",
    " 'Wigan Athletic',\n",
    " 'Stade Rennais FC',\n",
    " 'Atlético Mineiro',\n",
    " 'RC Celta',\n",
    " 'FC Nantes',\n",
    " 'Atalanta',\n",
    " 'Rayo Vallecano',\n",
    " '1. FSV Mainz 05',\n",
    " 'Boca Juniors',\n",
    " 'Toulouse Football Club',\n",
    " 'Getafe CF',\n",
    " 'Bristol City',\n",
    " 'AS Saint-Étienne',\n",
    " 'Deportivo Alavés',\n",
    " 'RCD Espanyol',\n",
    " 'Udinese',\n",
    " 'Aston Villa',\n",
    " 'Fortuna Düsseldorf',\n",
    " 'Al Ahli',\n",
    " 'Sporting CP',\n",
    " 'Grêmio',\n",
    " 'Guangzhou Evergrande Taobao FC',\n",
    " 'Trabzonspor',\n",
    " 'FC Red Bull Salzburg',\n",
    " 'Guadalajara',\n",
    " 'FC Augsburg',\n",
    " 'SC Freiburg',\n",
    " 'Al Nassr',\n",
    " 'Norwich City',\n",
    " 'Brentford',\n",
    " 'Swansea City',\n",
    " 'FC Porto',\n",
    " 'Sheffield Wednesday',\n",
    " 'Internacional',\n",
    " 'Independiente',\n",
    " 'Cruzeiro',\n",
    " '1. FC Union Berlin',\n",
    " 'Montpellier HSC',\n",
    " 'Fluminense',\n",
    " 'Angers SCO',\n",
    " 'Club Brugge KV',\n",
    " '1. FC Köln',\n",
    " 'SD Huesca',\n",
    " 'Al Ittihad',\n",
    " 'FC Basel 1893',\n",
    " 'Stade Malherbe Caen',\n",
    " 'Blackburn Rovers',\n",
    " 'Reading',\n",
    " 'LOSC Lille',\n",
    " 'Ajax',\n",
    " 'Real Valladolid CF',\n",
    " 'Racing Club',\n",
    " 'SC Braga',\n",
    " 'Frosinone',\n",
    " 'Göztepe SK',\n",
    " 'Club León',\n",
    " 'Pachuca',\n",
    " 'En Avant de Guingamp',\n",
    " 'River Plate',\n",
    " 'SL Benfica',\n",
    " 'Genoa',\n",
    " 'Deportivo Toluca',\n",
    " 'Cruz Azul',\n",
    " 'MKE Ankaragücü',\n",
    " 'Vitesse',\n",
    " 'KAA Gent',\n",
    " 'RSC Anderlecht',\n",
    " '1. FC Nürnberg',\n",
    " 'Birmingham City',\n",
    " 'Chievo Verona',\n",
    " 'FC Ingolstadt 04',\n",
    " 'Hull City',\n",
    " 'PSV',\n",
    " 'Bursaspor',\n",
    " 'Empoli',\n",
    " 'Santos Laguna',\n",
    " 'Standard de Liège',\n",
    " 'Botafogo',\n",
    " 'Amiens SC',\n",
    " 'SPAL',\n",
    " 'RC Strasbourg Alsace',\n",
    " 'Al Wehda']"
   ]
  },
  {
   "cell_type": "code",
   "execution_count": 238,
   "metadata": {},
   "outputs": [
    {
     "data": {
      "text/plain": [
       "<matplotlib.axes._subplots.AxesSubplot at 0x23d8b723700>"
      ]
     },
     "execution_count": 238,
     "metadata": {},
     "output_type": "execute_result"
    },
    {
     "data": {
      "image/png": "[encoded data removed]",
      "text/plain": [
       "<Figure size 1440x720 with 1 Axes>"
      ]
     },
     "metadata": {
      "needs_background": "light"
     },
     "output_type": "display_data"
    }
   ],
   "source": [
    "group3 = df.groupby('Club')['Wage'].sum().reset_index().sort_values('Wage', ascending = False).head(50)\n",
    "plt.figure(figsize = (20,10))\n",
    "sns.barplot(x = 'Wage', y = 'Club', data = group3)"
   ]
  },
  {
   "cell_type": "code",
   "execution_count": 239,
   "metadata": {},
   "outputs": [],
   "source": [
    "group3 = df.groupby(['Club'])[['Wage']]\n",
    "cmed= group3.sum().sort_values(by=['Wage'], ascending = False)"
   ]
  },
  {
   "cell_type": "code",
   "execution_count": 240,
   "metadata": {},
   "outputs": [
    {
     "data": {
      "text/html": [
       "<div>\n",
       "<style scoped>\n",
       "    .dataframe tbody tr th:only-of-type {\n",
       "        vertical-align: middle;\n",
       "    }\n",
       "\n",
       "    .dataframe tbody tr th {\n",
       "        vertical-align: top;\n",
       "    }\n",
       "\n",
       "    .dataframe thead th {\n",
       "        text-align: right;\n",
       "    }\n",
       "</style>\n",
       "<table border=\"1\" class=\"dataframe\">\n",
       "  <thead>\n",
       "    <tr style=\"text-align: right;\">\n",
       "      <th></th>\n",
       "      <th>Wage</th>\n",
       "    </tr>\n",
       "  </thead>\n",
       "  <tbody>\n",
       "    <tr>\n",
       "      <th>count</th>\n",
       "      <td>651.000000</td>\n",
       "    </tr>\n",
       "    <tr>\n",
       "      <th>mean</th>\n",
       "      <td>272.038402</td>\n",
       "    </tr>\n",
       "    <tr>\n",
       "      <th>std</th>\n",
       "      <td>499.444787</td>\n",
       "    </tr>\n",
       "    <tr>\n",
       "      <th>min</th>\n",
       "      <td>19.000000</td>\n",
       "    </tr>\n",
       "    <tr>\n",
       "      <th>25%</th>\n",
       "      <td>60.500000</td>\n",
       "    </tr>\n",
       "    <tr>\n",
       "      <th>50%</th>\n",
       "      <td>108.000000</td>\n",
       "    </tr>\n",
       "    <tr>\n",
       "      <th>75%</th>\n",
       "      <td>261.500000</td>\n",
       "    </tr>\n",
       "    <tr>\n",
       "      <th>max</th>\n",
       "      <td>5017.000000</td>\n",
       "    </tr>\n",
       "  </tbody>\n",
       "</table>\n",
       "</div>"
      ],
      "text/plain": [
       "              Wage\n",
       "count   651.000000\n",
       "mean    272.038402\n",
       "std     499.444787\n",
       "min      19.000000\n",
       "25%      60.500000\n",
       "50%     108.000000\n",
       "75%     261.500000\n",
       "max    5017.000000"
      ]
     },
     "execution_count": 240,
     "metadata": {},
     "output_type": "execute_result"
    }
   ],
   "source": [
    "cmed.describe()"
   ]
  },
  {
   "cell_type": "code",
   "execution_count": 241,
   "metadata": {},
   "outputs": [],
   "source": [
    "club3=list(cmed.query('Wage>=108 & Wage<261.5').index)\n",
    "club3\n",
    "club4=list(cmed.query('Wage>=60.5 & Wage <108').index)\n",
    "club5=list(cmed.query('Wage<60.5').index)"
   ]
  },
  {
   "cell_type": "code",
   "execution_count": 245,
   "metadata": {},
   "outputs": [],
   "source": [
    "df_all.insert(7,'Club_5',\n",
    "            df_all.apply(lambda x: \n",
    "            4 if x['Club'] in club1\n",
    "            else 3 if x['Club'] in club2\n",
    "            else 2 if x['Club'] in club3\n",
    "            else 1 if x['Club'] in club4\n",
    "            else 0, axis =1))"
   ]
  },
  {
   "cell_type": "code",
   "execution_count": 256,
   "metadata": {},
   "outputs": [
    {
     "data": {
      "text/plain": [
       "Index(['Name', 'Age', 'Overall', 'Potential', 'Club', 'Value', 'Wage',\n",
       "       'Club_5', 'Club_4W', 'Club_4V', 'Position_Class', 'Special',\n",
       "       'International Reputation', 'Weak Foot', 'Skill Moves', 'Position',\n",
       "       'Jersey Number', 'Joined', 'Loaned From', 'Contract Valid Until',\n",
       "       'Composure', 'Loaned', 'Age_C', 'Over_C', 'Position_Score',\n",
       "       'Special_Score1', 'Special_Score2', 'Special_Score3', 'Special_Score4',\n",
       "       'Special_Score5', 'Special_Score6', 'Real_Face', 'Club_Overall',\n",
       "       'Overall_div'],\n",
       "      dtype='object')"
      ]
     },
     "execution_count": 256,
     "metadata": {},
     "output_type": "execute_result"
    }
   ],
   "source": [
    "df_all.columns"
   ]
  },
  {
   "cell_type": "code",
   "execution_count": 263,
   "metadata": {},
   "outputs": [
    {
     "data": {
      "text/plain": [
       "array([4, 1, 3, 2, 0], dtype=int64)"
      ]
     },
     "execution_count": 263,
     "metadata": {},
     "output_type": "execute_result"
    }
   ],
   "source": [
    "df_all.iloc[:,7].unique()"
   ]
  },
  {
   "cell_type": "code",
   "execution_count": 282,
   "metadata": {},
   "outputs": [],
   "source": [
    "df_all['Club_Overall']=np.nan"
   ]
  },
  {
   "cell_type": "code",
   "execution_count": 255,
   "metadata": {},
   "outputs": [],
   "source": [
    "bins = [0,73, 80, 85, 99]\n",
    "group_names=[0,1,2,3]\n",
    "df_all['Overall_div']=pd.cut(df_all['Overall'], bins, labels=group_names, include_lowest=True)"
   ]
  },
  {
   "cell_type": "code",
   "execution_count": 283,
   "metadata": {},
   "outputs": [],
   "source": [
    "# 으아 됐다아아아아아 ㅠㅠㅠㅠㅠㅠㅠㅠㅠㅠㅠㅠㅠㅠㅠㅠㅠㅠㅠㅠㅠㅠㅠㅠ\n",
    "for i in range(len(df_all)):\n",
    "    if df_all.iloc[i, 7] == 4: # club 30위 순\n",
    "        if df_all.iloc[i,33] ==3: # overall 85 이상\n",
    "            df_all.iloc[i, 32] = 3\n",
    "        elif df_all.iloc[i,33] ==2: # overall 80이상, 85 미만\n",
    "            df_all.iloc[i, 32] = 2\n",
    "        elif df_all.iloc[i,33] ==1: # overall 73이상, 80 미만\n",
    "            df_all.iloc[i, 32] = 1\n",
    "        else:\n",
    "            df_all.iloc[i, 32] = 0    \n",
    "            \n",
    "    elif df_all.iloc[i, 7] == 3: # club2 그룹 이내\n",
    "        if df_all.iloc[i,33] ==3: # overall 85 이상 (거의 없음)\n",
    "            df_all.iloc[i, 32] = 2 \n",
    "        elif df_all.iloc[i,33] ==2: # overall 80 이상, 85 미만\n",
    "            df_all.iloc[i,32] = 1\n",
    "        else:\n",
    "            df_all.iloc[i,32] =0\n",
    "            \n",
    "    elif df_all.iloc[i, 7] == 2: # club3 그룹 이내\n",
    "        if df_all.iloc[i,33] >= 2: # overall 80이상\n",
    "            df_all.iloc[i,32] =1\n",
    "        else:\n",
    "            df_all.iloc[i,32] =0\n",
    "    else: # 클럽 4분위수는 거의 연봉이 1000임\n",
    "        df_all.iloc[i,32]=0"
   ]
  },
  {
   "cell_type": "code",
   "execution_count": 279,
   "metadata": {},
   "outputs": [
    {
     "data": {
      "text/plain": [
       "Index(['Name', 'Age', 'Overall', 'Potential', 'Club', 'Value', 'Wage',\n",
       "       'Club_5', 'Club_4W', 'Club_4V', 'Position_Class', 'Special',\n",
       "       'International Reputation', 'Weak Foot', 'Skill Moves', 'Position',\n",
       "       'Jersey Number', 'Joined', 'Loaned From', 'Contract Valid Until',\n",
       "       'Composure', 'Loaned', 'Age_C', 'Over_C', 'Position_Score',\n",
       "       'Special_Score1', 'Special_Score2', 'Special_Score3', 'Special_Score4',\n",
       "       'Special_Score5', 'Special_Score6', 'Real_Face', 'Club_Overall',\n",
       "       'Overall_div'],\n",
       "      dtype='object')"
      ]
     },
     "execution_count": 279,
     "metadata": {},
     "output_type": "execute_result"
    }
   ],
   "source": [
    "df_all.columns"
   ]
  },
  {
   "cell_type": "code",
   "execution_count": 298,
   "metadata": {},
   "outputs": [
    {
     "ename": "KeyError",
     "evalue": "\"['Club_W'] not in index\"",
     "output_type": "error",
     "traceback": [
      "\u001b[1;31m---------------------------------------------------------------------------\u001b[0m",
      "\u001b[1;31mKeyError\u001b[0m                                  Traceback (most recent call last)",
      "\u001b[1;32m<ipython-input-298-daea34b8d2b2>\u001b[0m in \u001b[0;36m<module>\u001b[1;34m\u001b[0m\n\u001b[1;32m----> 1\u001b[1;33m \u001b[0mheat\u001b[0m\u001b[1;33m=\u001b[0m\u001b[0mdf_all\u001b[0m\u001b[1;33m[\u001b[0m\u001b[1;33m[\u001b[0m\u001b[1;34m'Wage'\u001b[0m\u001b[1;33m,\u001b[0m \u001b[1;34m'International Reputation'\u001b[0m\u001b[1;33m,\u001b[0m \u001b[1;34m'Value'\u001b[0m\u001b[1;33m,\u001b[0m\u001b[1;34m'Special_Score5'\u001b[0m\u001b[1;33m,\u001b[0m\u001b[1;34m'Overall'\u001b[0m\u001b[1;33m,\u001b[0m\u001b[1;34m'Club_Overall'\u001b[0m\u001b[1;33m,\u001b[0m\u001b[1;34m'Club_W'\u001b[0m\u001b[1;33m]\u001b[0m\u001b[1;33m]\u001b[0m\u001b[1;33m\u001b[0m\u001b[1;33m\u001b[0m\u001b[0m\n\u001b[0m",
      "\u001b[1;32mC:\\caba2015\\anaconda3\\lib\\site-packages\\pandas\\core\\frame.py\u001b[0m in \u001b[0;36m__getitem__\u001b[1;34m(self, key)\u001b[0m\n\u001b[0;32m   2804\u001b[0m             \u001b[1;32mif\u001b[0m \u001b[0mis_iterator\u001b[0m\u001b[1;33m(\u001b[0m\u001b[0mkey\u001b[0m\u001b[1;33m)\u001b[0m\u001b[1;33m:\u001b[0m\u001b[1;33m\u001b[0m\u001b[1;33m\u001b[0m\u001b[0m\n\u001b[0;32m   2805\u001b[0m                 \u001b[0mkey\u001b[0m \u001b[1;33m=\u001b[0m \u001b[0mlist\u001b[0m\u001b[1;33m(\u001b[0m\u001b[0mkey\u001b[0m\u001b[1;33m)\u001b[0m\u001b[1;33m\u001b[0m\u001b[1;33m\u001b[0m\u001b[0m\n\u001b[1;32m-> 2806\u001b[1;33m             \u001b[0mindexer\u001b[0m \u001b[1;33m=\u001b[0m \u001b[0mself\u001b[0m\u001b[1;33m.\u001b[0m\u001b[0mloc\u001b[0m\u001b[1;33m.\u001b[0m\u001b[0m_get_listlike_indexer\u001b[0m\u001b[1;33m(\u001b[0m\u001b[0mkey\u001b[0m\u001b[1;33m,\u001b[0m \u001b[0maxis\u001b[0m\u001b[1;33m=\u001b[0m\u001b[1;36m1\u001b[0m\u001b[1;33m,\u001b[0m \u001b[0mraise_missing\u001b[0m\u001b[1;33m=\u001b[0m\u001b[1;32mTrue\u001b[0m\u001b[1;33m)\u001b[0m\u001b[1;33m[\u001b[0m\u001b[1;36m1\u001b[0m\u001b[1;33m]\u001b[0m\u001b[1;33m\u001b[0m\u001b[1;33m\u001b[0m\u001b[0m\n\u001b[0m\u001b[0;32m   2807\u001b[0m \u001b[1;33m\u001b[0m\u001b[0m\n\u001b[0;32m   2808\u001b[0m         \u001b[1;31m# take() does not accept boolean indexers\u001b[0m\u001b[1;33m\u001b[0m\u001b[1;33m\u001b[0m\u001b[1;33m\u001b[0m\u001b[0m\n",
      "\u001b[1;32mC:\\caba2015\\anaconda3\\lib\\site-packages\\pandas\\core\\indexing.py\u001b[0m in \u001b[0;36m_get_listlike_indexer\u001b[1;34m(self, key, axis, raise_missing)\u001b[0m\n\u001b[0;32m   1550\u001b[0m             \u001b[0mkeyarr\u001b[0m\u001b[1;33m,\u001b[0m \u001b[0mindexer\u001b[0m\u001b[1;33m,\u001b[0m \u001b[0mnew_indexer\u001b[0m \u001b[1;33m=\u001b[0m \u001b[0max\u001b[0m\u001b[1;33m.\u001b[0m\u001b[0m_reindex_non_unique\u001b[0m\u001b[1;33m(\u001b[0m\u001b[0mkeyarr\u001b[0m\u001b[1;33m)\u001b[0m\u001b[1;33m\u001b[0m\u001b[1;33m\u001b[0m\u001b[0m\n\u001b[0;32m   1551\u001b[0m \u001b[1;33m\u001b[0m\u001b[0m\n\u001b[1;32m-> 1552\u001b[1;33m         self._validate_read_indexer(\n\u001b[0m\u001b[0;32m   1553\u001b[0m             \u001b[0mkeyarr\u001b[0m\u001b[1;33m,\u001b[0m \u001b[0mindexer\u001b[0m\u001b[1;33m,\u001b[0m \u001b[0mo\u001b[0m\u001b[1;33m.\u001b[0m\u001b[0m_get_axis_number\u001b[0m\u001b[1;33m(\u001b[0m\u001b[0maxis\u001b[0m\u001b[1;33m)\u001b[0m\u001b[1;33m,\u001b[0m \u001b[0mraise_missing\u001b[0m\u001b[1;33m=\u001b[0m\u001b[0mraise_missing\u001b[0m\u001b[1;33m\u001b[0m\u001b[1;33m\u001b[0m\u001b[0m\n\u001b[0;32m   1554\u001b[0m         )\n",
      "\u001b[1;32mC:\\caba2015\\anaconda3\\lib\\site-packages\\pandas\\core\\indexing.py\u001b[0m in \u001b[0;36m_validate_read_indexer\u001b[1;34m(self, key, indexer, axis, raise_missing)\u001b[0m\n\u001b[0;32m   1644\u001b[0m             \u001b[1;32mif\u001b[0m \u001b[1;32mnot\u001b[0m \u001b[1;33m(\u001b[0m\u001b[0mself\u001b[0m\u001b[1;33m.\u001b[0m\u001b[0mname\u001b[0m \u001b[1;33m==\u001b[0m \u001b[1;34m\"loc\"\u001b[0m \u001b[1;32mand\u001b[0m \u001b[1;32mnot\u001b[0m \u001b[0mraise_missing\u001b[0m\u001b[1;33m)\u001b[0m\u001b[1;33m:\u001b[0m\u001b[1;33m\u001b[0m\u001b[1;33m\u001b[0m\u001b[0m\n\u001b[0;32m   1645\u001b[0m                 \u001b[0mnot_found\u001b[0m \u001b[1;33m=\u001b[0m \u001b[0mlist\u001b[0m\u001b[1;33m(\u001b[0m\u001b[0mset\u001b[0m\u001b[1;33m(\u001b[0m\u001b[0mkey\u001b[0m\u001b[1;33m)\u001b[0m \u001b[1;33m-\u001b[0m \u001b[0mset\u001b[0m\u001b[1;33m(\u001b[0m\u001b[0max\u001b[0m\u001b[1;33m)\u001b[0m\u001b[1;33m)\u001b[0m\u001b[1;33m\u001b[0m\u001b[1;33m\u001b[0m\u001b[0m\n\u001b[1;32m-> 1646\u001b[1;33m                 \u001b[1;32mraise\u001b[0m \u001b[0mKeyError\u001b[0m\u001b[1;33m(\u001b[0m\u001b[1;34mf\"{not_found} not in index\"\u001b[0m\u001b[1;33m)\u001b[0m\u001b[1;33m\u001b[0m\u001b[1;33m\u001b[0m\u001b[0m\n\u001b[0m\u001b[0;32m   1647\u001b[0m \u001b[1;33m\u001b[0m\u001b[0m\n\u001b[0;32m   1648\u001b[0m             \u001b[1;31m# we skip the warning on Categorical/Interval\u001b[0m\u001b[1;33m\u001b[0m\u001b[1;33m\u001b[0m\u001b[1;33m\u001b[0m\u001b[0m\n",
      "\u001b[1;31mKeyError\u001b[0m: \"['Club_W'] not in index\""
     ]
    }
   ],
   "source": [
    "heat=df_all[['Wage', 'International Reputation', 'Value','Special_Score5','Overall','Club_Overall','Club_W']]"
   ]
  },
  {
   "cell_type": "code",
   "execution_count": 295,
   "metadata": {},
   "outputs": [
    {
     "data": {
      "text/plain": [
       "<matplotlib.axes._subplots.AxesSubplot at 0x23d8dfe4820>"
      ]
     },
     "execution_count": 295,
     "metadata": {},
     "output_type": "execute_result"
    },
    {
     "data": {
      "image/png": "[encoded data removed]",
      "text/plain": [
       "<Figure size 1008x1008 with 2 Axes>"
      ]
     },
     "metadata": {
      "needs_background": "light"
     },
     "output_type": "display_data"
    }
   ],
   "source": [
    "plt.figure(figsize=(14,14))\n",
    "sns.heatmap(heat.corr(),linewidths=.8, annot=True) "
   ]
  },
  {
   "cell_type": "code",
   "execution_count": 297,
   "metadata": {},
   "outputs": [],
   "source": [
    "heat.to_csv('dataset/final.csv')"
   ]
  },
  {
   "cell_type": "code",
   "execution_count": 168,
   "metadata": {},
   "outputs": [
    {
     "data": {
      "text/html": [
       "<table class=\"simpletable\">\n",
       "<caption>OLS Regression Results</caption>\n",
       "<tr>\n",
       "  <th>Dep. Variable:</th>          <td>Wage</td>       <th>  R-squared:         </th>  <td>   1.000</td> \n",
       "</tr>\n",
       "<tr>\n",
       "  <th>Model:</th>                   <td>OLS</td>       <th>  Adj. R-squared:    </th>  <td>   1.000</td> \n",
       "</tr>\n",
       "<tr>\n",
       "  <th>Method:</th>             <td>Least Squares</td>  <th>  F-statistic:       </th>  <td>2.254e+32</td>\n",
       "</tr>\n",
       "<tr>\n",
       "  <th>Date:</th>             <td>Mon, 15 Mar 2021</td> <th>  Prob (F-statistic):</th>   <td>  0.00</td>  \n",
       "</tr>\n",
       "<tr>\n",
       "  <th>Time:</th>                 <td>00:27:50</td>     <th>  Log-Likelihood:    </th> <td>5.0495e+05</td>\n",
       "</tr>\n",
       "<tr>\n",
       "  <th>No. Observations:</th>      <td> 17918</td>      <th>  AIC:               </th> <td>-1.010e+06</td>\n",
       "</tr>\n",
       "<tr>\n",
       "  <th>Df Residuals:</th>          <td> 17915</td>      <th>  BIC:               </th> <td>-1.010e+06</td>\n",
       "</tr>\n",
       "<tr>\n",
       "  <th>Df Model:</th>              <td>     2</td>      <th>                     </th>      <td> </td>    \n",
       "</tr>\n",
       "<tr>\n",
       "  <th>Covariance Type:</th>      <td>nonrobust</td>    <th>                     </th>      <td> </td>    \n",
       "</tr>\n",
       "</table>\n",
       "<table class=\"simpletable\">\n",
       "<tr>\n",
       "      <td></td>         <th>coef</th>     <th>std err</th>      <th>t</th>      <th>P>|t|</th>  <th>[0.025</th>    <th>0.975]</th>  \n",
       "</tr>\n",
       "<tr>\n",
       "  <th>Intercept</th> <td>-1.581e-12</td> <td> 1.19e-14</td> <td> -132.590</td> <td> 0.000</td> <td> -1.6e-12</td> <td>-1.56e-12</td>\n",
       "</tr>\n",
       "<tr>\n",
       "  <th>Overall</th>   <td>  2.44e-14</td> <td> 1.84e-16</td> <td>  132.567</td> <td> 0.000</td> <td>  2.4e-14</td> <td> 2.48e-14</td>\n",
       "</tr>\n",
       "<tr>\n",
       "  <th>Wage</th>      <td>    1.0000</td> <td> 5.76e-17</td> <td> 1.74e+16</td> <td> 0.000</td> <td>    1.000</td> <td>    1.000</td>\n",
       "</tr>\n",
       "</table>\n",
       "<table class=\"simpletable\">\n",
       "<tr>\n",
       "  <th>Omnibus:</th>       <td>5556.115</td> <th>  Durbin-Watson:     </th> <td>   0.287</td> \n",
       "</tr>\n",
       "<tr>\n",
       "  <th>Prob(Omnibus):</th>  <td> 0.000</td>  <th>  Jarque-Bera (JB):  </th> <td>50099.782</td>\n",
       "</tr>\n",
       "<tr>\n",
       "  <th>Skew:</th>           <td> 1.231</td>  <th>  Prob(JB):          </th> <td>    0.00</td> \n",
       "</tr>\n",
       "<tr>\n",
       "  <th>Kurtosis:</th>       <td>10.813</td>  <th>  Cond. No.          </th> <td>    773.</td> \n",
       "</tr>\n",
       "</table><br/><br/>Warnings:<br/>[1] Standard Errors assume that the covariance matrix of the errors is correctly specified."
      ],
      "text/plain": [
       "<class 'statsmodels.iolib.summary.Summary'>\n",
       "\"\"\"\n",
       "                            OLS Regression Results                            \n",
       "==============================================================================\n",
       "Dep. Variable:                   Wage   R-squared:                       1.000\n",
       "Model:                            OLS   Adj. R-squared:                  1.000\n",
       "Method:                 Least Squares   F-statistic:                 2.254e+32\n",
       "Date:                Mon, 15 Mar 2021   Prob (F-statistic):               0.00\n",
       "Time:                        00:27:50   Log-Likelihood:             5.0495e+05\n",
       "No. Observations:               17918   AIC:                        -1.010e+06\n",
       "Df Residuals:                   17915   BIC:                        -1.010e+06\n",
       "Df Model:                           2                                         \n",
       "Covariance Type:            nonrobust                                         \n",
       "==============================================================================\n",
       "                 coef    std err          t      P>|t|      [0.025      0.975]\n",
       "------------------------------------------------------------------------------\n",
       "Intercept  -1.581e-12   1.19e-14   -132.590      0.000    -1.6e-12   -1.56e-12\n",
       "Overall      2.44e-14   1.84e-16    132.567      0.000     2.4e-14    2.48e-14\n",
       "Wage           1.0000   5.76e-17   1.74e+16      0.000       1.000       1.000\n",
       "==============================================================================\n",
       "Omnibus:                     5556.115   Durbin-Watson:                   0.287\n",
       "Prob(Omnibus):                  0.000   Jarque-Bera (JB):            50099.782\n",
       "Skew:                           1.231   Prob(JB):                         0.00\n",
       "Kurtosis:                      10.813   Cond. No.                         773.\n",
       "==============================================================================\n",
       "\n",
       "Warnings:\n",
       "[1] Standard Errors assume that the covariance matrix of the errors is correctly specified.\n",
       "\"\"\""
      ]
     },
     "execution_count": 168,
     "metadata": {},
     "output_type": "execute_result"
    }
   ],
   "source": [
    "lm_fifa2=smf.ols('Wage~ Overall+Wage', data=df_all).fit()\n",
    "lm_fifa2.summary()"
   ]
  },
  {
   "cell_type": "code",
   "execution_count": 128,
   "metadata": {},
   "outputs": [
    {
     "data": {
      "text/html": [
       "<table class=\"simpletable\">\n",
       "<caption>OLS Regression Results</caption>\n",
       "<tr>\n",
       "  <th>Dep. Variable:</th>          <td>Wage</td>       <th>  R-squared:         </th> <td>   0.139</td> \n",
       "</tr>\n",
       "<tr>\n",
       "  <th>Model:</th>                   <td>OLS</td>       <th>  Adj. R-squared:    </th> <td>   0.139</td> \n",
       "</tr>\n",
       "<tr>\n",
       "  <th>Method:</th>             <td>Least Squares</td>  <th>  F-statistic:       </th> <td>   2883.</td> \n",
       "</tr>\n",
       "<tr>\n",
       "  <th>Date:</th>             <td>Mon, 15 Mar 2021</td> <th>  Prob (F-statistic):</th>  <td>  0.00</td>  \n",
       "</tr>\n",
       "<tr>\n",
       "  <th>Time:</th>                 <td>00:18:13</td>     <th>  Log-Likelihood:    </th> <td> -79589.</td> \n",
       "</tr>\n",
       "<tr>\n",
       "  <th>No. Observations:</th>      <td> 17918</td>      <th>  AIC:               </th> <td>1.592e+05</td>\n",
       "</tr>\n",
       "<tr>\n",
       "  <th>Df Residuals:</th>          <td> 17916</td>      <th>  BIC:               </th> <td>1.592e+05</td>\n",
       "</tr>\n",
       "<tr>\n",
       "  <th>Df Model:</th>              <td>     1</td>      <th>                     </th>     <td> </td>    \n",
       "</tr>\n",
       "<tr>\n",
       "  <th>Covariance Type:</th>      <td>nonrobust</td>    <th>                     </th>     <td> </td>    \n",
       "</tr>\n",
       "</table>\n",
       "<table class=\"simpletable\">\n",
       "<tr>\n",
       "         <td></td>           <th>coef</th>     <th>std err</th>      <th>t</th>      <th>P>|t|</th>  <th>[0.025</th>    <th>0.975]</th>  \n",
       "</tr>\n",
       "<tr>\n",
       "  <th>Intercept</th>      <td>  -41.3771</td> <td>    0.967</td> <td>  -42.788</td> <td> 0.000</td> <td>  -43.273</td> <td>  -39.482</td>\n",
       "</tr>\n",
       "<tr>\n",
       "  <th>Special_Score5</th> <td>    0.0286</td> <td>    0.001</td> <td>   53.689</td> <td> 0.000</td> <td>    0.028</td> <td>    0.030</td>\n",
       "</tr>\n",
       "</table>\n",
       "<table class=\"simpletable\">\n",
       "<tr>\n",
       "  <th>Omnibus:</th>       <td>24690.710</td> <th>  Durbin-Watson:     </th>  <td>   0.581</td>  \n",
       "</tr>\n",
       "<tr>\n",
       "  <th>Prob(Omnibus):</th>  <td> 0.000</td>   <th>  Jarque-Bera (JB):  </th> <td>8705536.976</td>\n",
       "</tr>\n",
       "<tr>\n",
       "  <th>Skew:</th>           <td> 7.940</td>   <th>  Prob(JB):          </th>  <td>    0.00</td>  \n",
       "</tr>\n",
       "<tr>\n",
       "  <th>Kurtosis:</th>       <td>109.810</td>  <th>  Cond. No.          </th>  <td>1.14e+04</td>  \n",
       "</tr>\n",
       "</table><br/><br/>Warnings:<br/>[1] Standard Errors assume that the covariance matrix of the errors is correctly specified.<br/>[2] The condition number is large, 1.14e+04. This might indicate that there are<br/>strong multicollinearity or other numerical problems."
      ],
      "text/plain": [
       "<class 'statsmodels.iolib.summary.Summary'>\n",
       "\"\"\"\n",
       "                            OLS Regression Results                            \n",
       "==============================================================================\n",
       "Dep. Variable:                   Wage   R-squared:                       0.139\n",
       "Model:                            OLS   Adj. R-squared:                  0.139\n",
       "Method:                 Least Squares   F-statistic:                     2883.\n",
       "Date:                Mon, 15 Mar 2021   Prob (F-statistic):               0.00\n",
       "Time:                        00:18:13   Log-Likelihood:                -79589.\n",
       "No. Observations:               17918   AIC:                         1.592e+05\n",
       "Df Residuals:                   17916   BIC:                         1.592e+05\n",
       "Df Model:                           1                                         \n",
       "Covariance Type:            nonrobust                                         \n",
       "==================================================================================\n",
       "                     coef    std err          t      P>|t|      [0.025      0.975]\n",
       "----------------------------------------------------------------------------------\n",
       "Intercept        -41.3771      0.967    -42.788      0.000     -43.273     -39.482\n",
       "Special_Score5     0.0286      0.001     53.689      0.000       0.028       0.030\n",
       "==============================================================================\n",
       "Omnibus:                    24690.710   Durbin-Watson:                   0.581\n",
       "Prob(Omnibus):                  0.000   Jarque-Bera (JB):          8705536.976\n",
       "Skew:                           7.940   Prob(JB):                         0.00\n",
       "Kurtosis:                     109.810   Cond. No.                     1.14e+04\n",
       "==============================================================================\n",
       "\n",
       "Warnings:\n",
       "[1] Standard Errors assume that the covariance matrix of the errors is correctly specified.\n",
       "[2] The condition number is large, 1.14e+04. This might indicate that there are\n",
       "strong multicollinearity or other numerical problems.\n",
       "\"\"\""
      ]
     },
     "execution_count": 128,
     "metadata": {},
     "output_type": "execute_result"
    }
   ],
   "source": [
    "lm_fifa1=smf.ols('Wage~ Special_Score5', data=df_all).fit()\n",
    "lm_fifa1.summary()"
   ]
  },
  {
   "cell_type": "code",
   "execution_count": 156,
   "metadata": {},
   "outputs": [
    {
     "data": {
      "text/html": [
       "<table class=\"simpletable\">\n",
       "<caption>OLS Regression Results</caption>\n",
       "<tr>\n",
       "  <th>Dep. Variable:</th>          <td>Wage</td>       <th>  R-squared:         </th> <td>   0.123</td> \n",
       "</tr>\n",
       "<tr>\n",
       "  <th>Model:</th>                   <td>OLS</td>       <th>  Adj. R-squared:    </th> <td>   0.123</td> \n",
       "</tr>\n",
       "<tr>\n",
       "  <th>Method:</th>             <td>Least Squares</td>  <th>  F-statistic:       </th> <td>   2504.</td> \n",
       "</tr>\n",
       "<tr>\n",
       "  <th>Date:</th>             <td>Mon, 15 Mar 2021</td> <th>  Prob (F-statistic):</th>  <td>  0.00</td>  \n",
       "</tr>\n",
       "<tr>\n",
       "  <th>Time:</th>                 <td>00:25:16</td>     <th>  Log-Likelihood:    </th> <td> -79753.</td> \n",
       "</tr>\n",
       "<tr>\n",
       "  <th>No. Observations:</th>      <td> 17918</td>      <th>  AIC:               </th> <td>1.595e+05</td>\n",
       "</tr>\n",
       "<tr>\n",
       "  <th>Df Residuals:</th>          <td> 17916</td>      <th>  BIC:               </th> <td>1.595e+05</td>\n",
       "</tr>\n",
       "<tr>\n",
       "  <th>Df Model:</th>              <td>     1</td>      <th>                     </th>     <td> </td>    \n",
       "</tr>\n",
       "<tr>\n",
       "  <th>Covariance Type:</th>      <td>nonrobust</td>    <th>                     </th>     <td> </td>    \n",
       "</tr>\n",
       "</table>\n",
       "<table class=\"simpletable\">\n",
       "<tr>\n",
       "      <td></td>         <th>coef</th>     <th>std err</th>      <th>t</th>      <th>P>|t|</th>  <th>[0.025</th>    <th>0.975]</th>  \n",
       "</tr>\n",
       "<tr>\n",
       "  <th>Intercept</th> <td>  -35.5096</td> <td>    0.920</td> <td>  -38.586</td> <td> 0.000</td> <td>  -37.313</td> <td>  -33.706</td>\n",
       "</tr>\n",
       "<tr>\n",
       "  <th>Special</th>   <td>    0.0284</td> <td>    0.001</td> <td>   50.040</td> <td> 0.000</td> <td>    0.027</td> <td>    0.030</td>\n",
       "</tr>\n",
       "</table>\n",
       "<table class=\"simpletable\">\n",
       "<tr>\n",
       "  <th>Omnibus:</th>       <td>24662.391</td> <th>  Durbin-Watson:     </th>  <td>   0.570</td>  \n",
       "</tr>\n",
       "<tr>\n",
       "  <th>Prob(Omnibus):</th>  <td> 0.000</td>   <th>  Jarque-Bera (JB):  </th> <td>8551372.279</td>\n",
       "</tr>\n",
       "<tr>\n",
       "  <th>Skew:</th>           <td> 7.930</td>   <th>  Prob(JB):          </th>  <td>    0.00</td>  \n",
       "</tr>\n",
       "<tr>\n",
       "  <th>Kurtosis:</th>       <td>108.842</td>  <th>  Cond. No.          </th>  <td>9.63e+03</td>  \n",
       "</tr>\n",
       "</table><br/><br/>Warnings:<br/>[1] Standard Errors assume that the covariance matrix of the errors is correctly specified.<br/>[2] The condition number is large, 9.63e+03. This might indicate that there are<br/>strong multicollinearity or other numerical problems."
      ],
      "text/plain": [
       "<class 'statsmodels.iolib.summary.Summary'>\n",
       "\"\"\"\n",
       "                            OLS Regression Results                            \n",
       "==============================================================================\n",
       "Dep. Variable:                   Wage   R-squared:                       0.123\n",
       "Model:                            OLS   Adj. R-squared:                  0.123\n",
       "Method:                 Least Squares   F-statistic:                     2504.\n",
       "Date:                Mon, 15 Mar 2021   Prob (F-statistic):               0.00\n",
       "Time:                        00:25:16   Log-Likelihood:                -79753.\n",
       "No. Observations:               17918   AIC:                         1.595e+05\n",
       "Df Residuals:                   17916   BIC:                         1.595e+05\n",
       "Df Model:                           1                                         \n",
       "Covariance Type:            nonrobust                                         \n",
       "==============================================================================\n",
       "                 coef    std err          t      P>|t|      [0.025      0.975]\n",
       "------------------------------------------------------------------------------\n",
       "Intercept    -35.5096      0.920    -38.586      0.000     -37.313     -33.706\n",
       "Special        0.0284      0.001     50.040      0.000       0.027       0.030\n",
       "==============================================================================\n",
       "Omnibus:                    24662.391   Durbin-Watson:                   0.570\n",
       "Prob(Omnibus):                  0.000   Jarque-Bera (JB):          8551372.279\n",
       "Skew:                           7.930   Prob(JB):                         0.00\n",
       "Kurtosis:                     108.842   Cond. No.                     9.63e+03\n",
       "==============================================================================\n",
       "\n",
       "Warnings:\n",
       "[1] Standard Errors assume that the covariance matrix of the errors is correctly specified.\n",
       "[2] The condition number is large, 9.63e+03. This might indicate that there are\n",
       "strong multicollinearity or other numerical problems.\n",
       "\"\"\""
      ]
     },
     "execution_count": 156,
     "metadata": {},
     "output_type": "execute_result"
    }
   ],
   "source": [
    "im_model = smf.ols(formula = 'Wage~Special',data = df_all).fit()\n",
    "im_model.summary()"
   ]
  },
  {
   "cell_type": "code",
   "execution_count": 157,
   "metadata": {},
   "outputs": [
    {
     "data": {
      "text/html": [
       "<table class=\"simpletable\">\n",
       "<caption>OLS Regression Results</caption>\n",
       "<tr>\n",
       "  <th>Dep. Variable:</th>          <td>Wage</td>       <th>  R-squared:         </th> <td>   0.127</td> \n",
       "</tr>\n",
       "<tr>\n",
       "  <th>Model:</th>                   <td>OLS</td>       <th>  Adj. R-squared:    </th> <td>   0.127</td> \n",
       "</tr>\n",
       "<tr>\n",
       "  <th>Method:</th>             <td>Least Squares</td>  <th>  F-statistic:       </th> <td>   2609.</td> \n",
       "</tr>\n",
       "<tr>\n",
       "  <th>Date:</th>             <td>Mon, 15 Mar 2021</td> <th>  Prob (F-statistic):</th>  <td>  0.00</td>  \n",
       "</tr>\n",
       "<tr>\n",
       "  <th>Time:</th>                 <td>00:25:27</td>     <th>  Log-Likelihood:    </th> <td> -79707.</td> \n",
       "</tr>\n",
       "<tr>\n",
       "  <th>No. Observations:</th>      <td> 17918</td>      <th>  AIC:               </th> <td>1.594e+05</td>\n",
       "</tr>\n",
       "<tr>\n",
       "  <th>Df Residuals:</th>          <td> 17916</td>      <th>  BIC:               </th> <td>1.594e+05</td>\n",
       "</tr>\n",
       "<tr>\n",
       "  <th>Df Model:</th>              <td>     1</td>      <th>                     </th>     <td> </td>    \n",
       "</tr>\n",
       "<tr>\n",
       "  <th>Covariance Type:</th>      <td>nonrobust</td>    <th>                     </th>     <td> </td>    \n",
       "</tr>\n",
       "</table>\n",
       "<table class=\"simpletable\">\n",
       "<tr>\n",
       "         <td></td>           <th>coef</th>     <th>std err</th>      <th>t</th>      <th>P>|t|</th>  <th>[0.025</th>    <th>0.975]</th>  \n",
       "</tr>\n",
       "<tr>\n",
       "  <th>Intercept</th>      <td>  -36.5472</td> <td>    0.922</td> <td>  -39.635</td> <td> 0.000</td> <td>  -38.355</td> <td>  -34.740</td>\n",
       "</tr>\n",
       "<tr>\n",
       "  <th>Special_Score1</th> <td>    0.0280</td> <td>    0.001</td> <td>   51.076</td> <td> 0.000</td> <td>    0.027</td> <td>    0.029</td>\n",
       "</tr>\n",
       "</table>\n",
       "<table class=\"simpletable\">\n",
       "<tr>\n",
       "  <th>Omnibus:</th>       <td>24672.096</td> <th>  Durbin-Watson:     </th>  <td>   0.573</td>  \n",
       "</tr>\n",
       "<tr>\n",
       "  <th>Prob(Omnibus):</th>  <td> 0.000</td>   <th>  Jarque-Bera (JB):  </th> <td>8596847.734</td>\n",
       "</tr>\n",
       "<tr>\n",
       "  <th>Skew:</th>           <td> 7.934</td>   <th>  Prob(JB):          </th>  <td>    0.00</td>  \n",
       "</tr>\n",
       "<tr>\n",
       "  <th>Kurtosis:</th>       <td>109.128</td>  <th>  Cond. No.          </th>  <td>1.00e+04</td>  \n",
       "</tr>\n",
       "</table><br/><br/>Warnings:<br/>[1] Standard Errors assume that the covariance matrix of the errors is correctly specified.<br/>[2] The condition number is large,  1e+04. This might indicate that there are<br/>strong multicollinearity or other numerical problems."
      ],
      "text/plain": [
       "<class 'statsmodels.iolib.summary.Summary'>\n",
       "\"\"\"\n",
       "                            OLS Regression Results                            \n",
       "==============================================================================\n",
       "Dep. Variable:                   Wage   R-squared:                       0.127\n",
       "Model:                            OLS   Adj. R-squared:                  0.127\n",
       "Method:                 Least Squares   F-statistic:                     2609.\n",
       "Date:                Mon, 15 Mar 2021   Prob (F-statistic):               0.00\n",
       "Time:                        00:25:27   Log-Likelihood:                -79707.\n",
       "No. Observations:               17918   AIC:                         1.594e+05\n",
       "Df Residuals:                   17916   BIC:                         1.594e+05\n",
       "Df Model:                           1                                         \n",
       "Covariance Type:            nonrobust                                         \n",
       "==================================================================================\n",
       "                     coef    std err          t      P>|t|      [0.025      0.975]\n",
       "----------------------------------------------------------------------------------\n",
       "Intercept        -36.5472      0.922    -39.635      0.000     -38.355     -34.740\n",
       "Special_Score1     0.0280      0.001     51.076      0.000       0.027       0.029\n",
       "==============================================================================\n",
       "Omnibus:                    24672.096   Durbin-Watson:                   0.573\n",
       "Prob(Omnibus):                  0.000   Jarque-Bera (JB):          8596847.734\n",
       "Skew:                           7.934   Prob(JB):                         0.00\n",
       "Kurtosis:                     109.128   Cond. No.                     1.00e+04\n",
       "==============================================================================\n",
       "\n",
       "Warnings:\n",
       "[1] Standard Errors assume that the covariance matrix of the errors is correctly specified.\n",
       "[2] The condition number is large,  1e+04. This might indicate that there are\n",
       "strong multicollinearity or other numerical problems.\n",
       "\"\"\""
      ]
     },
     "execution_count": 157,
     "metadata": {},
     "output_type": "execute_result"
    }
   ],
   "source": [
    "im_model1 = smf.ols(formula = 'Wage~Special_Score1',data = df_all).fit()\n",
    "im_model1.summary()"
   ]
  },
  {
   "cell_type": "code",
   "execution_count": 158,
   "metadata": {},
   "outputs": [
    {
     "data": {
      "text/html": [
       "<table class=\"simpletable\">\n",
       "<caption>OLS Regression Results</caption>\n",
       "<tr>\n",
       "  <th>Dep. Variable:</th>          <td>Wage</td>       <th>  R-squared:         </th> <td>   0.123</td> \n",
       "</tr>\n",
       "<tr>\n",
       "  <th>Model:</th>                   <td>OLS</td>       <th>  Adj. R-squared:    </th> <td>   0.123</td> \n",
       "</tr>\n",
       "<tr>\n",
       "  <th>Method:</th>             <td>Least Squares</td>  <th>  F-statistic:       </th> <td>   2504.</td> \n",
       "</tr>\n",
       "<tr>\n",
       "  <th>Date:</th>             <td>Mon, 15 Mar 2021</td> <th>  Prob (F-statistic):</th>  <td>  0.00</td>  \n",
       "</tr>\n",
       "<tr>\n",
       "  <th>Time:</th>                 <td>00:25:33</td>     <th>  Log-Likelihood:    </th> <td> -79753.</td> \n",
       "</tr>\n",
       "<tr>\n",
       "  <th>No. Observations:</th>      <td> 17918</td>      <th>  AIC:               </th> <td>1.595e+05</td>\n",
       "</tr>\n",
       "<tr>\n",
       "  <th>Df Residuals:</th>          <td> 17916</td>      <th>  BIC:               </th> <td>1.595e+05</td>\n",
       "</tr>\n",
       "<tr>\n",
       "  <th>Df Model:</th>              <td>     1</td>      <th>                     </th>     <td> </td>    \n",
       "</tr>\n",
       "<tr>\n",
       "  <th>Covariance Type:</th>      <td>nonrobust</td>    <th>                     </th>     <td> </td>    \n",
       "</tr>\n",
       "</table>\n",
       "<table class=\"simpletable\">\n",
       "<tr>\n",
       "         <td></td>           <th>coef</th>     <th>std err</th>      <th>t</th>      <th>P>|t|</th>  <th>[0.025</th>    <th>0.975]</th>  \n",
       "</tr>\n",
       "<tr>\n",
       "  <th>Intercept</th>      <td>  -35.5096</td> <td>    0.920</td> <td>  -38.586</td> <td> 0.000</td> <td>  -37.313</td> <td>  -33.706</td>\n",
       "</tr>\n",
       "<tr>\n",
       "  <th>Special_Score2</th> <td>    0.0284</td> <td>    0.001</td> <td>   50.040</td> <td> 0.000</td> <td>    0.027</td> <td>    0.030</td>\n",
       "</tr>\n",
       "</table>\n",
       "<table class=\"simpletable\">\n",
       "<tr>\n",
       "  <th>Omnibus:</th>       <td>24662.391</td> <th>  Durbin-Watson:     </th>  <td>   0.570</td>  \n",
       "</tr>\n",
       "<tr>\n",
       "  <th>Prob(Omnibus):</th>  <td> 0.000</td>   <th>  Jarque-Bera (JB):  </th> <td>8551372.279</td>\n",
       "</tr>\n",
       "<tr>\n",
       "  <th>Skew:</th>           <td> 7.930</td>   <th>  Prob(JB):          </th>  <td>    0.00</td>  \n",
       "</tr>\n",
       "<tr>\n",
       "  <th>Kurtosis:</th>       <td>108.842</td>  <th>  Cond. No.          </th>  <td>9.63e+03</td>  \n",
       "</tr>\n",
       "</table><br/><br/>Warnings:<br/>[1] Standard Errors assume that the covariance matrix of the errors is correctly specified.<br/>[2] The condition number is large, 9.63e+03. This might indicate that there are<br/>strong multicollinearity or other numerical problems."
      ],
      "text/plain": [
       "<class 'statsmodels.iolib.summary.Summary'>\n",
       "\"\"\"\n",
       "                            OLS Regression Results                            \n",
       "==============================================================================\n",
       "Dep. Variable:                   Wage   R-squared:                       0.123\n",
       "Model:                            OLS   Adj. R-squared:                  0.123\n",
       "Method:                 Least Squares   F-statistic:                     2504.\n",
       "Date:                Mon, 15 Mar 2021   Prob (F-statistic):               0.00\n",
       "Time:                        00:25:33   Log-Likelihood:                -79753.\n",
       "No. Observations:               17918   AIC:                         1.595e+05\n",
       "Df Residuals:                   17916   BIC:                         1.595e+05\n",
       "Df Model:                           1                                         \n",
       "Covariance Type:            nonrobust                                         \n",
       "==================================================================================\n",
       "                     coef    std err          t      P>|t|      [0.025      0.975]\n",
       "----------------------------------------------------------------------------------\n",
       "Intercept        -35.5096      0.920    -38.586      0.000     -37.313     -33.706\n",
       "Special_Score2     0.0284      0.001     50.040      0.000       0.027       0.030\n",
       "==============================================================================\n",
       "Omnibus:                    24662.391   Durbin-Watson:                   0.570\n",
       "Prob(Omnibus):                  0.000   Jarque-Bera (JB):          8551372.279\n",
       "Skew:                           7.930   Prob(JB):                         0.00\n",
       "Kurtosis:                     108.842   Cond. No.                     9.63e+03\n",
       "==============================================================================\n",
       "\n",
       "Warnings:\n",
       "[1] Standard Errors assume that the covariance matrix of the errors is correctly specified.\n",
       "[2] The condition number is large, 9.63e+03. This might indicate that there are\n",
       "strong multicollinearity or other numerical problems.\n",
       "\"\"\""
      ]
     },
     "execution_count": 158,
     "metadata": {},
     "output_type": "execute_result"
    }
   ],
   "source": [
    "im_model2 = smf.ols(formula = 'Wage~Special_Score2',data = df_all).fit()\n",
    "im_model2.summary()"
   ]
  },
  {
   "cell_type": "code",
   "execution_count": 159,
   "metadata": {},
   "outputs": [
    {
     "data": {
      "text/html": [
       "<table class=\"simpletable\">\n",
       "<caption>OLS Regression Results</caption>\n",
       "<tr>\n",
       "  <th>Dep. Variable:</th>          <td>Wage</td>       <th>  R-squared:         </th> <td>   0.127</td> \n",
       "</tr>\n",
       "<tr>\n",
       "  <th>Model:</th>                   <td>OLS</td>       <th>  Adj. R-squared:    </th> <td>   0.127</td> \n",
       "</tr>\n",
       "<tr>\n",
       "  <th>Method:</th>             <td>Least Squares</td>  <th>  F-statistic:       </th> <td>   2609.</td> \n",
       "</tr>\n",
       "<tr>\n",
       "  <th>Date:</th>             <td>Mon, 15 Mar 2021</td> <th>  Prob (F-statistic):</th>  <td>  0.00</td>  \n",
       "</tr>\n",
       "<tr>\n",
       "  <th>Time:</th>                 <td>00:25:36</td>     <th>  Log-Likelihood:    </th> <td> -79707.</td> \n",
       "</tr>\n",
       "<tr>\n",
       "  <th>No. Observations:</th>      <td> 17918</td>      <th>  AIC:               </th> <td>1.594e+05</td>\n",
       "</tr>\n",
       "<tr>\n",
       "  <th>Df Residuals:</th>          <td> 17916</td>      <th>  BIC:               </th> <td>1.594e+05</td>\n",
       "</tr>\n",
       "<tr>\n",
       "  <th>Df Model:</th>              <td>     1</td>      <th>                     </th>     <td> </td>    \n",
       "</tr>\n",
       "<tr>\n",
       "  <th>Covariance Type:</th>      <td>nonrobust</td>    <th>                     </th>     <td> </td>    \n",
       "</tr>\n",
       "</table>\n",
       "<table class=\"simpletable\">\n",
       "<tr>\n",
       "         <td></td>           <th>coef</th>     <th>std err</th>      <th>t</th>      <th>P>|t|</th>  <th>[0.025</th>    <th>0.975]</th>  \n",
       "</tr>\n",
       "<tr>\n",
       "  <th>Intercept</th>      <td>  -36.5472</td> <td>    0.922</td> <td>  -39.635</td> <td> 0.000</td> <td>  -38.355</td> <td>  -34.740</td>\n",
       "</tr>\n",
       "<tr>\n",
       "  <th>Special_Score3</th> <td>    0.0280</td> <td>    0.001</td> <td>   51.076</td> <td> 0.000</td> <td>    0.027</td> <td>    0.029</td>\n",
       "</tr>\n",
       "</table>\n",
       "<table class=\"simpletable\">\n",
       "<tr>\n",
       "  <th>Omnibus:</th>       <td>24672.096</td> <th>  Durbin-Watson:     </th>  <td>   0.573</td>  \n",
       "</tr>\n",
       "<tr>\n",
       "  <th>Prob(Omnibus):</th>  <td> 0.000</td>   <th>  Jarque-Bera (JB):  </th> <td>8596847.734</td>\n",
       "</tr>\n",
       "<tr>\n",
       "  <th>Skew:</th>           <td> 7.934</td>   <th>  Prob(JB):          </th>  <td>    0.00</td>  \n",
       "</tr>\n",
       "<tr>\n",
       "  <th>Kurtosis:</th>       <td>109.128</td>  <th>  Cond. No.          </th>  <td>1.00e+04</td>  \n",
       "</tr>\n",
       "</table><br/><br/>Warnings:<br/>[1] Standard Errors assume that the covariance matrix of the errors is correctly specified.<br/>[2] The condition number is large,  1e+04. This might indicate that there are<br/>strong multicollinearity or other numerical problems."
      ],
      "text/plain": [
       "<class 'statsmodels.iolib.summary.Summary'>\n",
       "\"\"\"\n",
       "                            OLS Regression Results                            \n",
       "==============================================================================\n",
       "Dep. Variable:                   Wage   R-squared:                       0.127\n",
       "Model:                            OLS   Adj. R-squared:                  0.127\n",
       "Method:                 Least Squares   F-statistic:                     2609.\n",
       "Date:                Mon, 15 Mar 2021   Prob (F-statistic):               0.00\n",
       "Time:                        00:25:36   Log-Likelihood:                -79707.\n",
       "No. Observations:               17918   AIC:                         1.594e+05\n",
       "Df Residuals:                   17916   BIC:                         1.594e+05\n",
       "Df Model:                           1                                         \n",
       "Covariance Type:            nonrobust                                         \n",
       "==================================================================================\n",
       "                     coef    std err          t      P>|t|      [0.025      0.975]\n",
       "----------------------------------------------------------------------------------\n",
       "Intercept        -36.5472      0.922    -39.635      0.000     -38.355     -34.740\n",
       "Special_Score3     0.0280      0.001     51.076      0.000       0.027       0.029\n",
       "==============================================================================\n",
       "Omnibus:                    24672.096   Durbin-Watson:                   0.573\n",
       "Prob(Omnibus):                  0.000   Jarque-Bera (JB):          8596847.734\n",
       "Skew:                           7.934   Prob(JB):                         0.00\n",
       "Kurtosis:                     109.128   Cond. No.                     1.00e+04\n",
       "==============================================================================\n",
       "\n",
       "Warnings:\n",
       "[1] Standard Errors assume that the covariance matrix of the errors is correctly specified.\n",
       "[2] The condition number is large,  1e+04. This might indicate that there are\n",
       "strong multicollinearity or other numerical problems.\n",
       "\"\"\""
      ]
     },
     "execution_count": 159,
     "metadata": {},
     "output_type": "execute_result"
    }
   ],
   "source": [
    "im_model3 = smf.ols(formula = 'Wage~Special_Score3',data = df_all).fit()\n",
    "im_model3.summary()"
   ]
  },
  {
   "cell_type": "code",
   "execution_count": 160,
   "metadata": {},
   "outputs": [
    {
     "data": {
      "text/html": [
       "<table class=\"simpletable\">\n",
       "<caption>OLS Regression Results</caption>\n",
       "<tr>\n",
       "  <th>Dep. Variable:</th>          <td>Wage</td>       <th>  R-squared:         </th> <td>   0.128</td> \n",
       "</tr>\n",
       "<tr>\n",
       "  <th>Model:</th>                   <td>OLS</td>       <th>  Adj. R-squared:    </th> <td>   0.128</td> \n",
       "</tr>\n",
       "<tr>\n",
       "  <th>Method:</th>             <td>Least Squares</td>  <th>  F-statistic:       </th> <td>   2634.</td> \n",
       "</tr>\n",
       "<tr>\n",
       "  <th>Date:</th>             <td>Mon, 15 Mar 2021</td> <th>  Prob (F-statistic):</th>  <td>  0.00</td>  \n",
       "</tr>\n",
       "<tr>\n",
       "  <th>Time:</th>                 <td>00:25:38</td>     <th>  Log-Likelihood:    </th> <td> -79696.</td> \n",
       "</tr>\n",
       "<tr>\n",
       "  <th>No. Observations:</th>      <td> 17918</td>      <th>  AIC:               </th> <td>1.594e+05</td>\n",
       "</tr>\n",
       "<tr>\n",
       "  <th>Df Residuals:</th>          <td> 17916</td>      <th>  BIC:               </th> <td>1.594e+05</td>\n",
       "</tr>\n",
       "<tr>\n",
       "  <th>Df Model:</th>              <td>     1</td>      <th>                     </th>     <td> </td>    \n",
       "</tr>\n",
       "<tr>\n",
       "  <th>Covariance Type:</th>      <td>nonrobust</td>    <th>                     </th>     <td> </td>    \n",
       "</tr>\n",
       "</table>\n",
       "<table class=\"simpletable\">\n",
       "<tr>\n",
       "         <td></td>           <th>coef</th>     <th>std err</th>      <th>t</th>      <th>P>|t|</th>  <th>[0.025</th>    <th>0.975]</th>  \n",
       "</tr>\n",
       "<tr>\n",
       "  <th>Intercept</th>      <td>  -38.1695</td> <td>    0.949</td> <td>  -40.222</td> <td> 0.000</td> <td>  -40.030</td> <td>  -36.309</td>\n",
       "</tr>\n",
       "<tr>\n",
       "  <th>Special_Score4</th> <td>    0.0288</td> <td>    0.001</td> <td>   51.321</td> <td> 0.000</td> <td>    0.028</td> <td>    0.030</td>\n",
       "</tr>\n",
       "</table>\n",
       "<table class=\"simpletable\">\n",
       "<tr>\n",
       "  <th>Omnibus:</th>       <td>24668.557</td> <th>  Durbin-Watson:     </th>  <td>   0.573</td>  \n",
       "</tr>\n",
       "<tr>\n",
       "  <th>Prob(Omnibus):</th>  <td> 0.000</td>   <th>  Jarque-Bera (JB):  </th> <td>8597885.444</td>\n",
       "</tr>\n",
       "<tr>\n",
       "  <th>Skew:</th>           <td> 7.931</td>   <th>  Prob(JB):          </th>  <td>    0.00</td>  \n",
       "</tr>\n",
       "<tr>\n",
       "  <th>Kurtosis:</th>       <td>109.135</td>  <th>  Cond. No.          </th>  <td>1.04e+04</td>  \n",
       "</tr>\n",
       "</table><br/><br/>Warnings:<br/>[1] Standard Errors assume that the covariance matrix of the errors is correctly specified.<br/>[2] The condition number is large, 1.04e+04. This might indicate that there are<br/>strong multicollinearity or other numerical problems."
      ],
      "text/plain": [
       "<class 'statsmodels.iolib.summary.Summary'>\n",
       "\"\"\"\n",
       "                            OLS Regression Results                            \n",
       "==============================================================================\n",
       "Dep. Variable:                   Wage   R-squared:                       0.128\n",
       "Model:                            OLS   Adj. R-squared:                  0.128\n",
       "Method:                 Least Squares   F-statistic:                     2634.\n",
       "Date:                Mon, 15 Mar 2021   Prob (F-statistic):               0.00\n",
       "Time:                        00:25:38   Log-Likelihood:                -79696.\n",
       "No. Observations:               17918   AIC:                         1.594e+05\n",
       "Df Residuals:                   17916   BIC:                         1.594e+05\n",
       "Df Model:                           1                                         \n",
       "Covariance Type:            nonrobust                                         \n",
       "==================================================================================\n",
       "                     coef    std err          t      P>|t|      [0.025      0.975]\n",
       "----------------------------------------------------------------------------------\n",
       "Intercept        -38.1695      0.949    -40.222      0.000     -40.030     -36.309\n",
       "Special_Score4     0.0288      0.001     51.321      0.000       0.028       0.030\n",
       "==============================================================================\n",
       "Omnibus:                    24668.557   Durbin-Watson:                   0.573\n",
       "Prob(Omnibus):                  0.000   Jarque-Bera (JB):          8597885.444\n",
       "Skew:                           7.931   Prob(JB):                         0.00\n",
       "Kurtosis:                     109.135   Cond. No.                     1.04e+04\n",
       "==============================================================================\n",
       "\n",
       "Warnings:\n",
       "[1] Standard Errors assume that the covariance matrix of the errors is correctly specified.\n",
       "[2] The condition number is large, 1.04e+04. This might indicate that there are\n",
       "strong multicollinearity or other numerical problems.\n",
       "\"\"\""
      ]
     },
     "execution_count": 160,
     "metadata": {},
     "output_type": "execute_result"
    }
   ],
   "source": [
    "im_model4 = smf.ols(formula = 'Wage~Special_Score4',data = df_all).fit()\n",
    "im_model4.summary()"
   ]
  },
  {
   "cell_type": "code",
   "execution_count": 161,
   "metadata": {},
   "outputs": [
    {
     "data": {
      "text/html": [
       "<table class=\"simpletable\">\n",
       "<caption>OLS Regression Results</caption>\n",
       "<tr>\n",
       "  <th>Dep. Variable:</th>          <td>Wage</td>       <th>  R-squared:         </th> <td>   0.133</td> \n",
       "</tr>\n",
       "<tr>\n",
       "  <th>Model:</th>                   <td>OLS</td>       <th>  Adj. R-squared:    </th> <td>   0.132</td> \n",
       "</tr>\n",
       "<tr>\n",
       "  <th>Method:</th>             <td>Least Squares</td>  <th>  F-statistic:       </th> <td>   2737.</td> \n",
       "</tr>\n",
       "<tr>\n",
       "  <th>Date:</th>             <td>Mon, 15 Mar 2021</td> <th>  Prob (F-statistic):</th>  <td>  0.00</td>  \n",
       "</tr>\n",
       "<tr>\n",
       "  <th>Time:</th>                 <td>00:25:43</td>     <th>  Log-Likelihood:    </th> <td> -79652.</td> \n",
       "</tr>\n",
       "<tr>\n",
       "  <th>No. Observations:</th>      <td> 17918</td>      <th>  AIC:               </th> <td>1.593e+05</td>\n",
       "</tr>\n",
       "<tr>\n",
       "  <th>Df Residuals:</th>          <td> 17916</td>      <th>  BIC:               </th> <td>1.593e+05</td>\n",
       "</tr>\n",
       "<tr>\n",
       "  <th>Df Model:</th>              <td>     1</td>      <th>                     </th>     <td> </td>    \n",
       "</tr>\n",
       "<tr>\n",
       "  <th>Covariance Type:</th>      <td>nonrobust</td>    <th>                     </th>     <td> </td>    \n",
       "</tr>\n",
       "</table>\n",
       "<table class=\"simpletable\">\n",
       "<tr>\n",
       "         <td></td>           <th>coef</th>     <th>std err</th>      <th>t</th>      <th>P>|t|</th>  <th>[0.025</th>    <th>0.975]</th>  \n",
       "</tr>\n",
       "<tr>\n",
       "  <th>Intercept</th>      <td>  -39.1363</td> <td>    0.950</td> <td>  -41.211</td> <td> 0.000</td> <td>  -40.998</td> <td>  -37.275</td>\n",
       "</tr>\n",
       "<tr>\n",
       "  <th>Special_Score5</th> <td>    0.0284</td> <td>    0.001</td> <td>   52.312</td> <td> 0.000</td> <td>    0.027</td> <td>    0.029</td>\n",
       "</tr>\n",
       "</table>\n",
       "<table class=\"simpletable\">\n",
       "<tr>\n",
       "  <th>Omnibus:</th>       <td>24678.400</td> <th>  Durbin-Watson:     </th>  <td>   0.577</td>  \n",
       "</tr>\n",
       "<tr>\n",
       "  <th>Prob(Omnibus):</th>  <td> 0.000</td>   <th>  Jarque-Bera (JB):  </th> <td>8643037.397</td>\n",
       "</tr>\n",
       "<tr>\n",
       "  <th>Skew:</th>           <td> 7.936</td>   <th>  Prob(JB):          </th>  <td>    0.00</td>  \n",
       "</tr>\n",
       "<tr>\n",
       "  <th>Kurtosis:</th>       <td>109.418</td>  <th>  Cond. No.          </th>  <td>1.08e+04</td>  \n",
       "</tr>\n",
       "</table><br/><br/>Warnings:<br/>[1] Standard Errors assume that the covariance matrix of the errors is correctly specified.<br/>[2] The condition number is large, 1.08e+04. This might indicate that there are<br/>strong multicollinearity or other numerical problems."
      ],
      "text/plain": [
       "<class 'statsmodels.iolib.summary.Summary'>\n",
       "\"\"\"\n",
       "                            OLS Regression Results                            \n",
       "==============================================================================\n",
       "Dep. Variable:                   Wage   R-squared:                       0.133\n",
       "Model:                            OLS   Adj. R-squared:                  0.132\n",
       "Method:                 Least Squares   F-statistic:                     2737.\n",
       "Date:                Mon, 15 Mar 2021   Prob (F-statistic):               0.00\n",
       "Time:                        00:25:43   Log-Likelihood:                -79652.\n",
       "No. Observations:               17918   AIC:                         1.593e+05\n",
       "Df Residuals:                   17916   BIC:                         1.593e+05\n",
       "Df Model:                           1                                         \n",
       "Covariance Type:            nonrobust                                         \n",
       "==================================================================================\n",
       "                     coef    std err          t      P>|t|      [0.025      0.975]\n",
       "----------------------------------------------------------------------------------\n",
       "Intercept        -39.1363      0.950    -41.211      0.000     -40.998     -37.275\n",
       "Special_Score5     0.0284      0.001     52.312      0.000       0.027       0.029\n",
       "==============================================================================\n",
       "Omnibus:                    24678.400   Durbin-Watson:                   0.577\n",
       "Prob(Omnibus):                  0.000   Jarque-Bera (JB):          8643037.397\n",
       "Skew:                           7.936   Prob(JB):                         0.00\n",
       "Kurtosis:                     109.418   Cond. No.                     1.08e+04\n",
       "==============================================================================\n",
       "\n",
       "Warnings:\n",
       "[1] Standard Errors assume that the covariance matrix of the errors is correctly specified.\n",
       "[2] The condition number is large, 1.08e+04. This might indicate that there are\n",
       "strong multicollinearity or other numerical problems.\n",
       "\"\"\""
      ]
     },
     "execution_count": 161,
     "metadata": {},
     "output_type": "execute_result"
    }
   ],
   "source": [
    "im_model5 = smf.ols(formula = 'Wage~Special_Score5',data = df_all).fit()\n",
    "im_model5.summary()"
   ]
  },
  {
   "cell_type": "code",
   "execution_count": 186,
   "metadata": {},
   "outputs": [],
   "source": [
    "df_all.drop([ 'LS', 'ST', 'RS', 'LW', 'LF', 'CF', 'RF', 'RW',\n",
    "       'LAM', 'CAM', 'RAM', 'LM', 'LCM', 'CM', 'RCM', 'RM', 'LWB', 'LDM',\n",
    "       'CDM', 'RDM', 'RWB', 'LB', 'LCB', 'CB', 'RCB', 'RB', 'Crossing',\n",
    "       'Finishing', 'HeadingAccuracy', 'ShortPassing', 'Volleys', 'Dribbling',\n",
    "       'Curve', 'FKAccuracy', 'LongPassing', 'BallControl', 'Acceleration',\n",
    "       'SprintSpeed', 'Agility', 'Reactions', 'Balance', 'ShotPower',\n",
    "       'Jumping', 'Stamina', 'Strength', 'LongShots', 'Aggression',\n",
    "       'Interceptions', 'Positioning', 'Vision', 'Penalties', \n",
    "       'Marking', 'StandingTackle', 'SlidingTackle', 'GKDiving', 'GKHandling',\n",
    "       'GKKicking', 'GKPositioning', 'GKReflexes'], axis=1, inplace=True)"
   ]
  },
  {
   "cell_type": "code",
   "execution_count": 187,
   "metadata": {},
   "outputs": [
    {
     "data": {
      "text/plain": [
       "Index(['Name', 'Age', 'Overall', 'Potential', 'Club', 'Value', 'Wage',\n",
       "       'Club_4W', 'Club_4V', 'Position_Class', 'Special',\n",
       "       'International Reputation', 'Weak Foot', 'Skill Moves', 'Real Face',\n",
       "       'Position', 'Jersey Number', 'Joined', 'Loaned From',\n",
       "       'Contract Valid Until', 'Composure', 'Loaned', 'Age_C', 'Over_C',\n",
       "       'Position_Score', 'Special_Score1', 'Special_Score2', 'Special_Score3',\n",
       "       'Special_Score4', 'Special_Score5', 'Special_Score6'],\n",
       "      dtype='object')"
      ]
     },
     "execution_count": 187,
     "metadata": {},
     "output_type": "execute_result"
    }
   ],
   "source": [
    "df_all.columns"
   ]
  },
  {
   "cell_type": "code",
   "execution_count": 189,
   "metadata": {},
   "outputs": [
    {
     "data": {
      "text/plain": [
       "array(['Yes', 'No'], dtype=object)"
      ]
     },
     "execution_count": 189,
     "metadata": {},
     "output_type": "execute_result"
    }
   ],
   "source": [
    "df_all['Real Face'].unique()"
   ]
  },
  {
   "cell_type": "code",
   "execution_count": 199,
   "metadata": {},
   "outputs": [],
   "source": [
    "df_all['Real_Face']=df_all['Real Face']\n",
    "df_all.drop('Real Face', axis=1, inplace=True)"
   ]
  },
  {
   "cell_type": "code",
   "execution_count": 200,
   "metadata": {},
   "outputs": [],
   "source": [
    "df_all['Real_Face'].replace({'Yes':1, 'No':0},inplace= True)"
   ]
  },
  {
   "cell_type": "code",
   "execution_count": 231,
   "metadata": {},
   "outputs": [],
   "source": [
    "df_all.to_csv('dataset/fifa_0315.csv')"
   ]
  },
  {
   "cell_type": "code",
   "execution_count": 202,
   "metadata": {},
   "outputs": [
    {
     "data": {
      "text/html": [
       "<table class=\"simpletable\">\n",
       "<caption>OLS Regression Results</caption>\n",
       "<tr>\n",
       "  <th>Dep. Variable:</th>          <td>Wage</td>       <th>  R-squared:         </th> <td>   0.246</td> \n",
       "</tr>\n",
       "<tr>\n",
       "  <th>Model:</th>                   <td>OLS</td>       <th>  Adj. R-squared:    </th> <td>   0.246</td> \n",
       "</tr>\n",
       "<tr>\n",
       "  <th>Method:</th>             <td>Least Squares</td>  <th>  F-statistic:       </th> <td>   5832.</td> \n",
       "</tr>\n",
       "<tr>\n",
       "  <th>Date:</th>             <td>Mon, 15 Mar 2021</td> <th>  Prob (F-statistic):</th>  <td>  0.00</td>  \n",
       "</tr>\n",
       "<tr>\n",
       "  <th>Time:</th>                 <td>01:17:48</td>     <th>  Log-Likelihood:    </th> <td> -78401.</td> \n",
       "</tr>\n",
       "<tr>\n",
       "  <th>No. Observations:</th>      <td> 17918</td>      <th>  AIC:               </th> <td>1.568e+05</td>\n",
       "</tr>\n",
       "<tr>\n",
       "  <th>Df Residuals:</th>          <td> 17916</td>      <th>  BIC:               </th> <td>1.568e+05</td>\n",
       "</tr>\n",
       "<tr>\n",
       "  <th>Df Model:</th>              <td>     1</td>      <th>                     </th>     <td> </td>    \n",
       "</tr>\n",
       "<tr>\n",
       "  <th>Covariance Type:</th>      <td>nonrobust</td>    <th>                     </th>     <td> </td>    \n",
       "</tr>\n",
       "</table>\n",
       "<table class=\"simpletable\">\n",
       "<tr>\n",
       "      <td></td>         <th>coef</th>     <th>std err</th>      <th>t</th>      <th>P>|t|</th>  <th>[0.025</th>    <th>0.975]</th>  \n",
       "</tr>\n",
       "<tr>\n",
       "  <th>Intercept</th> <td>    6.3845</td> <td>    0.151</td> <td>   42.334</td> <td> 0.000</td> <td>    6.089</td> <td>    6.680</td>\n",
       "</tr>\n",
       "<tr>\n",
       "  <th>Real_Face</th> <td>   37.9075</td> <td>    0.496</td> <td>   76.368</td> <td> 0.000</td> <td>   36.935</td> <td>   38.880</td>\n",
       "</tr>\n",
       "</table>\n",
       "<table class=\"simpletable\">\n",
       "<tr>\n",
       "  <th>Omnibus:</th>       <td>24148.219</td> <th>  Durbin-Watson:     </th>  <td>   0.854</td>  \n",
       "</tr>\n",
       "<tr>\n",
       "  <th>Prob(Omnibus):</th>  <td> 0.000</td>   <th>  Jarque-Bera (JB):  </th> <td>9516248.892</td>\n",
       "</tr>\n",
       "<tr>\n",
       "  <th>Skew:</th>           <td> 7.538</td>   <th>  Prob(JB):          </th>  <td>    0.00</td>  \n",
       "</tr>\n",
       "<tr>\n",
       "  <th>Kurtosis:</th>       <td>114.889</td>  <th>  Cond. No.          </th>  <td>    3.49</td>  \n",
       "</tr>\n",
       "</table><br/><br/>Warnings:<br/>[1] Standard Errors assume that the covariance matrix of the errors is correctly specified."
      ],
      "text/plain": [
       "<class 'statsmodels.iolib.summary.Summary'>\n",
       "\"\"\"\n",
       "                            OLS Regression Results                            \n",
       "==============================================================================\n",
       "Dep. Variable:                   Wage   R-squared:                       0.246\n",
       "Model:                            OLS   Adj. R-squared:                  0.246\n",
       "Method:                 Least Squares   F-statistic:                     5832.\n",
       "Date:                Mon, 15 Mar 2021   Prob (F-statistic):               0.00\n",
       "Time:                        01:17:48   Log-Likelihood:                -78401.\n",
       "No. Observations:               17918   AIC:                         1.568e+05\n",
       "Df Residuals:                   17916   BIC:                         1.568e+05\n",
       "Df Model:                           1                                         \n",
       "Covariance Type:            nonrobust                                         \n",
       "==============================================================================\n",
       "                 coef    std err          t      P>|t|      [0.025      0.975]\n",
       "------------------------------------------------------------------------------\n",
       "Intercept      6.3845      0.151     42.334      0.000       6.089       6.680\n",
       "Real_Face     37.9075      0.496     76.368      0.000      36.935      38.880\n",
       "==============================================================================\n",
       "Omnibus:                    24148.219   Durbin-Watson:                   0.854\n",
       "Prob(Omnibus):                  0.000   Jarque-Bera (JB):          9516248.892\n",
       "Skew:                           7.538   Prob(JB):                         0.00\n",
       "Kurtosis:                     114.889   Cond. No.                         3.49\n",
       "==============================================================================\n",
       "\n",
       "Warnings:\n",
       "[1] Standard Errors assume that the covariance matrix of the errors is correctly specified.\n",
       "\"\"\""
      ]
     },
     "execution_count": 202,
     "metadata": {},
     "output_type": "execute_result"
    }
   ],
   "source": [
    "im_model6 = smf.ols(formula = 'Wage~Real_Face',data = df_all).fit()\n",
    "im_model6.summary()"
   ]
  },
  {
   "cell_type": "code",
   "execution_count": 196,
   "metadata": {},
   "outputs": [
    {
     "data": {
      "text/plain": [
       "count    1654.000000\n",
       "mean       44.292019\n",
       "std        55.096901\n",
       "min         1.000000\n",
       "25%        10.000000\n",
       "50%        28.000000\n",
       "75%        53.000000\n",
       "max       565.000000\n",
       "Name: Wage, dtype: float64"
      ]
     },
     "execution_count": 196,
     "metadata": {},
     "output_type": "execute_result"
    }
   ],
   "source": [
    "is_face=df_all[df_all['Real Face']=='Yes']\n",
    "is_face.Wage.describe()"
   ]
  },
  {
   "cell_type": "code",
   "execution_count": null,
   "metadata": {},
   "outputs": [],
   "source": []
  },
  {
   "cell_type": "code",
   "execution_count": 225,
   "metadata": {},
   "outputs": [],
   "source": [
    "test=df_all[['Name', 'Club','Wage','Club_4V', 'Position_Class', 'International Reputation', 'Weak Foot','Jersey Number',\n",
    "            'Skill Moves','Loaned','Special_Score5']].sort_values(by='Wage',ascending=False).head(3000)"
   ]
  },
  {
   "cell_type": "code",
   "execution_count": 218,
   "metadata": {},
   "outputs": [
    {
     "data": {
      "text/plain": [
       "Name                        0\n",
       "Club                        0\n",
       "Wage                        0\n",
       "Club_4V                     0\n",
       "Position_Class              0\n",
       "International Reputation    0\n",
       "Weak Foot                   0\n",
       "Jersey Number               0\n",
       "Skill Moves                 0\n",
       "Loaned                      0\n",
       "Special_Score5              0\n",
       "dtype: int64"
      ]
     },
     "execution_count": 218,
     "metadata": {},
     "output_type": "execute_result"
    }
   ],
   "source": [
    "test.isnull().sum()"
   ]
  },
  {
   "cell_type": "code",
   "execution_count": 226,
   "metadata": {},
   "outputs": [
    {
     "data": {
      "text/plain": [
       "10.0    155\n",
       "9.0     143\n",
       "8.0     139\n",
       "7.0     136\n",
       "11.0    129\n",
       "       ... \n",
       "58.0      1\n",
       "72.0      1\n",
       "46.0      1\n",
       "80.0      1\n",
       "95.0      1\n",
       "Name: Jersey Number, Length: 79, dtype: int64"
      ]
     },
     "execution_count": 226,
     "metadata": {},
     "output_type": "execute_result"
    }
   ],
   "source": [
    "test['Jersey Number'].value_counts()"
   ]
  },
  {
   "cell_type": "code",
   "execution_count": null,
   "metadata": {},
   "outputs": [],
   "source": []
  },
  {
   "cell_type": "code",
   "execution_count": 227,
   "metadata": {
    "scrolled": false
   },
   "outputs": [
    {
     "data": {
      "text/plain": [
       "<matplotlib.axes._subplots.AxesSubplot at 0x23d8b702c70>"
      ]
     },
     "execution_count": 227,
     "metadata": {},
     "output_type": "execute_result"
    },
    {
     "data": {
      "image/png": "[encoded data removed]",
      "text/plain": [
       "<Figure size 2160x720 with 1 Axes>"
      ]
     },
     "metadata": {
      "needs_background": "light"
     },
     "output_type": "display_data"
    }
   ],
   "source": [
    "plt.figure(figsize=(30,10))\n",
    "sns.countplot(test['Jersey Number']) # 3000"
   ]
  },
  {
   "cell_type": "code",
   "execution_count": 228,
   "metadata": {},
   "outputs": [
    {
     "data": {
      "text/plain": [
       "<matplotlib.axes._subplots.AxesSubplot at 0x23d8b80b7c0>"
      ]
     },
     "execution_count": 228,
     "metadata": {},
     "output_type": "execute_result"
    },
    {
     "data": {
      "image/png": "[encoded data removed]",
      "text/plain": [
       "<Figure size 2160x720 with 1 Axes>"
      ]
     },
     "metadata": {
      "needs_background": "light"
     },
     "output_type": "display_data"
    }
   ],
   "source": [
    "plt.figure(figsize=(30,10))\n",
    "sns.distplot(test['Jersey Number']) # 3000"
   ]
  },
  {
   "cell_type": "code",
   "execution_count": 229,
   "metadata": {},
   "outputs": [
    {
     "data": {
      "text/html": [
       "<div>\n",
       "<style scoped>\n",
       "    .dataframe tbody tr th:only-of-type {\n",
       "        vertical-align: middle;\n",
       "    }\n",
       "\n",
       "    .dataframe tbody tr th {\n",
       "        vertical-align: top;\n",
       "    }\n",
       "\n",
       "    .dataframe thead th {\n",
       "        text-align: right;\n",
       "    }\n",
       "</style>\n",
       "<table border=\"1\" class=\"dataframe\">\n",
       "  <thead>\n",
       "    <tr style=\"text-align: right;\">\n",
       "      <th></th>\n",
       "      <th>Wage</th>\n",
       "    </tr>\n",
       "    <tr>\n",
       "      <th>Jersey Number</th>\n",
       "      <th></th>\n",
       "    </tr>\n",
       "  </thead>\n",
       "  <tbody>\n",
       "    <tr>\n",
       "      <th>89.0</th>\n",
       "      <td>65.000000</td>\n",
       "    </tr>\n",
       "    <tr>\n",
       "      <th>92.0</th>\n",
       "      <td>63.333333</td>\n",
       "    </tr>\n",
       "    <tr>\n",
       "      <th>50.0</th>\n",
       "      <td>62.000000</td>\n",
       "    </tr>\n",
       "    <tr>\n",
       "      <th>10.0</th>\n",
       "      <td>55.683871</td>\n",
       "    </tr>\n",
       "    <tr>\n",
       "      <th>83.0</th>\n",
       "      <td>51.000000</td>\n",
       "    </tr>\n",
       "    <tr>\n",
       "      <th>9.0</th>\n",
       "      <td>49.251748</td>\n",
       "    </tr>\n",
       "    <tr>\n",
       "      <th>7.0</th>\n",
       "      <td>47.522059</td>\n",
       "    </tr>\n",
       "    <tr>\n",
       "      <th>12.0</th>\n",
       "      <td>47.345455</td>\n",
       "    </tr>\n",
       "    <tr>\n",
       "      <th>31.0</th>\n",
       "      <td>46.862069</td>\n",
       "    </tr>\n",
       "    <tr>\n",
       "      <th>21.0</th>\n",
       "      <td>45.898876</td>\n",
       "    </tr>\n",
       "  </tbody>\n",
       "</table>\n",
       "</div>"
      ],
      "text/plain": [
       "                    Wage\n",
       "Jersey Number           \n",
       "89.0           65.000000\n",
       "92.0           63.333333\n",
       "50.0           62.000000\n",
       "10.0           55.683871\n",
       "83.0           51.000000\n",
       "9.0            49.251748\n",
       "7.0            47.522059\n",
       "12.0           47.345455\n",
       "31.0           46.862069\n",
       "21.0           45.898876"
      ]
     },
     "execution_count": 229,
     "metadata": {},
     "output_type": "execute_result"
    }
   ],
   "source": [
    "pdf2= pd.pivot_table(test,\n",
    "                     index = 'Jersey Number',\n",
    "                     values ='Wage',\n",
    "                     aggfunc ='mean')\n",
    "pdf2.sort_values(by='Wage', ascending=False).head(10)"
   ]
  },
  {
   "cell_type": "code",
   "execution_count": null,
   "metadata": {},
   "outputs": [],
   "source": []
  },
  {
   "cell_type": "code",
   "execution_count": 230,
   "metadata": {},
   "outputs": [
    {
     "data": {
      "text/html": [
       "<div>\n",
       "<style scoped>\n",
       "    .dataframe tbody tr th:only-of-type {\n",
       "        vertical-align: middle;\n",
       "    }\n",
       "\n",
       "    .dataframe tbody tr th {\n",
       "        vertical-align: top;\n",
       "    }\n",
       "\n",
       "    .dataframe thead tr th {\n",
       "        text-align: left;\n",
       "    }\n",
       "\n",
       "    .dataframe thead tr:last-of-type th {\n",
       "        text-align: right;\n",
       "    }\n",
       "</style>\n",
       "<table border=\"1\" class=\"dataframe\">\n",
       "  <thead>\n",
       "    <tr>\n",
       "      <th></th>\n",
       "      <th>mean</th>\n",
       "      <th>count</th>\n",
       "    </tr>\n",
       "    <tr>\n",
       "      <th></th>\n",
       "      <th>Wage</th>\n",
       "      <th>Wage</th>\n",
       "    </tr>\n",
       "    <tr>\n",
       "      <th>Jersey Number</th>\n",
       "      <th></th>\n",
       "      <th></th>\n",
       "    </tr>\n",
       "  </thead>\n",
       "  <tbody>\n",
       "    <tr>\n",
       "      <th>1.0</th>\n",
       "      <td>44.164948</td>\n",
       "      <td>97</td>\n",
       "    </tr>\n",
       "    <tr>\n",
       "      <th>2.0</th>\n",
       "      <td>39.880000</td>\n",
       "      <td>100</td>\n",
       "    </tr>\n",
       "    <tr>\n",
       "      <th>3.0</th>\n",
       "      <td>38.461538</td>\n",
       "      <td>104</td>\n",
       "    </tr>\n",
       "    <tr>\n",
       "      <th>4.0</th>\n",
       "      <td>40.327103</td>\n",
       "      <td>107</td>\n",
       "    </tr>\n",
       "    <tr>\n",
       "      <th>5.0</th>\n",
       "      <td>38.756522</td>\n",
       "      <td>115</td>\n",
       "    </tr>\n",
       "    <tr>\n",
       "      <th>...</th>\n",
       "      <td>...</td>\n",
       "      <td>...</td>\n",
       "    </tr>\n",
       "    <tr>\n",
       "      <th>95.0</th>\n",
       "      <td>19.000000</td>\n",
       "      <td>1</td>\n",
       "    </tr>\n",
       "    <tr>\n",
       "      <th>96.0</th>\n",
       "      <td>28.500000</td>\n",
       "      <td>2</td>\n",
       "    </tr>\n",
       "    <tr>\n",
       "      <th>97.0</th>\n",
       "      <td>16.000000</td>\n",
       "      <td>1</td>\n",
       "    </tr>\n",
       "    <tr>\n",
       "      <th>98.0</th>\n",
       "      <td>21.000000</td>\n",
       "      <td>1</td>\n",
       "    </tr>\n",
       "    <tr>\n",
       "      <th>99.0</th>\n",
       "      <td>23.285714</td>\n",
       "      <td>7</td>\n",
       "    </tr>\n",
       "  </tbody>\n",
       "</table>\n",
       "<p>79 rows × 2 columns</p>\n",
       "</div>"
      ],
      "text/plain": [
       "                    mean count\n",
       "                    Wage  Wage\n",
       "Jersey Number                 \n",
       "1.0            44.164948    97\n",
       "2.0            39.880000   100\n",
       "3.0            38.461538   104\n",
       "4.0            40.327103   107\n",
       "5.0            38.756522   115\n",
       "...                  ...   ...\n",
       "95.0           19.000000     1\n",
       "96.0           28.500000     2\n",
       "97.0           16.000000     1\n",
       "98.0           21.000000     1\n",
       "99.0           23.285714     7\n",
       "\n",
       "[79 rows x 2 columns]"
      ]
     },
     "execution_count": 230,
     "metadata": {},
     "output_type": "execute_result"
    }
   ],
   "source": [
    "pdf1= pd.pivot_table(test,\n",
    "                     index = 'Jersey Number',\n",
    "                     values ='Wage',\n",
    "                     aggfunc = ['mean','count'])\n",
    "pdf1"
   ]
  },
  {
   "cell_type": "code",
   "execution_count": null,
   "metadata": {},
   "outputs": [],
   "source": []
  },
  {
   "cell_type": "code",
   "execution_count": null,
   "metadata": {},
   "outputs": [],
   "source": []
  },
  {
   "cell_type": "code",
   "execution_count": null,
   "metadata": {},
   "outputs": [],
   "source": []
  },
  {
   "cell_type": "code",
   "execution_count": null,
   "metadata": {},
   "outputs": [],
   "source": []
  }
 ],
 "metadata": {
  "colab": {
   "name": "0310 능력치살펴보기_전처리.ipynb",
   "provenance": []
  },
  "kernelspec": {
   "display_name": "Python 3",
   "language": "python",
   "name": "python3"
  },
  "language_info": {
   "codemirror_mode": {
    "name": "ipython",
    "version": 3
   },
   "file_extension": ".py",
   "mimetype": "text/x-python",
   "name": "python",
   "nbconvert_exporter": "python",
   "pygments_lexer": "ipython3",
   "version": "3.8.3"
  }
 },
 "nbformat": 4,
 "nbformat_minor": 1
}
