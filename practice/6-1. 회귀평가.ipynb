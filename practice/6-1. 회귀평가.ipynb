{
 "cells": [
  {
   "cell_type": "code",
   "execution_count": 2,
   "metadata": {
    "executionInfo": {
     "elapsed": 2347,
     "status": "ok",
     "timestamp": 1614791725996,
     "user": {
      "displayName": "이보람",
      "photoUrl": "",
      "userId": "01536695193053509639"
     },
     "user_tz": -540
    },
    "id": "RkLz5vMrFOM5"
   },
   "outputs": [],
   "source": [
    "from sklearn.model_selection import train_test_split\n",
    "from sklearn.linear_model import LinearRegression\n",
    "from sklearn.metrics import mean_squared_error , r2_score\n",
    "from sklearn.ensemble import RandomForestRegressor\n",
    "from sklearn.model_selection import cross_val_score\n",
    "import numpy as np\n",
    "import pandas as pd\n",
    "import matplotlib.pyplot as plt\n",
    "import matplotlib\n",
    "import seaborn as sns\n",
    "import warnings\n",
    "warnings.filterwarnings('ignore')"
   ]
  },
  {
   "cell_type": "code",
   "execution_count": 5,
   "metadata": {
    "colab": {
     "base_uri": "https://localhost:8080/",
     "height": 412
    },
    "executionInfo": {
     "elapsed": 1835,
     "status": "error",
     "timestamp": 1614791727776,
     "user": {
      "displayName": "이보람",
      "photoUrl": "",
      "userId": "01536695193053509639"
     },
     "user_tz": -540
    },
    "id": "7itNUsIzFONK",
    "outputId": "a295eb40-4c11-451d-e883-eefd2e498ba2"
   },
   "outputs": [
    {
     "data": {
      "text/html": [
       "<div>\n",
       "<style scoped>\n",
       "    .dataframe tbody tr th:only-of-type {\n",
       "        vertical-align: middle;\n",
       "    }\n",
       "\n",
       "    .dataframe tbody tr th {\n",
       "        vertical-align: top;\n",
       "    }\n",
       "\n",
       "    .dataframe thead th {\n",
       "        text-align: right;\n",
       "    }\n",
       "</style>\n",
       "<table border=\"1\" class=\"dataframe\">\n",
       "  <thead>\n",
       "    <tr style=\"text-align: right;\">\n",
       "      <th></th>\n",
       "      <th>Name</th>\n",
       "      <th>Age</th>\n",
       "      <th>Nation_C</th>\n",
       "      <th>Club_V</th>\n",
       "      <th>Club_N</th>\n",
       "      <th>Overall</th>\n",
       "      <th>Potential</th>\n",
       "      <th>Position_Class</th>\n",
       "      <th>Value</th>\n",
       "      <th>Wage</th>\n",
       "      <th>Special</th>\n",
       "      <th>International Reputation</th>\n",
       "      <th>Skill Moves</th>\n",
       "      <th>Joined</th>\n",
       "      <th>Loaned From</th>\n",
       "      <th>Contract Valid Until</th>\n",
       "      <th>Age_C</th>\n",
       "      <th>Over_C</th>\n",
       "      <th>Special_C</th>\n",
       "      <th>WR</th>\n",
       "    </tr>\n",
       "  </thead>\n",
       "  <tbody>\n",
       "    <tr>\n",
       "      <th>0</th>\n",
       "      <td>L. Messi</td>\n",
       "      <td>31</td>\n",
       "      <td>0</td>\n",
       "      <td>3</td>\n",
       "      <td>16</td>\n",
       "      <td>94</td>\n",
       "      <td>94</td>\n",
       "      <td>3</td>\n",
       "      <td>110500000.0</td>\n",
       "      <td>565000.0</td>\n",
       "      <td>2202</td>\n",
       "      <td>5.0</td>\n",
       "      <td>4.0</td>\n",
       "      <td>Jul 1, 2004</td>\n",
       "      <td>NaN</td>\n",
       "      <td>2021</td>\n",
       "      <td>6</td>\n",
       "      <td>18</td>\n",
       "      <td>1</td>\n",
       "      <td>2.0</td>\n",
       "    </tr>\n",
       "    <tr>\n",
       "      <th>1</th>\n",
       "      <td>Cristiano Ronaldo</td>\n",
       "      <td>33</td>\n",
       "      <td>2</td>\n",
       "      <td>3</td>\n",
       "      <td>15</td>\n",
       "      <td>94</td>\n",
       "      <td>94</td>\n",
       "      <td>3</td>\n",
       "      <td>77000000.0</td>\n",
       "      <td>405000.0</td>\n",
       "      <td>2228</td>\n",
       "      <td>5.0</td>\n",
       "      <td>5.0</td>\n",
       "      <td>Jul 10, 2018</td>\n",
       "      <td>NaN</td>\n",
       "      <td>2022</td>\n",
       "      <td>7</td>\n",
       "      <td>18</td>\n",
       "      <td>1</td>\n",
       "      <td>2.0</td>\n",
       "    </tr>\n",
       "    <tr>\n",
       "      <th>2</th>\n",
       "      <td>Neymar Jr</td>\n",
       "      <td>26</td>\n",
       "      <td>0</td>\n",
       "      <td>3</td>\n",
       "      <td>14</td>\n",
       "      <td>92</td>\n",
       "      <td>93</td>\n",
       "      <td>3</td>\n",
       "      <td>118500000.0</td>\n",
       "      <td>290000.0</td>\n",
       "      <td>2143</td>\n",
       "      <td>5.0</td>\n",
       "      <td>5.0</td>\n",
       "      <td>Aug 3, 2017</td>\n",
       "      <td>NaN</td>\n",
       "      <td>2022</td>\n",
       "      <td>4</td>\n",
       "      <td>17</td>\n",
       "      <td>1</td>\n",
       "      <td>3.0</td>\n",
       "    </tr>\n",
       "    <tr>\n",
       "      <th>3</th>\n",
       "      <td>De Gea</td>\n",
       "      <td>27</td>\n",
       "      <td>2</td>\n",
       "      <td>3</td>\n",
       "      <td>13</td>\n",
       "      <td>91</td>\n",
       "      <td>93</td>\n",
       "      <td>0</td>\n",
       "      <td>72000000.0</td>\n",
       "      <td>260000.0</td>\n",
       "      <td>1471</td>\n",
       "      <td>4.0</td>\n",
       "      <td>1.0</td>\n",
       "      <td>Jul 1, 2011</td>\n",
       "      <td>NaN</td>\n",
       "      <td>2020</td>\n",
       "      <td>5</td>\n",
       "      <td>16</td>\n",
       "      <td>0</td>\n",
       "      <td>2.0</td>\n",
       "    </tr>\n",
       "    <tr>\n",
       "      <th>4</th>\n",
       "      <td>K. De Bruyne</td>\n",
       "      <td>27</td>\n",
       "      <td>2</td>\n",
       "      <td>3</td>\n",
       "      <td>13</td>\n",
       "      <td>91</td>\n",
       "      <td>92</td>\n",
       "      <td>2</td>\n",
       "      <td>102000000.0</td>\n",
       "      <td>355000.0</td>\n",
       "      <td>2281</td>\n",
       "      <td>4.0</td>\n",
       "      <td>4.0</td>\n",
       "      <td>Aug 30, 2015</td>\n",
       "      <td>NaN</td>\n",
       "      <td>2023</td>\n",
       "      <td>5</td>\n",
       "      <td>16</td>\n",
       "      <td>1</td>\n",
       "      <td>4.0</td>\n",
       "    </tr>\n",
       "  </tbody>\n",
       "</table>\n",
       "</div>"
      ],
      "text/plain": [
       "                Name  Age  Nation_C  Club_V  Club_N  Overall  Potential  \\\n",
       "0           L. Messi   31         0       3      16       94         94   \n",
       "1  Cristiano Ronaldo   33         2       3      15       94         94   \n",
       "2          Neymar Jr   26         0       3      14       92         93   \n",
       "3             De Gea   27         2       3      13       91         93   \n",
       "4       K. De Bruyne   27         2       3      13       91         92   \n",
       "\n",
       "   Position_Class        Value      Wage  Special  International Reputation  \\\n",
       "0               3  110500000.0  565000.0     2202                       5.0   \n",
       "1               3   77000000.0  405000.0     2228                       5.0   \n",
       "2               3  118500000.0  290000.0     2143                       5.0   \n",
       "3               0   72000000.0  260000.0     1471                       4.0   \n",
       "4               2  102000000.0  355000.0     2281                       4.0   \n",
       "\n",
       "   Skill Moves        Joined Loaned From Contract Valid Until  Age_C  Over_C  \\\n",
       "0          4.0   Jul 1, 2004         NaN                 2021      6      18   \n",
       "1          5.0  Jul 10, 2018         NaN                 2022      7      18   \n",
       "2          5.0   Aug 3, 2017         NaN                 2022      4      17   \n",
       "3          1.0   Jul 1, 2011         NaN                 2020      5      16   \n",
       "4          4.0  Aug 30, 2015         NaN                 2023      5      16   \n",
       "\n",
       "   Special_C   WR  \n",
       "0          1  2.0  \n",
       "1          1  2.0  \n",
       "2          1  3.0  \n",
       "3          0  2.0  \n",
       "4          1  4.0  "
      ]
     },
     "execution_count": 5,
     "metadata": {},
     "output_type": "execute_result"
    }
   ],
   "source": [
    "df=pd.read_csv('fifa_ols.csv', index_col=0)\n",
    "df.head()"
   ]
  },
  {
   "cell_type": "code",
   "execution_count": null,
   "metadata": {
    "id": "MJjhgljXFONN",
    "outputId": "3a1b797f-b62b-41e7-c9f7-11983ac8861c"
   },
   "outputs": [
    {
     "data": {
      "text/plain": [
       "<AxesSubplot:xlabel='Value', ylabel='Density'>"
      ]
     },
     "execution_count": 72,
     "metadata": {
      "tags": []
     },
     "output_type": "execute_result"
    },
    {
     "data": {
      "image/png": "[encoded data removed]",
      "text/plain": [
       "<Figure size 432x288 with 1 Axes>"
      ]
     },
     "metadata": {
      "needs_background": "light",
      "tags": []
     },
     "output_type": "display_data"
    }
   ],
   "source": [
    "sns.distplot(df.Value)"
   ]
  },
  {
   "cell_type": "code",
   "execution_count": null,
   "metadata": {
    "id": "gLoc7-gKFONO",
    "outputId": "45e1d9d9-dfbe-4196-ad5b-5ccd645e6983"
   },
   "outputs": [
    {
     "data": {
      "text/plain": [
       "<AxesSubplot:xlabel='Value', ylabel='Density'>"
      ]
     },
     "execution_count": 80,
     "metadata": {
      "tags": []
     },
     "output_type": "execute_result"
    },
    {
     "data": {
      "image/png": "[encoded data removed]",
      "text/plain": [
       "<Figure size 432x288 with 1 Axes>"
      ]
     },
     "metadata": {
      "needs_background": "light",
      "tags": []
     },
     "output_type": "display_data"
    }
   ],
   "source": [
    "sns.distplot(np.log1p(df.Value))"
   ]
  },
  {
   "cell_type": "code",
   "execution_count": null,
   "metadata": {
    "id": "oURjMIGCFONO"
   },
   "outputs": [],
   "source": []
  },
  {
   "cell_type": "code",
   "execution_count": null,
   "metadata": {
    "id": "ylMfgvSoFONP"
   },
   "outputs": [],
   "source": []
  },
  {
   "cell_type": "code",
   "execution_count": null,
   "metadata": {
    "id": "4LSXTGHGFONQ",
    "outputId": "cf82860e-fffe-46d3-de54-f72b63f2a4c0"
   },
   "outputs": [
    {
     "data": {
      "text/plain": [
       "Index(['Name', 'Age', 'Nation_C', 'Club_V', 'Club_N', 'Overall', 'Potential',\n",
       "       'Position_Class', 'Value', 'Wage', 'Special',\n",
       "       'International Reputation', 'Skill Moves', 'Joined', 'Loaned From',\n",
       "       'Contract Valid Until', 'Age_C', 'Over_C', 'Special_C', 'WR'],\n",
       "      dtype='object')"
      ]
     },
     "execution_count": 5,
     "metadata": {
      "tags": []
     },
     "output_type": "execute_result"
    }
   ],
   "source": [
    "df.columns"
   ]
  },
  {
   "cell_type": "code",
   "execution_count": 3,
   "metadata": {
    "id": "eSTvODkNFONR",
    "outputId": "93ee9ac5-1820-4a0b-cf11-0afcb7f31bfe"
   },
   "outputs": [
    {
     "data": {
      "text/html": [
       "<div>\n",
       "<style scoped>\n",
       "    .dataframe tbody tr th:only-of-type {\n",
       "        vertical-align: middle;\n",
       "    }\n",
       "\n",
       "    .dataframe tbody tr th {\n",
       "        vertical-align: top;\n",
       "    }\n",
       "\n",
       "    .dataframe thead th {\n",
       "        text-align: right;\n",
       "    }\n",
       "</style>\n",
       "<table border=\"1\" class=\"dataframe\">\n",
       "  <thead>\n",
       "    <tr style=\"text-align: right;\">\n",
       "      <th></th>\n",
       "      <th>Club_V</th>\n",
       "      <th>Position_Class</th>\n",
       "      <th>Value</th>\n",
       "      <th>Wage</th>\n",
       "      <th>International Reputation</th>\n",
       "      <th>Age_C</th>\n",
       "      <th>Over_C</th>\n",
       "      <th>Special_C</th>\n",
       "    </tr>\n",
       "  </thead>\n",
       "  <tbody>\n",
       "    <tr>\n",
       "      <th>0</th>\n",
       "      <td>3</td>\n",
       "      <td>3</td>\n",
       "      <td>110500000.0</td>\n",
       "      <td>565000.0</td>\n",
       "      <td>5.0</td>\n",
       "      <td>6</td>\n",
       "      <td>18</td>\n",
       "      <td>1</td>\n",
       "    </tr>\n",
       "    <tr>\n",
       "      <th>1</th>\n",
       "      <td>3</td>\n",
       "      <td>3</td>\n",
       "      <td>77000000.0</td>\n",
       "      <td>405000.0</td>\n",
       "      <td>5.0</td>\n",
       "      <td>7</td>\n",
       "      <td>18</td>\n",
       "      <td>1</td>\n",
       "    </tr>\n",
       "    <tr>\n",
       "      <th>2</th>\n",
       "      <td>3</td>\n",
       "      <td>3</td>\n",
       "      <td>118500000.0</td>\n",
       "      <td>290000.0</td>\n",
       "      <td>5.0</td>\n",
       "      <td>4</td>\n",
       "      <td>17</td>\n",
       "      <td>1</td>\n",
       "    </tr>\n",
       "    <tr>\n",
       "      <th>3</th>\n",
       "      <td>3</td>\n",
       "      <td>0</td>\n",
       "      <td>72000000.0</td>\n",
       "      <td>260000.0</td>\n",
       "      <td>4.0</td>\n",
       "      <td>5</td>\n",
       "      <td>16</td>\n",
       "      <td>0</td>\n",
       "    </tr>\n",
       "    <tr>\n",
       "      <th>4</th>\n",
       "      <td>3</td>\n",
       "      <td>2</td>\n",
       "      <td>102000000.0</td>\n",
       "      <td>355000.0</td>\n",
       "      <td>4.0</td>\n",
       "      <td>5</td>\n",
       "      <td>16</td>\n",
       "      <td>1</td>\n",
       "    </tr>\n",
       "  </tbody>\n",
       "</table>\n",
       "</div>"
      ],
      "text/plain": [
       "   Club_V  Position_Class        Value      Wage  International Reputation  \\\n",
       "0       3               3  110500000.0  565000.0                       5.0   \n",
       "1       3               3   77000000.0  405000.0                       5.0   \n",
       "2       3               3  118500000.0  290000.0                       5.0   \n",
       "3       3               0   72000000.0  260000.0                       4.0   \n",
       "4       3               2  102000000.0  355000.0                       4.0   \n",
       "\n",
       "   Age_C  Over_C  Special_C  \n",
       "0      6      18          1  \n",
       "1      7      18          1  \n",
       "2      4      17          1  \n",
       "3      5      16          0  \n",
       "4      5      16          1  "
      ]
     },
     "execution_count": 3,
     "metadata": {},
     "output_type": "execute_result"
    }
   ],
   "source": [
    "# 클럽 v넣기\n",
    "df1=df[['Club_V','Position_Class', 'Value', 'Wage','International Reputation',\n",
    "       'Age_C', 'Over_C', 'Special_C']]\n",
    "df1.head()"
   ]
  },
  {
   "cell_type": "code",
   "execution_count": null,
   "metadata": {
    "id": "3fqn7Te0FONS",
    "outputId": "604221a2-4f4b-4568-e7d5-9d5662cfce5f"
   },
   "outputs": [
    {
     "data": {
      "text/plain": [
       "<AxesSubplot:>"
      ]
     },
     "execution_count": 7,
     "metadata": {
      "tags": []
     },
     "output_type": "execute_result"
    },
    {
     "data": {
      "image/png": "[encoded data removed]",
      "text/plain": [
       "<Figure size 1008x1008 with 2 Axes>"
      ]
     },
     "metadata": {
      "needs_background": "light",
      "tags": []
     },
     "output_type": "display_data"
    }
   ],
   "source": [
    "plt.figure(figsize=(14,14))\n",
    "sns.heatmap(df1.corr(),linewidths=.8, annot=True) "
   ]
  },
  {
   "cell_type": "code",
   "execution_count": null,
   "metadata": {
    "id": "z4_4xaINFONT",
    "outputId": "57d6a67b-7cc0-4dd5-edb4-391ff49fda5d"
   },
   "outputs": [
    {
     "data": {
      "text/plain": [
       "Index(['Club_V', 'Position_Class', 'Value', 'Wage', 'International Reputation',\n",
       "       'Age_C', 'Over_C', 'Special_C'],\n",
       "      dtype='object')"
      ]
     },
     "execution_count": 8,
     "metadata": {
      "tags": []
     },
     "output_type": "execute_result"
    }
   ],
   "source": [
    "df1.columns"
   ]
  },
  {
   "cell_type": "code",
   "execution_count": null,
   "metadata": {
    "id": "Gdozv47RFONU",
    "outputId": "b0053796-a2ca-41d2-c4d2-3d888e410679"
   },
   "outputs": [
    {
     "data": {
      "text/plain": [
       "Index(['Value', 'Wage', 'International Reputation', 'Club_V_0', 'Club_V_1',\n",
       "       'Club_V_2', 'Club_V_3', 'Position_Class_0', 'Position_Class_1',\n",
       "       'Position_Class_2', 'Position_Class_3', 'Age_C_1', 'Age_C_10',\n",
       "       'Age_C_11', 'Age_C_2', 'Age_C_3', 'Age_C_4', 'Age_C_5', 'Age_C_6',\n",
       "       'Age_C_7', 'Age_C_8', 'Age_C_9', 'Over_C_1', 'Over_C_10', 'Over_C_11',\n",
       "       'Over_C_12', 'Over_C_13', 'Over_C_14', 'Over_C_15', 'Over_C_16',\n",
       "       'Over_C_17', 'Over_C_18', 'Over_C_2', 'Over_C_3', 'Over_C_4',\n",
       "       'Over_C_5', 'Over_C_6', 'Over_C_7', 'Over_C_8', 'Over_C_9',\n",
       "       'Special_C_0', 'Special_C_1'],\n",
       "      dtype='object')"
      ]
     },
     "execution_count": 11,
     "metadata": {
      "tags": []
     },
     "output_type": "execute_result"
    }
   ],
   "source": [
    "df_o.columns"
   ]
  },
  {
   "cell_type": "code",
   "execution_count": null,
   "metadata": {
    "id": "BI5BtBchFONV"
   },
   "outputs": [],
   "source": [
    "# df1.Over_C=df1.Over_C.astype('float')\n",
    "# df1.Age_C=df1.Age_C.astype('float')\n",
    "# df1.Club_V=df1.Club_V.astype('float')\n",
    "# df1.Position_Class=df1.Position_Class.astype('float')\n",
    "# df1.Special_C = df1.Special_C.astype('float')"
   ]
  },
  {
   "cell_type": "code",
   "execution_count": 4,
   "metadata": {
    "id": "C6d4WHDhFONV"
   },
   "outputs": [],
   "source": [
    "# 범주화 -> 원핫인코딩\n",
    "df1.Over_C=df1.Over_C.astype('str')\n",
    "df1.Age_C=df1.Age_C.astype('str')\n",
    "df1.Club_V=df1.Club_V.astype('str')\n",
    "df1.Position_Class=df1.Position_Class.astype('str')\n",
    "df1.Special_C = df1.Special_C.astype('str')\n",
    "# df['International Reputation']=df['International Reputation'].astype('str')\n",
    "df_o=pd.get_dummies(df1)"
   ]
  },
  {
   "cell_type": "code",
   "execution_count": 5,
   "metadata": {
    "id": "Szqk4nWvFONW",
    "outputId": "9bb8c269-011e-498b-aa29-310d4726bc4c"
   },
   "outputs": [
    {
     "name": "stdout",
     "output_type": "stream",
     "text": [
      "MSE: 116657604.383, RMSE: 10800.815, r2 score: 0.842\n"
     ]
    }
   ],
   "source": [
    "X= df_o.drop(['Wage'],axis = 1)\n",
    "y= df_o['Wage']\n",
    "X_train, X_test, y_train, y_test = train_test_split(X, y,test_size=0.2, random_state=156)\n",
    "# 단순 회귀 분석 모형 생성 및 평가\n",
    "lr = LinearRegression()\n",
    "lr.fit(X_train, y_train)\n",
    "pred= lr.predict(X_test)\n",
    "mse = mean_squared_error(y_test,pred)\n",
    "rmse = np.sqrt(mse)\n",
    "r2 = r2_score(y_test,pred) # r_square = lr.score(X_test, y_test)도 같은 값\n",
    "\n",
    "print('MSE: {0:.3f}, RMSE: {1:.3f}, r2 score: {2:.3f}'.format(mse, rmse,r2))"
   ]
  },
  {
   "cell_type": "code",
   "execution_count": null,
   "metadata": {
    "id": "g7K1tdJAFONX"
   },
   "outputs": [],
   "source": [
    "Nationa 빼기 전 MSE: 116897521.259, RMSE: 10811.916, r2 score: 0.841\n",
    "Wr 빼기 전,  후 MSE: 116708754.501, RMSE: 10803.183, r2 score: 0.842\n",
    "Skill Moves  빼기 전,  후 MSE: 116658189.445, RMSE: 10800.842, r2 score: 0.842\n",
    "Potential 빼기 전,     후 MSE: 116657234.829, RMSE: 10800.798, r2 score: 0.842\n",
    "                       후 MSE: 116657604.383, RMSE: 10800.815, r2 score: 0.842"
   ]
  },
  {
   "cell_type": "code",
   "execution_count": null,
   "metadata": {
    "id": "SdfKUnEpFONX"
   },
   "outputs": [],
   "source": [
    "coef(기울기, 회귀 계수)"
   ]
  },
  {
   "cell_type": "code",
   "execution_count": 6,
   "metadata": {
    "id": "ADPI1mADFONY",
    "outputId": "bd2d8b29-a9f6-4a71-b953-79fd35545618"
   },
   "outputs": [
    {
     "data": {
      "text/plain": [
       "<matplotlib.axes._subplots.AxesSubplot at 0x15fdde68d00>"
      ]
     },
     "execution_count": 6,
     "metadata": {},
     "output_type": "execute_result"
    },
    {
     "data": {
      "image/png": "[encoded data removed]",
      "text/plain": [
       "<Figure size 720x576 with 1 Axes>"
      ]
     },
     "metadata": {
      "needs_background": "light"
     },
     "output_type": "display_data"
    }
   ],
   "source": [
    "plt.figure(figsize=(10,8))\n",
    "coef = pd.Series(lr.coef_, index=X.columns)\n",
    "coef_sort = coef.sort_values(ascending=False)\n",
    "sns.barplot(x=coef_sort.values, y = coef_sort.index)"
   ]
  },
  {
   "cell_type": "code",
   "execution_count": 7,
   "metadata": {
    "id": "y-I3VNECFONY",
    "outputId": "22e7e74b-68ff-4c80-fd16-4fd0541fc997"
   },
   "outputs": [
    {
     "name": "stdout",
     "output_type": "stream",
     "text": [
      " 5 folds 의 개별 Negative MSE scores:  [-7.32117194e+08 -3.99499190e+07 -9.54622797e+06 -4.70177699e+06\n",
      " -6.43783906e+06]\n",
      " 5 folds 의 개별 RMSE scores :  [27057.66  6320.59  3089.7   2168.36  2537.29]\n",
      " 5 folds 의 평균 RMSE : 8234.721 \n"
     ]
    }
   ],
   "source": [
    "# cross_val_score( )로 5 Fold 셋으로 MSE 를 구한 뒤 이를 기반으로 다시  RMSE 구함. \n",
    "neg_mse_scores = cross_val_score(lr, X, y, scoring=\"neg_mean_squared_error\", cv = 5)\n",
    "rmse_scores  = np.sqrt(-1 * neg_mse_scores)\n",
    "avg_rmse = np.mean(rmse_scores)\n",
    "\n",
    "# cross_val_score(scoring=\"neg_mean_squared_error\")로 반환된 값은 모두 음수 \n",
    "print(' 5 folds 의 개별 Negative MSE scores: ', np.round(neg_mse_scores, 2))\n",
    "print(' 5 folds 의 개별 RMSE scores : ', np.round(rmse_scores, 2))\n",
    "print(' 5 folds 의 평균 RMSE : {0:.3f} '.format(avg_rmse))"
   ]
  },
  {
   "cell_type": "code",
   "execution_count": 8,
   "metadata": {
    "id": "KatmGXH8FONZ"
   },
   "outputs": [],
   "source": [
    "def get_model_cv_prediction(model, X, y):\n",
    "    neg_mse_scores = cross_val_score(model, X, y, scoring=\"neg_mean_squared_error\", cv = 5)\n",
    "    rmse_scores  = np.sqrt(-1 * neg_mse_scores)\n",
    "    avg_rmse = np.mean(rmse_scores)\n",
    "    print('##### ',model.__class__.__name__ , ' #####')\n",
    "    print(' 5 교차 검증의 평균 RMSE : {0:.3f} '.format(avg_rmse))"
   ]
  },
  {
   "cell_type": "code",
   "execution_count": 9,
   "metadata": {
    "id": "tnZi_WOMFONZ",
    "outputId": "004e5ab3-84ae-474e-f63a-54957dfd2fbb"
   },
   "outputs": [
    {
     "name": "stdout",
     "output_type": "stream",
     "text": [
      "alpha =2900, 5 folds의 평균 RMSE: 7283.3056\n",
      "alpha =3300, 5 folds의 평균 RMSE: 7266.1119\n",
      "alpha =3330, 5 folds의 평균 RMSE: 7265.1244\n",
      "alpha =3350, 5 folds의 평균 RMSE: 7264.4865\n",
      "alpha =3370, 5 folds의 평균 RMSE: 7263.8644\n",
      "alpha =3400, 5 folds의 평균 RMSE: 7262.9606\n"
     ]
    }
   ],
   "source": [
    "from sklearn.linear_model import Ridge\n",
    "alphas = [2900,3300,3330,3350,3370,3400]\n",
    "for alpha in alphas:\n",
    "    ridge=Ridge(alpha=alpha)\n",
    "    neg_mse_scores = cross_val_score(ridge, X, y, scoring='neg_mean_squared_error', cv=5)\n",
    "    rmse_scores = np.sqrt(-1*neg_mse_scores)\n",
    "    avg_rmse = np.mean(rmse_scores)\n",
    "    print('alpha ={0:}, 5 folds의 평균 RMSE: {1:.4f}'.format(alpha, avg_rmse))    "
   ]
  },
  {
   "cell_type": "code",
   "execution_count": 10,
   "metadata": {
    "id": "iDb1KLDbFONa",
    "outputId": "2e5eb1bc-34a4-4c1c-eeea-dd40bddc3a69"
   },
   "outputs": [
    {
     "name": "stdout",
     "output_type": "stream",
     "text": [
      "5 folds의 개별 Negative MSE socres: [-5.88478581e+08 -4.16362375e+07 -8.55198300e+06 -2.88559816e+06\n",
      " -9.92583390e+05]\n",
      "5 folds의 개별 RMSE scores [24258.58  6452.61  2924.38  1698.7    996.28]\n",
      "5 folds의 평균 RMSE: 7266.1119\n"
     ]
    }
   ],
   "source": [
    "from sklearn.linear_model import Ridge\n",
    "ridge=Ridge(alpha=3300)\n",
    "neg_mse_scores = cross_val_score(ridge, X, y, scoring='neg_mean_squared_error', cv=5)\n",
    "rmse_scores = np.sqrt(-1*neg_mse_scores)\n",
    "avg_rmse = np.mean(rmse_scores)\n",
    "\n",
    "print('5 folds의 개별 Negative MSE socres:', np.round(neg_mse_scores,2))\n",
    "print('5 folds의 개별 RMSE scores', np.round(rmse_scores,2))\n",
    "print('5 folds의 평균 RMSE: {:.4f}'.format(avg_rmse))"
   ]
  },
  {
   "cell_type": "code",
   "execution_count": 11,
   "metadata": {
    "id": "tpQLzfohFONa"
   },
   "outputs": [],
   "source": [
    "# 라쏘 회귀\n",
    "from sklearn.linear_model import Lasso, ElasticNet\n",
    "def get_linear_reg_eval(model_name, params = None, X_data_n=None, y_target_n=None, verbose=True):\n",
    "    coeff_df = pd.DataFrame()\n",
    "    if verbose: print('######', model_name, '######')\n",
    "    for param in params:\n",
    "        if model_name == 'Ridge': model = Ridge(alpha=param)\n",
    "        elif model_name == 'Lasso': model = Lasso(alpha= param)\n",
    "        elif model_name == 'ElasticNet': model = ElasticNet(alpha=param, l1_ratio=0.7)\n",
    "        \n",
    "        neg_mse_scores= cross_val_score(model, X_data_n, y_target_n, scoring='neg_mean_squared_error', cv=5)\n",
    "        avg_rmse = np.mean(np.sqrt(-1*neg_mse_scores))\n",
    "        print('alpha {}일 때 5 폴드 세트의 평균 RMSE:{:.4f}'.format(param, avg_rmse))\n",
    "        model.fit(X, y)\n",
    "        coeff=pd.Series(data=model.coef_, index=X.columns)\n",
    "        colname='alpha:'+str(param)\n",
    "        coeff_df[colname]=coeff\n",
    "    return coeff_df"
   ]
  },
  {
   "cell_type": "code",
   "execution_count": 13,
   "metadata": {
    "id": "fv5xRraGFONb",
    "outputId": "4835d769-3681-4e32-827d-663808c60755"
   },
   "outputs": [
    {
     "name": "stdout",
     "output_type": "stream",
     "text": [
      "###### Lasso ######\n",
      "alpha 0.001일 때 5 폴드 세트의 평균 RMSE:8209.3826\n",
      "alpha 0.01일 때 5 폴드 세트의 평균 RMSE:8210.7345\n",
      "alpha 1일 때 5 폴드 세트의 평균 RMSE:8266.2696\n",
      "alpha 3일 때 5 폴드 세트의 평균 RMSE:8278.8643\n"
     ]
    },
    {
     "data": {
      "text/html": [
       "<div>\n",
       "<style scoped>\n",
       "    .dataframe tbody tr th:only-of-type {\n",
       "        vertical-align: middle;\n",
       "    }\n",
       "\n",
       "    .dataframe tbody tr th {\n",
       "        vertical-align: top;\n",
       "    }\n",
       "\n",
       "    .dataframe thead th {\n",
       "        text-align: right;\n",
       "    }\n",
       "</style>\n",
       "<table border=\"1\" class=\"dataframe\">\n",
       "  <thead>\n",
       "    <tr style=\"text-align: right;\">\n",
       "      <th></th>\n",
       "      <th>alpha:0.001</th>\n",
       "      <th>alpha:0.01</th>\n",
       "      <th>alpha:1</th>\n",
       "      <th>alpha:3</th>\n",
       "    </tr>\n",
       "  </thead>\n",
       "  <tbody>\n",
       "    <tr>\n",
       "      <th>Value</th>\n",
       "      <td>1.382455e-03</td>\n",
       "      <td>1.384892e-03</td>\n",
       "      <td>1.612184e-03</td>\n",
       "      <td>1.910370e-03</td>\n",
       "    </tr>\n",
       "    <tr>\n",
       "      <th>International Reputation</th>\n",
       "      <td>6.971860e+03</td>\n",
       "      <td>6.978100e+03</td>\n",
       "      <td>7.531335e+03</td>\n",
       "      <td>8.256959e+03</td>\n",
       "    </tr>\n",
       "    <tr>\n",
       "      <th>Club_V_0</th>\n",
       "      <td>-3.018347e+03</td>\n",
       "      <td>-2.970548e+03</td>\n",
       "      <td>-6.321902e+02</td>\n",
       "      <td>-6.276610e+02</td>\n",
       "    </tr>\n",
       "    <tr>\n",
       "      <th>Club_V_1</th>\n",
       "      <td>-2.957103e+03</td>\n",
       "      <td>-2.909112e+03</td>\n",
       "      <td>-5.630580e+02</td>\n",
       "      <td>-5.533469e+02</td>\n",
       "    </tr>\n",
       "    <tr>\n",
       "      <th>Club_V_2</th>\n",
       "      <td>-2.393241e+03</td>\n",
       "      <td>-2.345002e+03</td>\n",
       "      <td>3.249857e+00</td>\n",
       "      <td>4.578649e+00</td>\n",
       "    </tr>\n",
       "    <tr>\n",
       "      <th>Club_V_3</th>\n",
       "      <td>2.392756e+03</td>\n",
       "      <td>2.440659e+03</td>\n",
       "      <td>4.726923e+03</td>\n",
       "      <td>4.633131e+03</td>\n",
       "    </tr>\n",
       "    <tr>\n",
       "      <th>Position_Class_0</th>\n",
       "      <td>-1.449647e+03</td>\n",
       "      <td>-1.448037e+03</td>\n",
       "      <td>-1.294237e+03</td>\n",
       "      <td>-1.091061e+03</td>\n",
       "    </tr>\n",
       "    <tr>\n",
       "      <th>Position_Class_1</th>\n",
       "      <td>2.207792e+01</td>\n",
       "      <td>2.305317e+01</td>\n",
       "      <td>1.150127e+02</td>\n",
       "      <td>2.346984e+02</td>\n",
       "    </tr>\n",
       "    <tr>\n",
       "      <th>Position_Class_2</th>\n",
       "      <td>-4.909170e+02</td>\n",
       "      <td>-4.910444e+02</td>\n",
       "      <td>-5.038884e+02</td>\n",
       "      <td>-5.198720e+02</td>\n",
       "    </tr>\n",
       "    <tr>\n",
       "      <th>Position_Class_3</th>\n",
       "      <td>4.841993e+02</td>\n",
       "      <td>4.839244e+02</td>\n",
       "      <td>4.569856e+02</td>\n",
       "      <td>4.118966e+02</td>\n",
       "    </tr>\n",
       "    <tr>\n",
       "      <th>Age_C_1</th>\n",
       "      <td>-2.245080e+03</td>\n",
       "      <td>-2.224518e+03</td>\n",
       "      <td>-1.445594e+03</td>\n",
       "      <td>-1.349312e+03</td>\n",
       "    </tr>\n",
       "    <tr>\n",
       "      <th>Age_C_10</th>\n",
       "      <td>-4.319751e+03</td>\n",
       "      <td>-4.289545e+03</td>\n",
       "      <td>-2.529141e+03</td>\n",
       "      <td>-6.691269e+02</td>\n",
       "    </tr>\n",
       "    <tr>\n",
       "      <th>Age_C_11</th>\n",
       "      <td>-6.322479e+03</td>\n",
       "      <td>-6.286058e+03</td>\n",
       "      <td>-3.928994e+03</td>\n",
       "      <td>-1.160315e+03</td>\n",
       "    </tr>\n",
       "    <tr>\n",
       "      <th>Age_C_2</th>\n",
       "      <td>-7.816616e+02</td>\n",
       "      <td>-7.613941e+02</td>\n",
       "      <td>-2.735520e+01</td>\n",
       "      <td>-3.438479e+00</td>\n",
       "    </tr>\n",
       "    <tr>\n",
       "      <th>Age_C_3</th>\n",
       "      <td>-7.437834e+02</td>\n",
       "      <td>-7.233895e+02</td>\n",
       "      <td>0.000000e+00</td>\n",
       "      <td>0.000000e+00</td>\n",
       "    </tr>\n",
       "    <tr>\n",
       "      <th>Age_C_4</th>\n",
       "      <td>1.067767e+02</td>\n",
       "      <td>1.277180e+02</td>\n",
       "      <td>9.021260e+02</td>\n",
       "      <td>9.491601e+02</td>\n",
       "    </tr>\n",
       "    <tr>\n",
       "      <th>Age_C_5</th>\n",
       "      <td>5.513910e+02</td>\n",
       "      <td>5.734736e+02</td>\n",
       "      <td>1.450425e+03</td>\n",
       "      <td>1.646619e+03</td>\n",
       "    </tr>\n",
       "    <tr>\n",
       "      <th>Age_C_6</th>\n",
       "      <td>3.378065e+02</td>\n",
       "      <td>3.608338e+02</td>\n",
       "      <td>1.324582e+03</td>\n",
       "      <td>1.634767e+03</td>\n",
       "    </tr>\n",
       "    <tr>\n",
       "      <th>Age_C_7</th>\n",
       "      <td>2.174927e+02</td>\n",
       "      <td>2.418645e+02</td>\n",
       "      <td>1.332991e+03</td>\n",
       "      <td>1.814318e+03</td>\n",
       "    </tr>\n",
       "    <tr>\n",
       "      <th>Age_C_8</th>\n",
       "      <td>5.306397e+02</td>\n",
       "      <td>5.553343e+02</td>\n",
       "      <td>1.670181e+03</td>\n",
       "      <td>2.146201e+03</td>\n",
       "    </tr>\n",
       "    <tr>\n",
       "      <th>Age_C_9</th>\n",
       "      <td>-2.339343e+03</td>\n",
       "      <td>-2.314156e+03</td>\n",
       "      <td>-1.136922e+03</td>\n",
       "      <td>-5.194134e+02</td>\n",
       "    </tr>\n",
       "    <tr>\n",
       "      <th>Over_C_1</th>\n",
       "      <td>-5.158778e+03</td>\n",
       "      <td>-5.430352e+03</td>\n",
       "      <td>-1.856522e+04</td>\n",
       "      <td>-1.635476e+04</td>\n",
       "    </tr>\n",
       "    <tr>\n",
       "      <th>Over_C_10</th>\n",
       "      <td>4.491212e+04</td>\n",
       "      <td>4.453825e+04</td>\n",
       "      <td>2.195235e+04</td>\n",
       "      <td>1.142727e+04</td>\n",
       "    </tr>\n",
       "    <tr>\n",
       "      <th>Over_C_11</th>\n",
       "      <td>7.107959e+04</td>\n",
       "      <td>7.068287e+04</td>\n",
       "      <td>4.592655e+04</td>\n",
       "      <td>3.237082e+04</td>\n",
       "    </tr>\n",
       "    <tr>\n",
       "      <th>Over_C_12</th>\n",
       "      <td>8.497974e+04</td>\n",
       "      <td>8.456442e+04</td>\n",
       "      <td>5.799236e+04</td>\n",
       "      <td>4.165965e+04</td>\n",
       "    </tr>\n",
       "    <tr>\n",
       "      <th>Over_C_13</th>\n",
       "      <td>1.168867e+05</td>\n",
       "      <td>1.164580e+05</td>\n",
       "      <td>8.868589e+04</td>\n",
       "      <td>7.096981e+04</td>\n",
       "    </tr>\n",
       "    <tr>\n",
       "      <th>Over_C_14</th>\n",
       "      <td>1.029336e+05</td>\n",
       "      <td>1.024824e+05</td>\n",
       "      <td>7.253911e+04</td>\n",
       "      <td>5.160520e+04</td>\n",
       "    </tr>\n",
       "    <tr>\n",
       "      <th>Over_C_15</th>\n",
       "      <td>9.037179e+04</td>\n",
       "      <td>8.989224e+04</td>\n",
       "      <td>5.700446e+04</td>\n",
       "      <td>3.083493e+04</td>\n",
       "    </tr>\n",
       "    <tr>\n",
       "      <th>Over_C_16</th>\n",
       "      <td>2.238511e+05</td>\n",
       "      <td>2.233432e+05</td>\n",
       "      <td>1.879368e+05</td>\n",
       "      <td>1.588844e+05</td>\n",
       "    </tr>\n",
       "    <tr>\n",
       "      <th>Over_C_17</th>\n",
       "      <td>8.205631e+04</td>\n",
       "      <td>8.131170e+04</td>\n",
       "      <td>2.160868e+04</td>\n",
       "      <td>0.000000e+00</td>\n",
       "    </tr>\n",
       "    <tr>\n",
       "      <th>Over_C_18</th>\n",
       "      <td>3.111101e+05</td>\n",
       "      <td>3.105037e+05</td>\n",
       "      <td>2.650426e+05</td>\n",
       "      <td>2.186201e+05</td>\n",
       "    </tr>\n",
       "    <tr>\n",
       "      <th>Over_C_2</th>\n",
       "      <td>-4.843336e+03</td>\n",
       "      <td>-5.116888e+03</td>\n",
       "      <td>-1.841116e+04</td>\n",
       "      <td>-1.639338e+04</td>\n",
       "    </tr>\n",
       "    <tr>\n",
       "      <th>Over_C_3</th>\n",
       "      <td>-2.035567e+03</td>\n",
       "      <td>-2.313161e+03</td>\n",
       "      <td>-1.595960e+04</td>\n",
       "      <td>-1.439082e+04</td>\n",
       "    </tr>\n",
       "    <tr>\n",
       "      <th>Over_C_4</th>\n",
       "      <td>3.695299e+02</td>\n",
       "      <td>8.304034e+01</td>\n",
       "      <td>-1.434637e+04</td>\n",
       "      <td>-1.379065e+04</td>\n",
       "    </tr>\n",
       "    <tr>\n",
       "      <th>Over_C_5</th>\n",
       "      <td>2.312445e+03</td>\n",
       "      <td>2.015894e+03</td>\n",
       "      <td>-1.330446e+04</td>\n",
       "      <td>-1.390345e+04</td>\n",
       "    </tr>\n",
       "    <tr>\n",
       "      <th>Over_C_6</th>\n",
       "      <td>9.080553e+03</td>\n",
       "      <td>8.770674e+03</td>\n",
       "      <td>-7.702456e+03</td>\n",
       "      <td>-9.784743e+03</td>\n",
       "    </tr>\n",
       "    <tr>\n",
       "      <th>Over_C_7</th>\n",
       "      <td>1.317178e+04</td>\n",
       "      <td>1.284370e+04</td>\n",
       "      <td>-5.236883e+03</td>\n",
       "      <td>-9.399196e+03</td>\n",
       "    </tr>\n",
       "    <tr>\n",
       "      <th>Over_C_8</th>\n",
       "      <td>2.003016e+04</td>\n",
       "      <td>1.968424e+04</td>\n",
       "      <td>-0.000000e+00</td>\n",
       "      <td>-5.596660e+03</td>\n",
       "    </tr>\n",
       "    <tr>\n",
       "      <th>Over_C_9</th>\n",
       "      <td>3.204495e+04</td>\n",
       "      <td>3.168849e+04</td>\n",
       "      <td>1.074415e+04</td>\n",
       "      <td>2.484900e+03</td>\n",
       "    </tr>\n",
       "    <tr>\n",
       "      <th>Special_C_0</th>\n",
       "      <td>-3.175890e+03</td>\n",
       "      <td>-3.175052e+03</td>\n",
       "      <td>-3.038898e+03</td>\n",
       "      <td>-2.844237e+03</td>\n",
       "    </tr>\n",
       "    <tr>\n",
       "      <th>Special_C_1</th>\n",
       "      <td>3.799600e-13</td>\n",
       "      <td>2.115404e-10</td>\n",
       "      <td>3.171291e-12</td>\n",
       "      <td>2.849905e-11</td>\n",
       "    </tr>\n",
       "  </tbody>\n",
       "</table>\n",
       "</div>"
      ],
      "text/plain": [
       "                           alpha:0.001    alpha:0.01       alpha:1  \\\n",
       "Value                     1.382455e-03  1.384892e-03  1.612184e-03   \n",
       "International Reputation  6.971860e+03  6.978100e+03  7.531335e+03   \n",
       "Club_V_0                 -3.018347e+03 -2.970548e+03 -6.321902e+02   \n",
       "Club_V_1                 -2.957103e+03 -2.909112e+03 -5.630580e+02   \n",
       "Club_V_2                 -2.393241e+03 -2.345002e+03  3.249857e+00   \n",
       "Club_V_3                  2.392756e+03  2.440659e+03  4.726923e+03   \n",
       "Position_Class_0         -1.449647e+03 -1.448037e+03 -1.294237e+03   \n",
       "Position_Class_1          2.207792e+01  2.305317e+01  1.150127e+02   \n",
       "Position_Class_2         -4.909170e+02 -4.910444e+02 -5.038884e+02   \n",
       "Position_Class_3          4.841993e+02  4.839244e+02  4.569856e+02   \n",
       "Age_C_1                  -2.245080e+03 -2.224518e+03 -1.445594e+03   \n",
       "Age_C_10                 -4.319751e+03 -4.289545e+03 -2.529141e+03   \n",
       "Age_C_11                 -6.322479e+03 -6.286058e+03 -3.928994e+03   \n",
       "Age_C_2                  -7.816616e+02 -7.613941e+02 -2.735520e+01   \n",
       "Age_C_3                  -7.437834e+02 -7.233895e+02  0.000000e+00   \n",
       "Age_C_4                   1.067767e+02  1.277180e+02  9.021260e+02   \n",
       "Age_C_5                   5.513910e+02  5.734736e+02  1.450425e+03   \n",
       "Age_C_6                   3.378065e+02  3.608338e+02  1.324582e+03   \n",
       "Age_C_7                   2.174927e+02  2.418645e+02  1.332991e+03   \n",
       "Age_C_8                   5.306397e+02  5.553343e+02  1.670181e+03   \n",
       "Age_C_9                  -2.339343e+03 -2.314156e+03 -1.136922e+03   \n",
       "Over_C_1                 -5.158778e+03 -5.430352e+03 -1.856522e+04   \n",
       "Over_C_10                 4.491212e+04  4.453825e+04  2.195235e+04   \n",
       "Over_C_11                 7.107959e+04  7.068287e+04  4.592655e+04   \n",
       "Over_C_12                 8.497974e+04  8.456442e+04  5.799236e+04   \n",
       "Over_C_13                 1.168867e+05  1.164580e+05  8.868589e+04   \n",
       "Over_C_14                 1.029336e+05  1.024824e+05  7.253911e+04   \n",
       "Over_C_15                 9.037179e+04  8.989224e+04  5.700446e+04   \n",
       "Over_C_16                 2.238511e+05  2.233432e+05  1.879368e+05   \n",
       "Over_C_17                 8.205631e+04  8.131170e+04  2.160868e+04   \n",
       "Over_C_18                 3.111101e+05  3.105037e+05  2.650426e+05   \n",
       "Over_C_2                 -4.843336e+03 -5.116888e+03 -1.841116e+04   \n",
       "Over_C_3                 -2.035567e+03 -2.313161e+03 -1.595960e+04   \n",
       "Over_C_4                  3.695299e+02  8.304034e+01 -1.434637e+04   \n",
       "Over_C_5                  2.312445e+03  2.015894e+03 -1.330446e+04   \n",
       "Over_C_6                  9.080553e+03  8.770674e+03 -7.702456e+03   \n",
       "Over_C_7                  1.317178e+04  1.284370e+04 -5.236883e+03   \n",
       "Over_C_8                  2.003016e+04  1.968424e+04 -0.000000e+00   \n",
       "Over_C_9                  3.204495e+04  3.168849e+04  1.074415e+04   \n",
       "Special_C_0              -3.175890e+03 -3.175052e+03 -3.038898e+03   \n",
       "Special_C_1               3.799600e-13  2.115404e-10  3.171291e-12   \n",
       "\n",
       "                               alpha:3  \n",
       "Value                     1.910370e-03  \n",
       "International Reputation  8.256959e+03  \n",
       "Club_V_0                 -6.276610e+02  \n",
       "Club_V_1                 -5.533469e+02  \n",
       "Club_V_2                  4.578649e+00  \n",
       "Club_V_3                  4.633131e+03  \n",
       "Position_Class_0         -1.091061e+03  \n",
       "Position_Class_1          2.346984e+02  \n",
       "Position_Class_2         -5.198720e+02  \n",
       "Position_Class_3          4.118966e+02  \n",
       "Age_C_1                  -1.349312e+03  \n",
       "Age_C_10                 -6.691269e+02  \n",
       "Age_C_11                 -1.160315e+03  \n",
       "Age_C_2                  -3.438479e+00  \n",
       "Age_C_3                   0.000000e+00  \n",
       "Age_C_4                   9.491601e+02  \n",
       "Age_C_5                   1.646619e+03  \n",
       "Age_C_6                   1.634767e+03  \n",
       "Age_C_7                   1.814318e+03  \n",
       "Age_C_8                   2.146201e+03  \n",
       "Age_C_9                  -5.194134e+02  \n",
       "Over_C_1                 -1.635476e+04  \n",
       "Over_C_10                 1.142727e+04  \n",
       "Over_C_11                 3.237082e+04  \n",
       "Over_C_12                 4.165965e+04  \n",
       "Over_C_13                 7.096981e+04  \n",
       "Over_C_14                 5.160520e+04  \n",
       "Over_C_15                 3.083493e+04  \n",
       "Over_C_16                 1.588844e+05  \n",
       "Over_C_17                 0.000000e+00  \n",
       "Over_C_18                 2.186201e+05  \n",
       "Over_C_2                 -1.639338e+04  \n",
       "Over_C_3                 -1.439082e+04  \n",
       "Over_C_4                 -1.379065e+04  \n",
       "Over_C_5                 -1.390345e+04  \n",
       "Over_C_6                 -9.784743e+03  \n",
       "Over_C_7                 -9.399196e+03  \n",
       "Over_C_8                 -5.596660e+03  \n",
       "Over_C_9                  2.484900e+03  \n",
       "Special_C_0              -2.844237e+03  \n",
       "Special_C_1               2.849905e-11  "
      ]
     },
     "execution_count": 13,
     "metadata": {},
     "output_type": "execute_result"
    }
   ],
   "source": [
    "lasso_alphas=[0.001,0.01,1,3]\n",
    "coeff_lasso_df = get_linear_reg_eval('Lasso', params=lasso_alphas, X_data_n = X, \n",
    "                                     y_target_n = y)\n",
    "coeff_lasso_df"
   ]
  },
  {
   "cell_type": "code",
   "execution_count": null,
   "metadata": {
    "id": "BXdrkPhtFONb"
   },
   "outputs": [],
   "source": [
    "종속변수 로그화"
   ]
  },
  {
   "cell_type": "code",
   "execution_count": 14,
   "metadata": {
    "id": "B7FQwjQmFONc"
   },
   "outputs": [],
   "source": [
    "from sklearn.metrics import mean_squared_error, mean_absolute_error\n",
    "\n",
    "def rmsle(y,pred):\n",
    "    log_y = np.log1p(y)\n",
    "    log_pred=np.log1p(pred)\n",
    "    squared_error = (log_y-log_pred)**2\n",
    "    rmsle = np.sqrt(np.mean(squared_error))\n",
    "    return rmsle\n",
    "\n",
    "def rmse(y,pred):\n",
    "    return np.sqrt(mean_squared_error(y,pred))\n",
    "\n",
    "def evaluate_regr(y,pred):\n",
    "    rmsle_val = rmsle(y,pred)\n",
    "    rmse_val = rmse(y,pred)\n",
    "    mae_val = mean_absolute_error(y,pred)\n",
    "    r2 = r2_score(y,pred)\n",
    "    print('RMSLE:{0:.4f}, RMSE:{1:.4f}, MAE:{2:.4f}, R2: {3:.4f}'.format(rmsle_val, rmse_val, mae_val, r2))\n"
   ]
  },
  {
   "cell_type": "markdown",
   "metadata": {
    "id": "J5RGTijgFONc"
   },
   "source": [
    "value log화"
   ]
  },
  {
   "cell_type": "code",
   "execution_count": null,
   "metadata": {
    "id": "Nzp3GPolFONc"
   },
   "outputs": [],
   "source": [
    "log_value=np.log1p(df.Value)\n",
    "df_o_log_value = pd.concat([df_o,log_value], axis=1)\n",
    "df_o_log_value.drop('Value', axis=1, inplace=True)"
   ]
  },
  {
   "cell_type": "code",
   "execution_count": null,
   "metadata": {
    "id": "aXEvJ_YKFONd",
    "outputId": "19738a44-2e5f-4f45-a167-9371fc6937c7"
   },
   "outputs": [
    {
     "name": "stdout",
     "output_type": "stream",
     "text": [
      "RMSLE:0.6564, RMSE:12128.7052, MAE:4500.1337, R2: 0.7582\n"
     ]
    }
   ],
   "source": [
    "# 종속변수, 독립변수 둘 다  Value 로그화-> 음.. 떨어진다!\n",
    "from sklearn.model_selection import train_test_split\n",
    "from sklearn.linear_model import LinearRegression\n",
    "from sklearn.metrics import mean_squared_error , r2_score\n",
    "from sklearn.ensemble import RandomForestRegressor\n",
    "from sklearn.model_selection import cross_val_score\n",
    "from sklearn.preprocessing import StandardScaler\n",
    "\n",
    "y = df_o['Wage']\n",
    "log_y = np.log1p(y)\n",
    "X_v= df_o_log_value.drop('Wage', axis=1)\n",
    "\n",
    "X_train , X_test , y_train , y_test = train_test_split(X_v, log_y ,test_size=0.2, \n",
    "                                                       random_state=1)\n",
    "\n",
    "# Linear Regression OLS로 학습/예측/평가 수행. \n",
    "lr_reg = LinearRegression()\n",
    "lr_reg.fit(X_train ,y_train)\n",
    "pred = lr_reg.predict(X_test)\n",
    "\n",
    "y_test_exp = np.expm1(y_test)\n",
    "pred_exp = np.expm1(pred)\n",
    "evaluate_regr(y_test_exp, pred_exp)"
   ]
  },
  {
   "cell_type": "code",
   "execution_count": 15,
   "metadata": {
    "id": "bzoO2DV4FONd",
    "outputId": "153f6738-15f1-4b2e-b3e0-b9123d096834"
   },
   "outputs": [
    {
     "name": "stdout",
     "output_type": "stream",
     "text": [
      "RMSLE:0.6497, RMSE:23582.2343, MAE:4939.3550, R2: 0.0857\n"
     ]
    }
   ],
   "source": [
    "# 종속변수만  로그화\n",
    "from sklearn.model_selection import train_test_split\n",
    "from sklearn.linear_model import LinearRegression\n",
    "from sklearn.metrics import mean_squared_error , r2_score\n",
    "from sklearn.ensemble import RandomForestRegressor\n",
    "from sklearn.model_selection import cross_val_score\n",
    "from sklearn.preprocessing import StandardScaler\n",
    "\n",
    "y = df_o['Wage']\n",
    "log_y = np.log1p(y)\n",
    "X= df_o.drop('Wage', axis=1)\n",
    "\n",
    "X_train , X_test , y_train , y_test = train_test_split(X, log_y ,test_size=0.2, \n",
    "                                                       random_state=1)\n",
    "\n",
    "# Linear Regression OLS로 학습/예측/평가 수행. \n",
    "lr_reg = LinearRegression()\n",
    "lr_reg.fit(X_train ,y_train)\n",
    "pred = lr_reg.predict(X_test)\n",
    "\n",
    "y_test_exp = np.expm1(y_test)\n",
    "pred_exp = np.expm1(pred)\n",
    "evaluate_regr(y_test_exp, pred_exp)"
   ]
  },
  {
   "cell_type": "code",
   "execution_count": null,
   "metadata": {
    "id": "fUOan8FwFONf",
    "outputId": "68be68c5-b2c7-4068-9715-3fbb0dcab4a7"
   },
   "outputs": [
    {
     "name": "stdout",
     "output_type": "stream",
     "text": [
      " 5 folds 의 개별 Negative MSE scores:  [-5.71 -0.54 -0.42 -0.4  -0.16]\n",
      " 5 folds 의 개별 RMSLE scores :  [2.39 0.73 0.65 0.63 0.4 ]\n",
      " 5 folds 의 평균 RMSLE : 0.961 \n"
     ]
    }
   ],
   "source": [
    "# cross_val_score( )로 5 Fold 셋으로 MSE 를 구한 뒤 이를 기반으로 다시  RMSE 구함. \n",
    "neg_mse_scores = cross_val_score(lr, X, log_y, scoring=\"neg_mean_squared_error\", cv = 5)\n",
    "rmse_scores  = np.sqrt(-1 * neg_mse_scores)\n",
    "avg_rmse = np.mean(rmse_scores)\n",
    "\n",
    "# cross_val_score(scoring=\"neg_mean_squared_error\")로 반환된 값은 모두 음수 \n",
    "print(' 5 folds 의 개별 Negative MSE scores: ', np.round(neg_mse_scores, 2))\n",
    "print(' 5 folds 의 개별 RMSLE scores : ', np.round(rmse_scores, 2))\n",
    "print(' 5 folds 의 평균 RMSLE : {0:.3f} '.format(avg_rmse))"
   ]
  },
  {
   "cell_type": "code",
   "execution_count": null,
   "metadata": {
    "id": "WtEtVX6PFONh",
    "outputId": "ee636c49-722c-405c-dce7-8af54d983432"
   },
   "outputs": [
    {
     "name": "stdout",
     "output_type": "stream",
     "text": [
      "alpha =0.06, 5 folds의 평균 RMSLE: 8232.7354\n",
      "alpha =0.05, 5 folds의 평균 RMSLE: 8233.0164\n",
      "alpha =0.04, 5 folds의 평균 RMSLE: 8233.3164\n",
      "alpha =0.03, 5 folds의 평균 RMSLE: 8233.6360\n",
      "alpha =0.02, 5 folds의 평균 RMSLE: 8233.9760\n",
      "alpha =0.01, 5 folds의 평균 RMSLE: 8234.3374\n"
     ]
    }
   ],
   "source": [
    "from sklearn.linear_model import Ridge\n",
    "alphas = [0.06,0.05,0.04,0.03,0.02,0.01]\n",
    "for alpha in alphas:\n",
    "    ridge=Ridge(alpha=alpha)\n",
    "    neg_mse_scores = cross_val_score(ridge, X, y, scoring='neg_mean_squared_error', cv=5)\n",
    "    rmse_scores = np.sqrt(-1*neg_mse_scores)\n",
    "    avg_rmse = np.mean(rmse_scores)\n",
    "    print('alpha ={0:}, 5 folds의 평균 RMSLE: {1:.4f}'.format(alpha, avg_rmse))    "
   ]
  },
  {
   "cell_type": "code",
   "execution_count": null,
   "metadata": {
    "id": "0qnbnLPuFONh"
   },
   "outputs": [],
   "source": [
    "alpha =0.05일 때 가장 작은 RMSLE"
   ]
  },
  {
   "cell_type": "code",
   "execution_count": null,
   "metadata": {
    "id": "UPiVD4jCFONi",
    "outputId": "0a5f5e5e-16a0-4d2a-976c-ea8afb8899be"
   },
   "outputs": [
    {
     "data": {
      "text/plain": [
       "<AxesSubplot:>"
      ]
     },
     "execution_count": 121,
     "metadata": {
      "tags": []
     },
     "output_type": "execute_result"
    },
    {
     "data": {
      "image/png": "[encoded data removed]",
      "text/plain": [
       "<Figure size 720x576 with 1 Axes>"
      ]
     },
     "metadata": {
      "needs_background": "light",
      "tags": []
     },
     "output_type": "display_data"
    }
   ],
   "source": [
    "plt.figure(figsize=(10,8))\n",
    "coef = pd.Series(lr.coef_, index=X.columns)\n",
    "coef_sort = coef.sort_values(ascending=False)\n",
    "sns.barplot(x=coef_sort.values, y = coef_sort.index)"
   ]
  },
  {
   "cell_type": "code",
   "execution_count": null,
   "metadata": {
    "id": "tfruU-oJFONi",
    "outputId": "e899518d-e353-4e84-c191-99d66cd4d7b8"
   },
   "outputs": [
    {
     "name": "stdout",
     "output_type": "stream",
     "text": [
      "### LinearRegression ###\n",
      "RMSLE:0.6497, RMSE:23582.2343, MAE:4939.3550, R2: 0.0857\n",
      "### Ridge ###\n",
      "RMSLE:0.6497, RMSE:23512.3891, MAE:4935.9831, R2: 0.0912\n",
      "### Lasso ###\n",
      "RMSLE:0.6501, RMSE:35353.8018, MAE:5202.7794, R2: -1.0548\n"
     ]
    }
   ],
   "source": [
    "from sklearn.model_selection import train_test_split , GridSearchCV\n",
    "from sklearn.linear_model import LinearRegression , Ridge , Lasso\n",
    "# 원-핫 인코딩이 적용된 feature 데이터 세트 기반으로 학습/예측 데이터 분할. \n",
    "X_train, X_test, y_train, y_test = train_test_split(X, log_y, \n",
    "                                                    test_size=0.2, random_state=1)\n",
    "\n",
    "# 모델과 학습/테스트 데이터 셋을 입력하면 성능 평가 수치를 반환\n",
    "def get_model_predict(model, X_train, X_test, y_train, y_test, is_expm1=False):\n",
    "    model.fit(X_train, y_train)\n",
    "    pred = model.predict(X_test)\n",
    "    if is_expm1 :\n",
    "        y_test = np.expm1(y_test)\n",
    "        pred = np.expm1(pred)\n",
    "    print('###',model.__class__.__name__,'###')\n",
    "    evaluate_regr(y_test, pred)\n",
    "# end of function get_model_predict    \n",
    "\n",
    "# model 별로 평가 수행\n",
    "lr_reg = LinearRegression()\n",
    "ridge_reg = Ridge(alpha=0.05)\n",
    "lasso_reg = Lasso(alpha=0.0002)\n",
    "\n",
    "for model in [lr_reg, ridge_reg, lasso_reg]:\n",
    "    get_model_predict(model,X_train, X_test, y_train, y_test,is_expm1=True)"
   ]
  },
  {
   "cell_type": "code",
   "execution_count": null,
   "metadata": {
    "id": "sS2L7NtTFONj"
   },
   "outputs": [],
   "source": [
    "lasso 알파는 커질수록 일부 피처의 회귀 계수가 0이 될 수 있는데..\n",
    "너무 작아서 좋지 않아보인다. - "
   ]
  },
  {
   "cell_type": "code",
   "execution_count": null,
   "metadata": {
    "id": "eZ4g9-wGFONk",
    "outputId": "5235ef65-adda-42f6-ba86-cee16e1b39bd",
    "scrolled": true
   },
   "outputs": [
    {
     "name": "stdout",
     "output_type": "stream",
     "text": [
      "###### Lasso ######\n",
      "alpha 0.0001일 때 5 폴드 세트의 평균 RMSE:0.9597\n",
      "alpha 0.0002일 때 5 폴드 세트의 평균 RMSE:0.9587\n",
      "alpha 0.0003일 때 5 폴드 세트의 평균 RMSE:0.9590\n",
      "alpha 0.0004일 때 5 폴드 세트의 평균 RMSE:0.9609\n",
      "alpha 1일 때 5 폴드 세트의 평균 RMSE:2.2858\n",
      "alpha 5일 때 5 폴드 세트의 평균 RMSE:2.2858\n",
      "alpha 10일 때 5 폴드 세트의 평균 RMSE:2.2857\n"
     ]
    },
    {
     "data": {
      "text/html": [
       "<div>\n",
       "<style scoped>\n",
       "    .dataframe tbody tr th:only-of-type {\n",
       "        vertical-align: middle;\n",
       "    }\n",
       "\n",
       "    .dataframe tbody tr th {\n",
       "        vertical-align: top;\n",
       "    }\n",
       "\n",
       "    .dataframe thead th {\n",
       "        text-align: right;\n",
       "    }\n",
       "</style>\n",
       "<table border=\"1\" class=\"dataframe\">\n",
       "  <thead>\n",
       "    <tr style=\"text-align: right;\">\n",
       "      <th></th>\n",
       "      <th>alpha:0.0001</th>\n",
       "      <th>alpha:0.0002</th>\n",
       "      <th>alpha:0.0003</th>\n",
       "      <th>alpha:0.0004</th>\n",
       "      <th>alpha:1</th>\n",
       "      <th>alpha:5</th>\n",
       "      <th>alpha:10</th>\n",
       "    </tr>\n",
       "  </thead>\n",
       "  <tbody>\n",
       "    <tr>\n",
       "      <th>Value</th>\n",
       "      <td>1.382211e-03</td>\n",
       "      <td>0.001382</td>\n",
       "      <td>1.382265e-03</td>\n",
       "      <td>1.382292e-03</td>\n",
       "      <td>1.612184e-03</td>\n",
       "      <td>2.157605e-03</td>\n",
       "      <td>2.565970e-03</td>\n",
       "    </tr>\n",
       "    <tr>\n",
       "      <th>International Reputation</th>\n",
       "      <td>6.971236e+03</td>\n",
       "      <td>6971.305794</td>\n",
       "      <td>6.971375e+03</td>\n",
       "      <td>6.971444e+03</td>\n",
       "      <td>7.531335e+03</td>\n",
       "      <td>8.876808e+03</td>\n",
       "      <td>9.825595e+03</td>\n",
       "    </tr>\n",
       "    <tr>\n",
       "      <th>Club_V_0</th>\n",
       "      <td>-3.023127e+03</td>\n",
       "      <td>-3022.595896</td>\n",
       "      <td>-3.022065e+03</td>\n",
       "      <td>-3.021534e+03</td>\n",
       "      <td>-6.321902e+02</td>\n",
       "      <td>-6.175179e+02</td>\n",
       "      <td>-5.969704e+02</td>\n",
       "    </tr>\n",
       "    <tr>\n",
       "      <th>Club_V_1</th>\n",
       "      <td>-2.961902e+03</td>\n",
       "      <td>-2961.368480</td>\n",
       "      <td>-2.960835e+03</td>\n",
       "      <td>-2.960302e+03</td>\n",
       "      <td>-5.630580e+02</td>\n",
       "      <td>-5.425786e+02</td>\n",
       "      <td>-5.130818e+02</td>\n",
       "    </tr>\n",
       "    <tr>\n",
       "      <th>Club_V_2</th>\n",
       "      <td>-2.398065e+03</td>\n",
       "      <td>-2397.528667</td>\n",
       "      <td>-2.396993e+03</td>\n",
       "      <td>-2.396457e+03</td>\n",
       "      <td>3.249857e+00</td>\n",
       "      <td>2.787947e+00</td>\n",
       "      <td>1.900537e+00</td>\n",
       "    </tr>\n",
       "    <tr>\n",
       "      <th>Club_V_3</th>\n",
       "      <td>2.387966e+03</td>\n",
       "      <td>2388.498282</td>\n",
       "      <td>2.389031e+03</td>\n",
       "      <td>2.389563e+03</td>\n",
       "      <td>4.726923e+03</td>\n",
       "      <td>4.541657e+03</td>\n",
       "      <td>4.330057e+03</td>\n",
       "    </tr>\n",
       "    <tr>\n",
       "      <th>Position_Class_0</th>\n",
       "      <td>-1.449808e+03</td>\n",
       "      <td>-1449.789906</td>\n",
       "      <td>-1.449772e+03</td>\n",
       "      <td>-1.449754e+03</td>\n",
       "      <td>-1.294237e+03</td>\n",
       "      <td>-9.068916e+02</td>\n",
       "      <td>-6.152754e+02</td>\n",
       "    </tr>\n",
       "    <tr>\n",
       "      <th>Position_Class_1</th>\n",
       "      <td>2.198040e+01</td>\n",
       "      <td>21.991235</td>\n",
       "      <td>2.200207e+01</td>\n",
       "      <td>2.201291e+01</td>\n",
       "      <td>1.150127e+02</td>\n",
       "      <td>3.326599e+02</td>\n",
       "      <td>4.717275e+02</td>\n",
       "    </tr>\n",
       "    <tr>\n",
       "      <th>Position_Class_2</th>\n",
       "      <td>-4.909042e+02</td>\n",
       "      <td>-490.905629</td>\n",
       "      <td>-4.909070e+02</td>\n",
       "      <td>-4.909085e+02</td>\n",
       "      <td>-5.038884e+02</td>\n",
       "      <td>-5.334303e+02</td>\n",
       "      <td>-5.773360e+02</td>\n",
       "    </tr>\n",
       "    <tr>\n",
       "      <th>Position_Class_3</th>\n",
       "      <td>4.842268e+02</td>\n",
       "      <td>484.223709</td>\n",
       "      <td>4.842207e+02</td>\n",
       "      <td>4.842176e+02</td>\n",
       "      <td>4.569856e+02</td>\n",
       "      <td>3.685962e+02</td>\n",
       "      <td>2.742809e+02</td>\n",
       "    </tr>\n",
       "    <tr>\n",
       "      <th>Age_C_1</th>\n",
       "      <td>-2.247138e+03</td>\n",
       "      <td>-2246.909524</td>\n",
       "      <td>-2.246681e+03</td>\n",
       "      <td>-2.246452e+03</td>\n",
       "      <td>-1.445594e+03</td>\n",
       "      <td>-1.278638e+03</td>\n",
       "      <td>-2.109994e+03</td>\n",
       "    </tr>\n",
       "    <tr>\n",
       "      <th>Age_C_10</th>\n",
       "      <td>-4.322774e+03</td>\n",
       "      <td>-4322.438053</td>\n",
       "      <td>-4.322102e+03</td>\n",
       "      <td>-4.321766e+03</td>\n",
       "      <td>-2.529141e+03</td>\n",
       "      <td>-0.000000e+00</td>\n",
       "      <td>-0.000000e+00</td>\n",
       "    </tr>\n",
       "    <tr>\n",
       "      <th>Age_C_11</th>\n",
       "      <td>-6.326123e+03</td>\n",
       "      <td>-6325.717827</td>\n",
       "      <td>-6.325313e+03</td>\n",
       "      <td>-6.324908e+03</td>\n",
       "      <td>-3.928994e+03</td>\n",
       "      <td>-0.000000e+00</td>\n",
       "      <td>-0.000000e+00</td>\n",
       "    </tr>\n",
       "    <tr>\n",
       "      <th>Age_C_2</th>\n",
       "      <td>-7.836902e+02</td>\n",
       "      <td>-783.464778</td>\n",
       "      <td>-7.832394e+02</td>\n",
       "      <td>-7.830140e+02</td>\n",
       "      <td>-2.735520e+01</td>\n",
       "      <td>-0.000000e+00</td>\n",
       "      <td>-9.577586e+02</td>\n",
       "    </tr>\n",
       "    <tr>\n",
       "      <th>Age_C_3</th>\n",
       "      <td>-7.458246e+02</td>\n",
       "      <td>-745.597769</td>\n",
       "      <td>-7.453710e+02</td>\n",
       "      <td>-7.451442e+02</td>\n",
       "      <td>0.000000e+00</td>\n",
       "      <td>-0.000000e+00</td>\n",
       "      <td>-9.688596e+02</td>\n",
       "    </tr>\n",
       "    <tr>\n",
       "      <th>Age_C_4</th>\n",
       "      <td>1.046808e+02</td>\n",
       "      <td>104.913632</td>\n",
       "      <td>1.051465e+02</td>\n",
       "      <td>1.053794e+02</td>\n",
       "      <td>9.021260e+02</td>\n",
       "      <td>9.574675e+02</td>\n",
       "      <td>0.000000e+00</td>\n",
       "    </tr>\n",
       "    <tr>\n",
       "      <th>Age_C_5</th>\n",
       "      <td>5.491810e+02</td>\n",
       "      <td>549.426570</td>\n",
       "      <td>5.496721e+02</td>\n",
       "      <td>5.499177e+02</td>\n",
       "      <td>1.450425e+03</td>\n",
       "      <td>1.784956e+03</td>\n",
       "      <td>1.021298e+03</td>\n",
       "    </tr>\n",
       "    <tr>\n",
       "      <th>Age_C_6</th>\n",
       "      <td>3.355020e+02</td>\n",
       "      <td>335.758091</td>\n",
       "      <td>3.360141e+02</td>\n",
       "      <td>3.362702e+02</td>\n",
       "      <td>1.324582e+03</td>\n",
       "      <td>1.862746e+03</td>\n",
       "      <td>1.259745e+03</td>\n",
       "    </tr>\n",
       "    <tr>\n",
       "      <th>Age_C_7</th>\n",
       "      <td>2.150537e+02</td>\n",
       "      <td>215.324738</td>\n",
       "      <td>2.155957e+02</td>\n",
       "      <td>2.158667e+02</td>\n",
       "      <td>1.332991e+03</td>\n",
       "      <td>2.185495e+03</td>\n",
       "      <td>1.784794e+03</td>\n",
       "    </tr>\n",
       "    <tr>\n",
       "      <th>Age_C_8</th>\n",
       "      <td>5.281685e+02</td>\n",
       "      <td>528.443090</td>\n",
       "      <td>5.287177e+02</td>\n",
       "      <td>5.289922e+02</td>\n",
       "      <td>1.670181e+03</td>\n",
       "      <td>2.489993e+03</td>\n",
       "      <td>2.001101e+03</td>\n",
       "    </tr>\n",
       "    <tr>\n",
       "      <th>Age_C_9</th>\n",
       "      <td>-2.341864e+03</td>\n",
       "      <td>-2341.583725</td>\n",
       "      <td>-2.341304e+03</td>\n",
       "      <td>-2.341024e+03</td>\n",
       "      <td>-1.136922e+03</td>\n",
       "      <td>-2.716568e+01</td>\n",
       "      <td>-1.173458e+02</td>\n",
       "    </tr>\n",
       "    <tr>\n",
       "      <th>Over_C_1</th>\n",
       "      <td>-5.131621e+03</td>\n",
       "      <td>-5134.638461</td>\n",
       "      <td>-5.137656e+03</td>\n",
       "      <td>-5.140673e+03</td>\n",
       "      <td>-1.856522e+04</td>\n",
       "      <td>-1.103981e+04</td>\n",
       "      <td>-5.430425e+02</td>\n",
       "    </tr>\n",
       "    <tr>\n",
       "      <th>Over_C_10</th>\n",
       "      <td>4.494950e+04</td>\n",
       "      <td>44945.349413</td>\n",
       "      <td>4.494120e+04</td>\n",
       "      <td>4.493704e+04</td>\n",
       "      <td>2.195235e+04</td>\n",
       "      <td>5.995390e+03</td>\n",
       "      <td>0.000000e+00</td>\n",
       "    </tr>\n",
       "    <tr>\n",
       "      <th>Over_C_11</th>\n",
       "      <td>7.111927e+04</td>\n",
       "      <td>71114.859167</td>\n",
       "      <td>7.111045e+04</td>\n",
       "      <td>7.110604e+04</td>\n",
       "      <td>4.592655e+04</td>\n",
       "      <td>2.434043e+04</td>\n",
       "      <td>1.174780e+04</td>\n",
       "    </tr>\n",
       "    <tr>\n",
       "      <th>Over_C_12</th>\n",
       "      <td>8.502127e+04</td>\n",
       "      <td>85016.659792</td>\n",
       "      <td>8.501205e+04</td>\n",
       "      <td>8.500743e+04</td>\n",
       "      <td>5.799236e+04</td>\n",
       "      <td>3.113167e+04</td>\n",
       "      <td>1.345640e+04</td>\n",
       "    </tr>\n",
       "    <tr>\n",
       "      <th>Over_C_13</th>\n",
       "      <td>1.169295e+05</td>\n",
       "      <td>116924.783672</td>\n",
       "      <td>1.169200e+05</td>\n",
       "      <td>1.169153e+05</td>\n",
       "      <td>8.868589e+04</td>\n",
       "      <td>5.946743e+04</td>\n",
       "      <td>4.081714e+04</td>\n",
       "    </tr>\n",
       "    <tr>\n",
       "      <th>Over_C_14</th>\n",
       "      <td>1.029787e+05</td>\n",
       "      <td>102973.720609</td>\n",
       "      <td>1.029687e+05</td>\n",
       "      <td>1.029637e+05</td>\n",
       "      <td>7.253911e+04</td>\n",
       "      <td>3.715953e+04</td>\n",
       "      <td>1.262159e+04</td>\n",
       "    </tr>\n",
       "    <tr>\n",
       "      <th>Over_C_15</th>\n",
       "      <td>9.041974e+04</td>\n",
       "      <td>90414.411694</td>\n",
       "      <td>9.040908e+04</td>\n",
       "      <td>9.040376e+04</td>\n",
       "      <td>5.700446e+04</td>\n",
       "      <td>1.138625e+04</td>\n",
       "      <td>0.000000e+00</td>\n",
       "    </tr>\n",
       "    <tr>\n",
       "      <th>Over_C_16</th>\n",
       "      <td>2.239018e+05</td>\n",
       "      <td>223896.202168</td>\n",
       "      <td>2.238906e+05</td>\n",
       "      <td>2.238849e+05</td>\n",
       "      <td>1.879368e+05</td>\n",
       "      <td>1.372459e+05</td>\n",
       "      <td>9.859747e+04</td>\n",
       "    </tr>\n",
       "    <tr>\n",
       "      <th>Over_C_17</th>\n",
       "      <td>8.213077e+04</td>\n",
       "      <td>82122.498941</td>\n",
       "      <td>8.211423e+04</td>\n",
       "      <td>8.210595e+04</td>\n",
       "      <td>2.160868e+04</td>\n",
       "      <td>-0.000000e+00</td>\n",
       "      <td>-0.000000e+00</td>\n",
       "    </tr>\n",
       "    <tr>\n",
       "      <th>Over_C_18</th>\n",
       "      <td>3.111708e+05</td>\n",
       "      <td>311164.049509</td>\n",
       "      <td>3.111573e+05</td>\n",
       "      <td>3.111506e+05</td>\n",
       "      <td>2.650426e+05</td>\n",
       "      <td>1.805360e+05</td>\n",
       "      <td>1.046789e+05</td>\n",
       "    </tr>\n",
       "    <tr>\n",
       "      <th>Over_C_2</th>\n",
       "      <td>-4.815981e+03</td>\n",
       "      <td>-4819.020245</td>\n",
       "      <td>-4.822060e+03</td>\n",
       "      <td>-4.825099e+03</td>\n",
       "      <td>-1.841116e+04</td>\n",
       "      <td>-1.122965e+04</td>\n",
       "      <td>-9.728798e+02</td>\n",
       "    </tr>\n",
       "    <tr>\n",
       "      <th>Over_C_3</th>\n",
       "      <td>-2.007807e+03</td>\n",
       "      <td>-2010.891491</td>\n",
       "      <td>-2.013976e+03</td>\n",
       "      <td>-2.017060e+03</td>\n",
       "      <td>-1.595960e+04</td>\n",
       "      <td>-9.589396e+03</td>\n",
       "      <td>0.000000e+00</td>\n",
       "    </tr>\n",
       "    <tr>\n",
       "      <th>Over_C_4</th>\n",
       "      <td>3.981788e+02</td>\n",
       "      <td>394.995627</td>\n",
       "      <td>3.918124e+02</td>\n",
       "      <td>3.886292e+02</td>\n",
       "      <td>-1.434637e+04</td>\n",
       "      <td>-9.822766e+03</td>\n",
       "      <td>-1.460580e+03</td>\n",
       "    </tr>\n",
       "    <tr>\n",
       "      <th>Over_C_5</th>\n",
       "      <td>2.342101e+03</td>\n",
       "      <td>2338.805555</td>\n",
       "      <td>2.335511e+03</td>\n",
       "      <td>2.332216e+03</td>\n",
       "      <td>-1.330446e+04</td>\n",
       "      <td>-1.088823e+04</td>\n",
       "      <td>-4.018134e+03</td>\n",
       "    </tr>\n",
       "    <tr>\n",
       "      <th>Over_C_6</th>\n",
       "      <td>9.111541e+03</td>\n",
       "      <td>9108.097758</td>\n",
       "      <td>9.104655e+03</td>\n",
       "      <td>9.101212e+03</td>\n",
       "      <td>-7.702456e+03</td>\n",
       "      <td>-7.988586e+03</td>\n",
       "      <td>-3.015399e+03</td>\n",
       "    </tr>\n",
       "    <tr>\n",
       "      <th>Over_C_7</th>\n",
       "      <td>1.320458e+04</td>\n",
       "      <td>13200.938402</td>\n",
       "      <td>1.319729e+04</td>\n",
       "      <td>1.319365e+04</td>\n",
       "      <td>-5.236883e+03</td>\n",
       "      <td>-9.320311e+03</td>\n",
       "      <td>-7.077296e+03</td>\n",
       "    </tr>\n",
       "    <tr>\n",
       "      <th>Over_C_8</th>\n",
       "      <td>2.006475e+04</td>\n",
       "      <td>20060.909696</td>\n",
       "      <td>2.005707e+04</td>\n",
       "      <td>2.005322e+04</td>\n",
       "      <td>-0.000000e+00</td>\n",
       "      <td>-6.860186e+03</td>\n",
       "      <td>-6.546714e+03</td>\n",
       "    </tr>\n",
       "    <tr>\n",
       "      <th>Over_C_9</th>\n",
       "      <td>3.208060e+04</td>\n",
       "      <td>32076.637981</td>\n",
       "      <td>3.207268e+04</td>\n",
       "      <td>3.206872e+04</td>\n",
       "      <td>1.074415e+04</td>\n",
       "      <td>0.000000e+00</td>\n",
       "      <td>-0.000000e+00</td>\n",
       "    </tr>\n",
       "    <tr>\n",
       "      <th>Special_C_0</th>\n",
       "      <td>-3.175974e+03</td>\n",
       "      <td>-3175.964357</td>\n",
       "      <td>-3.175955e+03</td>\n",
       "      <td>-3.175946e+03</td>\n",
       "      <td>-3.038898e+03</td>\n",
       "      <td>-2.656930e+03</td>\n",
       "      <td>-2.205855e+03</td>\n",
       "    </tr>\n",
       "    <tr>\n",
       "      <th>Special_C_1</th>\n",
       "      <td>1.990455e-14</td>\n",
       "      <td>0.000000</td>\n",
       "      <td>7.097743e-11</td>\n",
       "      <td>6.022772e-11</td>\n",
       "      <td>3.025496e-11</td>\n",
       "      <td>5.959472e-13</td>\n",
       "      <td>5.108119e-13</td>\n",
       "    </tr>\n",
       "  </tbody>\n",
       "</table>\n",
       "</div>"
      ],
      "text/plain": [
       "                          alpha:0.0001   alpha:0.0002  alpha:0.0003  \\\n",
       "Value                     1.382211e-03       0.001382  1.382265e-03   \n",
       "International Reputation  6.971236e+03    6971.305794  6.971375e+03   \n",
       "Club_V_0                 -3.023127e+03   -3022.595896 -3.022065e+03   \n",
       "Club_V_1                 -2.961902e+03   -2961.368480 -2.960835e+03   \n",
       "Club_V_2                 -2.398065e+03   -2397.528667 -2.396993e+03   \n",
       "Club_V_3                  2.387966e+03    2388.498282  2.389031e+03   \n",
       "Position_Class_0         -1.449808e+03   -1449.789906 -1.449772e+03   \n",
       "Position_Class_1          2.198040e+01      21.991235  2.200207e+01   \n",
       "Position_Class_2         -4.909042e+02    -490.905629 -4.909070e+02   \n",
       "Position_Class_3          4.842268e+02     484.223709  4.842207e+02   \n",
       "Age_C_1                  -2.247138e+03   -2246.909524 -2.246681e+03   \n",
       "Age_C_10                 -4.322774e+03   -4322.438053 -4.322102e+03   \n",
       "Age_C_11                 -6.326123e+03   -6325.717827 -6.325313e+03   \n",
       "Age_C_2                  -7.836902e+02    -783.464778 -7.832394e+02   \n",
       "Age_C_3                  -7.458246e+02    -745.597769 -7.453710e+02   \n",
       "Age_C_4                   1.046808e+02     104.913632  1.051465e+02   \n",
       "Age_C_5                   5.491810e+02     549.426570  5.496721e+02   \n",
       "Age_C_6                   3.355020e+02     335.758091  3.360141e+02   \n",
       "Age_C_7                   2.150537e+02     215.324738  2.155957e+02   \n",
       "Age_C_8                   5.281685e+02     528.443090  5.287177e+02   \n",
       "Age_C_9                  -2.341864e+03   -2341.583725 -2.341304e+03   \n",
       "Over_C_1                 -5.131621e+03   -5134.638461 -5.137656e+03   \n",
       "Over_C_10                 4.494950e+04   44945.349413  4.494120e+04   \n",
       "Over_C_11                 7.111927e+04   71114.859167  7.111045e+04   \n",
       "Over_C_12                 8.502127e+04   85016.659792  8.501205e+04   \n",
       "Over_C_13                 1.169295e+05  116924.783672  1.169200e+05   \n",
       "Over_C_14                 1.029787e+05  102973.720609  1.029687e+05   \n",
       "Over_C_15                 9.041974e+04   90414.411694  9.040908e+04   \n",
       "Over_C_16                 2.239018e+05  223896.202168  2.238906e+05   \n",
       "Over_C_17                 8.213077e+04   82122.498941  8.211423e+04   \n",
       "Over_C_18                 3.111708e+05  311164.049509  3.111573e+05   \n",
       "Over_C_2                 -4.815981e+03   -4819.020245 -4.822060e+03   \n",
       "Over_C_3                 -2.007807e+03   -2010.891491 -2.013976e+03   \n",
       "Over_C_4                  3.981788e+02     394.995627  3.918124e+02   \n",
       "Over_C_5                  2.342101e+03    2338.805555  2.335511e+03   \n",
       "Over_C_6                  9.111541e+03    9108.097758  9.104655e+03   \n",
       "Over_C_7                  1.320458e+04   13200.938402  1.319729e+04   \n",
       "Over_C_8                  2.006475e+04   20060.909696  2.005707e+04   \n",
       "Over_C_9                  3.208060e+04   32076.637981  3.207268e+04   \n",
       "Special_C_0              -3.175974e+03   -3175.964357 -3.175955e+03   \n",
       "Special_C_1               1.990455e-14       0.000000  7.097743e-11   \n",
       "\n",
       "                          alpha:0.0004       alpha:1       alpha:5  \\\n",
       "Value                     1.382292e-03  1.612184e-03  2.157605e-03   \n",
       "International Reputation  6.971444e+03  7.531335e+03  8.876808e+03   \n",
       "Club_V_0                 -3.021534e+03 -6.321902e+02 -6.175179e+02   \n",
       "Club_V_1                 -2.960302e+03 -5.630580e+02 -5.425786e+02   \n",
       "Club_V_2                 -2.396457e+03  3.249857e+00  2.787947e+00   \n",
       "Club_V_3                  2.389563e+03  4.726923e+03  4.541657e+03   \n",
       "Position_Class_0         -1.449754e+03 -1.294237e+03 -9.068916e+02   \n",
       "Position_Class_1          2.201291e+01  1.150127e+02  3.326599e+02   \n",
       "Position_Class_2         -4.909085e+02 -5.038884e+02 -5.334303e+02   \n",
       "Position_Class_3          4.842176e+02  4.569856e+02  3.685962e+02   \n",
       "Age_C_1                  -2.246452e+03 -1.445594e+03 -1.278638e+03   \n",
       "Age_C_10                 -4.321766e+03 -2.529141e+03 -0.000000e+00   \n",
       "Age_C_11                 -6.324908e+03 -3.928994e+03 -0.000000e+00   \n",
       "Age_C_2                  -7.830140e+02 -2.735520e+01 -0.000000e+00   \n",
       "Age_C_3                  -7.451442e+02  0.000000e+00 -0.000000e+00   \n",
       "Age_C_4                   1.053794e+02  9.021260e+02  9.574675e+02   \n",
       "Age_C_5                   5.499177e+02  1.450425e+03  1.784956e+03   \n",
       "Age_C_6                   3.362702e+02  1.324582e+03  1.862746e+03   \n",
       "Age_C_7                   2.158667e+02  1.332991e+03  2.185495e+03   \n",
       "Age_C_8                   5.289922e+02  1.670181e+03  2.489993e+03   \n",
       "Age_C_9                  -2.341024e+03 -1.136922e+03 -2.716568e+01   \n",
       "Over_C_1                 -5.140673e+03 -1.856522e+04 -1.103981e+04   \n",
       "Over_C_10                 4.493704e+04  2.195235e+04  5.995390e+03   \n",
       "Over_C_11                 7.110604e+04  4.592655e+04  2.434043e+04   \n",
       "Over_C_12                 8.500743e+04  5.799236e+04  3.113167e+04   \n",
       "Over_C_13                 1.169153e+05  8.868589e+04  5.946743e+04   \n",
       "Over_C_14                 1.029637e+05  7.253911e+04  3.715953e+04   \n",
       "Over_C_15                 9.040376e+04  5.700446e+04  1.138625e+04   \n",
       "Over_C_16                 2.238849e+05  1.879368e+05  1.372459e+05   \n",
       "Over_C_17                 8.210595e+04  2.160868e+04 -0.000000e+00   \n",
       "Over_C_18                 3.111506e+05  2.650426e+05  1.805360e+05   \n",
       "Over_C_2                 -4.825099e+03 -1.841116e+04 -1.122965e+04   \n",
       "Over_C_3                 -2.017060e+03 -1.595960e+04 -9.589396e+03   \n",
       "Over_C_4                  3.886292e+02 -1.434637e+04 -9.822766e+03   \n",
       "Over_C_5                  2.332216e+03 -1.330446e+04 -1.088823e+04   \n",
       "Over_C_6                  9.101212e+03 -7.702456e+03 -7.988586e+03   \n",
       "Over_C_7                  1.319365e+04 -5.236883e+03 -9.320311e+03   \n",
       "Over_C_8                  2.005322e+04 -0.000000e+00 -6.860186e+03   \n",
       "Over_C_9                  3.206872e+04  1.074415e+04  0.000000e+00   \n",
       "Special_C_0              -3.175946e+03 -3.038898e+03 -2.656930e+03   \n",
       "Special_C_1               6.022772e-11  3.025496e-11  5.959472e-13   \n",
       "\n",
       "                              alpha:10  \n",
       "Value                     2.565970e-03  \n",
       "International Reputation  9.825595e+03  \n",
       "Club_V_0                 -5.969704e+02  \n",
       "Club_V_1                 -5.130818e+02  \n",
       "Club_V_2                  1.900537e+00  \n",
       "Club_V_3                  4.330057e+03  \n",
       "Position_Class_0         -6.152754e+02  \n",
       "Position_Class_1          4.717275e+02  \n",
       "Position_Class_2         -5.773360e+02  \n",
       "Position_Class_3          2.742809e+02  \n",
       "Age_C_1                  -2.109994e+03  \n",
       "Age_C_10                 -0.000000e+00  \n",
       "Age_C_11                 -0.000000e+00  \n",
       "Age_C_2                  -9.577586e+02  \n",
       "Age_C_3                  -9.688596e+02  \n",
       "Age_C_4                   0.000000e+00  \n",
       "Age_C_5                   1.021298e+03  \n",
       "Age_C_6                   1.259745e+03  \n",
       "Age_C_7                   1.784794e+03  \n",
       "Age_C_8                   2.001101e+03  \n",
       "Age_C_9                  -1.173458e+02  \n",
       "Over_C_1                 -5.430425e+02  \n",
       "Over_C_10                 0.000000e+00  \n",
       "Over_C_11                 1.174780e+04  \n",
       "Over_C_12                 1.345640e+04  \n",
       "Over_C_13                 4.081714e+04  \n",
       "Over_C_14                 1.262159e+04  \n",
       "Over_C_15                 0.000000e+00  \n",
       "Over_C_16                 9.859747e+04  \n",
       "Over_C_17                -0.000000e+00  \n",
       "Over_C_18                 1.046789e+05  \n",
       "Over_C_2                 -9.728798e+02  \n",
       "Over_C_3                  0.000000e+00  \n",
       "Over_C_4                 -1.460580e+03  \n",
       "Over_C_5                 -4.018134e+03  \n",
       "Over_C_6                 -3.015399e+03  \n",
       "Over_C_7                 -7.077296e+03  \n",
       "Over_C_8                 -6.546714e+03  \n",
       "Over_C_9                 -0.000000e+00  \n",
       "Special_C_0              -2.205855e+03  \n",
       "Special_C_1               5.108119e-13  "
      ]
     },
     "execution_count": 123,
     "metadata": {
      "tags": []
     },
     "output_type": "execute_result"
    }
   ],
   "source": [
    "lasso_alphas=[0.0001,0.0002,0.0003,0.0004,1,5,10]\n",
    "coeff_lasso_df = get_linear_reg_eval('Lasso', params=lasso_alphas, X_data_n = X, \n",
    "                                     y_target_n = log_y)\n",
    "coeff_lasso_df"
   ]
  },
  {
   "cell_type": "code",
   "execution_count": null,
   "metadata": {
    "id": "256MwRK0FONl"
   },
   "outputs": [],
   "source": [
    "from sklearn.ensemble import RandomForestRegressor, GradientBoostingRegressor"
   ]
  },
  {
   "cell_type": "code",
   "execution_count": null,
   "metadata": {
    "id": "--93CpNdFONm",
    "outputId": "122a7e69-42fc-4b25-d132-17ce3d632239"
   },
   "outputs": [
    {
     "name": "stdout",
     "output_type": "stream",
     "text": [
      "### LinearRegression ###\n",
      "RMSLE:0.0697, RMSE:0.6497, MAE:0.4719, R2: 0.7227\n",
      "### RandomForestRegressor ###\n",
      "RMSLE:0.0745, RMSE:0.6969, MAE:0.4976, R2: 0.6809\n",
      "### XGBRegressor ###\n",
      "RMSLE:0.0749, RMSE:0.7054, MAE:0.5019, R2: 0.6731\n",
      "### LGBMRegressor ###\n",
      "RMSLE:0.0694, RMSE:0.6515, MAE:0.4676, R2: 0.7212\n"
     ]
    }
   ],
   "source": [
    "from xgboost import XGBRegressor\n",
    "from lightgbm import LGBMRegressor\n",
    "\n",
    "rf_reg=RandomForestRegressor(random_state=0, n_estimators=500)\n",
    "# gb_reg=GradientBoostingRegressoressor(random_state=0, n_estimators=500)\n",
    "xbg_reg=XGBRegressor(n_estimators=500)\n",
    "lgb_reg=LGBMRegressor(n_estimators=500)\n",
    "\n",
    "models=[lr_reg,rf_reg, xbg_reg, lgb_reg]\n",
    "for model in models:\n",
    "    get_model_predict(model, X_train.values, X_test.values, y_train.values, y_test.values, is_expm1=False)"
   ]
  },
  {
   "cell_type": "code",
   "execution_count": null,
   "metadata": {
    "id": "wNJg5VTfFONm"
   },
   "outputs": [],
   "source": []
  },
  {
   "cell_type": "code",
   "execution_count": null,
   "metadata": {
    "id": "f6zGTKplFONn"
   },
   "outputs": [],
   "source": []
  },
  {
   "cell_type": "code",
   "execution_count": null,
   "metadata": {
    "id": "zzQ60tS-FONn"
   },
   "outputs": [],
   "source": []
  },
  {
   "cell_type": "code",
   "execution_count": null,
   "metadata": {
    "id": "zxItu1-ZFONn"
   },
   "outputs": [],
   "source": []
  },
  {
   "cell_type": "code",
   "execution_count": null,
   "metadata": {
    "id": "3OevRvyCFONo"
   },
   "outputs": [],
   "source": []
  },
  {
   "cell_type": "code",
   "execution_count": null,
   "metadata": {
    "id": "PQc1MG_qFONo"
   },
   "outputs": [],
   "source": []
  }
 ],
 "metadata": {
  "colab": {
   "name": "6. 회귀평가.ipynb",
   "provenance": []
  },
  "kernelspec": {
   "display_name": "Python 3",
   "language": "python",
   "name": "python3"
  },
  "language_info": {
   "codemirror_mode": {
    "name": "ipython",
    "version": 3
   },
   "file_extension": ".py",
   "mimetype": "text/x-python",
   "name": "python",
   "nbconvert_exporter": "python",
   "pygments_lexer": "ipython3",
   "version": "3.8.3"
  }
 },
 "nbformat": 4,
 "nbformat_minor": 1
}
