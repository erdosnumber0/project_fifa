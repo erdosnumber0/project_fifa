{
 "cells": [
  {
   "cell_type": "code",
   "execution_count": 1,
   "metadata": {
    "executionInfo": {
     "elapsed": 2556,
     "status": "ok",
     "timestamp": 1615783167073,
     "user": {
      "displayName": "이보람",
      "photoUrl": "",
      "userId": "01536695193053509639"
     },
     "user_tz": -540
    },
    "id": "ZRomyFfQz1-3"
   },
   "outputs": [],
   "source": [
    "import numpy as np\n",
    "import pandas as pd\n",
    "import matplotlib.pyplot as plt\n",
    "import matplotlib\n",
    "import seaborn as sns\n",
    "import warnings\n",
    "warnings.filterwarnings('ignore')"
   ]
  },
  {
   "cell_type": "code",
   "execution_count": 2,
   "metadata": {
    "executionInfo": {
     "elapsed": 3570,
     "status": "ok",
     "timestamp": 1615783168161,
     "user": {
      "displayName": "이보람",
      "photoUrl": "",
      "userId": "01536695193053509639"
     },
     "user_tz": -540
    },
    "id": "jT_sA2cEz1_M"
   },
   "outputs": [],
   "source": [
    "df = pd.read_csv('dataset/data.csv', index_col=0)"
   ]
  },
  {
   "cell_type": "markdown",
   "metadata": {
    "id": "uj-U8wJzz1_N"
   },
   "source": [
    "## 변환\n",
    "- value, wage, release clause 통화 단위\n",
    "- work rate ex.hight/hight -> 숫자로 변환(0~2/0~2)\n",
    "- "
   ]
  },
  {
   "cell_type": "code",
   "execution_count": 3,
   "metadata": {
    "executionInfo": {
     "elapsed": 3557,
     "status": "ok",
     "timestamp": 1615783168161,
     "user": {
      "displayName": "이보람",
      "photoUrl": "",
      "userId": "01536695193053509639"
     },
     "user_tz": -540
    },
    "id": "i4w0jOGtz1_O"
   },
   "outputs": [],
   "source": [
    "# 통화 변환-> 실수화\n",
    "def exchange(value):\n",
    "    out = value.replace('€', '')\n",
    "    if 'M' in out:\n",
    "        out = float(out.replace('M',''))*1000\n",
    "    elif 'K' in out:\n",
    "        out = float(out.replace('K',''))\n",
    "    return float(out)"
   ]
  },
  {
   "cell_type": "code",
   "execution_count": 4,
   "metadata": {
    "executionInfo": {
     "elapsed": 3545,
     "status": "ok",
     "timestamp": 1615783168162,
     "user": {
      "displayName": "이보람",
      "photoUrl": "",
      "userId": "01536695193053509639"
     },
     "user_tz": -540
    },
    "id": "vSLLd9k-z1_Q"
   },
   "outputs": [],
   "source": [
    "df.Value = df.Value.apply(lambda x: exchange(x))\n",
    "df.Wage = df.Wage.apply(lambda x: exchange(x))\n",
    "df['Release Clause'] = df['Release Clause'].astype('str')\n",
    "df['Release Clause'] = df['Release Clause'].apply(lambda x: exchange(x))"
   ]
  },
  {
   "cell_type": "code",
   "execution_count": 5,
   "metadata": {
    "executionInfo": {
     "elapsed": 3854,
     "status": "ok",
     "timestamp": 1615783168484,
     "user": {
      "displayName": "이보람",
      "photoUrl": "",
      "userId": "01536695193053509639"
     },
     "user_tz": -540
    },
    "id": "Dy7_lflkz1_S"
   },
   "outputs": [],
   "source": [
    "wr = df['Work Rate'].str.split('/', expand=True)\n",
    "df['Attack_WR']= wr[0]\n",
    "df['Attack_WR'].replace({'High':2, 'Medium':1,'Low':0},inplace= True)\n",
    "df['Defence_WR']=wr[1]\n",
    "df['Defence_WR'].replace({' High':2, ' Medium':1,' Low':0},inplace= True)"
   ]
  },
  {
   "cell_type": "markdown",
   "metadata": {
    "id": "YnaLJOWJ3RWM"
   },
   "source": [
    "## 결측치가 많은 칼럼, 불필요한 칼럼 삭제\n",
    "- nan 48행 삭제\n",
    "- club 없는 행 삭제(skill류도 모두 nan이라)"
   ]
  },
  {
   "cell_type": "code",
   "execution_count": 292,
   "metadata": {
    "executionInfo": {
     "elapsed": 3842,
     "status": "ok",
     "timestamp": 1615783168485,
     "user": {
      "displayName": "이보람",
      "photoUrl": "",
      "userId": "01536695193053509639"
     },
     "user_tz": -540
    },
    "id": "of5aZNFjz1_U"
   },
   "outputs": [],
   "source": [
    "# 결측치가 많은 칼럼이나 불필요한 칼럼 삭제결측치가 많은 칼럼이나 불필요한 칼럼 삭제"
   ]
  },
  {
   "cell_type": "code",
   "execution_count": 6,
   "metadata": {
    "executionInfo": {
     "elapsed": 3833,
     "status": "ok",
     "timestamp": 1615783168486,
     "user": {
      "displayName": "이보람",
      "photoUrl": "",
      "userId": "01536695193053509639"
     },
     "user_tz": -540
    },
    "id": "EGPm7bxSz1_V"
   },
   "outputs": [],
   "source": [
    "# nan 행 삭제\n",
    "nan_data=df.iloc[13236:13284,:]\n",
    "nan_data.index\n",
    "df.drop(nan_data.index,inplace = True)"
   ]
  },
  {
   "cell_type": "code",
   "execution_count": 7,
   "metadata": {
    "executionInfo": {
     "elapsed": 3824,
     "status": "ok",
     "timestamp": 1615783168487,
     "user": {
      "displayName": "이보람",
      "photoUrl": "",
      "userId": "01536695193053509639"
     },
     "user_tz": -540
    },
    "id": "oJh3NDOKz1_d"
   },
   "outputs": [],
   "source": [
    "# club nan 행 탐색\n",
    "df.Club.fillna('non_club', inplace = True)\n",
    "non_club_s=df[df.Club =='non_club'].index\n",
    "df.drop(non_club_s,inplace = True)  "
   ]
  },
  {
   "cell_type": "code",
   "execution_count": 295,
   "metadata": {
    "colab": {
     "base_uri": "https://localhost:8080/"
    },
    "executionInfo": {
     "elapsed": 3808,
     "status": "ok",
     "timestamp": 1615783168488,
     "user": {
      "displayName": "이보람",
      "photoUrl": "",
      "userId": "01536695193053509639"
     },
     "user_tz": -540
    },
    "id": "AeOeetim31vU",
    "outputId": "b25a1579-ef37-47d3-8604-1319adfda910"
   },
   "outputs": [
    {
     "data": {
      "text/plain": [
       "Index(['ID', 'Name', 'Age', 'Photo', 'Nationality', 'Flag', 'Overall',\n",
       "       'Potential', 'Club', 'Club Logo', 'Value', 'Wage', 'Special',\n",
       "       'Preferred Foot', 'International Reputation', 'Weak Foot',\n",
       "       'Skill Moves', 'Work Rate', 'Body Type', 'Real Face', 'Position',\n",
       "       'Jersey Number', 'Joined', 'Loaned From', 'Contract Valid Until',\n",
       "       'Height', 'Weight', 'LS', 'ST', 'RS', 'LW', 'LF', 'CF', 'RF', 'RW',\n",
       "       'LAM', 'CAM', 'RAM', 'LM', 'LCM', 'CM', 'RCM', 'RM', 'LWB', 'LDM',\n",
       "       'CDM', 'RDM', 'RWB', 'LB', 'LCB', 'CB', 'RCB', 'RB', 'Crossing',\n",
       "       'Finishing', 'HeadingAccuracy', 'ShortPassing', 'Volleys', 'Dribbling',\n",
       "       'Curve', 'FKAccuracy', 'LongPassing', 'BallControl', 'Acceleration',\n",
       "       'SprintSpeed', 'Agility', 'Reactions', 'Balance', 'ShotPower',\n",
       "       'Jumping', 'Stamina', 'Strength', 'LongShots', 'Aggression',\n",
       "       'Interceptions', 'Positioning', 'Vision', 'Penalties', 'Composure',\n",
       "       'Marking', 'StandingTackle', 'SlidingTackle', 'GKDiving', 'GKHandling',\n",
       "       'GKKicking', 'GKPositioning', 'GKReflexes', 'Release Clause',\n",
       "       'Attack_WR', 'Defence_WR'],\n",
       "      dtype='object')"
      ]
     },
     "execution_count": 295,
     "metadata": {
      "tags": []
     },
     "output_type": "execute_result"
    }
   ],
   "source": [
    "df.columns"
   ]
  },
  {
   "cell_type": "markdown",
   "metadata": {
    "id": "-Mb-wD1Kz1_k"
   },
   "source": [
    "## 파생변수 만들기"
   ]
  },
  {
   "cell_type": "markdown",
   "metadata": {
    "id": "I8UBxv_h4fUi"
   },
   "source": [
    "Age 범주화"
   ]
  },
  {
   "cell_type": "code",
   "execution_count": 8,
   "metadata": {
    "executionInfo": {
     "elapsed": 3787,
     "status": "ok",
     "timestamp": 1615783168489,
     "user": {
      "displayName": "이보람",
      "photoUrl": "",
      "userId": "01536695193053509639"
     },
     "user_tz": -540
    },
    "id": "tKtx8G7P4hxk"
   },
   "outputs": [],
   "source": [
    "# Age_C\n",
    "def Age_2(x):\n",
    "    if x <20 : return 1\n",
    "    elif (20<= x <=22): return 2\n",
    "    elif (23<= x <=24): return 3\n",
    "    elif (25<= x <= 26): return 4\n",
    "    elif (27<= x <= 29): return 5\n",
    "    elif (30<= x <=31): return 6\n",
    "    elif (32<= x <=33): return 7\n",
    "    elif (34 ==x): return 8\n",
    "    elif (35 <= x <= 38): return 9\n",
    "    elif (39 ==x): return 10\n",
    "    elif (40 <= x <= 45): return 11\n",
    "df['Age_C'] = df.Age.apply(Age_2) "
   ]
  },
  {
   "cell_type": "markdown",
   "metadata": {
    "id": "VWhYaXhY5Gax"
   },
   "source": [
    "Overall 범주화"
   ]
  },
  {
   "cell_type": "code",
   "execution_count": 9,
   "metadata": {
    "executionInfo": {
     "elapsed": 3775,
     "status": "ok",
     "timestamp": 1615783168489,
     "user": {
      "displayName": "이보람",
      "photoUrl": "",
      "userId": "01536695193053509639"
     },
     "user_tz": -540
    },
    "id": "oRRvJO254W9B"
   },
   "outputs": [],
   "source": [
    "# Over_C\n",
    "def Over_2(x):\n",
    "    if 46<= x <=62 : return 1\n",
    "    elif 63<= x <=68 : return 2\n",
    "    elif 69<= x <=72: return 3\n",
    "    elif 73<= x <=75: return 4\n",
    "    elif 76<= x <=78: return 5\n",
    "    elif 79<= x <=80: return 6\n",
    "    elif 81<= x <=82: return 7\n",
    "    elif 83==x: return 8\n",
    "    elif 84==x: return 9\n",
    "    elif 85==x: return 10\n",
    "    elif 86==x: return 11\n",
    "    elif 87==x: return 12\n",
    "    elif 88==x: return 13\n",
    "    elif 89==x: return 14\n",
    "    elif 90==x: return 15\n",
    "    elif 91==x: return 16\n",
    "    elif 92==x: return 17\n",
    "    elif 93<= x <=94 : return 18\n",
    "df['Over_C']=df.Overall.apply(Over_2)"
   ]
  },
  {
   "cell_type": "markdown",
   "metadata": {
    "id": "ivtJq7na5VKD"
   },
   "source": [
    "Club \n",
    "1. Club_Value\n",
    "2. Rich_Club\n",
    "3. Overall_Club"
   ]
  },
  {
   "cell_type": "code",
   "execution_count": 10,
   "metadata": {
    "executionInfo": {
     "elapsed": 3767,
     "status": "ok",
     "timestamp": 1615783168490,
     "user": {
      "displayName": "이보람",
      "photoUrl": "",
      "userId": "01536695193053509639"
     },
     "user_tz": -540
    },
    "id": "kaQNuzNQ7UL2"
   },
   "outputs": [],
   "source": [
    "import statsmodels.formula.api as smf\n",
    "import statsmodels.api as sm"
   ]
  },
  {
   "cell_type": "markdown",
   "metadata": {
    "id": "SaXevaCt51sD"
   },
   "source": [
    "Club_Value"
   ]
  },
  {
   "cell_type": "code",
   "execution_count": 11,
   "metadata": {
    "colab": {
     "base_uri": "https://localhost:8080/",
     "height": 544
    },
    "executionInfo": {
     "elapsed": 4896,
     "status": "ok",
     "timestamp": 1615783169638,
     "user": {
      "displayName": "이보람",
      "photoUrl": "",
      "userId": "01536695193053509639"
     },
     "user_tz": -540
    },
    "id": "_-_5MAdNz1_r",
    "outputId": "bb41bdd5-4f6e-43e5-ea91-710b152ccdae"
   },
   "outputs": [
    {
     "data": {
      "text/plain": [
       "<matplotlib.axes._subplots.AxesSubplot at 0x26782952640>"
      ]
     },
     "execution_count": 11,
     "metadata": {},
     "output_type": "execute_result"
    },
    {
     "data": {
      "image/png": "[encoded data removed]",
      "text/plain": [
       "<Figure size 1440x720 with 1 Axes>"
      ]
     },
     "metadata": {
      "needs_background": "light"
     },
     "output_type": "display_data"
    }
   ],
   "source": [
    "import seaborn as sns\n",
    "# 클럽 구단 가치 \n",
    "group = df.groupby('Club')['Value'].sum().reset_index().sort_values('Value', ascending = False).head(50)\n",
    "plt.figure(figsize = (20,10))\n",
    "sns.barplot(x = 'Value', y = 'Club', data = group)"
   ]
  },
  {
   "cell_type": "code",
   "execution_count": 12,
   "metadata": {
    "colab": {
     "base_uri": "https://localhost:8080/",
     "height": 225
    },
    "executionInfo": {
     "elapsed": 4871,
     "status": "ok",
     "timestamp": 1615783169642,
     "user": {
      "displayName": "이보람",
      "photoUrl": "",
      "userId": "01536695193053509639"
     },
     "user_tz": -540
    },
    "id": "dtQYbdghz1_u",
    "outputId": "fa6c0718-a581-4d64-d4ae-b7f80b2a2ba8"
   },
   "outputs": [
    {
     "data": {
      "text/html": [
       "<div>\n",
       "<style scoped>\n",
       "    .dataframe tbody tr th:only-of-type {\n",
       "        vertical-align: middle;\n",
       "    }\n",
       "\n",
       "    .dataframe tbody tr th {\n",
       "        vertical-align: top;\n",
       "    }\n",
       "\n",
       "    .dataframe thead th {\n",
       "        text-align: right;\n",
       "    }\n",
       "</style>\n",
       "<table border=\"1\" class=\"dataframe\">\n",
       "  <thead>\n",
       "    <tr style=\"text-align: right;\">\n",
       "      <th></th>\n",
       "      <th>Value</th>\n",
       "    </tr>\n",
       "    <tr>\n",
       "      <th>Club</th>\n",
       "      <th></th>\n",
       "    </tr>\n",
       "  </thead>\n",
       "  <tbody>\n",
       "    <tr>\n",
       "      <th>Real Madrid</th>\n",
       "      <td>874425.0</td>\n",
       "    </tr>\n",
       "    <tr>\n",
       "      <th>FC Barcelona</th>\n",
       "      <td>852600.0</td>\n",
       "    </tr>\n",
       "    <tr>\n",
       "      <th>Manchester City</th>\n",
       "      <td>786555.0</td>\n",
       "    </tr>\n",
       "    <tr>\n",
       "      <th>Juventus</th>\n",
       "      <td>704475.0</td>\n",
       "    </tr>\n",
       "    <tr>\n",
       "      <th>FC Bayern München</th>\n",
       "      <td>679025.0</td>\n",
       "    </tr>\n",
       "  </tbody>\n",
       "</table>\n",
       "</div>"
      ],
      "text/plain": [
       "                      Value\n",
       "Club                       \n",
       "Real Madrid        874425.0\n",
       "FC Barcelona       852600.0\n",
       "Manchester City    786555.0\n",
       "Juventus           704475.0\n",
       "FC Bayern München  679025.0"
      ]
     },
     "execution_count": 12,
     "metadata": {},
     "output_type": "execute_result"
    }
   ],
   "source": [
    "group = df.groupby(['Club'])[['Value']]\n",
    "cmed= group.sum().sort_values(by=['Value'], ascending = False)\n",
    "cmed.head()"
   ]
  },
  {
   "cell_type": "code",
   "execution_count": 13,
   "metadata": {
    "colab": {
     "base_uri": "https://localhost:8080/",
     "height": 284
    },
    "executionInfo": {
     "elapsed": 4841,
     "status": "ok",
     "timestamp": 1615783169644,
     "user": {
      "displayName": "이보람",
      "photoUrl": "",
      "userId": "01536695193053509639"
     },
     "user_tz": -540
    },
    "id": "uIRDdjYa9BVV",
    "outputId": "19d704ec-a88e-4c97-91c5-c103c1677a2f"
   },
   "outputs": [
    {
     "data": {
      "text/html": [
       "<div>\n",
       "<style scoped>\n",
       "    .dataframe tbody tr th:only-of-type {\n",
       "        vertical-align: middle;\n",
       "    }\n",
       "\n",
       "    .dataframe tbody tr th {\n",
       "        vertical-align: top;\n",
       "    }\n",
       "\n",
       "    .dataframe thead th {\n",
       "        text-align: right;\n",
       "    }\n",
       "</style>\n",
       "<table border=\"1\" class=\"dataframe\">\n",
       "  <thead>\n",
       "    <tr style=\"text-align: right;\">\n",
       "      <th></th>\n",
       "      <th>Value</th>\n",
       "    </tr>\n",
       "  </thead>\n",
       "  <tbody>\n",
       "    <tr>\n",
       "      <th>count</th>\n",
       "      <td>651.000000</td>\n",
       "    </tr>\n",
       "    <tr>\n",
       "      <th>mean</th>\n",
       "      <td>67395.591398</td>\n",
       "    </tr>\n",
       "    <tr>\n",
       "      <th>std</th>\n",
       "      <td>109255.819191</td>\n",
       "    </tr>\n",
       "    <tr>\n",
       "      <th>min</th>\n",
       "      <td>1930.000000</td>\n",
       "    </tr>\n",
       "    <tr>\n",
       "      <th>25%</th>\n",
       "      <td>15277.500000</td>\n",
       "    </tr>\n",
       "    <tr>\n",
       "      <th>50%</th>\n",
       "      <td>30520.000000</td>\n",
       "    </tr>\n",
       "    <tr>\n",
       "      <th>75%</th>\n",
       "      <td>65742.500000</td>\n",
       "    </tr>\n",
       "    <tr>\n",
       "      <th>max</th>\n",
       "      <td>874425.000000</td>\n",
       "    </tr>\n",
       "  </tbody>\n",
       "</table>\n",
       "</div>"
      ],
      "text/plain": [
       "               Value\n",
       "count     651.000000\n",
       "mean    67395.591398\n",
       "std    109255.819191\n",
       "min      1930.000000\n",
       "25%     15277.500000\n",
       "50%     30520.000000\n",
       "75%     65742.500000\n",
       "max    874425.000000"
      ]
     },
     "execution_count": 13,
     "metadata": {},
     "output_type": "execute_result"
    }
   ],
   "source": [
    "cmed.describe()"
   ]
  },
  {
   "cell_type": "code",
   "execution_count": 14,
   "metadata": {
    "executionInfo": {
     "elapsed": 4815,
     "status": "ok",
     "timestamp": 1615783169645,
     "user": {
      "displayName": "이보람",
      "photoUrl": "",
      "userId": "01536695193053509639"
     },
     "user_tz": -540
    },
    "id": "TGWb5tOD7xEX"
   },
   "outputs": [],
   "source": [
    "club1=list(cmed.query('Value>=65742.5').index)\n",
    "club1\n",
    "club2=list(cmed.query('Value>=30520 & Value<65742.5').index)\n",
    "club2\n",
    "club3=list(cmed.query('Value>=15277.5 & Value <30520').index)\n",
    "club4=list(cmed.query('Value<15277.5').index)\n",
    "df.insert(7,'Club_Value',\n",
    "            df.apply(lambda x: \n",
    "            3 if x['Club'] in club1\n",
    "            else 2 if x['Club'] in club2\n",
    "            else 1 if x['Club'] in  club3\n",
    "            else 0, axis =1))"
   ]
  },
  {
   "cell_type": "markdown",
   "metadata": {
    "id": "CxSiq8UZ71Eo"
   },
   "source": [
    "Rich_Club"
   ]
  },
  {
   "cell_type": "code",
   "execution_count": 15,
   "metadata": {
    "colab": {
     "base_uri": "https://localhost:8080/",
     "height": 624
    },
    "executionInfo": {
     "elapsed": 5334,
     "status": "ok",
     "timestamp": 1615783170185,
     "user": {
      "displayName": "이보람",
      "photoUrl": "",
      "userId": "01536695193053509639"
     },
     "user_tz": -540
    },
    "id": "zeLCC5wt767W",
    "outputId": "08df3724-2230-4e1b-8ef4-f62d73bb5e9b"
   },
   "outputs": [
    {
     "data": {
      "text/plain": [
       "<matplotlib.axes._subplots.AxesSubplot at 0x267852ccbb0>"
      ]
     },
     "execution_count": 15,
     "metadata": {},
     "output_type": "execute_result"
    },
    {
     "data": {
      "image/png": "[encoded data removed]",
      "text/plain": [
       "<Figure size 1440x720 with 1 Axes>"
      ]
     },
     "metadata": {
      "needs_background": "light"
     },
     "output_type": "display_data"
    }
   ],
   "source": [
    "group3 = df.groupby('Club')['Wage'].sum().reset_index().sort_values('Wage', ascending = False).head(50)\n",
    "plt.figure(figsize = (20,10))\n",
    "sns.barplot(x = 'Wage', y = 'Club', data = group3)"
   ]
  },
  {
   "cell_type": "code",
   "execution_count": 16,
   "metadata": {
    "executionInfo": {
     "elapsed": 5320,
     "status": "ok",
     "timestamp": 1615783170187,
     "user": {
      "displayName": "이보람",
      "photoUrl": "",
      "userId": "01536695193053509639"
     },
     "user_tz": -540
    },
    "id": "r55wJgXk8vKA"
   },
   "outputs": [],
   "source": [
    "group3 = df.groupby(['Club'])[['Wage']]\n",
    "cmed1= group3.sum().sort_values(by=['Wage'], ascending = False)"
   ]
  },
  {
   "cell_type": "code",
   "execution_count": 17,
   "metadata": {
    "colab": {
     "base_uri": "https://localhost:8080/",
     "height": 284
    },
    "executionInfo": {
     "elapsed": 5304,
     "status": "ok",
     "timestamp": 1615783170188,
     "user": {
      "displayName": "이보람",
      "photoUrl": "",
      "userId": "01536695193053509639"
     },
     "user_tz": -540
    },
    "id": "3pDPQ9Sa8d9D",
    "outputId": "ec5955f4-8588-4c05-920f-e4177e75bf21"
   },
   "outputs": [
    {
     "data": {
      "text/html": [
       "<div>\n",
       "<style scoped>\n",
       "    .dataframe tbody tr th:only-of-type {\n",
       "        vertical-align: middle;\n",
       "    }\n",
       "\n",
       "    .dataframe tbody tr th {\n",
       "        vertical-align: top;\n",
       "    }\n",
       "\n",
       "    .dataframe thead th {\n",
       "        text-align: right;\n",
       "    }\n",
       "</style>\n",
       "<table border=\"1\" class=\"dataframe\">\n",
       "  <thead>\n",
       "    <tr style=\"text-align: right;\">\n",
       "      <th></th>\n",
       "      <th>Wage</th>\n",
       "    </tr>\n",
       "  </thead>\n",
       "  <tbody>\n",
       "    <tr>\n",
       "      <th>count</th>\n",
       "      <td>651.000000</td>\n",
       "    </tr>\n",
       "    <tr>\n",
       "      <th>mean</th>\n",
       "      <td>272.038402</td>\n",
       "    </tr>\n",
       "    <tr>\n",
       "      <th>std</th>\n",
       "      <td>499.444787</td>\n",
       "    </tr>\n",
       "    <tr>\n",
       "      <th>min</th>\n",
       "      <td>19.000000</td>\n",
       "    </tr>\n",
       "    <tr>\n",
       "      <th>25%</th>\n",
       "      <td>60.500000</td>\n",
       "    </tr>\n",
       "    <tr>\n",
       "      <th>50%</th>\n",
       "      <td>108.000000</td>\n",
       "    </tr>\n",
       "    <tr>\n",
       "      <th>75%</th>\n",
       "      <td>261.500000</td>\n",
       "    </tr>\n",
       "    <tr>\n",
       "      <th>max</th>\n",
       "      <td>5017.000000</td>\n",
       "    </tr>\n",
       "  </tbody>\n",
       "</table>\n",
       "</div>"
      ],
      "text/plain": [
       "              Wage\n",
       "count   651.000000\n",
       "mean    272.038402\n",
       "std     499.444787\n",
       "min      19.000000\n",
       "25%      60.500000\n",
       "50%     108.000000\n",
       "75%     261.500000\n",
       "max    5017.000000"
      ]
     },
     "execution_count": 17,
     "metadata": {},
     "output_type": "execute_result"
    }
   ],
   "source": [
    "cmed1.describe()"
   ]
  },
  {
   "cell_type": "code",
   "execution_count": 18,
   "metadata": {
    "executionInfo": {
     "elapsed": 5737,
     "status": "ok",
     "timestamp": 1615783170638,
     "user": {
      "displayName": "이보람",
      "photoUrl": "",
      "userId": "01536695193053509639"
     },
     "user_tz": -540
    },
    "id": "_de8VTZ89KsJ"
   },
   "outputs": [],
   "source": [
    "club11=list(cmed1.query('Wage>=261.5').index)\n",
    "club11\n",
    "club22=list(cmed1.query('Wage>=108 & Wage<261.5').index)\n",
    "club22\n",
    "club33=list(cmed1.query('Wage>=60.5 & Wage <108').index)\n",
    "club44=list(cmed1.query('Wage<60.5').index)\n",
    "df.insert(7,'Rich_Club',\n",
    "            df.apply(lambda x: \n",
    "            3 if x['Club'] in club11\n",
    "            else 2 if x['Club'] in club22\n",
    "            else 1 if x['Club'] in  club33\n",
    "            else 0, axis =1))"
   ]
  },
  {
   "cell_type": "markdown",
   "metadata": {
    "id": "qlLkPEkVz1_f"
   },
   "source": [
    "## 불필요한 컬럼 1차 삭제\n",
    "- 불필요\n",
    "- 파생변수 만들 칼럼들:\n",
    "- 다른 칼럼과 중복"
   ]
  },
  {
   "cell_type": "code",
   "execution_count": 35,
   "metadata": {
    "executionInfo": {
     "elapsed": 5723,
     "status": "ok",
     "timestamp": 1615783170639,
     "user": {
      "displayName": "이보람",
      "photoUrl": "",
      "userId": "01536695193053509639"
     },
     "user_tz": -540
    },
    "id": "I2L9hyAyz1_g"
   },
   "outputs": [],
   "source": [
    "df.drop(['Nationality','Work Rate','Photo', 'Flag','Club Logo',\n",
    "        'ID','Body Type','Height', 'Weight',\n",
    "        'Attack_WR', 'Defence_WR','Preferred Foot',\n",
    "        'Release Clause'], axis=1, inplace = True)"
   ]
  },
  {
   "cell_type": "code",
   "execution_count": 308,
   "metadata": {
    "executionInfo": {
     "elapsed": 5713,
     "status": "ok",
     "timestamp": 1615783170640,
     "user": {
      "displayName": "이보람",
      "photoUrl": "",
      "userId": "01536695193053509639"
     },
     "user_tz": -540
    },
    "id": "rEuGXEe7z1_g"
   },
   "outputs": [],
   "source": [
    "# joined, contract Valid Unitil(기간 계산기간 계산)"
   ]
  },
  {
   "cell_type": "code",
   "execution_count": 36,
   "metadata": {
    "executionInfo": {
     "elapsed": 6028,
     "status": "ok",
     "timestamp": 1615783170965,
     "user": {
      "displayName": "이보람",
      "photoUrl": "",
      "userId": "01536695193053509639"
     },
     "user_tz": -540
    },
    "id": "gb66XTtYz1_h"
   },
   "outputs": [],
   "source": [
    "df['Joined'] = pd.to_datetime(df['Joined'])"
   ]
  },
  {
   "cell_type": "code",
   "execution_count": 37,
   "metadata": {
    "executionInfo": {
     "elapsed": 6018,
     "status": "ok",
     "timestamp": 1615783170966,
     "user": {
      "displayName": "이보람",
      "photoUrl": "",
      "userId": "01536695193053509639"
     },
     "user_tz": -540
    },
    "id": "Gneyffejz1_i"
   },
   "outputs": [],
   "source": [
    "df['Contract Valid Until'] = pd.to_datetime(df['Contract Valid Until'])"
   ]
  },
  {
   "cell_type": "code",
   "execution_count": 38,
   "metadata": {
    "executionInfo": {
     "elapsed": 6007,
     "status": "ok",
     "timestamp": 1615783170967,
     "user": {
      "displayName": "이보람",
      "photoUrl": "",
      "userId": "01536695193053509639"
     },
     "user_tz": -540
    },
    "id": "MSI9u6r5z1_i"
   },
   "outputs": [],
   "source": [
    "df['Loaned From'].fillna(0,inplace=True)"
   ]
  },
  {
   "cell_type": "code",
   "execution_count": 39,
   "metadata": {
    "executionInfo": {
     "elapsed": 6306,
     "status": "ok",
     "timestamp": 1615783171275,
     "user": {
      "displayName": "이보람",
      "photoUrl": "",
      "userId": "01536695193053509639"
     },
     "user_tz": -540
    },
    "id": "rC-WgbsAz1_j"
   },
   "outputs": [],
   "source": [
    "# 파생변수 만들기 : 임대 선수 0, 구단 소속선수 1\n",
    "def Loaned(df):\n",
    "    if (df['Loaned From']==0):\n",
    "        return 1\n",
    "    else:\n",
    "        return 0\n",
    "df['Loaned']=df.apply(Loaned,axis=1)"
   ]
  },
  {
   "cell_type": "markdown",
   "metadata": {
    "id": "suYGzdJS9sCt"
   },
   "source": [
    "Special_spc\n",
    "- potential = overal +나이 점수(어릴수록 높음)\n",
    "- special = sum\n",
    "\n",
    "('Crossing', 'Finishing', 'HeadingAccuracy', 'ShortPassing', 'Volleys','Dribbling', 'Curve', 'FKAccuracy', 'LongPassing', 'BallControl',\n",
    "       'Acceleration', 'SprintSpeed', 'Agility', 'Reactions', 'Balance',\n",
    "       'ShotPower', 'Jumping', 'Stamina', 'Strength', 'LongShots',\n",
    "       'Aggression', 'Interceptions', 'Positioning', 'Vision', 'Penalties',\n",
    "       'Composure', 'Marking', 'StandingTackle', 'SlidingTackle') - ('Compouser )\n",
    "\n",
    " 그래서 special_spc = df.potential + df.special+ df.composure"
   ]
  },
  {
   "cell_type": "code",
   "execution_count": 23,
   "metadata": {
    "executionInfo": {
     "elapsed": 6270,
     "status": "ok",
     "timestamp": 1615783171276,
     "user": {
      "displayName": "이보람",
      "photoUrl": "",
      "userId": "01536695193053509639"
     },
     "user_tz": -540
    },
    "id": "7ngcnn96_PJl"
   },
   "outputs": [],
   "source": [
    "df['Special_sp']=df.Special+df.Composure"
   ]
  },
  {
   "cell_type": "markdown",
   "metadata": {
    "id": "B8dYygW3-jIi"
   },
   "source": [
    "Position_Score = \n",
    "가정,overall보다 Wage와 상관관계가 좋지 않을까?"
   ]
  },
  {
   "cell_type": "code",
   "execution_count": 24,
   "metadata": {
    "executionInfo": {
     "elapsed": 6502,
     "status": "ok",
     "timestamp": 1615783171537,
     "user": {
      "displayName": "이보람",
      "photoUrl": "",
      "userId": "01536695193053509639"
     },
     "user_tz": -540
    },
    "id": "prP-3yJdBBQ8"
   },
   "outputs": [],
   "source": [
    "# 파생변수 1 Position_Class\n",
    "df.insert(9,'Position_Class',\n",
    "            df.apply(lambda x: \n",
    "            'Forward' if x['Position'] in ['LS','ST','RS','LW','LF','CF','RF','RW']\n",
    "            else 'Midfielder' if x['Position'] in ['LAM','CAM','RAM','LM','LCM','CM',\n",
    "                                                   'RCM','RM']\n",
    "            else 'Defender' if x['Position'] in  ['LWB','LDM','CDM','RDM','RWB','LB',\n",
    "                                                  'LCB','CB','RCB','RB']\n",
    "            else 'GoalKeeper', axis =1))"
   ]
  },
  {
   "cell_type": "code",
   "execution_count": 41,
   "metadata": {
    "colab": {
     "base_uri": "https://localhost:8080/",
     "height": 362
    },
    "executionInfo": {
     "elapsed": 6482,
     "status": "ok",
     "timestamp": 1615783171538,
     "user": {
      "displayName": "이보람",
      "photoUrl": "",
      "userId": "01536695193053509639"
     },
     "user_tz": -540
    },
    "id": "Z5GtOWNL-iEw",
    "outputId": "e8872589-e146-4bee-ee04-8aada1c04e86"
   },
   "outputs": [
    {
     "data": {
      "text/html": [
       "<div>\n",
       "<style scoped>\n",
       "    .dataframe tbody tr th:only-of-type {\n",
       "        vertical-align: middle;\n",
       "    }\n",
       "\n",
       "    .dataframe tbody tr th {\n",
       "        vertical-align: top;\n",
       "    }\n",
       "\n",
       "    .dataframe thead th {\n",
       "        text-align: right;\n",
       "    }\n",
       "</style>\n",
       "<table border=\"1\" class=\"dataframe\">\n",
       "  <thead>\n",
       "    <tr style=\"text-align: right;\">\n",
       "      <th></th>\n",
       "      <th>Name</th>\n",
       "      <th>Age</th>\n",
       "      <th>Overall</th>\n",
       "      <th>Rich_Club</th>\n",
       "      <th>Club_Value</th>\n",
       "      <th>Position_Class</th>\n",
       "      <th>Potential</th>\n",
       "      <th>Club</th>\n",
       "      <th>Value</th>\n",
       "      <th>Wage</th>\n",
       "      <th>...</th>\n",
       "      <th>SlidingTackle</th>\n",
       "      <th>GKDiving</th>\n",
       "      <th>GKHandling</th>\n",
       "      <th>GKKicking</th>\n",
       "      <th>GKPositioning</th>\n",
       "      <th>GKReflexes</th>\n",
       "      <th>Age_C</th>\n",
       "      <th>Over_C</th>\n",
       "      <th>Loaned</th>\n",
       "      <th>Special_sp</th>\n",
       "    </tr>\n",
       "  </thead>\n",
       "  <tbody>\n",
       "    <tr>\n",
       "      <th>0</th>\n",
       "      <td>L. Messi</td>\n",
       "      <td>31</td>\n",
       "      <td>94</td>\n",
       "      <td>3</td>\n",
       "      <td>3</td>\n",
       "      <td>Forward</td>\n",
       "      <td>94</td>\n",
       "      <td>FC Barcelona</td>\n",
       "      <td>110500.0</td>\n",
       "      <td>565.0</td>\n",
       "      <td>...</td>\n",
       "      <td>26.0</td>\n",
       "      <td>6.0</td>\n",
       "      <td>11.0</td>\n",
       "      <td>15.0</td>\n",
       "      <td>14.0</td>\n",
       "      <td>8.0</td>\n",
       "      <td>6</td>\n",
       "      <td>18</td>\n",
       "      <td>1</td>\n",
       "      <td>2298.0</td>\n",
       "    </tr>\n",
       "    <tr>\n",
       "      <th>1</th>\n",
       "      <td>Cristiano Ronaldo</td>\n",
       "      <td>33</td>\n",
       "      <td>94</td>\n",
       "      <td>3</td>\n",
       "      <td>3</td>\n",
       "      <td>Forward</td>\n",
       "      <td>94</td>\n",
       "      <td>Juventus</td>\n",
       "      <td>77000.0</td>\n",
       "      <td>405.0</td>\n",
       "      <td>...</td>\n",
       "      <td>23.0</td>\n",
       "      <td>7.0</td>\n",
       "      <td>11.0</td>\n",
       "      <td>15.0</td>\n",
       "      <td>14.0</td>\n",
       "      <td>11.0</td>\n",
       "      <td>7</td>\n",
       "      <td>18</td>\n",
       "      <td>1</td>\n",
       "      <td>2323.0</td>\n",
       "    </tr>\n",
       "    <tr>\n",
       "      <th>2</th>\n",
       "      <td>Neymar Jr</td>\n",
       "      <td>26</td>\n",
       "      <td>92</td>\n",
       "      <td>3</td>\n",
       "      <td>3</td>\n",
       "      <td>Forward</td>\n",
       "      <td>93</td>\n",
       "      <td>Paris Saint-Germain</td>\n",
       "      <td>118500.0</td>\n",
       "      <td>290.0</td>\n",
       "      <td>...</td>\n",
       "      <td>33.0</td>\n",
       "      <td>9.0</td>\n",
       "      <td>9.0</td>\n",
       "      <td>15.0</td>\n",
       "      <td>15.0</td>\n",
       "      <td>11.0</td>\n",
       "      <td>4</td>\n",
       "      <td>17</td>\n",
       "      <td>1</td>\n",
       "      <td>2237.0</td>\n",
       "    </tr>\n",
       "    <tr>\n",
       "      <th>4</th>\n",
       "      <td>K. De Bruyne</td>\n",
       "      <td>27</td>\n",
       "      <td>91</td>\n",
       "      <td>3</td>\n",
       "      <td>3</td>\n",
       "      <td>Midfielder</td>\n",
       "      <td>92</td>\n",
       "      <td>Manchester City</td>\n",
       "      <td>102000.0</td>\n",
       "      <td>355.0</td>\n",
       "      <td>...</td>\n",
       "      <td>51.0</td>\n",
       "      <td>15.0</td>\n",
       "      <td>13.0</td>\n",
       "      <td>5.0</td>\n",
       "      <td>10.0</td>\n",
       "      <td>13.0</td>\n",
       "      <td>5</td>\n",
       "      <td>16</td>\n",
       "      <td>1</td>\n",
       "      <td>2369.0</td>\n",
       "    </tr>\n",
       "    <tr>\n",
       "      <th>5</th>\n",
       "      <td>E. Hazard</td>\n",
       "      <td>27</td>\n",
       "      <td>91</td>\n",
       "      <td>3</td>\n",
       "      <td>3</td>\n",
       "      <td>Forward</td>\n",
       "      <td>91</td>\n",
       "      <td>Chelsea</td>\n",
       "      <td>93000.0</td>\n",
       "      <td>340.0</td>\n",
       "      <td>...</td>\n",
       "      <td>22.0</td>\n",
       "      <td>11.0</td>\n",
       "      <td>12.0</td>\n",
       "      <td>6.0</td>\n",
       "      <td>8.0</td>\n",
       "      <td>8.0</td>\n",
       "      <td>5</td>\n",
       "      <td>16</td>\n",
       "      <td>1</td>\n",
       "      <td>2233.0</td>\n",
       "    </tr>\n",
       "  </tbody>\n",
       "</table>\n",
       "<p>5 rows × 84 columns</p>\n",
       "</div>"
      ],
      "text/plain": [
       "                Name  Age  Overall  Rich_Club  Club_Value Position_Class  \\\n",
       "0           L. Messi   31       94          3           3        Forward   \n",
       "1  Cristiano Ronaldo   33       94          3           3        Forward   \n",
       "2          Neymar Jr   26       92          3           3        Forward   \n",
       "4       K. De Bruyne   27       91          3           3     Midfielder   \n",
       "5          E. Hazard   27       91          3           3        Forward   \n",
       "\n",
       "   Potential                 Club     Value   Wage  ...  SlidingTackle  \\\n",
       "0         94         FC Barcelona  110500.0  565.0  ...           26.0   \n",
       "1         94             Juventus   77000.0  405.0  ...           23.0   \n",
       "2         93  Paris Saint-Germain  118500.0  290.0  ...           33.0   \n",
       "4         92      Manchester City  102000.0  355.0  ...           51.0   \n",
       "5         91              Chelsea   93000.0  340.0  ...           22.0   \n",
       "\n",
       "   GKDiving  GKHandling  GKKicking GKPositioning GKReflexes  Age_C Over_C  \\\n",
       "0       6.0        11.0       15.0          14.0        8.0      6     18   \n",
       "1       7.0        11.0       15.0          14.0       11.0      7     18   \n",
       "2       9.0         9.0       15.0          15.0       11.0      4     17   \n",
       "4      15.0        13.0        5.0          10.0       13.0      5     16   \n",
       "5      11.0        12.0        6.0           8.0        8.0      5     16   \n",
       "\n",
       "  Loaned Special_sp  \n",
       "0      1     2298.0  \n",
       "1      1     2323.0  \n",
       "2      1     2237.0  \n",
       "4      1     2369.0  \n",
       "5      1     2233.0  \n",
       "\n",
       "[5 rows x 84 columns]"
      ]
     },
     "execution_count": 41,
     "metadata": {},
     "output_type": "execute_result"
    }
   ],
   "source": [
    "df1=df[df['Position']!='GK']\n",
    "df1.head()"
   ]
  },
  {
   "cell_type": "code",
   "execution_count": 42,
   "metadata": {
    "executionInfo": {
     "elapsed": 6467,
     "status": "ok",
     "timestamp": 1615783171539,
     "user": {
      "displayName": "이보람",
      "photoUrl": "",
      "userId": "01536695193053509639"
     },
     "user_tz": -540
    },
    "id": "OKQlRPLK9rgi"
   },
   "outputs": [],
   "source": [
    "def exchange1(value):\n",
    "    out1 = value.split('+')[0]\n",
    "    out2 = value.split('+')[1]\n",
    "    return int(out1)+int(out2)  "
   ]
  },
  {
   "cell_type": "code",
   "execution_count": 43,
   "metadata": {
    "executionInfo": {
     "elapsed": 6983,
     "status": "ok",
     "timestamp": 1615783172066,
     "user": {
      "displayName": "이보람",
      "photoUrl": "",
      "userId": "01536695193053509639"
     },
     "user_tz": -540
    },
    "id": "KIsw90rH-dND"
   },
   "outputs": [],
   "source": [
    "df1.LS = df1.LS.apply(lambda x: exchange1(x))\n",
    "df1.ST = df1.ST.apply(lambda x: exchange1(x))\n",
    "df1.RS = df1.RS.apply(lambda x: exchange1(x))\n",
    "df1.LW = df1.LW.apply(lambda x: exchange1(x))\n",
    "df1.LF = df1.LF.apply(lambda x: exchange1(x))\n",
    "df1.CF = df1.CF.apply(lambda x: exchange1(x))\n",
    "df1.RF = df1.RF.apply(lambda x: exchange1(x))\n",
    "df1.RW = df1.RW.apply(lambda x: exchange1(x))\n",
    "df1.LAM = df1.LAM.apply(lambda x: exchange1(x))\n",
    "df1.CAM = df1.CAM.apply(lambda x: exchange1(x))\n",
    "df1.RAM = df1.RAM.apply(lambda x: exchange1(x))\n",
    "df1.LM = df1.LM.apply(lambda x: exchange1(x))\n",
    "df1.LCM = df1.LCM.apply(lambda x: exchange1(x))\n",
    "df1.CM = df1.CM.apply(lambda x: exchange1(x))\n",
    "df1.RCM = df1.RCM.apply(lambda x: exchange1(x))\n",
    "df1.RM = df1.RM.apply(lambda x: exchange1(x))\n",
    "df1.LWB = df1.LWB.apply(lambda x: exchange1(x))\n",
    "df1.LDM = df1.LDM.apply(lambda x: exchange1(x))\n",
    "df1.CDM = df1.CDM.apply(lambda x: exchange1(x))\n",
    "df1.RDM = df1.RDM.apply(lambda x: exchange1(x))\n",
    "df1.RWB = df1.RWB.apply(lambda x: exchange1(x))\n",
    "df1.LB = df1.LB.apply(lambda x: exchange1(x))\n",
    "df1.LCB = df1.LCB.apply(lambda x: exchange1(x))\n",
    "df1.CB = df1.CB.apply(lambda x: exchange1(x))\n",
    "df1.RCB = df1.RCB.apply(lambda x: exchange1(x))\n",
    "df1.RB = df1.RB.apply(lambda x: exchange1(x))"
   ]
  },
  {
   "cell_type": "code",
   "execution_count": 44,
   "metadata": {
    "executionInfo": {
     "elapsed": 6973,
     "status": "ok",
     "timestamp": 1615783172068,
     "user": {
      "displayName": "이보람",
      "photoUrl": "",
      "userId": "01536695193053509639"
     },
     "user_tz": -540
    },
    "id": "R8GSEYHc-dnS"
   },
   "outputs": [],
   "source": [
    "forw=['LS', 'ST', 'RS', 'LW', 'LF', 'CF', 'RF', 'RW']\n",
    "mid=['LAM', 'CAM', 'RAM', 'LM', 'LCM', 'CM', 'RCM', 'RM']\n",
    "defen=['LWB', 'LDM','CDM', 'RDM', 'RWB', 'LB', 'LCB', 'CB', 'RCB', 'RB']"
   ]
  },
  {
   "cell_type": "code",
   "execution_count": 45,
   "metadata": {
    "executionInfo": {
     "elapsed": 6962,
     "status": "ok",
     "timestamp": 1615783172069,
     "user": {
      "displayName": "이보람",
      "photoUrl": "",
      "userId": "01536695193053509639"
     },
     "user_tz": -540
    },
    "id": "51ElqicB_Jbm"
   },
   "outputs": [],
   "source": [
    "df1['forward']=df1[forw].mean(axis=1).round(0)\n",
    "df1['midfielder']=df1[mid].mean(axis=1).round(0)\n",
    "df1['defender']=df1[defen].mean(axis=1).round(0)"
   ]
  },
  {
   "cell_type": "code",
   "execution_count": 46,
   "metadata": {
    "executionInfo": {
     "elapsed": 7201,
     "status": "ok",
     "timestamp": 1615783172359,
     "user": {
      "displayName": "이보람",
      "photoUrl": "",
      "userId": "01536695193053509639"
     },
     "user_tz": -540
    },
    "id": "o_Dy-m1O_Jet"
   },
   "outputs": [],
   "source": [
    "df1['Position_Score']=np.nan"
   ]
  },
  {
   "cell_type": "code",
   "execution_count": 50,
   "metadata": {},
   "outputs": [
    {
     "data": {
      "text/plain": [
       "Index(['Name', 'Age', 'Overall', 'Rich_Club', 'Club_Value', 'Position_Class',\n",
       "       'Potential', 'Club', 'Value', 'Wage', 'Special',\n",
       "       'International Reputation', 'Weak Foot', 'Skill Moves', 'Real Face',\n",
       "       'Position', 'Jersey Number', 'Joined', 'Loaned From',\n",
       "       'Contract Valid Until', 'LS', 'ST', 'RS', 'LW', 'LF', 'CF', 'RF', 'RW',\n",
       "       'LAM', 'CAM', 'RAM', 'LM', 'LCM', 'CM', 'RCM', 'RM', 'LWB', 'LDM',\n",
       "       'CDM', 'RDM', 'RWB', 'LB', 'LCB', 'CB', 'RCB', 'RB', 'Crossing',\n",
       "       'Finishing', 'HeadingAccuracy', 'ShortPassing', 'Volleys', 'Dribbling',\n",
       "       'Curve', 'FKAccuracy', 'LongPassing', 'BallControl', 'Acceleration',\n",
       "       'SprintSpeed', 'Agility', 'Reactions', 'Balance', 'ShotPower',\n",
       "       'Jumping', 'Stamina', 'Strength', 'LongShots', 'Aggression',\n",
       "       'Interceptions', 'Positioning', 'Vision', 'Penalties', 'Composure',\n",
       "       'Marking', 'StandingTackle', 'SlidingTackle', 'GKDiving', 'GKHandling',\n",
       "       'GKKicking', 'GKPositioning', 'GKReflexes', 'Age_C', 'Over_C', 'Loaned',\n",
       "       'Special_sp'],\n",
       "      dtype='object')"
      ]
     },
     "execution_count": 50,
     "metadata": {},
     "output_type": "execute_result"
    }
   ],
   "source": [
    "df.columns"
   ]
  },
  {
   "cell_type": "code",
   "execution_count": 51,
   "metadata": {
    "colab": {
     "base_uri": "https://localhost:8080/",
     "height": 392
    },
    "executionInfo": {
     "elapsed": 7155,
     "status": "ok",
     "timestamp": 1615783172362,
     "user": {
      "displayName": "이보람",
      "photoUrl": "",
      "userId": "01536695193053509639"
     },
     "user_tz": -540
    },
    "id": "IPOwhWYm_2Ht",
    "outputId": "7cbc71fa-4d03-408e-a921-072ddfee3265"
   },
   "outputs": [
    {
     "data": {
      "text/html": [
       "<div>\n",
       "<style scoped>\n",
       "    .dataframe tbody tr th:only-of-type {\n",
       "        vertical-align: middle;\n",
       "    }\n",
       "\n",
       "    .dataframe tbody tr th {\n",
       "        vertical-align: top;\n",
       "    }\n",
       "\n",
       "    .dataframe thead th {\n",
       "        text-align: right;\n",
       "    }\n",
       "</style>\n",
       "<table border=\"1\" class=\"dataframe\">\n",
       "  <thead>\n",
       "    <tr style=\"text-align: right;\">\n",
       "      <th></th>\n",
       "      <th>forward</th>\n",
       "      <th>midfielder</th>\n",
       "      <th>defender</th>\n",
       "      <th>Position_Score</th>\n",
       "    </tr>\n",
       "  </thead>\n",
       "  <tbody>\n",
       "    <tr>\n",
       "      <th>0</th>\n",
       "      <td>93.0</td>\n",
       "      <td>91.0</td>\n",
       "      <td>59.0</td>\n",
       "      <td>NaN</td>\n",
       "    </tr>\n",
       "    <tr>\n",
       "      <th>1</th>\n",
       "      <td>93.0</td>\n",
       "      <td>88.0</td>\n",
       "      <td>62.0</td>\n",
       "      <td>NaN</td>\n",
       "    </tr>\n",
       "    <tr>\n",
       "      <th>2</th>\n",
       "      <td>90.0</td>\n",
       "      <td>89.0</td>\n",
       "      <td>60.0</td>\n",
       "      <td>NaN</td>\n",
       "    </tr>\n",
       "    <tr>\n",
       "      <th>4</th>\n",
       "      <td>88.0</td>\n",
       "      <td>91.0</td>\n",
       "      <td>76.0</td>\n",
       "      <td>NaN</td>\n",
       "    </tr>\n",
       "    <tr>\n",
       "      <th>5</th>\n",
       "      <td>89.0</td>\n",
       "      <td>89.0</td>\n",
       "      <td>62.0</td>\n",
       "      <td>NaN</td>\n",
       "    </tr>\n",
       "    <tr>\n",
       "      <th>...</th>\n",
       "      <td>...</td>\n",
       "      <td>...</td>\n",
       "      <td>...</td>\n",
       "      <td>...</td>\n",
       "    </tr>\n",
       "    <tr>\n",
       "      <th>18202</th>\n",
       "      <td>45.0</td>\n",
       "      <td>47.0</td>\n",
       "      <td>47.0</td>\n",
       "      <td>NaN</td>\n",
       "    </tr>\n",
       "    <tr>\n",
       "      <th>18203</th>\n",
       "      <td>44.0</td>\n",
       "      <td>40.0</td>\n",
       "      <td>33.0</td>\n",
       "      <td>NaN</td>\n",
       "    </tr>\n",
       "    <tr>\n",
       "      <th>18204</th>\n",
       "      <td>47.0</td>\n",
       "      <td>44.0</td>\n",
       "      <td>33.0</td>\n",
       "      <td>NaN</td>\n",
       "    </tr>\n",
       "    <tr>\n",
       "      <th>18205</th>\n",
       "      <td>49.0</td>\n",
       "      <td>45.0</td>\n",
       "      <td>35.0</td>\n",
       "      <td>NaN</td>\n",
       "    </tr>\n",
       "    <tr>\n",
       "      <th>18206</th>\n",
       "      <td>46.0</td>\n",
       "      <td>47.0</td>\n",
       "      <td>48.0</td>\n",
       "      <td>NaN</td>\n",
       "    </tr>\n",
       "  </tbody>\n",
       "</table>\n",
       "<p>15926 rows × 4 columns</p>\n",
       "</div>"
      ],
      "text/plain": [
       "       forward  midfielder  defender  Position_Score\n",
       "0         93.0        91.0      59.0             NaN\n",
       "1         93.0        88.0      62.0             NaN\n",
       "2         90.0        89.0      60.0             NaN\n",
       "4         88.0        91.0      76.0             NaN\n",
       "5         89.0        89.0      62.0             NaN\n",
       "...        ...         ...       ...             ...\n",
       "18202     45.0        47.0      47.0             NaN\n",
       "18203     44.0        40.0      33.0             NaN\n",
       "18204     47.0        44.0      33.0             NaN\n",
       "18205     49.0        45.0      35.0             NaN\n",
       "18206     46.0        47.0      48.0             NaN\n",
       "\n",
       "[15926 rows x 4 columns]"
      ]
     },
     "execution_count": 51,
     "metadata": {},
     "output_type": "execute_result"
    }
   ],
   "source": [
    "df1.iloc[:,84:88]"
   ]
  },
  {
   "cell_type": "code",
   "execution_count": 52,
   "metadata": {
    "executionInfo": {
     "elapsed": 12068,
     "status": "ok",
     "timestamp": 1615783177330,
     "user": {
      "displayName": "이보람",
      "photoUrl": "",
      "userId": "01536695193053509639"
     },
     "user_tz": -540
    },
    "id": "aeGJYIZG_JhI"
   },
   "outputs": [],
   "source": [
    "for i in range(len(df1)):\n",
    "    if df1.iloc[i, 5] == 'Forward':\n",
    "        df1.iloc[i, 87] = df1.iloc[i,84]\n",
    "    elif df1.iloc[i, 5] == 'Midfielder':\n",
    "        df1.iloc[i, 87] = df1.iloc[i,85]\n",
    "    elif df1.iloc[i,5] == 'Defender':\n",
    "        df1.iloc[i, 87] = df1.iloc[i,86]"
   ]
  },
  {
   "cell_type": "code",
   "execution_count": 53,
   "metadata": {
    "colab": {
     "base_uri": "https://localhost:8080/",
     "height": 392
    },
    "executionInfo": {
     "elapsed": 12031,
     "status": "ok",
     "timestamp": 1615783177333,
     "user": {
      "displayName": "이보람",
      "photoUrl": "",
      "userId": "01536695193053509639"
     },
     "user_tz": -540
    },
    "id": "Bu8SYKAzAkbk",
    "outputId": "56c1246b-975a-4b98-f7eb-ce2c8cbe5d13"
   },
   "outputs": [
    {
     "data": {
      "text/html": [
       "<div>\n",
       "<style scoped>\n",
       "    .dataframe tbody tr th:only-of-type {\n",
       "        vertical-align: middle;\n",
       "    }\n",
       "\n",
       "    .dataframe tbody tr th {\n",
       "        vertical-align: top;\n",
       "    }\n",
       "\n",
       "    .dataframe thead th {\n",
       "        text-align: right;\n",
       "    }\n",
       "</style>\n",
       "<table border=\"1\" class=\"dataframe\">\n",
       "  <thead>\n",
       "    <tr style=\"text-align: right;\">\n",
       "      <th></th>\n",
       "      <th>forward</th>\n",
       "      <th>midfielder</th>\n",
       "      <th>defender</th>\n",
       "      <th>Position_Score</th>\n",
       "    </tr>\n",
       "  </thead>\n",
       "  <tbody>\n",
       "    <tr>\n",
       "      <th>0</th>\n",
       "      <td>93.0</td>\n",
       "      <td>91.0</td>\n",
       "      <td>59.0</td>\n",
       "      <td>93.0</td>\n",
       "    </tr>\n",
       "    <tr>\n",
       "      <th>1</th>\n",
       "      <td>93.0</td>\n",
       "      <td>88.0</td>\n",
       "      <td>62.0</td>\n",
       "      <td>93.0</td>\n",
       "    </tr>\n",
       "    <tr>\n",
       "      <th>2</th>\n",
       "      <td>90.0</td>\n",
       "      <td>89.0</td>\n",
       "      <td>60.0</td>\n",
       "      <td>90.0</td>\n",
       "    </tr>\n",
       "    <tr>\n",
       "      <th>4</th>\n",
       "      <td>88.0</td>\n",
       "      <td>91.0</td>\n",
       "      <td>76.0</td>\n",
       "      <td>91.0</td>\n",
       "    </tr>\n",
       "    <tr>\n",
       "      <th>5</th>\n",
       "      <td>89.0</td>\n",
       "      <td>89.0</td>\n",
       "      <td>62.0</td>\n",
       "      <td>89.0</td>\n",
       "    </tr>\n",
       "    <tr>\n",
       "      <th>...</th>\n",
       "      <td>...</td>\n",
       "      <td>...</td>\n",
       "      <td>...</td>\n",
       "      <td>...</td>\n",
       "    </tr>\n",
       "    <tr>\n",
       "      <th>18202</th>\n",
       "      <td>45.0</td>\n",
       "      <td>47.0</td>\n",
       "      <td>47.0</td>\n",
       "      <td>47.0</td>\n",
       "    </tr>\n",
       "    <tr>\n",
       "      <th>18203</th>\n",
       "      <td>44.0</td>\n",
       "      <td>40.0</td>\n",
       "      <td>33.0</td>\n",
       "      <td>44.0</td>\n",
       "    </tr>\n",
       "    <tr>\n",
       "      <th>18204</th>\n",
       "      <td>47.0</td>\n",
       "      <td>44.0</td>\n",
       "      <td>33.0</td>\n",
       "      <td>47.0</td>\n",
       "    </tr>\n",
       "    <tr>\n",
       "      <th>18205</th>\n",
       "      <td>49.0</td>\n",
       "      <td>45.0</td>\n",
       "      <td>35.0</td>\n",
       "      <td>49.0</td>\n",
       "    </tr>\n",
       "    <tr>\n",
       "      <th>18206</th>\n",
       "      <td>46.0</td>\n",
       "      <td>47.0</td>\n",
       "      <td>48.0</td>\n",
       "      <td>47.0</td>\n",
       "    </tr>\n",
       "  </tbody>\n",
       "</table>\n",
       "<p>15926 rows × 4 columns</p>\n",
       "</div>"
      ],
      "text/plain": [
       "       forward  midfielder  defender  Position_Score\n",
       "0         93.0        91.0      59.0            93.0\n",
       "1         93.0        88.0      62.0            93.0\n",
       "2         90.0        89.0      60.0            90.0\n",
       "4         88.0        91.0      76.0            91.0\n",
       "5         89.0        89.0      62.0            89.0\n",
       "...        ...         ...       ...             ...\n",
       "18202     45.0        47.0      47.0            47.0\n",
       "18203     44.0        40.0      33.0            44.0\n",
       "18204     47.0        44.0      33.0            47.0\n",
       "18205     49.0        45.0      35.0            49.0\n",
       "18206     46.0        47.0      48.0            47.0\n",
       "\n",
       "[15926 rows x 4 columns]"
      ]
     },
     "execution_count": 53,
     "metadata": {},
     "output_type": "execute_result"
    }
   ],
   "source": [
    "df1.iloc[:,84:88]"
   ]
  },
  {
   "cell_type": "code",
   "execution_count": 54,
   "metadata": {
    "executionInfo": {
     "elapsed": 12006,
     "status": "ok",
     "timestamp": 1615783177334,
     "user": {
      "displayName": "이보람",
      "photoUrl": "",
      "userId": "01536695193053509639"
     },
     "user_tz": -540
    },
    "id": "nOSeiYe2_Jjf"
   },
   "outputs": [],
   "source": [
    "df1.drop(['forward','midfielder','defender'], axis=1, inplace=True)"
   ]
  },
  {
   "cell_type": "code",
   "execution_count": 55,
   "metadata": {
    "colab": {
     "base_uri": "https://localhost:8080/",
     "height": 357
    },
    "executionInfo": {
     "elapsed": 11985,
     "status": "ok",
     "timestamp": 1615783177335,
     "user": {
      "displayName": "이보람",
      "photoUrl": "",
      "userId": "01536695193053509639"
     },
     "user_tz": -540
    },
    "id": "ORbNoL1r_Jls",
    "outputId": "7b78f405-abf7-4389-f44a-81065ae4c5ec"
   },
   "outputs": [
    {
     "data": {
      "text/html": [
       "<div>\n",
       "<style scoped>\n",
       "    .dataframe tbody tr th:only-of-type {\n",
       "        vertical-align: middle;\n",
       "    }\n",
       "\n",
       "    .dataframe tbody tr th {\n",
       "        vertical-align: top;\n",
       "    }\n",
       "\n",
       "    .dataframe thead th {\n",
       "        text-align: right;\n",
       "    }\n",
       "</style>\n",
       "<table border=\"1\" class=\"dataframe\">\n",
       "  <thead>\n",
       "    <tr style=\"text-align: right;\">\n",
       "      <th></th>\n",
       "      <th>Name</th>\n",
       "      <th>Age</th>\n",
       "      <th>Overall</th>\n",
       "      <th>Rich_Club</th>\n",
       "      <th>Club_Value</th>\n",
       "      <th>Position_Class</th>\n",
       "      <th>Potential</th>\n",
       "      <th>Club</th>\n",
       "      <th>Value</th>\n",
       "      <th>Wage</th>\n",
       "      <th>...</th>\n",
       "      <th>SlidingTackle</th>\n",
       "      <th>GKDiving</th>\n",
       "      <th>GKHandling</th>\n",
       "      <th>GKKicking</th>\n",
       "      <th>GKPositioning</th>\n",
       "      <th>GKReflexes</th>\n",
       "      <th>Age_C</th>\n",
       "      <th>Over_C</th>\n",
       "      <th>Loaned</th>\n",
       "      <th>Special_sp</th>\n",
       "    </tr>\n",
       "  </thead>\n",
       "  <tbody>\n",
       "    <tr>\n",
       "      <th>3</th>\n",
       "      <td>De Gea</td>\n",
       "      <td>27</td>\n",
       "      <td>91</td>\n",
       "      <td>3</td>\n",
       "      <td>3</td>\n",
       "      <td>GoalKeeper</td>\n",
       "      <td>93</td>\n",
       "      <td>Manchester United</td>\n",
       "      <td>72000.0</td>\n",
       "      <td>260.0</td>\n",
       "      <td>...</td>\n",
       "      <td>13.0</td>\n",
       "      <td>90.0</td>\n",
       "      <td>85.0</td>\n",
       "      <td>87.0</td>\n",
       "      <td>88.0</td>\n",
       "      <td>94.0</td>\n",
       "      <td>5</td>\n",
       "      <td>16</td>\n",
       "      <td>1</td>\n",
       "      <td>1539.0</td>\n",
       "    </tr>\n",
       "    <tr>\n",
       "      <th>9</th>\n",
       "      <td>J. Oblak</td>\n",
       "      <td>25</td>\n",
       "      <td>90</td>\n",
       "      <td>3</td>\n",
       "      <td>3</td>\n",
       "      <td>GoalKeeper</td>\n",
       "      <td>93</td>\n",
       "      <td>Atlético Madrid</td>\n",
       "      <td>68000.0</td>\n",
       "      <td>94.0</td>\n",
       "      <td>...</td>\n",
       "      <td>18.0</td>\n",
       "      <td>86.0</td>\n",
       "      <td>92.0</td>\n",
       "      <td>78.0</td>\n",
       "      <td>88.0</td>\n",
       "      <td>89.0</td>\n",
       "      <td>4</td>\n",
       "      <td>15</td>\n",
       "      <td>1</td>\n",
       "      <td>1401.0</td>\n",
       "    </tr>\n",
       "    <tr>\n",
       "      <th>18</th>\n",
       "      <td>M. ter Stegen</td>\n",
       "      <td>26</td>\n",
       "      <td>89</td>\n",
       "      <td>3</td>\n",
       "      <td>3</td>\n",
       "      <td>GoalKeeper</td>\n",
       "      <td>92</td>\n",
       "      <td>FC Barcelona</td>\n",
       "      <td>58000.0</td>\n",
       "      <td>240.0</td>\n",
       "      <td>...</td>\n",
       "      <td>10.0</td>\n",
       "      <td>87.0</td>\n",
       "      <td>85.0</td>\n",
       "      <td>88.0</td>\n",
       "      <td>85.0</td>\n",
       "      <td>90.0</td>\n",
       "      <td>4</td>\n",
       "      <td>14</td>\n",
       "      <td>1</td>\n",
       "      <td>1397.0</td>\n",
       "    </tr>\n",
       "    <tr>\n",
       "      <th>19</th>\n",
       "      <td>T. Courtois</td>\n",
       "      <td>26</td>\n",
       "      <td>89</td>\n",
       "      <td>3</td>\n",
       "      <td>3</td>\n",
       "      <td>GoalKeeper</td>\n",
       "      <td>90</td>\n",
       "      <td>Real Madrid</td>\n",
       "      <td>53500.0</td>\n",
       "      <td>240.0</td>\n",
       "      <td>...</td>\n",
       "      <td>16.0</td>\n",
       "      <td>85.0</td>\n",
       "      <td>91.0</td>\n",
       "      <td>72.0</td>\n",
       "      <td>86.0</td>\n",
       "      <td>88.0</td>\n",
       "      <td>4</td>\n",
       "      <td>14</td>\n",
       "      <td>1</td>\n",
       "      <td>1377.0</td>\n",
       "    </tr>\n",
       "    <tr>\n",
       "      <th>22</th>\n",
       "      <td>M. Neuer</td>\n",
       "      <td>32</td>\n",
       "      <td>89</td>\n",
       "      <td>3</td>\n",
       "      <td>3</td>\n",
       "      <td>GoalKeeper</td>\n",
       "      <td>89</td>\n",
       "      <td>FC Bayern München</td>\n",
       "      <td>38000.0</td>\n",
       "      <td>130.0</td>\n",
       "      <td>...</td>\n",
       "      <td>11.0</td>\n",
       "      <td>90.0</td>\n",
       "      <td>86.0</td>\n",
       "      <td>91.0</td>\n",
       "      <td>87.0</td>\n",
       "      <td>87.0</td>\n",
       "      <td>7</td>\n",
       "      <td>14</td>\n",
       "      <td>1</td>\n",
       "      <td>1543.0</td>\n",
       "    </tr>\n",
       "  </tbody>\n",
       "</table>\n",
       "<p>5 rows × 84 columns</p>\n",
       "</div>"
      ],
      "text/plain": [
       "             Name  Age  Overall  Rich_Club  Club_Value Position_Class  \\\n",
       "3          De Gea   27       91          3           3     GoalKeeper   \n",
       "9        J. Oblak   25       90          3           3     GoalKeeper   \n",
       "18  M. ter Stegen   26       89          3           3     GoalKeeper   \n",
       "19    T. Courtois   26       89          3           3     GoalKeeper   \n",
       "22       M. Neuer   32       89          3           3     GoalKeeper   \n",
       "\n",
       "    Potential               Club    Value   Wage  ...  SlidingTackle  \\\n",
       "3          93  Manchester United  72000.0  260.0  ...           13.0   \n",
       "9          93    Atlético Madrid  68000.0   94.0  ...           18.0   \n",
       "18         92       FC Barcelona  58000.0  240.0  ...           10.0   \n",
       "19         90        Real Madrid  53500.0  240.0  ...           16.0   \n",
       "22         89  FC Bayern München  38000.0  130.0  ...           11.0   \n",
       "\n",
       "    GKDiving  GKHandling  GKKicking GKPositioning GKReflexes  Age_C Over_C  \\\n",
       "3       90.0        85.0       87.0          88.0       94.0      5     16   \n",
       "9       86.0        92.0       78.0          88.0       89.0      4     15   \n",
       "18      87.0        85.0       88.0          85.0       90.0      4     14   \n",
       "19      85.0        91.0       72.0          86.0       88.0      4     14   \n",
       "22      90.0        86.0       91.0          87.0       87.0      7     14   \n",
       "\n",
       "   Loaned Special_sp  \n",
       "3       1     1539.0  \n",
       "9       1     1401.0  \n",
       "18      1     1397.0  \n",
       "19      1     1377.0  \n",
       "22      1     1543.0  \n",
       "\n",
       "[5 rows x 84 columns]"
      ]
     },
     "execution_count": 55,
     "metadata": {},
     "output_type": "execute_result"
    }
   ],
   "source": [
    "df_GK=df[df['Position']=='GK']\n",
    "df_GK.head()"
   ]
  },
  {
   "cell_type": "code",
   "execution_count": 56,
   "metadata": {
    "executionInfo": {
     "elapsed": 11949,
     "status": "ok",
     "timestamp": 1615783177336,
     "user": {
      "displayName": "이보람",
      "photoUrl": "",
      "userId": "01536695193053509639"
     },
     "user_tz": -540
    },
    "id": "Ts9OGFmm_JoY"
   },
   "outputs": [],
   "source": [
    "df_GK['Position_Score']=np.nan"
   ]
  },
  {
   "cell_type": "code",
   "execution_count": 57,
   "metadata": {
    "colab": {
     "base_uri": "https://localhost:8080/"
    },
    "executionInfo": {
     "elapsed": 11933,
     "status": "ok",
     "timestamp": 1615783177337,
     "user": {
      "displayName": "이보람",
      "photoUrl": "",
      "userId": "01536695193053509639"
     },
     "user_tz": -540
    },
    "id": "Gf1xTqly_Jqy",
    "outputId": "2c572fe8-e2b8-4215-d12c-58eacffa1061"
   },
   "outputs": [
    {
     "data": {
      "text/plain": [
       "Index(['Name', 'Age', 'Overall', 'Rich_Club', 'Club_Value', 'Position_Class',\n",
       "       'Potential', 'Club', 'Value', 'Wage', 'Special',\n",
       "       'International Reputation', 'Weak Foot', 'Skill Moves', 'Real Face',\n",
       "       'Position', 'Jersey Number', 'Joined', 'Loaned From',\n",
       "       'Contract Valid Until', 'LS', 'ST', 'RS', 'LW', 'LF', 'CF', 'RF', 'RW',\n",
       "       'LAM', 'CAM', 'RAM', 'LM', 'LCM', 'CM', 'RCM', 'RM', 'LWB', 'LDM',\n",
       "       'CDM', 'RDM', 'RWB', 'LB', 'LCB', 'CB', 'RCB', 'RB', 'Crossing',\n",
       "       'Finishing', 'HeadingAccuracy', 'ShortPassing', 'Volleys', 'Dribbling',\n",
       "       'Curve', 'FKAccuracy', 'LongPassing', 'BallControl', 'Acceleration',\n",
       "       'SprintSpeed', 'Agility', 'Reactions', 'Balance', 'ShotPower',\n",
       "       'Jumping', 'Stamina', 'Strength', 'LongShots', 'Aggression',\n",
       "       'Interceptions', 'Positioning', 'Vision', 'Penalties', 'Composure',\n",
       "       'Marking', 'StandingTackle', 'SlidingTackle', 'GKDiving', 'GKHandling',\n",
       "       'GKKicking', 'GKPositioning', 'GKReflexes', 'Age_C', 'Over_C', 'Loaned',\n",
       "       'Special_sp', 'Position_Score'],\n",
       "      dtype='object')"
      ]
     },
     "execution_count": 57,
     "metadata": {},
     "output_type": "execute_result"
    }
   ],
   "source": [
    "df_GK.columns"
   ]
  },
  {
   "cell_type": "code",
   "execution_count": 58,
   "metadata": {
    "colab": {
     "base_uri": "https://localhost:8080/"
    },
    "executionInfo": {
     "elapsed": 11904,
     "status": "ok",
     "timestamp": 1615783177337,
     "user": {
      "displayName": "이보람",
      "photoUrl": "",
      "userId": "01536695193053509639"
     },
     "user_tz": -540
    },
    "id": "ZtkOk7knAyhI",
    "outputId": "23c524cc-f444-4267-d3ab-2ac9dc0cc30f"
   },
   "outputs": [
    {
     "data": {
      "text/plain": [
       "3       NaN\n",
       "9       NaN\n",
       "18      NaN\n",
       "19      NaN\n",
       "22      NaN\n",
       "         ..\n",
       "18178   NaN\n",
       "18180   NaN\n",
       "18183   NaN\n",
       "18194   NaN\n",
       "18198   NaN\n",
       "Name: Position_Score, Length: 1992, dtype: float64"
      ]
     },
     "execution_count": 58,
     "metadata": {},
     "output_type": "execute_result"
    }
   ],
   "source": [
    "df_GK.iloc[:,84]"
   ]
  },
  {
   "cell_type": "code",
   "execution_count": 59,
   "metadata": {
    "executionInfo": {
     "elapsed": 12864,
     "status": "ok",
     "timestamp": 1615783178314,
     "user": {
      "displayName": "이보람",
      "photoUrl": "",
      "userId": "01536695193053509639"
     },
     "user_tz": -540
    },
    "id": "nCNIfBrJ_JwZ"
   },
   "outputs": [],
   "source": [
    "for i in range(len(df_GK)):\n",
    "    if df_GK.iloc[i, 5] == 'GoalKeeper':\n",
    "        df_GK.iloc[i, 84] = df_GK.iloc[i,2]"
   ]
  },
  {
   "cell_type": "code",
   "execution_count": 60,
   "metadata": {
    "colab": {
     "base_uri": "https://localhost:8080/"
    },
    "executionInfo": {
     "elapsed": 12840,
     "status": "ok",
     "timestamp": 1615783178318,
     "user": {
      "displayName": "이보람",
      "photoUrl": "",
      "userId": "01536695193053509639"
     },
     "user_tz": -540
    },
    "id": "aanJmQb2_JzN",
    "outputId": "f5cad7ec-60f6-4a93-9216-cd661b4efd10"
   },
   "outputs": [
    {
     "data": {
      "text/plain": [
       "3        91.0\n",
       "9        90.0\n",
       "18       89.0\n",
       "19       89.0\n",
       "22       89.0\n",
       "         ... \n",
       "18178    48.0\n",
       "18180    48.0\n",
       "18183    48.0\n",
       "18194    47.0\n",
       "18198    47.0\n",
       "Name: Position_Score, Length: 1992, dtype: float64"
      ]
     },
     "execution_count": 60,
     "metadata": {},
     "output_type": "execute_result"
    }
   ],
   "source": [
    "df_GK.iloc[:,84]"
   ]
  },
  {
   "cell_type": "code",
   "execution_count": 61,
   "metadata": {
    "executionInfo": {
     "elapsed": 12812,
     "status": "ok",
     "timestamp": 1615783178321,
     "user": {
      "displayName": "이보람",
      "photoUrl": "",
      "userId": "01536695193053509639"
     },
     "user_tz": -540
    },
    "id": "-PvgvZu9_J2A"
   },
   "outputs": [],
   "source": [
    "df_all = pd.concat([df1,df_GK]) "
   ]
  },
  {
   "cell_type": "code",
   "execution_count": 62,
   "metadata": {
    "colab": {
     "base_uri": "https://localhost:8080/",
     "height": 357
    },
    "executionInfo": {
     "elapsed": 12791,
     "status": "ok",
     "timestamp": 1615783178323,
     "user": {
      "displayName": "이보람",
      "photoUrl": "",
      "userId": "01536695193053509639"
     },
     "user_tz": -540
    },
    "id": "aIH-gfag_J4N",
    "outputId": "7f69bca0-c480-4d34-b3c3-ee0778034aaa"
   },
   "outputs": [
    {
     "data": {
      "text/html": [
       "<div>\n",
       "<style scoped>\n",
       "    .dataframe tbody tr th:only-of-type {\n",
       "        vertical-align: middle;\n",
       "    }\n",
       "\n",
       "    .dataframe tbody tr th {\n",
       "        vertical-align: top;\n",
       "    }\n",
       "\n",
       "    .dataframe thead th {\n",
       "        text-align: right;\n",
       "    }\n",
       "</style>\n",
       "<table border=\"1\" class=\"dataframe\">\n",
       "  <thead>\n",
       "    <tr style=\"text-align: right;\">\n",
       "      <th></th>\n",
       "      <th>Name</th>\n",
       "      <th>Age</th>\n",
       "      <th>Overall</th>\n",
       "      <th>Rich_Club</th>\n",
       "      <th>Club_Value</th>\n",
       "      <th>Position_Class</th>\n",
       "      <th>Potential</th>\n",
       "      <th>Club</th>\n",
       "      <th>Value</th>\n",
       "      <th>Wage</th>\n",
       "      <th>...</th>\n",
       "      <th>GKDiving</th>\n",
       "      <th>GKHandling</th>\n",
       "      <th>GKKicking</th>\n",
       "      <th>GKPositioning</th>\n",
       "      <th>GKReflexes</th>\n",
       "      <th>Age_C</th>\n",
       "      <th>Over_C</th>\n",
       "      <th>Loaned</th>\n",
       "      <th>Special_sp</th>\n",
       "      <th>Position_Score</th>\n",
       "    </tr>\n",
       "  </thead>\n",
       "  <tbody>\n",
       "    <tr>\n",
       "      <th>0</th>\n",
       "      <td>L. Messi</td>\n",
       "      <td>31</td>\n",
       "      <td>94</td>\n",
       "      <td>3</td>\n",
       "      <td>3</td>\n",
       "      <td>Forward</td>\n",
       "      <td>94</td>\n",
       "      <td>FC Barcelona</td>\n",
       "      <td>110500.0</td>\n",
       "      <td>565.0</td>\n",
       "      <td>...</td>\n",
       "      <td>6.0</td>\n",
       "      <td>11.0</td>\n",
       "      <td>15.0</td>\n",
       "      <td>14.0</td>\n",
       "      <td>8.0</td>\n",
       "      <td>6</td>\n",
       "      <td>18</td>\n",
       "      <td>1</td>\n",
       "      <td>2298.0</td>\n",
       "      <td>93.0</td>\n",
       "    </tr>\n",
       "    <tr>\n",
       "      <th>1</th>\n",
       "      <td>Cristiano Ronaldo</td>\n",
       "      <td>33</td>\n",
       "      <td>94</td>\n",
       "      <td>3</td>\n",
       "      <td>3</td>\n",
       "      <td>Forward</td>\n",
       "      <td>94</td>\n",
       "      <td>Juventus</td>\n",
       "      <td>77000.0</td>\n",
       "      <td>405.0</td>\n",
       "      <td>...</td>\n",
       "      <td>7.0</td>\n",
       "      <td>11.0</td>\n",
       "      <td>15.0</td>\n",
       "      <td>14.0</td>\n",
       "      <td>11.0</td>\n",
       "      <td>7</td>\n",
       "      <td>18</td>\n",
       "      <td>1</td>\n",
       "      <td>2323.0</td>\n",
       "      <td>93.0</td>\n",
       "    </tr>\n",
       "    <tr>\n",
       "      <th>2</th>\n",
       "      <td>Neymar Jr</td>\n",
       "      <td>26</td>\n",
       "      <td>92</td>\n",
       "      <td>3</td>\n",
       "      <td>3</td>\n",
       "      <td>Forward</td>\n",
       "      <td>93</td>\n",
       "      <td>Paris Saint-Germain</td>\n",
       "      <td>118500.0</td>\n",
       "      <td>290.0</td>\n",
       "      <td>...</td>\n",
       "      <td>9.0</td>\n",
       "      <td>9.0</td>\n",
       "      <td>15.0</td>\n",
       "      <td>15.0</td>\n",
       "      <td>11.0</td>\n",
       "      <td>4</td>\n",
       "      <td>17</td>\n",
       "      <td>1</td>\n",
       "      <td>2237.0</td>\n",
       "      <td>90.0</td>\n",
       "    </tr>\n",
       "    <tr>\n",
       "      <th>4</th>\n",
       "      <td>K. De Bruyne</td>\n",
       "      <td>27</td>\n",
       "      <td>91</td>\n",
       "      <td>3</td>\n",
       "      <td>3</td>\n",
       "      <td>Midfielder</td>\n",
       "      <td>92</td>\n",
       "      <td>Manchester City</td>\n",
       "      <td>102000.0</td>\n",
       "      <td>355.0</td>\n",
       "      <td>...</td>\n",
       "      <td>15.0</td>\n",
       "      <td>13.0</td>\n",
       "      <td>5.0</td>\n",
       "      <td>10.0</td>\n",
       "      <td>13.0</td>\n",
       "      <td>5</td>\n",
       "      <td>16</td>\n",
       "      <td>1</td>\n",
       "      <td>2369.0</td>\n",
       "      <td>91.0</td>\n",
       "    </tr>\n",
       "    <tr>\n",
       "      <th>5</th>\n",
       "      <td>E. Hazard</td>\n",
       "      <td>27</td>\n",
       "      <td>91</td>\n",
       "      <td>3</td>\n",
       "      <td>3</td>\n",
       "      <td>Forward</td>\n",
       "      <td>91</td>\n",
       "      <td>Chelsea</td>\n",
       "      <td>93000.0</td>\n",
       "      <td>340.0</td>\n",
       "      <td>...</td>\n",
       "      <td>11.0</td>\n",
       "      <td>12.0</td>\n",
       "      <td>6.0</td>\n",
       "      <td>8.0</td>\n",
       "      <td>8.0</td>\n",
       "      <td>5</td>\n",
       "      <td>16</td>\n",
       "      <td>1</td>\n",
       "      <td>2233.0</td>\n",
       "      <td>89.0</td>\n",
       "    </tr>\n",
       "  </tbody>\n",
       "</table>\n",
       "<p>5 rows × 85 columns</p>\n",
       "</div>"
      ],
      "text/plain": [
       "                Name  Age  Overall  Rich_Club  Club_Value Position_Class  \\\n",
       "0           L. Messi   31       94          3           3        Forward   \n",
       "1  Cristiano Ronaldo   33       94          3           3        Forward   \n",
       "2          Neymar Jr   26       92          3           3        Forward   \n",
       "4       K. De Bruyne   27       91          3           3     Midfielder   \n",
       "5          E. Hazard   27       91          3           3        Forward   \n",
       "\n",
       "   Potential                 Club     Value   Wage  ...  GKDiving  GKHandling  \\\n",
       "0         94         FC Barcelona  110500.0  565.0  ...       6.0        11.0   \n",
       "1         94             Juventus   77000.0  405.0  ...       7.0        11.0   \n",
       "2         93  Paris Saint-Germain  118500.0  290.0  ...       9.0         9.0   \n",
       "4         92      Manchester City  102000.0  355.0  ...      15.0        13.0   \n",
       "5         91              Chelsea   93000.0  340.0  ...      11.0        12.0   \n",
       "\n",
       "   GKKicking  GKPositioning GKReflexes Age_C  Over_C Loaned Special_sp  \\\n",
       "0       15.0           14.0        8.0     6      18      1     2298.0   \n",
       "1       15.0           14.0       11.0     7      18      1     2323.0   \n",
       "2       15.0           15.0       11.0     4      17      1     2237.0   \n",
       "4        5.0           10.0       13.0     5      16      1     2369.0   \n",
       "5        6.0            8.0        8.0     5      16      1     2233.0   \n",
       "\n",
       "  Position_Score  \n",
       "0           93.0  \n",
       "1           93.0  \n",
       "2           90.0  \n",
       "4           91.0  \n",
       "5           89.0  \n",
       "\n",
       "[5 rows x 85 columns]"
      ]
     },
     "execution_count": 62,
     "metadata": {},
     "output_type": "execute_result"
    }
   ],
   "source": [
    "df_all.head()"
   ]
  },
  {
   "cell_type": "code",
   "execution_count": 335,
   "metadata": {
    "colab": {
     "base_uri": "https://localhost:8080/",
     "height": 162
    },
    "executionInfo": {
     "elapsed": 12757,
     "status": "ok",
     "timestamp": 1615783178329,
     "user": {
      "displayName": "이보람",
      "photoUrl": "",
      "userId": "01536695193053509639"
     },
     "user_tz": -540
    },
    "id": "xpDjwehD_J-C",
    "outputId": "643052eb-b04d-4329-be34-3de49c945308"
   },
   "outputs": [
    {
     "data": {
      "text/html": [
       "<div>\n",
       "<style scoped>\n",
       "    .dataframe tbody tr th:only-of-type {\n",
       "        vertical-align: middle;\n",
       "    }\n",
       "\n",
       "    .dataframe tbody tr th {\n",
       "        vertical-align: top;\n",
       "    }\n",
       "\n",
       "    .dataframe thead th {\n",
       "        text-align: right;\n",
       "    }\n",
       "</style>\n",
       "<table border=\"1\" class=\"dataframe\">\n",
       "  <thead>\n",
       "    <tr style=\"text-align: right;\">\n",
       "      <th></th>\n",
       "      <th>df</th>\n",
       "      <th>sum_sq</th>\n",
       "      <th>mean_sq</th>\n",
       "      <th>F</th>\n",
       "      <th>PR(&gt;F)</th>\n",
       "    </tr>\n",
       "  </thead>\n",
       "  <tbody>\n",
       "    <tr>\n",
       "      <th>Value</th>\n",
       "      <td>1.0</td>\n",
       "      <td>6467469.2</td>\n",
       "      <td>6467469.2</td>\n",
       "      <td>50372.7</td>\n",
       "      <td>0.0</td>\n",
       "    </tr>\n",
       "    <tr>\n",
       "      <th>Overall</th>\n",
       "      <td>1.0</td>\n",
       "      <td>17071.0</td>\n",
       "      <td>17071.0</td>\n",
       "      <td>133.0</td>\n",
       "      <td>0.0</td>\n",
       "    </tr>\n",
       "    <tr>\n",
       "      <th>Position_Score</th>\n",
       "      <td>1.0</td>\n",
       "      <td>182.9</td>\n",
       "      <td>182.9</td>\n",
       "      <td>1.4</td>\n",
       "      <td>0.2</td>\n",
       "    </tr>\n",
       "    <tr>\n",
       "      <th>Residual</th>\n",
       "      <td>17914.0</td>\n",
       "      <td>2300021.8</td>\n",
       "      <td>128.4</td>\n",
       "      <td>NaN</td>\n",
       "      <td>NaN</td>\n",
       "    </tr>\n",
       "  </tbody>\n",
       "</table>\n",
       "</div>"
      ],
      "text/plain": [
       "                     df     sum_sq    mean_sq        F  PR(>F)\n",
       "Value               1.0  6467469.2  6467469.2  50372.7     0.0\n",
       "Overall             1.0    17071.0    17071.0    133.0     0.0\n",
       "Position_Score      1.0      182.9      182.9      1.4     0.2\n",
       "Residual        17914.0  2300021.8      128.4      NaN     NaN"
      ]
     },
     "execution_count": 335,
     "metadata": {
      "tags": []
     },
     "output_type": "execute_result"
    }
   ],
   "source": [
    "lm_fifa=smf.ols('Wage~ Value + Overall + Position_Score', data=df_all).fit()\n",
    "sm.stats.anova_lm(lm_fifa).round(1)"
   ]
  },
  {
   "cell_type": "markdown",
   "metadata": {
    "id": "WANd0IH8DOOk"
   },
   "source": [
    "##  불필요한 컬럼 2차 삭제"
   ]
  },
  {
   "cell_type": "code",
   "execution_count": 63,
   "metadata": {
    "executionInfo": {
     "elapsed": 12737,
     "status": "ok",
     "timestamp": 1615783178330,
     "user": {
      "displayName": "이보람",
      "photoUrl": "",
      "userId": "01536695193053509639"
     },
     "user_tz": -540
    },
    "id": "mrhYdBIv_KAa"
   },
   "outputs": [],
   "source": [
    "df_all.drop([ 'LS', 'ST', 'RS', 'LW', 'LF', 'CF', 'RF', 'RW',\n",
    "       'LAM', 'CAM', 'RAM', 'LM', 'LCM', 'CM', 'RCM', 'RM', 'LWB', 'LDM',\n",
    "       'CDM', 'RDM', 'RWB', 'LB', 'LCB', 'CB', 'RCB', 'RB', 'Crossing',\n",
    "       'Finishing', 'HeadingAccuracy', 'ShortPassing', 'Volleys', 'Dribbling',\n",
    "       'Curve', 'FKAccuracy', 'LongPassing', 'BallControl', 'Acceleration',\n",
    "       'SprintSpeed', 'Agility', 'Reactions', 'Balance', 'ShotPower',\n",
    "       'Jumping', 'Stamina', 'Strength', 'LongShots', 'Aggression',\n",
    "       'Interceptions', 'Positioning', 'Vision', 'Penalties', \n",
    "       'Marking', 'StandingTackle', 'SlidingTackle', 'GKDiving', 'GKHandling',\n",
    "       'GKKicking', 'GKPositioning', 'GKReflexes'], axis=1, inplace=True)"
   ]
  },
  {
   "cell_type": "code",
   "execution_count": 337,
   "metadata": {
    "executionInfo": {
     "elapsed": 12729,
     "status": "ok",
     "timestamp": 1615783178332,
     "user": {
      "displayName": "이보람",
      "photoUrl": "",
      "userId": "01536695193053509639"
     },
     "user_tz": -540
    },
    "id": "HxX8liTKDuoy"
   },
   "outputs": [],
   "source": [
    "df_all.drop(['Special','Weak Foot', 'Skill Moves','Position','Jersey Number', 'Joined', 'Loaned From',\n",
    "       'Contract Valid Until', 'Composure'],axis=1, inplace=True)"
   ]
  },
  {
   "cell_type": "code",
   "execution_count": 338,
   "metadata": {
    "colab": {
     "base_uri": "https://localhost:8080/"
    },
    "executionInfo": {
     "elapsed": 12717,
     "status": "ok",
     "timestamp": 1615783178334,
     "user": {
      "displayName": "이보람",
      "photoUrl": "",
      "userId": "01536695193053509639"
     },
     "user_tz": -540
    },
    "id": "2FFW4mS6DX9_",
    "outputId": "e5991537-e867-48f0-9e18-3c2e19113f0d"
   },
   "outputs": [
    {
     "data": {
      "text/plain": [
       "Index(['Name', 'Age', 'Overall', 'Rich_Club', 'Club_Value', 'Potential',\n",
       "       'Club', 'Value', 'Wage', 'Position_Class', 'International Reputation',\n",
       "       'Real Face', 'Age_C', 'Over_C', 'Loaned', 'Special_sp',\n",
       "       'Position_Score'],\n",
       "      dtype='object')"
      ]
     },
     "execution_count": 338,
     "metadata": {
      "tags": []
     },
     "output_type": "execute_result"
    }
   ],
   "source": [
    "df_all.columns"
   ]
  },
  {
   "cell_type": "markdown",
   "metadata": {
    "id": "zzh57A1sDgn_"
   },
   "source": [
    "Real Face"
   ]
  },
  {
   "cell_type": "code",
   "execution_count": 339,
   "metadata": {
    "executionInfo": {
     "elapsed": 12706,
     "status": "ok",
     "timestamp": 1615783178337,
     "user": {
      "displayName": "이보람",
      "photoUrl": "",
      "userId": "01536695193053509639"
     },
     "user_tz": -540
    },
    "id": "r0NriJLhC9Uu"
   },
   "outputs": [],
   "source": [
    "df_all['Real_Face']=df_all['Real Face']\n",
    "df_all.drop('Real Face', axis=1, inplace=True)\n",
    "df_all['Real_Face'].replace({'Yes':1, 'No':0},inplace= True)"
   ]
  },
  {
   "cell_type": "code",
   "execution_count": 340,
   "metadata": {
    "colab": {
     "base_uri": "https://localhost:8080/",
     "height": 392
    },
    "executionInfo": {
     "elapsed": 13050,
     "status": "ok",
     "timestamp": 1615783178703,
     "user": {
      "displayName": "이보람",
      "photoUrl": "",
      "userId": "01536695193053509639"
     },
     "user_tz": -540
    },
    "id": "kbrMNtyrC9Yi",
    "outputId": "358cc16d-28bf-41a4-e284-6d8282a8da24"
   },
   "outputs": [
    {
     "data": {
      "text/html": [
       "<table class=\"simpletable\">\n",
       "<caption>OLS Regression Results</caption>\n",
       "<tr>\n",
       "  <th>Dep. Variable:</th>          <td>Wage</td>       <th>  R-squared:         </th> <td>   0.246</td> \n",
       "</tr>\n",
       "<tr>\n",
       "  <th>Model:</th>                   <td>OLS</td>       <th>  Adj. R-squared:    </th> <td>   0.246</td> \n",
       "</tr>\n",
       "<tr>\n",
       "  <th>Method:</th>             <td>Least Squares</td>  <th>  F-statistic:       </th> <td>   5832.</td> \n",
       "</tr>\n",
       "<tr>\n",
       "  <th>Date:</th>             <td>Mon, 15 Mar 2021</td> <th>  Prob (F-statistic):</th>  <td>  0.00</td>  \n",
       "</tr>\n",
       "<tr>\n",
       "  <th>Time:</th>                 <td>04:39:37</td>     <th>  Log-Likelihood:    </th> <td> -78401.</td> \n",
       "</tr>\n",
       "<tr>\n",
       "  <th>No. Observations:</th>      <td> 17918</td>      <th>  AIC:               </th> <td>1.568e+05</td>\n",
       "</tr>\n",
       "<tr>\n",
       "  <th>Df Residuals:</th>          <td> 17916</td>      <th>  BIC:               </th> <td>1.568e+05</td>\n",
       "</tr>\n",
       "<tr>\n",
       "  <th>Df Model:</th>              <td>     1</td>      <th>                     </th>     <td> </td>    \n",
       "</tr>\n",
       "<tr>\n",
       "  <th>Covariance Type:</th>      <td>nonrobust</td>    <th>                     </th>     <td> </td>    \n",
       "</tr>\n",
       "</table>\n",
       "<table class=\"simpletable\">\n",
       "<tr>\n",
       "      <td></td>         <th>coef</th>     <th>std err</th>      <th>t</th>      <th>P>|t|</th>  <th>[0.025</th>    <th>0.975]</th>  \n",
       "</tr>\n",
       "<tr>\n",
       "  <th>Intercept</th> <td>    6.3845</td> <td>    0.151</td> <td>   42.334</td> <td> 0.000</td> <td>    6.089</td> <td>    6.680</td>\n",
       "</tr>\n",
       "<tr>\n",
       "  <th>Real_Face</th> <td>   37.9075</td> <td>    0.496</td> <td>   76.368</td> <td> 0.000</td> <td>   36.935</td> <td>   38.880</td>\n",
       "</tr>\n",
       "</table>\n",
       "<table class=\"simpletable\">\n",
       "<tr>\n",
       "  <th>Omnibus:</th>       <td>24148.219</td> <th>  Durbin-Watson:     </th>  <td>   0.854</td>  \n",
       "</tr>\n",
       "<tr>\n",
       "  <th>Prob(Omnibus):</th>  <td> 0.000</td>   <th>  Jarque-Bera (JB):  </th> <td>9516248.892</td>\n",
       "</tr>\n",
       "<tr>\n",
       "  <th>Skew:</th>           <td> 7.538</td>   <th>  Prob(JB):          </th>  <td>    0.00</td>  \n",
       "</tr>\n",
       "<tr>\n",
       "  <th>Kurtosis:</th>       <td>114.889</td>  <th>  Cond. No.          </th>  <td>    3.49</td>  \n",
       "</tr>\n",
       "</table><br/><br/>Warnings:<br/>[1] Standard Errors assume that the covariance matrix of the errors is correctly specified."
      ],
      "text/plain": [
       "<class 'statsmodels.iolib.summary.Summary'>\n",
       "\"\"\"\n",
       "                            OLS Regression Results                            \n",
       "==============================================================================\n",
       "Dep. Variable:                   Wage   R-squared:                       0.246\n",
       "Model:                            OLS   Adj. R-squared:                  0.246\n",
       "Method:                 Least Squares   F-statistic:                     5832.\n",
       "Date:                Mon, 15 Mar 2021   Prob (F-statistic):               0.00\n",
       "Time:                        04:39:37   Log-Likelihood:                -78401.\n",
       "No. Observations:               17918   AIC:                         1.568e+05\n",
       "Df Residuals:                   17916   BIC:                         1.568e+05\n",
       "Df Model:                           1                                         \n",
       "Covariance Type:            nonrobust                                         \n",
       "==============================================================================\n",
       "                 coef    std err          t      P>|t|      [0.025      0.975]\n",
       "------------------------------------------------------------------------------\n",
       "Intercept      6.3845      0.151     42.334      0.000       6.089       6.680\n",
       "Real_Face     37.9075      0.496     76.368      0.000      36.935      38.880\n",
       "==============================================================================\n",
       "Omnibus:                    24148.219   Durbin-Watson:                   0.854\n",
       "Prob(Omnibus):                  0.000   Jarque-Bera (JB):          9516248.892\n",
       "Skew:                           7.538   Prob(JB):                         0.00\n",
       "Kurtosis:                     114.889   Cond. No.                         3.49\n",
       "==============================================================================\n",
       "\n",
       "Warnings:\n",
       "[1] Standard Errors assume that the covariance matrix of the errors is correctly specified.\n",
       "\"\"\""
      ]
     },
     "execution_count": 340,
     "metadata": {
      "tags": []
     },
     "output_type": "execute_result"
    }
   ],
   "source": [
    "im_model4 = smf.ols(formula = 'Wage~Real_Face',data = df_all).fit()\n",
    "im_model4.summary()"
   ]
  },
  {
   "cell_type": "code",
   "execution_count": 341,
   "metadata": {
    "colab": {
     "base_uri": "https://localhost:8080/",
     "height": 392
    },
    "executionInfo": {
     "elapsed": 13018,
     "status": "ok",
     "timestamp": 1615783178704,
     "user": {
      "displayName": "이보람",
      "photoUrl": "",
      "userId": "01536695193053509639"
     },
     "user_tz": -540
    },
    "id": "1APnQJomEKXk",
    "outputId": "29a15070-14d0-4d10-a66d-4e5f25bd809c"
   },
   "outputs": [
    {
     "data": {
      "text/html": [
       "<table class=\"simpletable\">\n",
       "<caption>OLS Regression Results</caption>\n",
       "<tr>\n",
       "  <th>Dep. Variable:</th>          <td>Wage</td>       <th>  R-squared:         </th> <td>   0.239</td> \n",
       "</tr>\n",
       "<tr>\n",
       "  <th>Model:</th>                   <td>OLS</td>       <th>  Adj. R-squared:    </th> <td>   0.239</td> \n",
       "</tr>\n",
       "<tr>\n",
       "  <th>Method:</th>             <td>Least Squares</td>  <th>  F-statistic:       </th> <td>   5630.</td> \n",
       "</tr>\n",
       "<tr>\n",
       "  <th>Date:</th>             <td>Mon, 15 Mar 2021</td> <th>  Prob (F-statistic):</th>  <td>  0.00</td>  \n",
       "</tr>\n",
       "<tr>\n",
       "  <th>Time:</th>                 <td>04:39:37</td>     <th>  Log-Likelihood:    </th> <td> -78477.</td> \n",
       "</tr>\n",
       "<tr>\n",
       "  <th>No. Observations:</th>      <td> 17918</td>      <th>  AIC:               </th> <td>1.570e+05</td>\n",
       "</tr>\n",
       "<tr>\n",
       "  <th>Df Residuals:</th>          <td> 17916</td>      <th>  BIC:               </th> <td>1.570e+05</td>\n",
       "</tr>\n",
       "<tr>\n",
       "  <th>Df Model:</th>              <td>     1</td>      <th>                     </th>     <td> </td>    \n",
       "</tr>\n",
       "<tr>\n",
       "  <th>Covariance Type:</th>      <td>nonrobust</td>    <th>                     </th>     <td> </td>    \n",
       "</tr>\n",
       "</table>\n",
       "<table class=\"simpletable\">\n",
       "<tr>\n",
       "      <td></td>         <th>coef</th>     <th>std err</th>      <th>t</th>      <th>P>|t|</th>  <th>[0.025</th>    <th>0.975]</th>  \n",
       "</tr>\n",
       "<tr>\n",
       "  <th>Intercept</th> <td> -115.8205</td> <td>    1.681</td> <td>  -68.881</td> <td> 0.000</td> <td> -119.116</td> <td> -112.525</td>\n",
       "</tr>\n",
       "<tr>\n",
       "  <th>Potential</th> <td>    1.7623</td> <td>    0.023</td> <td>   75.036</td> <td> 0.000</td> <td>    1.716</td> <td>    1.808</td>\n",
       "</tr>\n",
       "</table>\n",
       "<table class=\"simpletable\">\n",
       "<tr>\n",
       "  <th>Omnibus:</th>       <td>24354.913</td> <th>  Durbin-Watson:     </th>  <td>   0.883</td>  \n",
       "</tr>\n",
       "<tr>\n",
       "  <th>Prob(Omnibus):</th>  <td> 0.000</td>   <th>  Jarque-Bera (JB):  </th> <td>9308595.711</td>\n",
       "</tr>\n",
       "<tr>\n",
       "  <th>Skew:</th>           <td> 7.684</td>   <th>  Prob(JB):          </th>  <td>    0.00</td>  \n",
       "</tr>\n",
       "<tr>\n",
       "  <th>Kurtosis:</th>       <td>113.599</td>  <th>  Cond. No.          </th>  <td>    834.</td>  \n",
       "</tr>\n",
       "</table><br/><br/>Warnings:<br/>[1] Standard Errors assume that the covariance matrix of the errors is correctly specified."
      ],
      "text/plain": [
       "<class 'statsmodels.iolib.summary.Summary'>\n",
       "\"\"\"\n",
       "                            OLS Regression Results                            \n",
       "==============================================================================\n",
       "Dep. Variable:                   Wage   R-squared:                       0.239\n",
       "Model:                            OLS   Adj. R-squared:                  0.239\n",
       "Method:                 Least Squares   F-statistic:                     5630.\n",
       "Date:                Mon, 15 Mar 2021   Prob (F-statistic):               0.00\n",
       "Time:                        04:39:37   Log-Likelihood:                -78477.\n",
       "No. Observations:               17918   AIC:                         1.570e+05\n",
       "Df Residuals:                   17916   BIC:                         1.570e+05\n",
       "Df Model:                           1                                         \n",
       "Covariance Type:            nonrobust                                         \n",
       "==============================================================================\n",
       "                 coef    std err          t      P>|t|      [0.025      0.975]\n",
       "------------------------------------------------------------------------------\n",
       "Intercept   -115.8205      1.681    -68.881      0.000    -119.116    -112.525\n",
       "Potential      1.7623      0.023     75.036      0.000       1.716       1.808\n",
       "==============================================================================\n",
       "Omnibus:                    24354.913   Durbin-Watson:                   0.883\n",
       "Prob(Omnibus):                  0.000   Jarque-Bera (JB):          9308595.711\n",
       "Skew:                           7.684   Prob(JB):                         0.00\n",
       "Kurtosis:                     113.599   Cond. No.                         834.\n",
       "==============================================================================\n",
       "\n",
       "Warnings:\n",
       "[1] Standard Errors assume that the covariance matrix of the errors is correctly specified.\n",
       "\"\"\""
      ]
     },
     "execution_count": 341,
     "metadata": {
      "tags": []
     },
     "output_type": "execute_result"
    }
   ],
   "source": [
    "im_model5 = smf.ols(formula = 'Wage~Potential',data = df_all).fit()\n",
    "im_model5.summary()"
   ]
  },
  {
   "cell_type": "code",
   "execution_count": 342,
   "metadata": {
    "colab": {
     "base_uri": "https://localhost:8080/"
    },
    "executionInfo": {
     "elapsed": 13003,
     "status": "ok",
     "timestamp": 1615783178710,
     "user": {
      "displayName": "이보람",
      "photoUrl": "",
      "userId": "01536695193053509639"
     },
     "user_tz": -540
    },
    "id": "NZDJIGibFsL9",
    "outputId": "d085cb3c-1df5-4596-950e-3a9cab9dbbd7"
   },
   "outputs": [
    {
     "data": {
      "text/plain": [
       "Index(['Name', 'Age', 'Overall', 'Rich_Club', 'Club_Value', 'Potential',\n",
       "       'Club', 'Value', 'Wage', 'Position_Class', 'International Reputation',\n",
       "       'Age_C', 'Over_C', 'Loaned', 'Special_sp', 'Position_Score',\n",
       "       'Real_Face'],\n",
       "      dtype='object')"
      ]
     },
     "execution_count": 342,
     "metadata": {
      "tags": []
     },
     "output_type": "execute_result"
    }
   ],
   "source": [
    "df_all.columns"
   ]
  },
  {
   "cell_type": "code",
   "execution_count": 343,
   "metadata": {
    "colab": {
     "base_uri": "https://localhost:8080/",
     "height": 426
    },
    "executionInfo": {
     "elapsed": 12979,
     "status": "ok",
     "timestamp": 1615783178712,
     "user": {
      "displayName": "이보람",
      "photoUrl": "",
      "userId": "01536695193053509639"
     },
     "user_tz": -540
    },
    "id": "ehb-J9_7C9dC",
    "outputId": "a4bad60f-a6a9-4269-c3e4-2122e9ff4b57"
   },
   "outputs": [
    {
     "data": {
      "text/html": [
       "<table class=\"simpletable\">\n",
       "<caption>OLS Regression Results</caption>\n",
       "<tr>\n",
       "  <th>Dep. Variable:</th>          <td>Wage</td>       <th>  R-squared:         </th> <td>   0.127</td> \n",
       "</tr>\n",
       "<tr>\n",
       "  <th>Model:</th>                   <td>OLS</td>       <th>  Adj. R-squared:    </th> <td>   0.127</td> \n",
       "</tr>\n",
       "<tr>\n",
       "  <th>Method:</th>             <td>Least Squares</td>  <th>  F-statistic:       </th> <td>   2609.</td> \n",
       "</tr>\n",
       "<tr>\n",
       "  <th>Date:</th>             <td>Mon, 15 Mar 2021</td> <th>  Prob (F-statistic):</th>  <td>  0.00</td>  \n",
       "</tr>\n",
       "<tr>\n",
       "  <th>Time:</th>                 <td>04:39:37</td>     <th>  Log-Likelihood:    </th> <td> -79707.</td> \n",
       "</tr>\n",
       "<tr>\n",
       "  <th>No. Observations:</th>      <td> 17918</td>      <th>  AIC:               </th> <td>1.594e+05</td>\n",
       "</tr>\n",
       "<tr>\n",
       "  <th>Df Residuals:</th>          <td> 17916</td>      <th>  BIC:               </th> <td>1.594e+05</td>\n",
       "</tr>\n",
       "<tr>\n",
       "  <th>Df Model:</th>              <td>     1</td>      <th>                     </th>     <td> </td>    \n",
       "</tr>\n",
       "<tr>\n",
       "  <th>Covariance Type:</th>      <td>nonrobust</td>    <th>                     </th>     <td> </td>    \n",
       "</tr>\n",
       "</table>\n",
       "<table class=\"simpletable\">\n",
       "<tr>\n",
       "       <td></td>         <th>coef</th>     <th>std err</th>      <th>t</th>      <th>P>|t|</th>  <th>[0.025</th>    <th>0.975]</th>  \n",
       "</tr>\n",
       "<tr>\n",
       "  <th>Intercept</th>  <td>  -36.5472</td> <td>    0.922</td> <td>  -39.635</td> <td> 0.000</td> <td>  -38.355</td> <td>  -34.740</td>\n",
       "</tr>\n",
       "<tr>\n",
       "  <th>Special_sp</th> <td>    0.0280</td> <td>    0.001</td> <td>   51.076</td> <td> 0.000</td> <td>    0.027</td> <td>    0.029</td>\n",
       "</tr>\n",
       "</table>\n",
       "<table class=\"simpletable\">\n",
       "<tr>\n",
       "  <th>Omnibus:</th>       <td>24672.096</td> <th>  Durbin-Watson:     </th>  <td>   0.573</td>  \n",
       "</tr>\n",
       "<tr>\n",
       "  <th>Prob(Omnibus):</th>  <td> 0.000</td>   <th>  Jarque-Bera (JB):  </th> <td>8596847.734</td>\n",
       "</tr>\n",
       "<tr>\n",
       "  <th>Skew:</th>           <td> 7.934</td>   <th>  Prob(JB):          </th>  <td>    0.00</td>  \n",
       "</tr>\n",
       "<tr>\n",
       "  <th>Kurtosis:</th>       <td>109.128</td>  <th>  Cond. No.          </th>  <td>1.00e+04</td>  \n",
       "</tr>\n",
       "</table><br/><br/>Warnings:<br/>[1] Standard Errors assume that the covariance matrix of the errors is correctly specified.<br/>[2] The condition number is large,  1e+04. This might indicate that there are<br/>strong multicollinearity or other numerical problems."
      ],
      "text/plain": [
       "<class 'statsmodels.iolib.summary.Summary'>\n",
       "\"\"\"\n",
       "                            OLS Regression Results                            \n",
       "==============================================================================\n",
       "Dep. Variable:                   Wage   R-squared:                       0.127\n",
       "Model:                            OLS   Adj. R-squared:                  0.127\n",
       "Method:                 Least Squares   F-statistic:                     2609.\n",
       "Date:                Mon, 15 Mar 2021   Prob (F-statistic):               0.00\n",
       "Time:                        04:39:37   Log-Likelihood:                -79707.\n",
       "No. Observations:               17918   AIC:                         1.594e+05\n",
       "Df Residuals:                   17916   BIC:                         1.594e+05\n",
       "Df Model:                           1                                         \n",
       "Covariance Type:            nonrobust                                         \n",
       "==============================================================================\n",
       "                 coef    std err          t      P>|t|      [0.025      0.975]\n",
       "------------------------------------------------------------------------------\n",
       "Intercept    -36.5472      0.922    -39.635      0.000     -38.355     -34.740\n",
       "Special_sp     0.0280      0.001     51.076      0.000       0.027       0.029\n",
       "==============================================================================\n",
       "Omnibus:                    24672.096   Durbin-Watson:                   0.573\n",
       "Prob(Omnibus):                  0.000   Jarque-Bera (JB):          8596847.734\n",
       "Skew:                           7.934   Prob(JB):                         0.00\n",
       "Kurtosis:                     109.128   Cond. No.                     1.00e+04\n",
       "==============================================================================\n",
       "\n",
       "Warnings:\n",
       "[1] Standard Errors assume that the covariance matrix of the errors is correctly specified.\n",
       "[2] The condition number is large,  1e+04. This might indicate that there are\n",
       "strong multicollinearity or other numerical problems.\n",
       "\"\"\""
      ]
     },
     "execution_count": 343,
     "metadata": {
      "tags": []
     },
     "output_type": "execute_result"
    }
   ],
   "source": [
    "im_model6 = smf.ols(formula = 'Wage~Special_sp',data = df_all).fit()\n",
    "im_model6.summary()"
   ]
  },
  {
   "cell_type": "code",
   "execution_count": 344,
   "metadata": {
    "executionInfo": {
     "elapsed": 12959,
     "status": "ok",
     "timestamp": 1615783178713,
     "user": {
      "displayName": "이보람",
      "photoUrl": "",
      "userId": "01536695193053509639"
     },
     "user_tz": -540
    },
    "id": "u6FvnxU5C9hN"
   },
   "outputs": [],
   "source": [
    "df_all.to_csv('fifa_0315.csv')"
   ]
  },
  {
   "cell_type": "code",
   "execution_count": 345,
   "metadata": {
    "colab": {
     "base_uri": "https://localhost:8080/"
    },
    "executionInfo": {
     "elapsed": 12948,
     "status": "ok",
     "timestamp": 1615783178717,
     "user": {
      "displayName": "이보람",
      "photoUrl": "",
      "userId": "01536695193053509639"
     },
     "user_tz": -540
    },
    "id": "Un0koAR0C9lG",
    "outputId": "0b782ec3-298b-4bfa-9d50-c9574275a728"
   },
   "outputs": [
    {
     "data": {
      "text/plain": [
       "Index(['Name', 'Age', 'Overall', 'Rich_Club', 'Club_Value', 'Potential',\n",
       "       'Club', 'Value', 'Wage', 'Position_Class', 'International Reputation',\n",
       "       'Age_C', 'Over_C', 'Loaned', 'Special_sp', 'Position_Score',\n",
       "       'Real_Face'],\n",
       "      dtype='object')"
      ]
     },
     "execution_count": 345,
     "metadata": {
      "tags": []
     },
     "output_type": "execute_result"
    }
   ],
   "source": [
    "df_all.columns"
   ]
  },
  {
   "cell_type": "code",
   "execution_count": 346,
   "metadata": {
    "colab": {
     "base_uri": "https://localhost:8080/"
    },
    "executionInfo": {
     "elapsed": 12927,
     "status": "ok",
     "timestamp": 1615783178718,
     "user": {
      "displayName": "이보람",
      "photoUrl": "",
      "userId": "01536695193053509639"
     },
     "user_tz": -540
    },
    "id": "9g_PlyPbC9vX",
    "outputId": "7223155f-773b-441b-a96f-bbfe3a9d82e2"
   },
   "outputs": [
    {
     "data": {
      "text/plain": [
       "Index(['Name', 'Age', 'Overall', 'Rich_Club', 'Club_Value', 'Potential',\n",
       "       'Club', 'Value', 'Wage', 'Position_Class', 'International Reputation',\n",
       "       'Age_C', 'Over_C', 'Loaned', 'Special_sp', 'Position_Score',\n",
       "       'Real_Face'],\n",
       "      dtype='object')"
      ]
     },
     "execution_count": 346,
     "metadata": {
      "tags": []
     },
     "output_type": "execute_result"
    }
   ],
   "source": [
    "df_all.columns"
   ]
  },
  {
   "cell_type": "code",
   "execution_count": 347,
   "metadata": {
    "executionInfo": {
     "elapsed": 12884,
     "status": "ok",
     "timestamp": 1615783178721,
     "user": {
      "displayName": "이보람",
      "photoUrl": "",
      "userId": "01536695193053509639"
     },
     "user_tz": -540
    },
    "id": "-Pquo_87Lepc"
   },
   "outputs": [],
   "source": [
    "from sklearn.model_selection import train_test_split\n",
    "from sklearn.linear_model import LinearRegression\n",
    "from sklearn.metrics import mean_squared_error , r2_score\n",
    "from sklearn.ensemble import RandomForestRegressor\n",
    "from sklearn.model_selection import cross_val_score"
   ]
  },
  {
   "cell_type": "code",
   "execution_count": 348,
   "metadata": {
    "executionInfo": {
     "elapsed": 12872,
     "status": "ok",
     "timestamp": 1615783178722,
     "user": {
      "displayName": "이보람",
      "photoUrl": "",
      "userId": "01536695193053509639"
     },
     "user_tz": -540
    },
    "id": "xfFwznNUC9zN"
   },
   "outputs": [],
   "source": [
    "df2=df_all[['Wage','Rich_Club','Value','Over_C','Real_Face']]"
   ]
  },
  {
   "cell_type": "markdown",
   "metadata": {
    "id": "sO8g_U8jUnTy"
   },
   "source": [
    "다중공선성 파악하는 방법\n",
    "VIF = Variance inflation Factors 분산 팽창요인\n",
    "안전 : vif <5\n",
    "주의 : 5<vif<10\n",
    "위험: 10<vif"
   ]
  },
  {
   "cell_type": "code",
   "execution_count": 349,
   "metadata": {
    "colab": {
     "base_uri": "https://localhost:8080/",
     "height": 832
    },
    "executionInfo": {
     "elapsed": 13358,
     "status": "ok",
     "timestamp": 1615783179238,
     "user": {
      "displayName": "이보람",
      "photoUrl": "",
      "userId": "01536695193053509639"
     },
     "user_tz": -540
    },
    "id": "nPd8tzQNC94f",
    "outputId": "23e8007d-76cd-4e54-d4af-33e218fd58d7"
   },
   "outputs": [
    {
     "data": {
      "text/plain": [
       "<matplotlib.axes._subplots.AxesSubplot at 0x7f99a60e44d0>"
      ]
     },
     "execution_count": 349,
     "metadata": {
      "tags": []
     },
     "output_type": "execute_result"
    },
    {
     "data": {
      "image/png": "[encoded data removed]",
      "text/plain": [
       "<Figure size 1008x1008 with 2 Axes>"
      ]
     },
     "metadata": {
      "needs_background": "light",
      "tags": []
     },
     "output_type": "display_data"
    }
   ],
   "source": [
    "plt.figure(figsize=(14,14))\n",
    "sns.heatmap(df2.corr(),linewidths=.8, annot=True) "
   ]
  },
  {
   "cell_type": "code",
   "execution_count": 350,
   "metadata": {
    "colab": {
     "base_uri": "https://localhost:8080/",
     "height": 195
    },
    "executionInfo": {
     "elapsed": 13322,
     "status": "ok",
     "timestamp": 1615783179242,
     "user": {
      "displayName": "이보람",
      "photoUrl": "",
      "userId": "01536695193053509639"
     },
     "user_tz": -540
    },
    "id": "YQ1UgIKiULUJ",
    "outputId": "c490e15a-52ca-4637-e214-d525705a93ab"
   },
   "outputs": [
    {
     "data": {
      "text/html": [
       "<div>\n",
       "<style scoped>\n",
       "    .dataframe tbody tr th:only-of-type {\n",
       "        vertical-align: middle;\n",
       "    }\n",
       "\n",
       "    .dataframe tbody tr th {\n",
       "        vertical-align: top;\n",
       "    }\n",
       "\n",
       "    .dataframe thead th {\n",
       "        text-align: right;\n",
       "    }\n",
       "</style>\n",
       "<table border=\"1\" class=\"dataframe\">\n",
       "  <thead>\n",
       "    <tr style=\"text-align: right;\">\n",
       "      <th></th>\n",
       "      <th>vif factor</th>\n",
       "      <th>features</th>\n",
       "    </tr>\n",
       "  </thead>\n",
       "  <tbody>\n",
       "    <tr>\n",
       "      <th>0</th>\n",
       "      <td>5.012899</td>\n",
       "      <td>Wage</td>\n",
       "    </tr>\n",
       "    <tr>\n",
       "      <th>1</th>\n",
       "      <td>3.602316</td>\n",
       "      <td>Rich_Club</td>\n",
       "    </tr>\n",
       "    <tr>\n",
       "      <th>2</th>\n",
       "      <td>5.729673</td>\n",
       "      <td>Value</td>\n",
       "    </tr>\n",
       "    <tr>\n",
       "      <th>3</th>\n",
       "      <td>6.128404</td>\n",
       "      <td>Over_C</td>\n",
       "    </tr>\n",
       "    <tr>\n",
       "      <th>4</th>\n",
       "      <td>1.490880</td>\n",
       "      <td>Real_Face</td>\n",
       "    </tr>\n",
       "  </tbody>\n",
       "</table>\n",
       "</div>"
      ],
      "text/plain": [
       "   vif factor   features\n",
       "0    5.012899       Wage\n",
       "1    3.602316  Rich_Club\n",
       "2    5.729673      Value\n",
       "3    6.128404     Over_C\n",
       "4    1.490880  Real_Face"
      ]
     },
     "execution_count": 350,
     "metadata": {
      "tags": []
     },
     "output_type": "execute_result"
    }
   ],
   "source": [
    "from statsmodels.stats.outliers_influence import variance_inflation_factor\n",
    "vif = pd.DataFrame()\n",
    "vif['vif factor'] = [variance_inflation_factor(df2.values, i) for i in range(df2.shape[1])]\n",
    "vif['features']=df2.columns\n",
    "vif"
   ]
  },
  {
   "cell_type": "code",
   "execution_count": 351,
   "metadata": {
    "executionInfo": {
     "elapsed": 13301,
     "status": "ok",
     "timestamp": 1615783179245,
     "user": {
      "displayName": "이보람",
      "photoUrl": "",
      "userId": "01536695193053509639"
     },
     "user_tz": -540
    },
    "id": "FuiZSI2_Rp94"
   },
   "outputs": [],
   "source": [
    "# 범주화 -> 원핫인코딩\n",
    "df2.Over_C=df2.Over_C.astype('str')\n",
    "df2.Real_Face = df2.Real_Face.astype('str')"
   ]
  },
  {
   "cell_type": "code",
   "execution_count": 352,
   "metadata": {
    "executionInfo": {
     "elapsed": 13297,
     "status": "ok",
     "timestamp": 1615783179251,
     "user": {
      "displayName": "이보람",
      "photoUrl": "",
      "userId": "01536695193053509639"
     },
     "user_tz": -540
    },
    "id": "TgBTefW3STIV"
   },
   "outputs": [],
   "source": [
    "df_o=pd.get_dummies(df2)"
   ]
  },
  {
   "cell_type": "code",
   "execution_count": 353,
   "metadata": {
    "executionInfo": {
     "elapsed": 13288,
     "status": "ok",
     "timestamp": 1615783179252,
     "user": {
      "displayName": "이보람",
      "photoUrl": "",
      "userId": "01536695193053509639"
     },
     "user_tz": -540
    },
    "id": "3SLovruPXpMl"
   },
   "outputs": [],
   "source": [
    "from sklearn.linear_model import Ridge\n",
    "from sklearn.linear_model import Lasso, ElasticNet\n",
    "from sklearn.model_selection import GridSearchCV\n",
    "from xgboost import XGBRegressor\n",
    "from lightgbm import LGBMRegressor\n",
    "from sklearn.metrics import mean_squared_error, mean_absolute_error\n",
    "from sklearn.ensemble import RandomForestRegressor, GradientBoostingRegressor"
   ]
  },
  {
   "cell_type": "markdown",
   "metadata": {
    "id": "58RrtOphX3El"
   },
   "source": [
    "파라미터 구하기"
   ]
  },
  {
   "cell_type": "code",
   "execution_count": 354,
   "metadata": {
    "colab": {
     "base_uri": "https://localhost:8080/"
    },
    "executionInfo": {
     "elapsed": 13771,
     "status": "ok",
     "timestamp": 1615783179748,
     "user": {
      "displayName": "이보람",
      "photoUrl": "",
      "userId": "01536695193053509639"
     },
     "user_tz": -540
    },
    "id": "nGANAtn2Yg1o",
    "outputId": "ee7f6048-8c3c-429c-8317-952f3ac16db5"
   },
   "outputs": [
    {
     "name": "stdout",
     "output_type": "stream",
     "text": [
      "MSE: 116.10, RMSE: 10.77, r2 score: 0.82\n"
     ]
    }
   ],
   "source": [
    "X= df_o.drop(['Wage'],axis = 1)\n",
    "y= df_o['Wage']\n",
    "X_train, X_test, y_train, y_test = train_test_split(X, y,test_size=0.2, random_state=156)\n",
    "# 단순 회귀 분석 모형 생성 및 평가\n",
    "lr = LinearRegression()\n",
    "lr.fit(X_train, y_train)\n",
    "pred= lr.predict(X_test)\n",
    "mse = mean_squared_error(y_test,pred)\n",
    "rmse = np.sqrt(mse)\n",
    "r2 = r2_score(y_test,pred) # r_square = lr.score(X_test, y_test)도 같은 값\n",
    "\n",
    "print('MSE: {0:.2f}, RMSE: {1:.2f}, r2 score: {2:.2f}'.format(mse, rmse,r2))"
   ]
  },
  {
   "cell_type": "code",
   "execution_count": 355,
   "metadata": {
    "colab": {
     "base_uri": "https://localhost:8080/"
    },
    "executionInfo": {
     "elapsed": 20382,
     "status": "ok",
     "timestamp": 1615783186371,
     "user": {
      "displayName": "이보람",
      "photoUrl": "",
      "userId": "01536695193053509639"
     },
     "user_tz": -540
    },
    "id": "nf7A_N9zWY27",
    "outputId": "b6fd93b3-9b46-4ef2-9817-91f93b90cfe1"
   },
   "outputs": [
    {
     "name": "stdout",
     "output_type": "stream",
     "text": [
      "Ridge 5 CV 시 최적 평균 RMSE 값: 11.118014460287267, 최적 alpha:{'alpha': 5}\n",
      "Lasso 5 CV 시 최적 평균 RMSE 값: 11.145513467615455, 최적 alpha:{'alpha': 0.05}\n"
     ]
    }
   ],
   "source": [
    "params = {'alpha':[0.001,0.005,0.01,0.05,0.1,0.5,1,5,10,12,15]}\n",
    "\n",
    "lr = LinearRegression()\n",
    "rd = Ridge()\n",
    "ls = Lasso()\n",
    "\n",
    "models = [rd,ls]\n",
    "for model in models:\n",
    "    grid = GridSearchCV(model, param_grid = params, cv=5, scoring = 'neg_mean_squared_error')\n",
    "    grid.fit(X,y)\n",
    "    rmse = np.sqrt(-1*grid.best_score_)\n",
    "    print('{0} 5 CV 시 최적 평균 RMSE 값: {1}, 최적 alpha:{2}'.format(model.__class__.__name__,rmse, grid.best_params_))"
   ]
  },
  {
   "cell_type": "code",
   "execution_count": 356,
   "metadata": {
    "colab": {
     "base_uri": "https://localhost:8080/",
     "height": 501
    },
    "executionInfo": {
     "elapsed": 20813,
     "status": "ok",
     "timestamp": 1615783186823,
     "user": {
      "displayName": "이보람",
      "photoUrl": "",
      "userId": "01536695193053509639"
     },
     "user_tz": -540
    },
    "id": "E-YSLbqAOnGD",
    "outputId": "80a25bc2-4f76-4485-bf2f-e21dd1b2c113"
   },
   "outputs": [
    {
     "data": {
      "text/plain": [
       "<matplotlib.axes._subplots.AxesSubplot at 0x7f99a4fd2650>"
      ]
     },
     "execution_count": 356,
     "metadata": {
      "tags": []
     },
     "output_type": "execute_result"
    },
    {
     "data": {
      "image/png": "[encoded data removed]",
      "text/plain": [
       "<Figure size 720x576 with 1 Axes>"
      ]
     },
     "metadata": {
      "needs_background": "light",
      "tags": []
     },
     "output_type": "display_data"
    }
   ],
   "source": [
    "plt.figure(figsize=(10,8))\n",
    "lr = LinearRegression()\n",
    "lr.fit(X_train, y_train)\n",
    "coef = pd.Series(lr.coef_, index=X.columns)\n",
    "coef_sort = coef.sort_values(ascending=False)[:10]\n",
    "sns.barplot(x=coef_sort.values, y = coef_sort.index)"
   ]
  },
  {
   "cell_type": "code",
   "execution_count": 357,
   "metadata": {
    "colab": {
     "base_uri": "https://localhost:8080/",
     "height": 501
    },
    "executionInfo": {
     "elapsed": 20806,
     "status": "ok",
     "timestamp": 1615783186826,
     "user": {
      "displayName": "이보람",
      "photoUrl": "",
      "userId": "01536695193053509639"
     },
     "user_tz": -540
    },
    "id": "jBfPpUEoYuky",
    "outputId": "8f60bdc0-9b46-4ebe-af14-3c17a0ee7e9b"
   },
   "outputs": [
    {
     "data": {
      "text/plain": [
       "<matplotlib.axes._subplots.AxesSubplot at 0x7f99a4e65f10>"
      ]
     },
     "execution_count": 357,
     "metadata": {
      "tags": []
     },
     "output_type": "execute_result"
    },
    {
     "data": {
      "image/png": "[encoded data removed]",
      "text/plain": [
       "<Figure size 720x576 with 1 Axes>"
      ]
     },
     "metadata": {
      "needs_background": "light",
      "tags": []
     },
     "output_type": "display_data"
    }
   ],
   "source": [
    "rd = Ridge(5)\n",
    "rd.fit(X_train, y_train)\n",
    "plt.figure(figsize=(10,8))\n",
    "coef = pd.Series(rd.coef_, index=X.columns)\n",
    "coef_sort = coef.sort_values(ascending=False)[:10]\n",
    "sns.barplot(x=coef_sort.values, y = coef_sort.index)"
   ]
  },
  {
   "cell_type": "code",
   "execution_count": 358,
   "metadata": {
    "colab": {
     "base_uri": "https://localhost:8080/"
    },
    "executionInfo": {
     "elapsed": 21100,
     "status": "ok",
     "timestamp": 1615783187130,
     "user": {
      "displayName": "이보람",
      "photoUrl": "",
      "userId": "01536695193053509639"
     },
     "user_tz": -540
    },
    "id": "DR2maWU9aXHa",
    "outputId": "d2042725-2e14-41a9-d41e-e2ad1c725d2f"
   },
   "outputs": [
    {
     "name": "stdout",
     "output_type": "stream",
     "text": [
      "MSE: 140.65, RMSE: 11.86, r2 score: 0.78\n"
     ]
    }
   ],
   "source": [
    "rd_pred= rd.predict(X_test)\n",
    "mse = mean_squared_error(y_test,rd_pred)\n",
    "rmse = np.sqrt(mse)\n",
    "r2 = r2_score(y_test,rd_pred) # r_square = lr.score(X_test, y_test)도 같은 값\n",
    "\n",
    "print('MSE: {0:.2f}, RMSE: {1:.2f}, r2 score: {2:.2f}'.format(mse, rmse,r2))"
   ]
  },
  {
   "cell_type": "code",
   "execution_count": 359,
   "metadata": {
    "colab": {
     "base_uri": "https://localhost:8080/",
     "height": 501
    },
    "executionInfo": {
     "elapsed": 21089,
     "status": "ok",
     "timestamp": 1615783187135,
     "user": {
      "displayName": "이보람",
      "photoUrl": "",
      "userId": "01536695193053509639"
     },
     "user_tz": -540
    },
    "id": "EEHuUptWYz99",
    "outputId": "4daec38f-24a1-4c8d-f5f5-401619e6757b"
   },
   "outputs": [
    {
     "data": {
      "text/plain": [
       "<matplotlib.axes._subplots.AxesSubplot at 0x7f99a515d210>"
      ]
     },
     "execution_count": 359,
     "metadata": {
      "tags": []
     },
     "output_type": "execute_result"
    },
    {
     "data": {
      "image/png": "[encoded data removed]",
      "text/plain": [
       "<Figure size 720x576 with 1 Axes>"
      ]
     },
     "metadata": {
      "needs_background": "light",
      "tags": []
     },
     "output_type": "display_data"
    }
   ],
   "source": [
    "ls = Lasso(0.05)\n",
    "ls.fit(X_train, y_train)\n",
    "plt.figure(figsize=(10,8))\n",
    "coef = pd.Series(rd.coef_, index=X.columns)\n",
    "coef_sort = coef.sort_values(ascending=False)[:10]\n",
    "sns.barplot(x=coef_sort.values, y = coef_sort.index)"
   ]
  },
  {
   "cell_type": "code",
   "execution_count": 360,
   "metadata": {
    "colab": {
     "base_uri": "https://localhost:8080/"
    },
    "executionInfo": {
     "elapsed": 21087,
     "status": "ok",
     "timestamp": 1615783187142,
     "user": {
      "displayName": "이보람",
      "photoUrl": "",
      "userId": "01536695193053509639"
     },
     "user_tz": -540
    },
    "id": "zA_rkuvzaeYm",
    "outputId": "ad2b804e-7b83-4135-afc2-9bbb4aae9100"
   },
   "outputs": [
    {
     "name": "stdout",
     "output_type": "stream",
     "text": [
      "MSE: 156.38, RMSE: 12.51, r2 score: 0.76\n"
     ]
    }
   ],
   "source": [
    "ls_pred= ls.predict(X_test)\n",
    "mse = mean_squared_error(y_test,ls_pred)\n",
    "rmse = np.sqrt(mse)\n",
    "r2 = r2_score(y_test,ls_pred) # r_square = lr.score(X_test, y_test)도 같은 값\n",
    "\n",
    "print('MSE: {0:.2f}, RMSE: {1:.2f}, r2 score: {2:.2f}'.format(mse, rmse,r2))"
   ]
  },
  {
   "cell_type": "code",
   "execution_count": 361,
   "metadata": {
    "colab": {
     "base_uri": "https://localhost:8080/"
    },
    "executionInfo": {
     "elapsed": 33817,
     "status": "ok",
     "timestamp": 1615783199882,
     "user": {
      "displayName": "이보람",
      "photoUrl": "",
      "userId": "01536695193053509639"
     },
     "user_tz": -540
    },
    "id": "kT-yHQcTWZD5",
    "outputId": "4a723811-2813-466d-c12f-59aaacd6e298"
   },
   "outputs": [
    {
     "name": "stdout",
     "output_type": "stream",
     "text": [
      "MSE: 145.96, RMSE: 12.08, r2 score: 0.78\n"
     ]
    }
   ],
   "source": [
    "RandomForest=RandomForestRegressor(n_estimators=1000,criterion='mse').fit(X_train,y_train)\n",
    "rf_pred = RandomForest.predict(X_test)\n",
    "mse = mean_squared_error(y_test,rf_pred)\n",
    "rmse = np.sqrt(mse)\n",
    "r2 = r2_score(y_test,rf_pred) # r_square = lr.score(X_test, y_test)도 같은 값\n",
    "\n",
    "print('MSE: {0:.2f}, RMSE: {1:.2f}, r2 score: {2:.2f}'.format(mse, rmse,r2))\n"
   ]
  },
  {
   "cell_type": "code",
   "execution_count": 361,
   "metadata": {
    "executionInfo": {
     "elapsed": 33810,
     "status": "ok",
     "timestamp": 1615783199884,
     "user": {
      "displayName": "이보람",
      "photoUrl": "",
      "userId": "01536695193053509639"
     },
     "user_tz": -540
    },
    "id": "aC3djMgucPlg"
   },
   "outputs": [],
   "source": []
  },
  {
   "cell_type": "code",
   "execution_count": 362,
   "metadata": {
    "executionInfo": {
     "elapsed": 33802,
     "status": "ok",
     "timestamp": 1615783199886,
     "user": {
      "displayName": "이보람",
      "photoUrl": "",
      "userId": "01536695193053509639"
     },
     "user_tz": -540
    },
    "id": "o-VqMYU6WZQu"
   },
   "outputs": [],
   "source": [
    "from sklearn.linear_model import Ridge\n",
    "from sklearn.linear_model import Lasso, ElasticNet\n",
    "from sklearn.model_selection import GridSearchCV\n",
    "from xgboost import XGBRegressor\n",
    "from lightgbm import LGBMRegressor\n",
    "from sklearn.metrics import mean_squared_error, mean_absolute_error\n",
    "from sklearn.ensemble import RandomForestRegressor, GradientBoostingRegressor"
   ]
  },
  {
   "cell_type": "code",
   "execution_count": 363,
   "metadata": {
    "executionInfo": {
     "elapsed": 33796,
     "status": "ok",
     "timestamp": 1615783199888,
     "user": {
      "displayName": "이보람",
      "photoUrl": "",
      "userId": "01536695193053509639"
     },
     "user_tz": -540
    },
    "id": "KOwPuGiCbikw"
   },
   "outputs": [],
   "source": [
    "def get_best_params(model, params):\n",
    "    grid_model = GridSearchCV(model, param_grid=params, \n",
    "                              scoring='neg_mean_squared_error', cv=5)\n",
    "    grid_model.fit(X_train, y_train)\n",
    "    rmse = np.sqrt(-1* grid_model.best_score_)\n",
    "    print('{0} 5 CV 시 최적 평균 RMSE 값: {1}, 최적 alpha:{2}'.format(model.__class__.__name__,\n",
    "                                                              np.round(rmse, 4), grid_model.best_params_))\n",
    "    return grid_model.best_estimator_"
   ]
  },
  {
   "cell_type": "code",
   "execution_count": 364,
   "metadata": {
    "executionInfo": {
     "elapsed": 33787,
     "status": "ok",
     "timestamp": 1615783199889,
     "user": {
      "displayName": "이보람",
      "photoUrl": "",
      "userId": "01536695193053509639"
     },
     "user_tz": -540
    },
    "id": "aslVWdOyWZUU"
   },
   "outputs": [],
   "source": [
    "params = {'n_estimators':[800,1000, 1200]}\n",
    "\n",
    "xgb_reg = XGBRegressor(n_estimators=1000, learning_rate=0.05, \n",
    "                       colsample_bytree=0.5, subsample=0.8)\n",
    "lgbm_reg = LGBMRegressor(n_estimators=1000, learning_rate=0.05, num_leaves=4, \n",
    "                         subsample=0.6, colsample_bytree=0.4, reg_lambda=10, n_jobs=-1)"
   ]
  },
  {
   "cell_type": "code",
   "execution_count": 365,
   "metadata": {
    "executionInfo": {
     "elapsed": 33779,
     "status": "ok",
     "timestamp": 1615783199892,
     "user": {
      "displayName": "이보람",
      "photoUrl": "",
      "userId": "01536695193053509639"
     },
     "user_tz": -540
    },
    "id": "uH3NTw34bqHt"
   },
   "outputs": [],
   "source": [
    "import warnings\n",
    "warnings.filterwarnings('ignore')"
   ]
  },
  {
   "cell_type": "code",
   "execution_count": 366,
   "metadata": {
    "colab": {
     "base_uri": "https://localhost:8080/"
    },
    "executionInfo": {
     "elapsed": 112099,
     "status": "ok",
     "timestamp": 1615783278222,
     "user": {
      "displayName": "이보람",
      "photoUrl": "",
      "userId": "01536695193053509639"
     },
     "user_tz": -540
    },
    "id": "MW_ARMB1WZYm",
    "outputId": "1fcb461e-90b2-4c56-c2ca-732eab96b072"
   },
   "outputs": [
    {
     "name": "stdout",
     "output_type": "stream",
     "text": [
      "[04:39:58] WARNING: /workspace/src/objective/regression_obj.cu:152: reg:linear is now deprecated in favor of reg:squarederror.\n",
      "[04:40:02] WARNING: /workspace/src/objective/regression_obj.cu:152: reg:linear is now deprecated in favor of reg:squarederror.\n",
      "[04:40:06] WARNING: /workspace/src/objective/regression_obj.cu:152: reg:linear is now deprecated in favor of reg:squarederror.\n",
      "[04:40:10] WARNING: /workspace/src/objective/regression_obj.cu:152: reg:linear is now deprecated in favor of reg:squarederror.\n",
      "[04:40:13] WARNING: /workspace/src/objective/regression_obj.cu:152: reg:linear is now deprecated in favor of reg:squarederror.\n",
      "[04:40:17] WARNING: /workspace/src/objective/regression_obj.cu:152: reg:linear is now deprecated in favor of reg:squarederror.\n",
      "[04:40:22] WARNING: /workspace/src/objective/regression_obj.cu:152: reg:linear is now deprecated in favor of reg:squarederror.\n",
      "[04:40:26] WARNING: /workspace/src/objective/regression_obj.cu:152: reg:linear is now deprecated in favor of reg:squarederror.\n",
      "[04:40:31] WARNING: /workspace/src/objective/regression_obj.cu:152: reg:linear is now deprecated in favor of reg:squarederror.\n",
      "[04:40:35] WARNING: /workspace/src/objective/regression_obj.cu:152: reg:linear is now deprecated in favor of reg:squarederror.\n",
      "[04:40:40] WARNING: /workspace/src/objective/regression_obj.cu:152: reg:linear is now deprecated in favor of reg:squarederror.\n",
      "[04:40:45] WARNING: /workspace/src/objective/regression_obj.cu:152: reg:linear is now deprecated in favor of reg:squarederror.\n",
      "[04:40:51] WARNING: /workspace/src/objective/regression_obj.cu:152: reg:linear is now deprecated in favor of reg:squarederror.\n",
      "[04:40:57] WARNING: /workspace/src/objective/regression_obj.cu:152: reg:linear is now deprecated in favor of reg:squarederror.\n",
      "[04:41:02] WARNING: /workspace/src/objective/regression_obj.cu:152: reg:linear is now deprecated in favor of reg:squarederror.\n",
      "[04:41:07] WARNING: /workspace/src/objective/regression_obj.cu:152: reg:linear is now deprecated in favor of reg:squarederror.\n",
      "XGBRegressor 5 CV 시 최적 평균 RMSE 값: 10.5158, 최적 alpha:{'n_estimators': 800}\n",
      "LGBMRegressor 5 CV 시 최적 평균 RMSE 값: 9.3612, 최적 alpha:{'n_estimators': 1200}\n",
      "XGBRegressor RMSE: 12.0814, R2 score: 0.7845\n",
      "LGBMRegressor RMSE: 12.0814, R2 score: 0.7604\n"
     ]
    }
   ],
   "source": [
    "# best estimator 사용\n",
    "best_xgb = get_best_params(xgb_reg, params)\n",
    "best_lgbm = get_best_params(lgbm_reg, params)\n",
    "models = [best_xgb,best_lgbm]\n",
    "for model in models:\n",
    "    pred = model.predict(X_test)\n",
    "    mse = mean_squared_error(y_test, pred)\n",
    "    r2 = r2_score(y_test,pred)\n",
    "    print(model.__class__.__name__, 'RMSE: {0:.4f}, R2 score: {1:.4f}'.format(rmse,r2))"
   ]
  },
  {
   "cell_type": "code",
   "execution_count": 367,
   "metadata": {
    "executionInfo": {
     "elapsed": 112097,
     "status": "ok",
     "timestamp": 1615783278230,
     "user": {
      "displayName": "이보람",
      "photoUrl": "",
      "userId": "01536695193053509639"
     },
     "user_tz": -540
    },
    "id": "uzWEdUYUcvSZ"
   },
   "outputs": [],
   "source": [
    "def get_top_features(model):\n",
    "    ftr_importances_values = model.feature_importances_\n",
    "    ftr_importances = pd.Series(ftr_importances_values, index=X.columns  )\n",
    "    ftr_top10 = ftr_importances.sort_values(ascending=False)[:10]\n",
    "    return ftr_top10"
   ]
  },
  {
   "cell_type": "code",
   "execution_count": 368,
   "metadata": {
    "executionInfo": {
     "elapsed": 112091,
     "status": "ok",
     "timestamp": 1615783278232,
     "user": {
      "displayName": "이보람",
      "photoUrl": "",
      "userId": "01536695193053509639"
     },
     "user_tz": -540
    },
    "id": "UVMOEYooc37w"
   },
   "outputs": [],
   "source": [
    "def visualize_ftr_importances(models):\n",
    "  plt.figure(figsize=(10,8))\n",
    "  ftr_top10 = get_top_features(model)\n",
    "  sns.barplot(x=ftr_top10.values, y=ftr_top10.index)"
   ]
  },
  {
   "cell_type": "code",
   "execution_count": 369,
   "metadata": {
    "colab": {
     "base_uri": "https://localhost:8080/",
     "height": 482
    },
    "executionInfo": {
     "elapsed": 112083,
     "status": "ok",
     "timestamp": 1615783278234,
     "user": {
      "displayName": "이보람",
      "photoUrl": "",
      "userId": "01536695193053509639"
     },
     "user_tz": -540
    },
    "id": "5thVRzPIdI1a",
    "outputId": "166a1f74-686a-422a-aa66-e7ecde0cc6ec"
   },
   "outputs": [
    {
     "data": {
      "image/png": "[encoded data removed]",
      "text/plain": [
       "<Figure size 720x576 with 1 Axes>"
      ]
     },
     "metadata": {
      "needs_background": "light",
      "tags": []
     },
     "output_type": "display_data"
    }
   ],
   "source": [
    "visualize_ftr_importances(best_xgb)"
   ]
  },
  {
   "cell_type": "code",
   "execution_count": 370,
   "metadata": {
    "colab": {
     "base_uri": "https://localhost:8080/",
     "height": 482
    },
    "executionInfo": {
     "elapsed": 112443,
     "status": "ok",
     "timestamp": 1615783278605,
     "user": {
      "displayName": "이보람",
      "photoUrl": "",
      "userId": "01536695193053509639"
     },
     "user_tz": -540
    },
    "id": "ECrqJnVHdhSJ",
    "outputId": "fbccc01a-981a-41d2-d3e5-a6aef29eea88"
   },
   "outputs": [
    {
     "data": {
      "image/png": "[encoded data removed]",
      "text/plain": [
       "<Figure size 720x576 with 1 Axes>"
      ]
     },
     "metadata": {
      "needs_background": "light",
      "tags": []
     },
     "output_type": "display_data"
    }
   ],
   "source": [
    "visualize_ftr_importances(best_lgbm)"
   ]
  },
  {
   "cell_type": "code",
   "execution_count": 370,
   "metadata": {
    "executionInfo": {
     "elapsed": 112439,
     "status": "ok",
     "timestamp": 1615783278612,
     "user": {
      "displayName": "이보람",
      "photoUrl": "",
      "userId": "01536695193053509639"
     },
     "user_tz": -540
    },
    "id": "IwqU2KGdcQ_Y"
   },
   "outputs": [],
   "source": []
  }
 ],
 "metadata": {
  "accelerator": "GPU",
  "colab": {
   "collapsed_sections": [],
   "name": "fifa_데이터분석_demo_.ipynb",
   "provenance": [],
   "toc_visible": true
  },
  "kernelspec": {
   "display_name": "Python 3",
   "language": "python",
   "name": "python3"
  },
  "language_info": {
   "codemirror_mode": {
    "name": "ipython",
    "version": 3
   },
   "file_extension": ".py",
   "mimetype": "text/x-python",
   "name": "python",
   "nbconvert_exporter": "python",
   "pygments_lexer": "ipython3",
   "version": "3.8.3"
  }
 },
 "nbformat": 4,
 "nbformat_minor": 1
}
