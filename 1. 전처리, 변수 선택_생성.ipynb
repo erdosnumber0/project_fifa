{
 "cells": [
  {
   "cell_type": "code",
   "execution_count": 1,
   "metadata": {
    "executionInfo": {
     "elapsed": 1475,
     "status": "ok",
     "timestamp": 1615841437030,
     "user": {
      "displayName": "이보람",
      "photoUrl": "",
      "userId": "01536695193053509639"
     },
     "user_tz": -540
    },
    "id": "ZRomyFfQz1-3"
   },
   "outputs": [],
   "source": [
    "import numpy as np\n",
    "import pandas as pd\n",
    "import matplotlib.pyplot as plt\n",
    "import matplotlib\n",
    "import seaborn as sns\n",
    "import warnings\n",
    "warnings.filterwarnings('ignore')"
   ]
  },
  {
   "cell_type": "code",
   "execution_count": 2,
   "metadata": {
    "executionInfo": {
     "elapsed": 2124,
     "status": "ok",
     "timestamp": 1615841437719,
     "user": {
      "displayName": "이보람",
      "photoUrl": "",
      "userId": "01536695193053509639"
     },
     "user_tz": -540
    },
    "id": "jT_sA2cEz1_M"
   },
   "outputs": [],
   "source": [
    "df = pd.read_csv('data.csv', index_col=0)"
   ]
  },
  {
   "cell_type": "markdown",
   "metadata": {
    "id": "uj-U8wJzz1_N"
   },
   "source": [
    "## 변환\n",
    "- value, wage, release clause 통화 단위\n",
    "- work rate ex.hight/hight -> 숫자로 변환(0-2/0-2) -> 파생변수 wr\n",
    "- "
   ]
  },
  {
   "cell_type": "code",
   "execution_count": 3,
   "metadata": {
    "executionInfo": {
     "elapsed": 2117,
     "status": "ok",
     "timestamp": 1615841437719,
     "user": {
      "displayName": "이보람",
      "photoUrl": "",
      "userId": "01536695193053509639"
     },
     "user_tz": -540
    },
    "id": "i4w0jOGtz1_O"
   },
   "outputs": [],
   "source": [
    "# 통화 변환-> 실수화\n",
    "def exchange(value):\n",
    "    out = value.replace('€', '')\n",
    "    if 'M' in out:\n",
    "        out = float(out.replace('M',''))*1000\n",
    "    elif 'K' in out:\n",
    "        out = float(out.replace('K',''))\n",
    "    return float(out)"
   ]
  },
  {
   "cell_type": "code",
   "execution_count": 4,
   "metadata": {
    "executionInfo": {
     "elapsed": 2110,
     "status": "ok",
     "timestamp": 1615841437720,
     "user": {
      "displayName": "이보람",
      "photoUrl": "",
      "userId": "01536695193053509639"
     },
     "user_tz": -540
    },
    "id": "vSLLd9k-z1_Q"
   },
   "outputs": [],
   "source": [
    "df.Value = df.Value.apply(lambda x: exchange(x))\n",
    "df.Wage = df.Wage.apply(lambda x: exchange(x))\n",
    "df['Release Clause'] = df['Release Clause'].astype('str')\n",
    "df['Release Clause'] = df['Release Clause'].apply(lambda x: exchange(x))"
   ]
  },
  {
   "cell_type": "markdown",
   "metadata": {},
   "source": [
    "Work Rate -> 경기 중 공격 적극성, 수비 적극성\n",
    "파생변수 WR = attack_wr+defence_wr"
   ]
  },
  {
   "cell_type": "code",
   "execution_count": 5,
   "metadata": {
    "executionInfo": {
     "elapsed": 2349,
     "status": "ok",
     "timestamp": 1615841437967,
     "user": {
      "displayName": "이보람",
      "photoUrl": "",
      "userId": "01536695193053509639"
     },
     "user_tz": -540
    },
    "id": "Dy7_lflkz1_S"
   },
   "outputs": [],
   "source": [
    "wr = df['Work Rate'].str.split('/', expand=True)\n",
    "df['Attack_WR']= wr[0]\n",
    "df['Attack_WR'].replace({'High':2, 'Medium':1,'Low':0},inplace= True)\n",
    "df['Defence_WR']=wr[1]\n",
    "df['Defence_WR'].replace({' High':2, ' Medium':1,' Low':0},inplace= True)\n",
    "df['WR']=df['Attack_WR']+df['Defence_WR']"
   ]
  },
  {
   "cell_type": "markdown",
   "metadata": {
    "id": "YnaLJOWJ3RWM"
   },
   "source": [
    "## 결측치가 많은 칼럼, 불필요한 칼럼 삭제\n",
    "- nan 48행 삭제\n",
    "- club 없는 행 삭제(Wage, value = 0유로)"
   ]
  },
  {
   "cell_type": "code",
   "execution_count": 264,
   "metadata": {
    "executionInfo": {
     "elapsed": 2342,
     "status": "ok",
     "timestamp": 1615841437968,
     "user": {
      "displayName": "이보람",
      "photoUrl": "",
      "userId": "01536695193053509639"
     },
     "user_tz": -540
    },
    "id": "of5aZNFjz1_U"
   },
   "outputs": [],
   "source": [
    "# 결측치가 많은 칼럼이나 불필요한 칼럼 삭제결측치가 많은 칼럼이나 불필요한 칼럼 삭제"
   ]
  },
  {
   "cell_type": "code",
   "execution_count": 6,
   "metadata": {
    "executionInfo": {
     "elapsed": 2335,
     "status": "ok",
     "timestamp": 1615841437969,
     "user": {
      "displayName": "이보람",
      "photoUrl": "",
      "userId": "01536695193053509639"
     },
     "user_tz": -540
    },
    "id": "EGPm7bxSz1_V"
   },
   "outputs": [],
   "source": [
    "# nan 행 삭제\n",
    "nan_data=df.iloc[13236:13284,:]\n",
    "nan_data.index\n",
    "df.drop(nan_data.index,inplace = True)"
   ]
  },
  {
   "cell_type": "code",
   "execution_count": 7,
   "metadata": {
    "executionInfo": {
     "elapsed": 2325,
     "status": "ok",
     "timestamp": 1615841437970,
     "user": {
      "displayName": "이보람",
      "photoUrl": "",
      "userId": "01536695193053509639"
     },
     "user_tz": -540
    },
    "id": "oJh3NDOKz1_d"
   },
   "outputs": [],
   "source": [
    "# club nan 행 탐색\n",
    "df.Club.fillna('non_club', inplace = True)\n",
    "non_club_s=df[df.Club =='non_club'].index\n",
    "df.drop(non_club_s,inplace = True)  "
   ]
  },
  {
   "cell_type": "code",
   "execution_count": 8,
   "metadata": {
    "colab": {
     "base_uri": "https://localhost:8080/"
    },
    "executionInfo": {
     "elapsed": 2312,
     "status": "ok",
     "timestamp": 1615841437970,
     "user": {
      "displayName": "이보람",
      "photoUrl": "",
      "userId": "01536695193053509639"
     },
     "user_tz": -540
    },
    "id": "AeOeetim31vU",
    "outputId": "5c637c82-e0ee-4fa5-959a-0c1e1fee1901"
   },
   "outputs": [
    {
     "data": {
      "text/plain": [
       "Index(['ID', 'Name', 'Age', 'Photo', 'Nationality', 'Flag', 'Overall',\n",
       "       'Potential', 'Club', 'Club Logo', 'Value', 'Wage', 'Special',\n",
       "       'Preferred Foot', 'International Reputation', 'Weak Foot',\n",
       "       'Skill Moves', 'Work Rate', 'Body Type', 'Real Face', 'Position',\n",
       "       'Jersey Number', 'Joined', 'Loaned From', 'Contract Valid Until',\n",
       "       'Height', 'Weight', 'LS', 'ST', 'RS', 'LW', 'LF', 'CF', 'RF', 'RW',\n",
       "       'LAM', 'CAM', 'RAM', 'LM', 'LCM', 'CM', 'RCM', 'RM', 'LWB', 'LDM',\n",
       "       'CDM', 'RDM', 'RWB', 'LB', 'LCB', 'CB', 'RCB', 'RB', 'Crossing',\n",
       "       'Finishing', 'HeadingAccuracy', 'ShortPassing', 'Volleys', 'Dribbling',\n",
       "       'Curve', 'FKAccuracy', 'LongPassing', 'BallControl', 'Acceleration',\n",
       "       'SprintSpeed', 'Agility', 'Reactions', 'Balance', 'ShotPower',\n",
       "       'Jumping', 'Stamina', 'Strength', 'LongShots', 'Aggression',\n",
       "       'Interceptions', 'Positioning', 'Vision', 'Penalties', 'Composure',\n",
       "       'Marking', 'StandingTackle', 'SlidingTackle', 'GKDiving', 'GKHandling',\n",
       "       'GKKicking', 'GKPositioning', 'GKReflexes', 'Release Clause',\n",
       "       'Attack_WR', 'Defence_WR', 'WR'],\n",
       "      dtype='object')"
      ]
     },
     "execution_count": 8,
     "metadata": {},
     "output_type": "execute_result"
    }
   ],
   "source": [
    "df.columns"
   ]
  },
  {
   "cell_type": "markdown",
   "metadata": {
    "id": "-Mb-wD1Kz1_k"
   },
   "source": [
    "## 파생변수 만들기"
   ]
  },
  {
   "cell_type": "markdown",
   "metadata": {
    "id": "I8UBxv_h4fUi"
   },
   "source": [
    "Age 범주화"
   ]
  },
  {
   "cell_type": "code",
   "execution_count": 9,
   "metadata": {
    "executionInfo": {
     "elapsed": 2297,
     "status": "ok",
     "timestamp": 1615841437971,
     "user": {
      "displayName": "이보람",
      "photoUrl": "",
      "userId": "01536695193053509639"
     },
     "user_tz": -540
    },
    "id": "tKtx8G7P4hxk"
   },
   "outputs": [],
   "source": [
    "# Age_C\n",
    "def Age_2(x):\n",
    "    if x <20 : return 1\n",
    "    elif (20<= x <=22): return 2\n",
    "    elif (23<= x <=24): return 3\n",
    "    elif (25<= x <= 26): return 4\n",
    "    elif (27<= x <= 29): return 5\n",
    "    elif (30<= x <=31): return 6\n",
    "    elif (32<= x <=33): return 7\n",
    "    elif (34 ==x): return 8\n",
    "    elif (35 <= x <= 38): return 9\n",
    "    elif (39 ==x): return 10\n",
    "    elif (40 <= x <= 45): return 11\n",
    "df['Age_C'] = df.Age.apply(Age_2) "
   ]
  },
  {
   "cell_type": "markdown",
   "metadata": {
    "id": "VWhYaXhY5Gax"
   },
   "source": [
    "Overall 범주화"
   ]
  },
  {
   "cell_type": "code",
   "execution_count": 10,
   "metadata": {
    "executionInfo": {
     "elapsed": 2291,
     "status": "ok",
     "timestamp": 1615841437972,
     "user": {
      "displayName": "이보람",
      "photoUrl": "",
      "userId": "01536695193053509639"
     },
     "user_tz": -540
    },
    "id": "oRRvJO254W9B"
   },
   "outputs": [],
   "source": [
    "# Over_C\n",
    "def Over_2(x):\n",
    "    if 46<= x <=62 : return 1\n",
    "    elif 63<= x <=68 : return 2\n",
    "    elif 69<= x <=72: return 3\n",
    "    elif 73<= x <=75: return 4\n",
    "    elif 76<= x <=78: return 5\n",
    "    elif 79<= x <=80: return 6\n",
    "    elif 81<= x <=82: return 7\n",
    "    elif 83==x: return 8\n",
    "    elif 84==x: return 9\n",
    "    elif 85==x: return 10\n",
    "    elif 86==x: return 11\n",
    "    elif 87==x: return 12\n",
    "    elif 88==x: return 13\n",
    "    elif 89==x: return 14\n",
    "    elif 90==x: return 15\n",
    "    elif 91==x: return 16\n",
    "    elif 92==x: return 17\n",
    "    elif 93<= x <=94 : return 18\n",
    "df['Over_C']=df.Overall.apply(Over_2)"
   ]
  },
  {
   "cell_type": "markdown",
   "metadata": {
    "id": "ivtJq7na5VKD"
   },
   "source": [
    "Club \n",
    "1. Club_Value\n",
    "2. Rich_Club\n",
    "3. ~Overall_Club~"
   ]
  },
  {
   "cell_type": "code",
   "execution_count": 11,
   "metadata": {
    "executionInfo": {
     "elapsed": 2284,
     "status": "ok",
     "timestamp": 1615841437973,
     "user": {
      "displayName": "이보람",
      "photoUrl": "",
      "userId": "01536695193053509639"
     },
     "user_tz": -540
    },
    "id": "kaQNuzNQ7UL2"
   },
   "outputs": [],
   "source": [
    "import statsmodels.formula.api as smf\n",
    "import statsmodels.api as sm"
   ]
  },
  {
   "cell_type": "markdown",
   "metadata": {
    "id": "SaXevaCt51sD"
   },
   "source": [
    "Club_Value"
   ]
  },
  {
   "cell_type": "code",
   "execution_count": 12,
   "metadata": {
    "colab": {
     "base_uri": "https://localhost:8080/",
     "height": 544
    },
    "executionInfo": {
     "elapsed": 3362,
     "status": "ok",
     "timestamp": 1615841439070,
     "user": {
      "displayName": "이보람",
      "photoUrl": "",
      "userId": "01536695193053509639"
     },
     "user_tz": -540
    },
    "id": "_-_5MAdNz1_r",
    "outputId": "fba753a8-85f2-4bf1-a969-dd6deca055d1"
   },
   "outputs": [
    {
     "data": {
      "text/plain": [
       "<matplotlib.axes._subplots.AxesSubplot at 0x2b97e3dbe80>"
      ]
     },
     "execution_count": 12,
     "metadata": {},
     "output_type": "execute_result"
    },
    {
     "data": {
      "image/png": "[encoded data removed]",
      "text/plain": [
       "<Figure size 1440x720 with 1 Axes>"
      ]
     },
     "metadata": {
      "needs_background": "light"
     },
     "output_type": "display_data"
    }
   ],
   "source": [
    "import seaborn as sns\n",
    "# 클럽 구단 가치 \n",
    "group = df.groupby('Club')['Value'].sum().reset_index().sort_values('Value', ascending = False).head(50)\n",
    "plt.figure(figsize = (20,10))\n",
    "sns.barplot(x = 'Value', y = 'Club', data = group)"
   ]
  },
  {
   "cell_type": "code",
   "execution_count": 13,
   "metadata": {
    "colab": {
     "base_uri": "https://localhost:8080/",
     "height": 225
    },
    "executionInfo": {
     "elapsed": 3341,
     "status": "ok",
     "timestamp": 1615841439072,
     "user": {
      "displayName": "이보람",
      "photoUrl": "",
      "userId": "01536695193053509639"
     },
     "user_tz": -540
    },
    "id": "dtQYbdghz1_u",
    "outputId": "30998c45-41d1-487f-b586-b163dcfb7350"
   },
   "outputs": [
    {
     "data": {
      "text/html": [
       "<div>\n",
       "<style scoped>\n",
       "    .dataframe tbody tr th:only-of-type {\n",
       "        vertical-align: middle;\n",
       "    }\n",
       "\n",
       "    .dataframe tbody tr th {\n",
       "        vertical-align: top;\n",
       "    }\n",
       "\n",
       "    .dataframe thead th {\n",
       "        text-align: right;\n",
       "    }\n",
       "</style>\n",
       "<table border=\"1\" class=\"dataframe\">\n",
       "  <thead>\n",
       "    <tr style=\"text-align: right;\">\n",
       "      <th></th>\n",
       "      <th>Value</th>\n",
       "    </tr>\n",
       "    <tr>\n",
       "      <th>Club</th>\n",
       "      <th></th>\n",
       "    </tr>\n",
       "  </thead>\n",
       "  <tbody>\n",
       "    <tr>\n",
       "      <th>Real Madrid</th>\n",
       "      <td>874425.0</td>\n",
       "    </tr>\n",
       "    <tr>\n",
       "      <th>FC Barcelona</th>\n",
       "      <td>852600.0</td>\n",
       "    </tr>\n",
       "    <tr>\n",
       "      <th>Manchester City</th>\n",
       "      <td>786555.0</td>\n",
       "    </tr>\n",
       "    <tr>\n",
       "      <th>Juventus</th>\n",
       "      <td>704475.0</td>\n",
       "    </tr>\n",
       "    <tr>\n",
       "      <th>FC Bayern München</th>\n",
       "      <td>679025.0</td>\n",
       "    </tr>\n",
       "  </tbody>\n",
       "</table>\n",
       "</div>"
      ],
      "text/plain": [
       "                      Value\n",
       "Club                       \n",
       "Real Madrid        874425.0\n",
       "FC Barcelona       852600.0\n",
       "Manchester City    786555.0\n",
       "Juventus           704475.0\n",
       "FC Bayern München  679025.0"
      ]
     },
     "execution_count": 13,
     "metadata": {},
     "output_type": "execute_result"
    }
   ],
   "source": [
    "group = df.groupby(['Club'])[['Value']]\n",
    "cmed= group.sum().sort_values(by=['Value'], ascending = False)\n",
    "cmed.head()"
   ]
  },
  {
   "cell_type": "code",
   "execution_count": 24,
   "metadata": {
    "colab": {
     "base_uri": "https://localhost:8080/",
     "height": 284
    },
    "executionInfo": {
     "elapsed": 3320,
     "status": "ok",
     "timestamp": 1615841439074,
     "user": {
      "displayName": "이보람",
      "photoUrl": "",
      "userId": "01536695193053509639"
     },
     "user_tz": -540
    },
    "id": "uIRDdjYa9BVV",
    "outputId": "e7a28e7f-7f9f-4897-ed71-341513e25189"
   },
   "outputs": [
    {
     "data": {
      "text/html": [
       "<div>\n",
       "<style scoped>\n",
       "    .dataframe tbody tr th:only-of-type {\n",
       "        vertical-align: middle;\n",
       "    }\n",
       "\n",
       "    .dataframe tbody tr th {\n",
       "        vertical-align: top;\n",
       "    }\n",
       "\n",
       "    .dataframe thead th {\n",
       "        text-align: right;\n",
       "    }\n",
       "</style>\n",
       "<table border=\"1\" class=\"dataframe\">\n",
       "  <thead>\n",
       "    <tr style=\"text-align: right;\">\n",
       "      <th></th>\n",
       "      <th>Value</th>\n",
       "    </tr>\n",
       "  </thead>\n",
       "  <tbody>\n",
       "    <tr>\n",
       "      <th>count</th>\n",
       "      <td>651.000000</td>\n",
       "    </tr>\n",
       "    <tr>\n",
       "      <th>mean</th>\n",
       "      <td>67395.591398</td>\n",
       "    </tr>\n",
       "    <tr>\n",
       "      <th>std</th>\n",
       "      <td>109255.819191</td>\n",
       "    </tr>\n",
       "    <tr>\n",
       "      <th>min</th>\n",
       "      <td>1930.000000</td>\n",
       "    </tr>\n",
       "    <tr>\n",
       "      <th>25%</th>\n",
       "      <td>15277.500000</td>\n",
       "    </tr>\n",
       "    <tr>\n",
       "      <th>50%</th>\n",
       "      <td>30520.000000</td>\n",
       "    </tr>\n",
       "    <tr>\n",
       "      <th>75%</th>\n",
       "      <td>65742.500000</td>\n",
       "    </tr>\n",
       "    <tr>\n",
       "      <th>max</th>\n",
       "      <td>874425.000000</td>\n",
       "    </tr>\n",
       "  </tbody>\n",
       "</table>\n",
       "</div>"
      ],
      "text/plain": [
       "               Value\n",
       "count     651.000000\n",
       "mean    67395.591398\n",
       "std    109255.819191\n",
       "min      1930.000000\n",
       "25%     15277.500000\n",
       "50%     30520.000000\n",
       "75%     65742.500000\n",
       "max    874425.000000"
      ]
     },
     "execution_count": 24,
     "metadata": {},
     "output_type": "execute_result"
    }
   ],
   "source": [
    "cmed.describe()"
   ]
  },
  {
   "cell_type": "code",
   "execution_count": null,
   "metadata": {
    "executionInfo": {
     "elapsed": 3564,
     "status": "ok",
     "timestamp": 1615841439335,
     "user": {
      "displayName": "이보람",
      "photoUrl": "",
      "userId": "01536695193053509639"
     },
     "user_tz": -540
    },
    "id": "TGWb5tOD7xEX"
   },
   "outputs": [],
   "source": [
    "club1=list(cmed.query('Value>=65742.5').index)\n",
    "club1\n",
    "club2=list(cmed.query('Value>=30520 & Value<65742.5').index)\n",
    "club2\n",
    "club3=list(cmed.query('Value>=15277.5 & Value <30520').index)\n",
    "club4=list(cmed.query('Value<15277.5').index)\n",
    "df.insert(7,'Club_Value',\n",
    "            df.apply(lambda x: \n",
    "            3 if x['Club'] in club1\n",
    "            else 2 if x['Club'] in club2\n",
    "            else 1 if x['Club'] in  club3\n",
    "            else 0, axis =1))"
   ]
  },
  {
   "cell_type": "markdown",
   "metadata": {
    "id": "CxSiq8UZ71Eo"
   },
   "source": [
    "Rich_Club"
   ]
  },
  {
   "cell_type": "code",
   "execution_count": 16,
   "metadata": {
    "colab": {
     "base_uri": "https://localhost:8080/",
     "height": 545
    },
    "executionInfo": {
     "elapsed": 4004,
     "status": "ok",
     "timestamp": 1615841439793,
     "user": {
      "displayName": "이보람",
      "photoUrl": "",
      "userId": "01536695193053509639"
     },
     "user_tz": -540
    },
    "id": "zeLCC5wt767W",
    "outputId": "269dd84c-300a-4082-c530-b87d978a3ddc"
   },
   "outputs": [
    {
     "data": {
      "text/plain": [
       "<matplotlib.axes._subplots.AxesSubplot at 0x2b905cf6bb0>"
      ]
     },
     "execution_count": 16,
     "metadata": {},
     "output_type": "execute_result"
    },
    {
     "data": {
      "image/png": "[encoded data removed]",
      "text/plain": [
       "<Figure size 1440x720 with 1 Axes>"
      ]
     },
     "metadata": {
      "needs_background": "light"
     },
     "output_type": "display_data"
    }
   ],
   "source": [
    "group3 = df.groupby('Club')['Wage'].sum().reset_index().sort_values('Wage', ascending = False).head(50)\n",
    "plt.figure(figsize = (20,10))\n",
    "sns.barplot(x = 'Wage', y = 'Club', data = group3)"
   ]
  },
  {
   "cell_type": "code",
   "execution_count": 17,
   "metadata": {
    "executionInfo": {
     "elapsed": 3992,
     "status": "ok",
     "timestamp": 1615841439795,
     "user": {
      "displayName": "이보람",
      "photoUrl": "",
      "userId": "01536695193053509639"
     },
     "user_tz": -540
    },
    "id": "r55wJgXk8vKA"
   },
   "outputs": [],
   "source": [
    "group3 = df.groupby(['Club'])[['Wage']]\n",
    "cmed1= group3.sum().sort_values(by=['Wage'], ascending = False)"
   ]
  },
  {
   "cell_type": "code",
   "execution_count": 18,
   "metadata": {
    "colab": {
     "base_uri": "https://localhost:8080/",
     "height": 284
    },
    "executionInfo": {
     "elapsed": 4228,
     "status": "ok",
     "timestamp": 1615841440047,
     "user": {
      "displayName": "이보람",
      "photoUrl": "",
      "userId": "01536695193053509639"
     },
     "user_tz": -540
    },
    "id": "3pDPQ9Sa8d9D",
    "outputId": "ec7d0a81-636b-46c3-f6bd-cb0de982fa2f"
   },
   "outputs": [
    {
     "data": {
      "text/html": [
       "<div>\n",
       "<style scoped>\n",
       "    .dataframe tbody tr th:only-of-type {\n",
       "        vertical-align: middle;\n",
       "    }\n",
       "\n",
       "    .dataframe tbody tr th {\n",
       "        vertical-align: top;\n",
       "    }\n",
       "\n",
       "    .dataframe thead th {\n",
       "        text-align: right;\n",
       "    }\n",
       "</style>\n",
       "<table border=\"1\" class=\"dataframe\">\n",
       "  <thead>\n",
       "    <tr style=\"text-align: right;\">\n",
       "      <th></th>\n",
       "      <th>Wage</th>\n",
       "    </tr>\n",
       "  </thead>\n",
       "  <tbody>\n",
       "    <tr>\n",
       "      <th>count</th>\n",
       "      <td>651.000000</td>\n",
       "    </tr>\n",
       "    <tr>\n",
       "      <th>mean</th>\n",
       "      <td>272.038402</td>\n",
       "    </tr>\n",
       "    <tr>\n",
       "      <th>std</th>\n",
       "      <td>499.444787</td>\n",
       "    </tr>\n",
       "    <tr>\n",
       "      <th>min</th>\n",
       "      <td>19.000000</td>\n",
       "    </tr>\n",
       "    <tr>\n",
       "      <th>25%</th>\n",
       "      <td>60.500000</td>\n",
       "    </tr>\n",
       "    <tr>\n",
       "      <th>50%</th>\n",
       "      <td>108.000000</td>\n",
       "    </tr>\n",
       "    <tr>\n",
       "      <th>75%</th>\n",
       "      <td>261.500000</td>\n",
       "    </tr>\n",
       "    <tr>\n",
       "      <th>max</th>\n",
       "      <td>5017.000000</td>\n",
       "    </tr>\n",
       "  </tbody>\n",
       "</table>\n",
       "</div>"
      ],
      "text/plain": [
       "              Wage\n",
       "count   651.000000\n",
       "mean    272.038402\n",
       "std     499.444787\n",
       "min      19.000000\n",
       "25%      60.500000\n",
       "50%     108.000000\n",
       "75%     261.500000\n",
       "max    5017.000000"
      ]
     },
     "execution_count": 18,
     "metadata": {},
     "output_type": "execute_result"
    }
   ],
   "source": [
    "cmed1.describe()"
   ]
  },
  {
   "cell_type": "code",
   "execution_count": 19,
   "metadata": {
    "executionInfo": {
     "elapsed": 4214,
     "status": "ok",
     "timestamp": 1615841440048,
     "user": {
      "displayName": "이보람",
      "photoUrl": "",
      "userId": "01536695193053509639"
     },
     "user_tz": -540
    },
    "id": "_de8VTZ89KsJ"
   },
   "outputs": [],
   "source": [
    "club11=list(cmed1.query('Wage>=261.5').index)\n",
    "club11\n",
    "club22=list(cmed1.query('Wage>=108 & Wage<261.5').index)\n",
    "club22\n",
    "club33=list(cmed1.query('Wage>=60.5 & Wage <108').index)\n",
    "club44=list(cmed1.query('Wage<60.5').index)\n",
    "df.insert(7,'Rich_Club',\n",
    "            df.apply(lambda x: \n",
    "            3 if x['Club'] in club11\n",
    "            else 2 if x['Club'] in club22\n",
    "            else 1 if x['Club'] in  club33\n",
    "            else 0, axis =1))"
   ]
  },
  {
   "cell_type": "markdown",
   "metadata": {
    "id": "qlLkPEkVz1_f"
   },
   "source": [
    "## 불필요한 컬럼 1차 삭제\n",
    "- 불필요\n",
    "- 파생변수 만들 칼럼들:\n",
    "- 다른 칼럼과 중복"
   ]
  },
  {
   "cell_type": "code",
   "execution_count": 27,
   "metadata": {
    "executionInfo": {
     "elapsed": 4201,
     "status": "ok",
     "timestamp": 1615841440049,
     "user": {
      "displayName": "이보람",
      "photoUrl": "",
      "userId": "01536695193053509639"
     },
     "user_tz": -540
    },
    "id": "I2L9hyAyz1_g"
   },
   "outputs": [],
   "source": [
    "df.drop(['Nationality','Work Rate','Photo', 'Flag','Club Logo',\n",
    "        'ID','Body Type','Height', 'Weight',\n",
    "        'Attack_WR', 'Defence_WR','Preferred Foot',\n",
    "        'Release Clause','Attack_WR', 'Defence_WR'], axis=1, inplace = True)"
   ]
  },
  {
   "cell_type": "markdown",
   "metadata": {},
   "source": [
    "# 파생변수 Period\n",
    "2018.12.31 - df.Joined = df.Period"
   ]
  },
  {
   "cell_type": "code",
   "execution_count": 280,
   "metadata": {
    "executionInfo": {
     "elapsed": 4192,
     "status": "ok",
     "timestamp": 1615841440051,
     "user": {
      "displayName": "이보람",
      "photoUrl": "",
      "userId": "01536695193053509639"
     },
     "user_tz": -540
    },
    "id": "rEuGXEe7z1_g"
   },
   "outputs": [],
   "source": [
    "# joined, contract Valid Unitil(기간 계산기간 계산)"
   ]
  },
  {
   "cell_type": "code",
   "execution_count": 29,
   "metadata": {},
   "outputs": [],
   "source": [
    "import datetime as dt\n",
    "df['Joined'] = pd.to_datetime(df['Joined'])\n",
    "today = dt.datetime(2018,12,31) # 가입일의 최고값이 12월 31일\n",
    "df['Period']= today - df.Joined\n",
    "df['Period']=df['Period'].apply(lambda x: round((x.days+1)/365,1))"
   ]
  },
  {
   "cell_type": "code",
   "execution_count": 30,
   "metadata": {
    "executionInfo": {
     "elapsed": 4458,
     "status": "ok",
     "timestamp": 1615841440338,
     "user": {
      "displayName": "이보람",
      "photoUrl": "",
      "userId": "01536695193053509639"
     },
     "user_tz": -540
    },
    "id": "Gneyffejz1_i"
   },
   "outputs": [],
   "source": [
    "df['Contract Valid Until'] = pd.to_datetime(df['Contract Valid Until'])"
   ]
  },
  {
   "cell_type": "code",
   "execution_count": 31,
   "metadata": {
    "executionInfo": {
     "elapsed": 4452,
     "status": "ok",
     "timestamp": 1615841440340,
     "user": {
      "displayName": "이보람",
      "photoUrl": "",
      "userId": "01536695193053509639"
     },
     "user_tz": -540
    },
    "id": "MSI9u6r5z1_i"
   },
   "outputs": [],
   "source": [
    "df['Loaned From'].fillna(0,inplace=True)"
   ]
  },
  {
   "cell_type": "markdown",
   "metadata": {},
   "source": [
    "# club소속 선수 vs 임대선수"
   ]
  },
  {
   "cell_type": "code",
   "execution_count": 32,
   "metadata": {
    "executionInfo": {
     "elapsed": 4740,
     "status": "ok",
     "timestamp": 1615841440638,
     "user": {
      "displayName": "이보람",
      "photoUrl": "",
      "userId": "01536695193053509639"
     },
     "user_tz": -540
    },
    "id": "rC-WgbsAz1_j"
   },
   "outputs": [],
   "source": [
    "def Loaned(df):\n",
    "    if (df['Loaned From']==0):\n",
    "        return 1 #구단 소속 선수\n",
    "    else:\n",
    "        return 0 # 임대선수\n",
    "df['Loaned']=df.apply(Loaned,axis=1)"
   ]
  },
  {
   "cell_type": "markdown",
   "metadata": {
    "id": "suYGzdJS9sCt"
   },
   "source": [
    "Special_sc\n",
    "- potential = overal +나이 점수(어릴수록 높음)\n",
    "- special = \n",
    "\n",
    "SUM('Crossing', 'Finishing', 'HeadingAccuracy', 'ShortPassing', 'Volleys','Dribbling', 'Curve', 'FKAccuracy', 'LongPassing', 'BallControl',\n",
    "       'Acceleration', 'SprintSpeed', 'Agility', 'Reactions', 'Balance',\n",
    "       'ShotPower', 'Jumping', 'Stamina', 'Strength', 'LongShots',\n",
    "       'Aggression', 'Interceptions', 'Positioning', 'Vision', 'Penalties',\n",
    "       'Composure', 'Marking', 'StandingTackle', 'SlidingTackle') - ('Compouser' )\n",
    "\n",
    " 그래서 special_psc = df.potential + df.special+ df.composure"
   ]
  },
  {
   "cell_type": "code",
   "execution_count": 33,
   "metadata": {
    "executionInfo": {
     "elapsed": 4719,
     "status": "ok",
     "timestamp": 1615841440641,
     "user": {
      "displayName": "이보람",
      "photoUrl": "",
      "userId": "01536695193053509639"
     },
     "user_tz": -540
    },
    "id": "7ngcnn96_PJl"
   },
   "outputs": [],
   "source": [
    "df['Special_sc']=df.Special+df.Composure\n",
    "# Special, Special+Composure, Potential+Special+Composure 영향력은 별 차이 없음(되려 떨어지기도?!)"
   ]
  },
  {
   "cell_type": "code",
   "execution_count": 36,
   "metadata": {
    "executionInfo": {
     "elapsed": 5099,
     "status": "ok",
     "timestamp": 1615841441087,
     "user": {
      "displayName": "이보람",
      "photoUrl": "",
      "userId": "01536695193053509639"
     },
     "user_tz": -540
    },
    "id": "dTPDWmgemUbc"
   },
   "outputs": [],
   "source": [
    "def Special_sc(x):\n",
    "    if x<2100: return 0\n",
    "    elif 2100 <= x: return 1\n",
    "df['Special_sc']= df.Special.apply(Special_sc)"
   ]
  },
  {
   "cell_type": "markdown",
   "metadata": {
    "id": "B8dYygW3-jIi"
   },
   "source": [
    "Position_Score = \n",
    "가정,overall보다 Wage와 상관관계가 좋지 않을까?\n",
    "FORWARD =LS+ST+RS+LW+LF+CF+RF+RW 점수 평균 -> OVERALL을 대체할수 있나?\n",
    "MIDFIELDER = LAM+CAM+RAM+LM+LCM+CM+RCM+RM 점수 평균\n",
    "DEFENDER=LWB+LDM+CDM+RDM+RWB+LB+LCB+CB+RCB+RB 점수 평균"
   ]
  },
  {
   "cell_type": "code",
   "execution_count": 37,
   "metadata": {
    "executionInfo": {
     "elapsed": 5330,
     "status": "ok",
     "timestamp": 1615841441326,
     "user": {
      "displayName": "이보람",
      "photoUrl": "",
      "userId": "01536695193053509639"
     },
     "user_tz": -540
    },
    "id": "prP-3yJdBBQ8"
   },
   "outputs": [],
   "source": [
    "# 파생변수 1 Position_Class\n",
    "df.insert(9,'Position_Class',\n",
    "            df.apply(lambda x: \n",
    "            'Forward' if x['Position'] in ['LS','ST','RS','LW','LF','CF','RF','RW']\n",
    "            else 'Midfielder' if x['Position'] in ['LAM','CAM','RAM','LM','LCM','CM',\n",
    "                                                   'RCM','RM']\n",
    "            else 'Defender' if x['Position'] in  ['LWB','LDM','CDM','RDM','RWB','LB',\n",
    "                                                  'LCB','CB','RCB','RB']\n",
    "            else 'GoalKeeper', axis =1))"
   ]
  },
  {
   "cell_type": "code",
   "execution_count": 71,
   "metadata": {
    "colab": {
     "base_uri": "https://localhost:8080/",
     "height": 362
    },
    "executionInfo": {
     "elapsed": 5608,
     "status": "ok",
     "timestamp": 1615841441620,
     "user": {
      "displayName": "이보람",
      "photoUrl": "",
      "userId": "01536695193053509639"
     },
     "user_tz": -540
    },
    "id": "Z5GtOWNL-iEw",
    "outputId": "d0952598-d7d9-4f16-b2d7-f2d55f0dffa5"
   },
   "outputs": [
    {
     "data": {
      "text/html": [
       "<div>\n",
       "<style scoped>\n",
       "    .dataframe tbody tr th:only-of-type {\n",
       "        vertical-align: middle;\n",
       "    }\n",
       "\n",
       "    .dataframe tbody tr th {\n",
       "        vertical-align: top;\n",
       "    }\n",
       "\n",
       "    .dataframe thead th {\n",
       "        text-align: right;\n",
       "    }\n",
       "</style>\n",
       "<table border=\"1\" class=\"dataframe\">\n",
       "  <thead>\n",
       "    <tr style=\"text-align: right;\">\n",
       "      <th></th>\n",
       "      <th>Name</th>\n",
       "      <th>Age</th>\n",
       "      <th>Overall</th>\n",
       "      <th>Rich_Club</th>\n",
       "      <th>Club_Value</th>\n",
       "      <th>Potential</th>\n",
       "      <th>Club</th>\n",
       "      <th>Value</th>\n",
       "      <th>Wage</th>\n",
       "      <th>Position_Class</th>\n",
       "      <th>...</th>\n",
       "      <th>GKHandling</th>\n",
       "      <th>GKKicking</th>\n",
       "      <th>GKPositioning</th>\n",
       "      <th>GKReflexes</th>\n",
       "      <th>WR</th>\n",
       "      <th>Age_C</th>\n",
       "      <th>Over_C</th>\n",
       "      <th>Period</th>\n",
       "      <th>Loaned</th>\n",
       "      <th>Special_sc</th>\n",
       "    </tr>\n",
       "  </thead>\n",
       "  <tbody>\n",
       "    <tr>\n",
       "      <th>0</th>\n",
       "      <td>L. Messi</td>\n",
       "      <td>31</td>\n",
       "      <td>94</td>\n",
       "      <td>3</td>\n",
       "      <td>3</td>\n",
       "      <td>94</td>\n",
       "      <td>FC Barcelona</td>\n",
       "      <td>110500.0</td>\n",
       "      <td>565.0</td>\n",
       "      <td>Forward</td>\n",
       "      <td>...</td>\n",
       "      <td>11.0</td>\n",
       "      <td>15.0</td>\n",
       "      <td>14.0</td>\n",
       "      <td>8.0</td>\n",
       "      <td>2.0</td>\n",
       "      <td>6</td>\n",
       "      <td>18</td>\n",
       "      <td>14.5</td>\n",
       "      <td>1</td>\n",
       "      <td>1</td>\n",
       "    </tr>\n",
       "    <tr>\n",
       "      <th>1</th>\n",
       "      <td>Cristiano Ronaldo</td>\n",
       "      <td>33</td>\n",
       "      <td>94</td>\n",
       "      <td>3</td>\n",
       "      <td>3</td>\n",
       "      <td>94</td>\n",
       "      <td>Juventus</td>\n",
       "      <td>77000.0</td>\n",
       "      <td>405.0</td>\n",
       "      <td>Forward</td>\n",
       "      <td>...</td>\n",
       "      <td>11.0</td>\n",
       "      <td>15.0</td>\n",
       "      <td>14.0</td>\n",
       "      <td>11.0</td>\n",
       "      <td>2.0</td>\n",
       "      <td>7</td>\n",
       "      <td>18</td>\n",
       "      <td>0.5</td>\n",
       "      <td>1</td>\n",
       "      <td>1</td>\n",
       "    </tr>\n",
       "    <tr>\n",
       "      <th>2</th>\n",
       "      <td>Neymar Jr</td>\n",
       "      <td>26</td>\n",
       "      <td>92</td>\n",
       "      <td>3</td>\n",
       "      <td>3</td>\n",
       "      <td>93</td>\n",
       "      <td>Paris Saint-Germain</td>\n",
       "      <td>118500.0</td>\n",
       "      <td>290.0</td>\n",
       "      <td>Forward</td>\n",
       "      <td>...</td>\n",
       "      <td>9.0</td>\n",
       "      <td>15.0</td>\n",
       "      <td>15.0</td>\n",
       "      <td>11.0</td>\n",
       "      <td>3.0</td>\n",
       "      <td>4</td>\n",
       "      <td>17</td>\n",
       "      <td>1.4</td>\n",
       "      <td>1</td>\n",
       "      <td>1</td>\n",
       "    </tr>\n",
       "    <tr>\n",
       "      <th>4</th>\n",
       "      <td>K. De Bruyne</td>\n",
       "      <td>27</td>\n",
       "      <td>91</td>\n",
       "      <td>3</td>\n",
       "      <td>3</td>\n",
       "      <td>92</td>\n",
       "      <td>Manchester City</td>\n",
       "      <td>102000.0</td>\n",
       "      <td>355.0</td>\n",
       "      <td>Midfielder</td>\n",
       "      <td>...</td>\n",
       "      <td>13.0</td>\n",
       "      <td>5.0</td>\n",
       "      <td>10.0</td>\n",
       "      <td>13.0</td>\n",
       "      <td>4.0</td>\n",
       "      <td>5</td>\n",
       "      <td>16</td>\n",
       "      <td>3.3</td>\n",
       "      <td>1</td>\n",
       "      <td>1</td>\n",
       "    </tr>\n",
       "    <tr>\n",
       "      <th>5</th>\n",
       "      <td>E. Hazard</td>\n",
       "      <td>27</td>\n",
       "      <td>91</td>\n",
       "      <td>3</td>\n",
       "      <td>3</td>\n",
       "      <td>91</td>\n",
       "      <td>Chelsea</td>\n",
       "      <td>93000.0</td>\n",
       "      <td>340.0</td>\n",
       "      <td>Forward</td>\n",
       "      <td>...</td>\n",
       "      <td>12.0</td>\n",
       "      <td>6.0</td>\n",
       "      <td>8.0</td>\n",
       "      <td>8.0</td>\n",
       "      <td>3.0</td>\n",
       "      <td>5</td>\n",
       "      <td>16</td>\n",
       "      <td>6.5</td>\n",
       "      <td>1</td>\n",
       "      <td>1</td>\n",
       "    </tr>\n",
       "  </tbody>\n",
       "</table>\n",
       "<p>5 rows × 86 columns</p>\n",
       "</div>"
      ],
      "text/plain": [
       "                Name  Age  Overall  Rich_Club  Club_Value  Potential  \\\n",
       "0           L. Messi   31       94          3           3         94   \n",
       "1  Cristiano Ronaldo   33       94          3           3         94   \n",
       "2          Neymar Jr   26       92          3           3         93   \n",
       "4       K. De Bruyne   27       91          3           3         92   \n",
       "5          E. Hazard   27       91          3           3         91   \n",
       "\n",
       "                  Club     Value   Wage Position_Class  ...  GKHandling  \\\n",
       "0         FC Barcelona  110500.0  565.0        Forward  ...        11.0   \n",
       "1             Juventus   77000.0  405.0        Forward  ...        11.0   \n",
       "2  Paris Saint-Germain  118500.0  290.0        Forward  ...         9.0   \n",
       "4      Manchester City  102000.0  355.0     Midfielder  ...        13.0   \n",
       "5              Chelsea   93000.0  340.0        Forward  ...        12.0   \n",
       "\n",
       "   GKKicking  GKPositioning  GKReflexes   WR Age_C  Over_C Period Loaned  \\\n",
       "0       15.0           14.0         8.0  2.0     6      18   14.5      1   \n",
       "1       15.0           14.0        11.0  2.0     7      18    0.5      1   \n",
       "2       15.0           15.0        11.0  3.0     4      17    1.4      1   \n",
       "4        5.0           10.0        13.0  4.0     5      16    3.3      1   \n",
       "5        6.0            8.0         8.0  3.0     5      16    6.5      1   \n",
       "\n",
       "  Special_sc  \n",
       "0          1  \n",
       "1          1  \n",
       "2          1  \n",
       "4          1  \n",
       "5          1  \n",
       "\n",
       "[5 rows x 86 columns]"
      ]
     },
     "execution_count": 71,
     "metadata": {},
     "output_type": "execute_result"
    }
   ],
   "source": [
    "df1=df[df['Position']!='GK']\n",
    "df1.head()"
   ]
  },
  {
   "cell_type": "code",
   "execution_count": 72,
   "metadata": {
    "executionInfo": {
     "elapsed": 5593,
     "status": "ok",
     "timestamp": 1615841441623,
     "user": {
      "displayName": "이보람",
      "photoUrl": "",
      "userId": "01536695193053509639"
     },
     "user_tz": -540
    },
    "id": "OKQlRPLK9rgi"
   },
   "outputs": [],
   "source": [
    "def exchange1(value): # +분리\n",
    "    out1 = value.split('+')[0]\n",
    "    out2 = value.split('+')[1]\n",
    "    return int(out1)+int(out2)  "
   ]
  },
  {
   "cell_type": "code",
   "execution_count": 73,
   "metadata": {
    "executionInfo": {
     "elapsed": 6131,
     "status": "ok",
     "timestamp": 1615841442168,
     "user": {
      "displayName": "이보람",
      "photoUrl": "",
      "userId": "01536695193053509639"
     },
     "user_tz": -540
    },
    "id": "KIsw90rH-dND"
   },
   "outputs": [],
   "source": [
    "df1.LS = df1.LS.apply(lambda x: exchange1(x))\n",
    "df1.ST = df1.ST.apply(lambda x: exchange1(x))\n",
    "df1.RS = df1.RS.apply(lambda x: exchange1(x))\n",
    "df1.LW = df1.LW.apply(lambda x: exchange1(x))\n",
    "df1.LF = df1.LF.apply(lambda x: exchange1(x))\n",
    "df1.CF = df1.CF.apply(lambda x: exchange1(x))\n",
    "df1.RF = df1.RF.apply(lambda x: exchange1(x))\n",
    "df1.RW = df1.RW.apply(lambda x: exchange1(x))\n",
    "df1.LAM = df1.LAM.apply(lambda x: exchange1(x))\n",
    "df1.CAM = df1.CAM.apply(lambda x: exchange1(x))\n",
    "df1.RAM = df1.RAM.apply(lambda x: exchange1(x))\n",
    "df1.LM = df1.LM.apply(lambda x: exchange1(x))\n",
    "df1.LCM = df1.LCM.apply(lambda x: exchange1(x))\n",
    "df1.CM = df1.CM.apply(lambda x: exchange1(x))\n",
    "df1.RCM = df1.RCM.apply(lambda x: exchange1(x))\n",
    "df1.RM = df1.RM.apply(lambda x: exchange1(x))\n",
    "df1.LWB = df1.LWB.apply(lambda x: exchange1(x))\n",
    "df1.LDM = df1.LDM.apply(lambda x: exchange1(x))\n",
    "df1.CDM = df1.CDM.apply(lambda x: exchange1(x))\n",
    "df1.RDM = df1.RDM.apply(lambda x: exchange1(x))\n",
    "df1.RWB = df1.RWB.apply(lambda x: exchange1(x))\n",
    "df1.LB = df1.LB.apply(lambda x: exchange1(x))\n",
    "df1.LCB = df1.LCB.apply(lambda x: exchange1(x))\n",
    "df1.CB = df1.CB.apply(lambda x: exchange1(x))\n",
    "df1.RCB = df1.RCB.apply(lambda x: exchange1(x))\n",
    "df1.RB = df1.RB.apply(lambda x: exchange1(x))"
   ]
  },
  {
   "cell_type": "code",
   "execution_count": 74,
   "metadata": {
    "executionInfo": {
     "elapsed": 6128,
     "status": "ok",
     "timestamp": 1615841442172,
     "user": {
      "displayName": "이보람",
      "photoUrl": "",
      "userId": "01536695193053509639"
     },
     "user_tz": -540
    },
    "id": "R8GSEYHc-dnS"
   },
   "outputs": [],
   "source": [
    "forw=['LS', 'ST', 'RS', 'LW', 'LF', 'CF', 'RF', 'RW']\n",
    "mid=['LAM', 'CAM', 'RAM', 'LM', 'LCM', 'CM', 'RCM', 'RM']\n",
    "defen=['LWB', 'LDM','CDM', 'RDM', 'RWB', 'LB', 'LCB', 'CB', 'RCB', 'RB']"
   ]
  },
  {
   "cell_type": "code",
   "execution_count": 75,
   "metadata": {
    "executionInfo": {
     "elapsed": 6122,
     "status": "ok",
     "timestamp": 1615841442174,
     "user": {
      "displayName": "이보람",
      "photoUrl": "",
      "userId": "01536695193053509639"
     },
     "user_tz": -540
    },
    "id": "51ElqicB_Jbm"
   },
   "outputs": [],
   "source": [
    "df1['forward']=df1[forw].mean(axis=1).round(0)\n",
    "df1['midfielder']=df1[mid].mean(axis=1).round(0)\n",
    "df1['defender']=df1[defen].mean(axis=1).round(0)"
   ]
  },
  {
   "cell_type": "code",
   "execution_count": 76,
   "metadata": {
    "executionInfo": {
     "elapsed": 6099,
     "status": "ok",
     "timestamp": 1615841442176,
     "user": {
      "displayName": "이보람",
      "photoUrl": "",
      "userId": "01536695193053509639"
     },
     "user_tz": -540
    },
    "id": "o_Dy-m1O_Jet"
   },
   "outputs": [],
   "source": [
    "df1['Position_Score']=np.nan"
   ]
  },
  {
   "cell_type": "code",
   "execution_count": 77,
   "metadata": {
    "colab": {
     "base_uri": "https://localhost:8080/",
     "height": 402
    },
    "executionInfo": {
     "elapsed": 6084,
     "status": "ok",
     "timestamp": 1615841442177,
     "user": {
      "displayName": "이보람",
      "photoUrl": "",
      "userId": "01536695193053509639"
     },
     "user_tz": -540
    },
    "id": "IPOwhWYm_2Ht",
    "outputId": "ca707b46-9800-435a-8ca7-d142fe0623b8"
   },
   "outputs": [
    {
     "data": {
      "text/html": [
       "<div>\n",
       "<style scoped>\n",
       "    .dataframe tbody tr th:only-of-type {\n",
       "        vertical-align: middle;\n",
       "    }\n",
       "\n",
       "    .dataframe tbody tr th {\n",
       "        vertical-align: top;\n",
       "    }\n",
       "\n",
       "    .dataframe thead th {\n",
       "        text-align: right;\n",
       "    }\n",
       "</style>\n",
       "<table border=\"1\" class=\"dataframe\">\n",
       "  <thead>\n",
       "    <tr style=\"text-align: right;\">\n",
       "      <th></th>\n",
       "      <th>forward</th>\n",
       "      <th>midfielder</th>\n",
       "      <th>defender</th>\n",
       "      <th>Position_Score</th>\n",
       "    </tr>\n",
       "  </thead>\n",
       "  <tbody>\n",
       "    <tr>\n",
       "      <th>0</th>\n",
       "      <td>93.0</td>\n",
       "      <td>91.0</td>\n",
       "      <td>59.0</td>\n",
       "      <td>NaN</td>\n",
       "    </tr>\n",
       "    <tr>\n",
       "      <th>1</th>\n",
       "      <td>93.0</td>\n",
       "      <td>88.0</td>\n",
       "      <td>62.0</td>\n",
       "      <td>NaN</td>\n",
       "    </tr>\n",
       "    <tr>\n",
       "      <th>2</th>\n",
       "      <td>90.0</td>\n",
       "      <td>89.0</td>\n",
       "      <td>60.0</td>\n",
       "      <td>NaN</td>\n",
       "    </tr>\n",
       "    <tr>\n",
       "      <th>4</th>\n",
       "      <td>88.0</td>\n",
       "      <td>91.0</td>\n",
       "      <td>76.0</td>\n",
       "      <td>NaN</td>\n",
       "    </tr>\n",
       "    <tr>\n",
       "      <th>5</th>\n",
       "      <td>89.0</td>\n",
       "      <td>89.0</td>\n",
       "      <td>62.0</td>\n",
       "      <td>NaN</td>\n",
       "    </tr>\n",
       "  </tbody>\n",
       "</table>\n",
       "</div>"
      ],
      "text/plain": [
       "   forward  midfielder  defender  Position_Score\n",
       "0     93.0        91.0      59.0             NaN\n",
       "1     93.0        88.0      62.0             NaN\n",
       "2     90.0        89.0      60.0             NaN\n",
       "4     88.0        91.0      76.0             NaN\n",
       "5     89.0        89.0      62.0             NaN"
      ]
     },
     "execution_count": 77,
     "metadata": {},
     "output_type": "execute_result"
    }
   ],
   "source": [
    "df1.iloc[:,86:90].head()"
   ]
  },
  {
   "cell_type": "code",
   "execution_count": 78,
   "metadata": {
    "executionInfo": {
     "elapsed": 10860,
     "status": "ok",
     "timestamp": 1615841446968,
     "user": {
      "displayName": "이보람",
      "photoUrl": "",
      "userId": "01536695193053509639"
     },
     "user_tz": -540
    },
    "id": "aeGJYIZG_JhI"
   },
   "outputs": [],
   "source": [
    "for i in range(len(df1)):\n",
    "    if df1.iloc[i, 9] == 'Forward':\n",
    "        df1.iloc[i, 89] = df1.iloc[i,86]\n",
    "    elif df1.iloc[i, 9] == 'Midfielder':\n",
    "        df1.iloc[i, 89] = df1.iloc[i,87]\n",
    "    elif df1.iloc[i, 9] == 'Defender':\n",
    "        df1.iloc[i, 89] = df1.iloc[i,88]"
   ]
  },
  {
   "cell_type": "code",
   "execution_count": 79,
   "metadata": {
    "colab": {
     "base_uri": "https://localhost:8080/",
     "height": 402
    },
    "executionInfo": {
     "elapsed": 10841,
     "status": "ok",
     "timestamp": 1615841446977,
     "user": {
      "displayName": "이보람",
      "photoUrl": "",
      "userId": "01536695193053509639"
     },
     "user_tz": -540
    },
    "id": "Bu8SYKAzAkbk",
    "outputId": "5e79009c-bf34-44e9-c27a-7b1a18b4a09a"
   },
   "outputs": [
    {
     "data": {
      "text/html": [
       "<div>\n",
       "<style scoped>\n",
       "    .dataframe tbody tr th:only-of-type {\n",
       "        vertical-align: middle;\n",
       "    }\n",
       "\n",
       "    .dataframe tbody tr th {\n",
       "        vertical-align: top;\n",
       "    }\n",
       "\n",
       "    .dataframe thead th {\n",
       "        text-align: right;\n",
       "    }\n",
       "</style>\n",
       "<table border=\"1\" class=\"dataframe\">\n",
       "  <thead>\n",
       "    <tr style=\"text-align: right;\">\n",
       "      <th></th>\n",
       "      <th>forward</th>\n",
       "      <th>midfielder</th>\n",
       "      <th>defender</th>\n",
       "      <th>Position_Score</th>\n",
       "    </tr>\n",
       "  </thead>\n",
       "  <tbody>\n",
       "    <tr>\n",
       "      <th>0</th>\n",
       "      <td>93.0</td>\n",
       "      <td>91.0</td>\n",
       "      <td>59.0</td>\n",
       "      <td>93.0</td>\n",
       "    </tr>\n",
       "    <tr>\n",
       "      <th>1</th>\n",
       "      <td>93.0</td>\n",
       "      <td>88.0</td>\n",
       "      <td>62.0</td>\n",
       "      <td>93.0</td>\n",
       "    </tr>\n",
       "    <tr>\n",
       "      <th>2</th>\n",
       "      <td>90.0</td>\n",
       "      <td>89.0</td>\n",
       "      <td>60.0</td>\n",
       "      <td>90.0</td>\n",
       "    </tr>\n",
       "    <tr>\n",
       "      <th>4</th>\n",
       "      <td>88.0</td>\n",
       "      <td>91.0</td>\n",
       "      <td>76.0</td>\n",
       "      <td>91.0</td>\n",
       "    </tr>\n",
       "    <tr>\n",
       "      <th>5</th>\n",
       "      <td>89.0</td>\n",
       "      <td>89.0</td>\n",
       "      <td>62.0</td>\n",
       "      <td>89.0</td>\n",
       "    </tr>\n",
       "  </tbody>\n",
       "</table>\n",
       "</div>"
      ],
      "text/plain": [
       "   forward  midfielder  defender  Position_Score\n",
       "0     93.0        91.0      59.0            93.0\n",
       "1     93.0        88.0      62.0            93.0\n",
       "2     90.0        89.0      60.0            90.0\n",
       "4     88.0        91.0      76.0            91.0\n",
       "5     89.0        89.0      62.0            89.0"
      ]
     },
     "execution_count": 79,
     "metadata": {},
     "output_type": "execute_result"
    }
   ],
   "source": [
    "df1.iloc[:,86:90].head()"
   ]
  },
  {
   "cell_type": "code",
   "execution_count": 80,
   "metadata": {
    "executionInfo": {
     "elapsed": 10821,
     "status": "ok",
     "timestamp": 1615841446979,
     "user": {
      "displayName": "이보람",
      "photoUrl": "",
      "userId": "01536695193053509639"
     },
     "user_tz": -540
    },
    "id": "nOSeiYe2_Jjf"
   },
   "outputs": [],
   "source": [
    "df1.drop(['forward','midfielder','defender'], axis=1, inplace=True)"
   ]
  },
  {
   "cell_type": "code",
   "execution_count": 81,
   "metadata": {
    "colab": {
     "base_uri": "https://localhost:8080/",
     "height": 362
    },
    "executionInfo": {
     "elapsed": 10793,
     "status": "ok",
     "timestamp": 1615841446981,
     "user": {
      "displayName": "이보람",
      "photoUrl": "",
      "userId": "01536695193053509639"
     },
     "user_tz": -540
    },
    "id": "ORbNoL1r_Jls",
    "outputId": "a1acba40-a1f3-4efc-9c8c-5fcecae487ef"
   },
   "outputs": [
    {
     "data": {
      "text/html": [
       "<div>\n",
       "<style scoped>\n",
       "    .dataframe tbody tr th:only-of-type {\n",
       "        vertical-align: middle;\n",
       "    }\n",
       "\n",
       "    .dataframe tbody tr th {\n",
       "        vertical-align: top;\n",
       "    }\n",
       "\n",
       "    .dataframe thead th {\n",
       "        text-align: right;\n",
       "    }\n",
       "</style>\n",
       "<table border=\"1\" class=\"dataframe\">\n",
       "  <thead>\n",
       "    <tr style=\"text-align: right;\">\n",
       "      <th></th>\n",
       "      <th>Name</th>\n",
       "      <th>Age</th>\n",
       "      <th>Overall</th>\n",
       "      <th>Rich_Club</th>\n",
       "      <th>Club_Value</th>\n",
       "      <th>Potential</th>\n",
       "      <th>Club</th>\n",
       "      <th>Value</th>\n",
       "      <th>Wage</th>\n",
       "      <th>Position_Class</th>\n",
       "      <th>...</th>\n",
       "      <th>GKHandling</th>\n",
       "      <th>GKKicking</th>\n",
       "      <th>GKPositioning</th>\n",
       "      <th>GKReflexes</th>\n",
       "      <th>WR</th>\n",
       "      <th>Age_C</th>\n",
       "      <th>Over_C</th>\n",
       "      <th>Period</th>\n",
       "      <th>Loaned</th>\n",
       "      <th>Special_sc</th>\n",
       "    </tr>\n",
       "  </thead>\n",
       "  <tbody>\n",
       "    <tr>\n",
       "      <th>3</th>\n",
       "      <td>De Gea</td>\n",
       "      <td>27</td>\n",
       "      <td>91</td>\n",
       "      <td>3</td>\n",
       "      <td>3</td>\n",
       "      <td>93</td>\n",
       "      <td>Manchester United</td>\n",
       "      <td>72000.0</td>\n",
       "      <td>260.0</td>\n",
       "      <td>GoalKeeper</td>\n",
       "      <td>...</td>\n",
       "      <td>85.0</td>\n",
       "      <td>87.0</td>\n",
       "      <td>88.0</td>\n",
       "      <td>94.0</td>\n",
       "      <td>2.0</td>\n",
       "      <td>5</td>\n",
       "      <td>16</td>\n",
       "      <td>7.5</td>\n",
       "      <td>1</td>\n",
       "      <td>0</td>\n",
       "    </tr>\n",
       "    <tr>\n",
       "      <th>9</th>\n",
       "      <td>J. Oblak</td>\n",
       "      <td>25</td>\n",
       "      <td>90</td>\n",
       "      <td>3</td>\n",
       "      <td>3</td>\n",
       "      <td>93</td>\n",
       "      <td>Atlético Madrid</td>\n",
       "      <td>68000.0</td>\n",
       "      <td>94.0</td>\n",
       "      <td>GoalKeeper</td>\n",
       "      <td>...</td>\n",
       "      <td>92.0</td>\n",
       "      <td>78.0</td>\n",
       "      <td>88.0</td>\n",
       "      <td>89.0</td>\n",
       "      <td>2.0</td>\n",
       "      <td>4</td>\n",
       "      <td>15</td>\n",
       "      <td>4.5</td>\n",
       "      <td>1</td>\n",
       "      <td>0</td>\n",
       "    </tr>\n",
       "    <tr>\n",
       "      <th>18</th>\n",
       "      <td>M. ter Stegen</td>\n",
       "      <td>26</td>\n",
       "      <td>89</td>\n",
       "      <td>3</td>\n",
       "      <td>3</td>\n",
       "      <td>92</td>\n",
       "      <td>FC Barcelona</td>\n",
       "      <td>58000.0</td>\n",
       "      <td>240.0</td>\n",
       "      <td>GoalKeeper</td>\n",
       "      <td>...</td>\n",
       "      <td>85.0</td>\n",
       "      <td>88.0</td>\n",
       "      <td>85.0</td>\n",
       "      <td>90.0</td>\n",
       "      <td>2.0</td>\n",
       "      <td>4</td>\n",
       "      <td>14</td>\n",
       "      <td>4.5</td>\n",
       "      <td>1</td>\n",
       "      <td>0</td>\n",
       "    </tr>\n",
       "    <tr>\n",
       "      <th>19</th>\n",
       "      <td>T. Courtois</td>\n",
       "      <td>26</td>\n",
       "      <td>89</td>\n",
       "      <td>3</td>\n",
       "      <td>3</td>\n",
       "      <td>90</td>\n",
       "      <td>Real Madrid</td>\n",
       "      <td>53500.0</td>\n",
       "      <td>240.0</td>\n",
       "      <td>GoalKeeper</td>\n",
       "      <td>...</td>\n",
       "      <td>91.0</td>\n",
       "      <td>72.0</td>\n",
       "      <td>86.0</td>\n",
       "      <td>88.0</td>\n",
       "      <td>2.0</td>\n",
       "      <td>4</td>\n",
       "      <td>14</td>\n",
       "      <td>0.4</td>\n",
       "      <td>1</td>\n",
       "      <td>0</td>\n",
       "    </tr>\n",
       "    <tr>\n",
       "      <th>22</th>\n",
       "      <td>M. Neuer</td>\n",
       "      <td>32</td>\n",
       "      <td>89</td>\n",
       "      <td>3</td>\n",
       "      <td>3</td>\n",
       "      <td>89</td>\n",
       "      <td>FC Bayern München</td>\n",
       "      <td>38000.0</td>\n",
       "      <td>130.0</td>\n",
       "      <td>GoalKeeper</td>\n",
       "      <td>...</td>\n",
       "      <td>86.0</td>\n",
       "      <td>91.0</td>\n",
       "      <td>87.0</td>\n",
       "      <td>87.0</td>\n",
       "      <td>2.0</td>\n",
       "      <td>7</td>\n",
       "      <td>14</td>\n",
       "      <td>7.5</td>\n",
       "      <td>1</td>\n",
       "      <td>0</td>\n",
       "    </tr>\n",
       "  </tbody>\n",
       "</table>\n",
       "<p>5 rows × 86 columns</p>\n",
       "</div>"
      ],
      "text/plain": [
       "             Name  Age  Overall  Rich_Club  Club_Value  Potential  \\\n",
       "3          De Gea   27       91          3           3         93   \n",
       "9        J. Oblak   25       90          3           3         93   \n",
       "18  M. ter Stegen   26       89          3           3         92   \n",
       "19    T. Courtois   26       89          3           3         90   \n",
       "22       M. Neuer   32       89          3           3         89   \n",
       "\n",
       "                 Club    Value   Wage Position_Class  ...  GKHandling  \\\n",
       "3   Manchester United  72000.0  260.0     GoalKeeper  ...        85.0   \n",
       "9     Atlético Madrid  68000.0   94.0     GoalKeeper  ...        92.0   \n",
       "18       FC Barcelona  58000.0  240.0     GoalKeeper  ...        85.0   \n",
       "19        Real Madrid  53500.0  240.0     GoalKeeper  ...        91.0   \n",
       "22  FC Bayern München  38000.0  130.0     GoalKeeper  ...        86.0   \n",
       "\n",
       "    GKKicking  GKPositioning  GKReflexes   WR Age_C  Over_C Period Loaned  \\\n",
       "3        87.0           88.0        94.0  2.0     5      16    7.5      1   \n",
       "9        78.0           88.0        89.0  2.0     4      15    4.5      1   \n",
       "18       88.0           85.0        90.0  2.0     4      14    4.5      1   \n",
       "19       72.0           86.0        88.0  2.0     4      14    0.4      1   \n",
       "22       91.0           87.0        87.0  2.0     7      14    7.5      1   \n",
       "\n",
       "   Special_sc  \n",
       "3           0  \n",
       "9           0  \n",
       "18          0  \n",
       "19          0  \n",
       "22          0  \n",
       "\n",
       "[5 rows x 86 columns]"
      ]
     },
     "execution_count": 81,
     "metadata": {},
     "output_type": "execute_result"
    }
   ],
   "source": [
    "df_GK=df[df['Position']=='GK']\n",
    "df_GK.head()"
   ]
  },
  {
   "cell_type": "code",
   "execution_count": 82,
   "metadata": {
    "executionInfo": {
     "elapsed": 10773,
     "status": "ok",
     "timestamp": 1615841446982,
     "user": {
      "displayName": "이보람",
      "photoUrl": "",
      "userId": "01536695193053509639"
     },
     "user_tz": -540
    },
    "id": "Ts9OGFmm_JoY"
   },
   "outputs": [],
   "source": [
    "df_GK['Position_Score']=np.nan"
   ]
  },
  {
   "cell_type": "code",
   "execution_count": 83,
   "metadata": {
    "colab": {
     "base_uri": "https://localhost:8080/"
    },
    "executionInfo": {
     "elapsed": 10745,
     "status": "ok",
     "timestamp": 1615841446984,
     "user": {
      "displayName": "이보람",
      "photoUrl": "",
      "userId": "01536695193053509639"
     },
     "user_tz": -540
    },
    "id": "ZtkOk7knAyhI",
    "outputId": "ad9ea961-4ea6-44b2-d274-6f49899ae801"
   },
   "outputs": [
    {
     "data": {
      "text/plain": [
       "3    NaN\n",
       "9    NaN\n",
       "18   NaN\n",
       "19   NaN\n",
       "22   NaN\n",
       "Name: Position_Score, dtype: float64"
      ]
     },
     "execution_count": 83,
     "metadata": {},
     "output_type": "execute_result"
    }
   ],
   "source": [
    "df_GK.iloc[:,86].head()"
   ]
  },
  {
   "cell_type": "code",
   "execution_count": 84,
   "metadata": {
    "executionInfo": {
     "elapsed": 11612,
     "status": "ok",
     "timestamp": 1615841447865,
     "user": {
      "displayName": "이보람",
      "photoUrl": "",
      "userId": "01536695193053509639"
     },
     "user_tz": -540
    },
    "id": "nCNIfBrJ_JwZ"
   },
   "outputs": [],
   "source": [
    "for i in range(len(df_GK)):\n",
    "    if df_GK.iloc[i, 9] == 'GoalKeeper':\n",
    "        df_GK.iloc[i, 86] = df_GK.iloc[i,2] #overall값 그대로 적용"
   ]
  },
  {
   "cell_type": "code",
   "execution_count": 85,
   "metadata": {
    "colab": {
     "base_uri": "https://localhost:8080/"
    },
    "executionInfo": {
     "elapsed": 11595,
     "status": "ok",
     "timestamp": 1615841447867,
     "user": {
      "displayName": "이보람",
      "photoUrl": "",
      "userId": "01536695193053509639"
     },
     "user_tz": -540
    },
    "id": "aanJmQb2_JzN",
    "outputId": "14f824b0-d4f4-41d6-ebf5-bd8ed4ecc2e3"
   },
   "outputs": [
    {
     "data": {
      "text/plain": [
       "3     91.0\n",
       "9     90.0\n",
       "18    89.0\n",
       "19    89.0\n",
       "22    89.0\n",
       "Name: Position_Score, dtype: float64"
      ]
     },
     "execution_count": 85,
     "metadata": {},
     "output_type": "execute_result"
    }
   ],
   "source": [
    "df_GK.iloc[:,86].head()"
   ]
  },
  {
   "cell_type": "code",
   "execution_count": 86,
   "metadata": {
    "executionInfo": {
     "elapsed": 11577,
     "status": "ok",
     "timestamp": 1615841447870,
     "user": {
      "displayName": "이보람",
      "photoUrl": "",
      "userId": "01536695193053509639"
     },
     "user_tz": -540
    },
    "id": "-PvgvZu9_J2A"
   },
   "outputs": [],
   "source": [
    "df_all = pd.concat([df1,df_GK]) "
   ]
  },
  {
   "cell_type": "code",
   "execution_count": 87,
   "metadata": {
    "colab": {
     "base_uri": "https://localhost:8080/",
     "height": 362
    },
    "executionInfo": {
     "elapsed": 11558,
     "status": "ok",
     "timestamp": 1615841447873,
     "user": {
      "displayName": "이보람",
      "photoUrl": "",
      "userId": "01536695193053509639"
     },
     "user_tz": -540
    },
    "id": "aIH-gfag_J4N",
    "outputId": "a36feef7-acc0-4777-e898-07e3ab84a591"
   },
   "outputs": [
    {
     "data": {
      "text/html": [
       "<div>\n",
       "<style scoped>\n",
       "    .dataframe tbody tr th:only-of-type {\n",
       "        vertical-align: middle;\n",
       "    }\n",
       "\n",
       "    .dataframe tbody tr th {\n",
       "        vertical-align: top;\n",
       "    }\n",
       "\n",
       "    .dataframe thead th {\n",
       "        text-align: right;\n",
       "    }\n",
       "</style>\n",
       "<table border=\"1\" class=\"dataframe\">\n",
       "  <thead>\n",
       "    <tr style=\"text-align: right;\">\n",
       "      <th></th>\n",
       "      <th>Name</th>\n",
       "      <th>Age</th>\n",
       "      <th>Overall</th>\n",
       "      <th>Rich_Club</th>\n",
       "      <th>Club_Value</th>\n",
       "      <th>Potential</th>\n",
       "      <th>Club</th>\n",
       "      <th>Value</th>\n",
       "      <th>Wage</th>\n",
       "      <th>Position_Class</th>\n",
       "      <th>...</th>\n",
       "      <th>GKKicking</th>\n",
       "      <th>GKPositioning</th>\n",
       "      <th>GKReflexes</th>\n",
       "      <th>WR</th>\n",
       "      <th>Age_C</th>\n",
       "      <th>Over_C</th>\n",
       "      <th>Period</th>\n",
       "      <th>Loaned</th>\n",
       "      <th>Special_sc</th>\n",
       "      <th>Position_Score</th>\n",
       "    </tr>\n",
       "  </thead>\n",
       "  <tbody>\n",
       "    <tr>\n",
       "      <th>0</th>\n",
       "      <td>L. Messi</td>\n",
       "      <td>31</td>\n",
       "      <td>94</td>\n",
       "      <td>3</td>\n",
       "      <td>3</td>\n",
       "      <td>94</td>\n",
       "      <td>FC Barcelona</td>\n",
       "      <td>110500.0</td>\n",
       "      <td>565.0</td>\n",
       "      <td>Forward</td>\n",
       "      <td>...</td>\n",
       "      <td>15.0</td>\n",
       "      <td>14.0</td>\n",
       "      <td>8.0</td>\n",
       "      <td>2.0</td>\n",
       "      <td>6</td>\n",
       "      <td>18</td>\n",
       "      <td>14.5</td>\n",
       "      <td>1</td>\n",
       "      <td>1</td>\n",
       "      <td>93.0</td>\n",
       "    </tr>\n",
       "    <tr>\n",
       "      <th>1</th>\n",
       "      <td>Cristiano Ronaldo</td>\n",
       "      <td>33</td>\n",
       "      <td>94</td>\n",
       "      <td>3</td>\n",
       "      <td>3</td>\n",
       "      <td>94</td>\n",
       "      <td>Juventus</td>\n",
       "      <td>77000.0</td>\n",
       "      <td>405.0</td>\n",
       "      <td>Forward</td>\n",
       "      <td>...</td>\n",
       "      <td>15.0</td>\n",
       "      <td>14.0</td>\n",
       "      <td>11.0</td>\n",
       "      <td>2.0</td>\n",
       "      <td>7</td>\n",
       "      <td>18</td>\n",
       "      <td>0.5</td>\n",
       "      <td>1</td>\n",
       "      <td>1</td>\n",
       "      <td>93.0</td>\n",
       "    </tr>\n",
       "    <tr>\n",
       "      <th>2</th>\n",
       "      <td>Neymar Jr</td>\n",
       "      <td>26</td>\n",
       "      <td>92</td>\n",
       "      <td>3</td>\n",
       "      <td>3</td>\n",
       "      <td>93</td>\n",
       "      <td>Paris Saint-Germain</td>\n",
       "      <td>118500.0</td>\n",
       "      <td>290.0</td>\n",
       "      <td>Forward</td>\n",
       "      <td>...</td>\n",
       "      <td>15.0</td>\n",
       "      <td>15.0</td>\n",
       "      <td>11.0</td>\n",
       "      <td>3.0</td>\n",
       "      <td>4</td>\n",
       "      <td>17</td>\n",
       "      <td>1.4</td>\n",
       "      <td>1</td>\n",
       "      <td>1</td>\n",
       "      <td>90.0</td>\n",
       "    </tr>\n",
       "    <tr>\n",
       "      <th>4</th>\n",
       "      <td>K. De Bruyne</td>\n",
       "      <td>27</td>\n",
       "      <td>91</td>\n",
       "      <td>3</td>\n",
       "      <td>3</td>\n",
       "      <td>92</td>\n",
       "      <td>Manchester City</td>\n",
       "      <td>102000.0</td>\n",
       "      <td>355.0</td>\n",
       "      <td>Midfielder</td>\n",
       "      <td>...</td>\n",
       "      <td>5.0</td>\n",
       "      <td>10.0</td>\n",
       "      <td>13.0</td>\n",
       "      <td>4.0</td>\n",
       "      <td>5</td>\n",
       "      <td>16</td>\n",
       "      <td>3.3</td>\n",
       "      <td>1</td>\n",
       "      <td>1</td>\n",
       "      <td>91.0</td>\n",
       "    </tr>\n",
       "    <tr>\n",
       "      <th>5</th>\n",
       "      <td>E. Hazard</td>\n",
       "      <td>27</td>\n",
       "      <td>91</td>\n",
       "      <td>3</td>\n",
       "      <td>3</td>\n",
       "      <td>91</td>\n",
       "      <td>Chelsea</td>\n",
       "      <td>93000.0</td>\n",
       "      <td>340.0</td>\n",
       "      <td>Forward</td>\n",
       "      <td>...</td>\n",
       "      <td>6.0</td>\n",
       "      <td>8.0</td>\n",
       "      <td>8.0</td>\n",
       "      <td>3.0</td>\n",
       "      <td>5</td>\n",
       "      <td>16</td>\n",
       "      <td>6.5</td>\n",
       "      <td>1</td>\n",
       "      <td>1</td>\n",
       "      <td>89.0</td>\n",
       "    </tr>\n",
       "  </tbody>\n",
       "</table>\n",
       "<p>5 rows × 87 columns</p>\n",
       "</div>"
      ],
      "text/plain": [
       "                Name  Age  Overall  Rich_Club  Club_Value  Potential  \\\n",
       "0           L. Messi   31       94          3           3         94   \n",
       "1  Cristiano Ronaldo   33       94          3           3         94   \n",
       "2          Neymar Jr   26       92          3           3         93   \n",
       "4       K. De Bruyne   27       91          3           3         92   \n",
       "5          E. Hazard   27       91          3           3         91   \n",
       "\n",
       "                  Club     Value   Wage Position_Class  ...  GKKicking  \\\n",
       "0         FC Barcelona  110500.0  565.0        Forward  ...       15.0   \n",
       "1             Juventus   77000.0  405.0        Forward  ...       15.0   \n",
       "2  Paris Saint-Germain  118500.0  290.0        Forward  ...       15.0   \n",
       "4      Manchester City  102000.0  355.0     Midfielder  ...        5.0   \n",
       "5              Chelsea   93000.0  340.0        Forward  ...        6.0   \n",
       "\n",
       "   GKPositioning  GKReflexes   WR Age_C Over_C  Period Loaned Special_sc  \\\n",
       "0           14.0         8.0  2.0     6     18    14.5      1          1   \n",
       "1           14.0        11.0  2.0     7     18     0.5      1          1   \n",
       "2           15.0        11.0  3.0     4     17     1.4      1          1   \n",
       "4           10.0        13.0  4.0     5     16     3.3      1          1   \n",
       "5            8.0         8.0  3.0     5     16     6.5      1          1   \n",
       "\n",
       "  Position_Score  \n",
       "0           93.0  \n",
       "1           93.0  \n",
       "2           90.0  \n",
       "4           91.0  \n",
       "5           89.0  \n",
       "\n",
       "[5 rows x 87 columns]"
      ]
     },
     "execution_count": 87,
     "metadata": {},
     "output_type": "execute_result"
    }
   ],
   "source": [
    "df_all.head()"
   ]
  },
  {
   "cell_type": "code",
   "execution_count": 63,
   "metadata": {},
   "outputs": [
    {
     "data": {
      "text/html": [
       "<table class=\"simpletable\">\n",
       "<caption>OLS Regression Results</caption>\n",
       "<tr>\n",
       "  <th>Dep. Variable:</th>          <td>Wage</td>       <th>  R-squared:         </th> <td>   0.315</td> \n",
       "</tr>\n",
       "<tr>\n",
       "  <th>Model:</th>                   <td>OLS</td>       <th>  Adj. R-squared:    </th> <td>   0.315</td> \n",
       "</tr>\n",
       "<tr>\n",
       "  <th>Method:</th>             <td>Least Squares</td>  <th>  F-statistic:       </th> <td>   8245.</td> \n",
       "</tr>\n",
       "<tr>\n",
       "  <th>Date:</th>             <td>Thu, 18 Mar 2021</td> <th>  Prob (F-statistic):</th>  <td>  0.00</td>  \n",
       "</tr>\n",
       "<tr>\n",
       "  <th>Time:</th>                 <td>01:40:59</td>     <th>  Log-Likelihood:    </th> <td> -77534.</td> \n",
       "</tr>\n",
       "<tr>\n",
       "  <th>No. Observations:</th>      <td> 17918</td>      <th>  AIC:               </th> <td>1.551e+05</td>\n",
       "</tr>\n",
       "<tr>\n",
       "  <th>Df Residuals:</th>          <td> 17916</td>      <th>  BIC:               </th> <td>1.551e+05</td>\n",
       "</tr>\n",
       "<tr>\n",
       "  <th>Df Model:</th>              <td>     1</td>      <th>                     </th>     <td> </td>    \n",
       "</tr>\n",
       "<tr>\n",
       "  <th>Covariance Type:</th>      <td>nonrobust</td>    <th>                     </th>     <td> </td>    \n",
       "</tr>\n",
       "</table>\n",
       "<table class=\"simpletable\">\n",
       "<tr>\n",
       "         <td></td>           <th>coef</th>     <th>std err</th>      <th>t</th>      <th>P>|t|</th>  <th>[0.025</th>    <th>0.975]</th>  \n",
       "</tr>\n",
       "<tr>\n",
       "  <th>Intercept</th>      <td> -106.5011</td> <td>    1.289</td> <td>  -82.621</td> <td> 0.000</td> <td> -109.028</td> <td> -103.974</td>\n",
       "</tr>\n",
       "<tr>\n",
       "  <th>Position_Score</th> <td>    1.7898</td> <td>    0.020</td> <td>   90.802</td> <td> 0.000</td> <td>    1.751</td> <td>    1.828</td>\n",
       "</tr>\n",
       "</table>\n",
       "<table class=\"simpletable\">\n",
       "<tr>\n",
       "  <th>Omnibus:</th>       <td>25266.598</td> <th>  Durbin-Watson:     </th>   <td>   0.720</td>  \n",
       "</tr>\n",
       "<tr>\n",
       "  <th>Prob(Omnibus):</th>  <td> 0.000</td>   <th>  Jarque-Bera (JB):  </th> <td>11407730.159</td>\n",
       "</tr>\n",
       "<tr>\n",
       "  <th>Skew:</th>           <td> 8.203</td>   <th>  Prob(JB):          </th>   <td>    0.00</td>  \n",
       "</tr>\n",
       "<tr>\n",
       "  <th>Kurtosis:</th>       <td>125.518</td>  <th>  Cond. No.          </th>   <td>    616.</td>  \n",
       "</tr>\n",
       "</table><br/><br/>Warnings:<br/>[1] Standard Errors assume that the covariance matrix of the errors is correctly specified."
      ],
      "text/plain": [
       "<class 'statsmodels.iolib.summary.Summary'>\n",
       "\"\"\"\n",
       "                            OLS Regression Results                            \n",
       "==============================================================================\n",
       "Dep. Variable:                   Wage   R-squared:                       0.315\n",
       "Model:                            OLS   Adj. R-squared:                  0.315\n",
       "Method:                 Least Squares   F-statistic:                     8245.\n",
       "Date:                Thu, 18 Mar 2021   Prob (F-statistic):               0.00\n",
       "Time:                        01:40:59   Log-Likelihood:                -77534.\n",
       "No. Observations:               17918   AIC:                         1.551e+05\n",
       "Df Residuals:                   17916   BIC:                         1.551e+05\n",
       "Df Model:                           1                                         \n",
       "Covariance Type:            nonrobust                                         \n",
       "==================================================================================\n",
       "                     coef    std err          t      P>|t|      [0.025      0.975]\n",
       "----------------------------------------------------------------------------------\n",
       "Intercept       -106.5011      1.289    -82.621      0.000    -109.028    -103.974\n",
       "Position_Score     1.7898      0.020     90.802      0.000       1.751       1.828\n",
       "==============================================================================\n",
       "Omnibus:                    25266.598   Durbin-Watson:                   0.720\n",
       "Prob(Omnibus):                  0.000   Jarque-Bera (JB):         11407730.159\n",
       "Skew:                           8.203   Prob(JB):                         0.00\n",
       "Kurtosis:                     125.518   Cond. No.                         616.\n",
       "==============================================================================\n",
       "\n",
       "Warnings:\n",
       "[1] Standard Errors assume that the covariance matrix of the errors is correctly specified.\n",
       "\"\"\""
      ]
     },
     "execution_count": 63,
     "metadata": {},
     "output_type": "execute_result"
    }
   ],
   "source": [
    "lm_fifa1=smf.ols('Wage~ Position_Score', data=df_all).fit()\n",
    "lm_fifa1.summary()"
   ]
  },
  {
   "cell_type": "code",
   "execution_count": 64,
   "metadata": {
    "colab": {
     "base_uri": "https://localhost:8080/",
     "height": 166
    },
    "executionInfo": {
     "elapsed": 11505,
     "status": "ok",
     "timestamp": 1615841447875,
     "user": {
      "displayName": "이보람",
      "photoUrl": "",
      "userId": "01536695193053509639"
     },
     "user_tz": -540
    },
    "id": "xpDjwehD_J-C",
    "outputId": "cdc4e400-558c-4298-d3fe-6d8e10125bd4"
   },
   "outputs": [
    {
     "data": {
      "text/html": [
       "<table class=\"simpletable\">\n",
       "<caption>OLS Regression Results</caption>\n",
       "<tr>\n",
       "  <th>Dep. Variable:</th>          <td>Wage</td>       <th>  R-squared:         </th> <td>   0.332</td> \n",
       "</tr>\n",
       "<tr>\n",
       "  <th>Model:</th>                   <td>OLS</td>       <th>  Adj. R-squared:    </th> <td>   0.332</td> \n",
       "</tr>\n",
       "<tr>\n",
       "  <th>Method:</th>             <td>Least Squares</td>  <th>  F-statistic:       </th> <td>   8893.</td> \n",
       "</tr>\n",
       "<tr>\n",
       "  <th>Date:</th>             <td>Thu, 18 Mar 2021</td> <th>  Prob (F-statistic):</th>  <td>  0.00</td>  \n",
       "</tr>\n",
       "<tr>\n",
       "  <th>Time:</th>                 <td>01:41:23</td>     <th>  Log-Likelihood:    </th> <td> -77315.</td> \n",
       "</tr>\n",
       "<tr>\n",
       "  <th>No. Observations:</th>      <td> 17918</td>      <th>  AIC:               </th> <td>1.546e+05</td>\n",
       "</tr>\n",
       "<tr>\n",
       "  <th>Df Residuals:</th>          <td> 17916</td>      <th>  BIC:               </th> <td>1.546e+05</td>\n",
       "</tr>\n",
       "<tr>\n",
       "  <th>Df Model:</th>              <td>     1</td>      <th>                     </th>     <td> </td>    \n",
       "</tr>\n",
       "<tr>\n",
       "  <th>Covariance Type:</th>      <td>nonrobust</td>    <th>                     </th>     <td> </td>    \n",
       "</tr>\n",
       "</table>\n",
       "<table class=\"simpletable\">\n",
       "<tr>\n",
       "      <td></td>         <th>coef</th>     <th>std err</th>      <th>t</th>      <th>P>|t|</th>  <th>[0.025</th>    <th>0.975]</th>  \n",
       "</tr>\n",
       "<tr>\n",
       "  <th>Intercept</th> <td> -112.0216</td> <td>    1.300</td> <td>  -86.185</td> <td> 0.000</td> <td> -114.569</td> <td> -109.474</td>\n",
       "</tr>\n",
       "<tr>\n",
       "  <th>Overall</th>   <td>    1.8404</td> <td>    0.020</td> <td>   94.301</td> <td> 0.000</td> <td>    1.802</td> <td>    1.879</td>\n",
       "</tr>\n",
       "</table>\n",
       "<table class=\"simpletable\">\n",
       "<tr>\n",
       "  <th>Omnibus:</th>       <td>25427.808</td> <th>  Durbin-Watson:     </th>   <td>   0.684</td>  \n",
       "</tr>\n",
       "<tr>\n",
       "  <th>Prob(Omnibus):</th>  <td> 0.000</td>   <th>  Jarque-Bera (JB):  </th> <td>11978267.913</td>\n",
       "</tr>\n",
       "<tr>\n",
       "  <th>Skew:</th>           <td> 8.292</td>   <th>  Prob(JB):          </th>   <td>    0.00</td>  \n",
       "</tr>\n",
       "<tr>\n",
       "  <th>Kurtosis:</th>       <td>128.575</td>  <th>  Cond. No.          </th>   <td>    640.</td>  \n",
       "</tr>\n",
       "</table><br/><br/>Warnings:<br/>[1] Standard Errors assume that the covariance matrix of the errors is correctly specified."
      ],
      "text/plain": [
       "<class 'statsmodels.iolib.summary.Summary'>\n",
       "\"\"\"\n",
       "                            OLS Regression Results                            \n",
       "==============================================================================\n",
       "Dep. Variable:                   Wage   R-squared:                       0.332\n",
       "Model:                            OLS   Adj. R-squared:                  0.332\n",
       "Method:                 Least Squares   F-statistic:                     8893.\n",
       "Date:                Thu, 18 Mar 2021   Prob (F-statistic):               0.00\n",
       "Time:                        01:41:23   Log-Likelihood:                -77315.\n",
       "No. Observations:               17918   AIC:                         1.546e+05\n",
       "Df Residuals:                   17916   BIC:                         1.546e+05\n",
       "Df Model:                           1                                         \n",
       "Covariance Type:            nonrobust                                         \n",
       "==============================================================================\n",
       "                 coef    std err          t      P>|t|      [0.025      0.975]\n",
       "------------------------------------------------------------------------------\n",
       "Intercept   -112.0216      1.300    -86.185      0.000    -114.569    -109.474\n",
       "Overall        1.8404      0.020     94.301      0.000       1.802       1.879\n",
       "==============================================================================\n",
       "Omnibus:                    25427.808   Durbin-Watson:                   0.684\n",
       "Prob(Omnibus):                  0.000   Jarque-Bera (JB):         11978267.913\n",
       "Skew:                           8.292   Prob(JB):                         0.00\n",
       "Kurtosis:                     128.575   Cond. No.                         640.\n",
       "==============================================================================\n",
       "\n",
       "Warnings:\n",
       "[1] Standard Errors assume that the covariance matrix of the errors is correctly specified.\n",
       "\"\"\""
      ]
     },
     "execution_count": 64,
     "metadata": {},
     "output_type": "execute_result"
    }
   ],
   "source": [
    "lm_fifa2=smf.ols('Wage~ Overall', data=df_all).fit()\n",
    "lm_fifa2.summary()"
   ]
  },
  {
   "cell_type": "markdown",
   "metadata": {
    "id": "FOJBkOEhm0Qc"
   },
   "source": [
    "Club_Overall 합친 파생변수\n",
    "\n",
    "\n",
    "-Wage와 상관관계가 매우 높지만..\n",
    "범주화에 부족한 부분이 있는 듯해서 사용 x"
   ]
  },
  {
   "cell_type": "code",
   "execution_count": 312,
   "metadata": {
    "executionInfo": {
     "elapsed": 11483,
     "status": "ok",
     "timestamp": 1615841447876,
     "user": {
      "displayName": "이보람",
      "photoUrl": "",
      "userId": "01536695193053509639"
     },
     "user_tz": -540
    },
    "id": "eMI92OyamxH1"
   },
   "outputs": [],
   "source": [
    "# df_all['Club_Overall']=np.nan\n",
    "# bins = [0,73, 80, 85, 99]\n",
    "# group_names=[0,1,2,3]\n",
    "# df_all['Overall_div']=pd.cut(df_all['Overall'], bins, labels=group_names, include_lowest=True)\n",
    "\n",
    "# for i in range(len(df_all)):\n",
    "#     if df_all.iloc[i, 7] == 4: # club1 그룹 이내\n",
    "#         if df_all.iloc[i,33] ==3: # overall 85 이상\n",
    "#             df_all.iloc[i, 32] = 3\n",
    "#         elif df_all.iloc[i,33] ==2: # overall 80이상, 85 미만\n",
    "#             df_all.iloc[i, 32] = 2\n",
    "#         elif df_all.iloc[i,33] ==1: # overall 73이상, 80 미만\n",
    "#             df_all.iloc[i, 32] = 1\n",
    "#         else:\n",
    "#             df_all.iloc[i, 32] = 0    \n",
    "            \n",
    "#     elif df_all.iloc[i, 7] == 3: # club2 그룹 이내\n",
    "#         if df_all.iloc[i,33] ==3: # overall 85 이상 (거의 없음)\n",
    "#             df_all.iloc[i, 32] = 2 \n",
    "#         elif df_all.iloc[i,33] ==2: # overall 80 이상, 85 미만\n",
    "#             df_all.iloc[i,32] = 1\n",
    "#         else:\n",
    "#             df_all.iloc[i,32] =0\n",
    "            \n",
    "#     elif df_all.iloc[i, 7] == 2: # club3 그룹 이내\n",
    "#         if df_all.iloc[i,33] >= 2: # overall 80이상\n",
    "#             df_all.iloc[i,32] =1\n",
    "#         else:\n",
    "#             df_all.iloc[i,32] =0\n",
    "#     else: # 클럽 4분위수는 거의 연봉이 1000임\n",
    "#         df_all.iloc[i,32]=0"
   ]
  },
  {
   "cell_type": "markdown",
   "metadata": {
    "id": "WANd0IH8DOOk"
   },
   "source": [
    "##  불필요한 컬럼 2차 삭제"
   ]
  },
  {
   "cell_type": "code",
   "execution_count": 88,
   "metadata": {
    "executionInfo": {
     "elapsed": 11732,
     "status": "ok",
     "timestamp": 1615841448177,
     "user": {
      "displayName": "이보람",
      "photoUrl": "",
      "userId": "01536695193053509639"
     },
     "user_tz": -540
    },
    "id": "mrhYdBIv_KAa"
   },
   "outputs": [],
   "source": [
    "df_all.drop([ 'LS', 'ST', 'RS', 'LW', 'LF', 'CF', 'RF', 'RW',\n",
    "       'LAM', 'CAM', 'RAM', 'LM', 'LCM', 'CM', 'RCM', 'RM', 'LWB', 'LDM',\n",
    "       'CDM', 'RDM', 'RWB', 'LB', 'LCB', 'CB', 'RCB', 'RB', 'Crossing',\n",
    "       'Finishing', 'HeadingAccuracy', 'ShortPassing', 'Volleys', 'Dribbling',\n",
    "       'Curve', 'FKAccuracy', 'LongPassing', 'BallControl', 'Acceleration',\n",
    "       'SprintSpeed', 'Agility', 'Reactions', 'Balance', 'ShotPower',\n",
    "       'Jumping', 'Stamina', 'Strength', 'LongShots', 'Aggression',\n",
    "       'Interceptions', 'Positioning', 'Vision', 'Penalties', \n",
    "       'Marking', 'StandingTackle', 'SlidingTackle', 'GKDiving', 'GKHandling',\n",
    "       'GKKicking', 'GKPositioning', 'GKReflexes'], axis=1, inplace=True)"
   ]
  },
  {
   "cell_type": "code",
   "execution_count": 89,
   "metadata": {
    "executionInfo": {
     "elapsed": 11721,
     "status": "ok",
     "timestamp": 1615841448179,
     "user": {
      "displayName": "이보람",
      "photoUrl": "",
      "userId": "01536695193053509639"
     },
     "user_tz": -540
    },
    "id": "HxX8liTKDuoy"
   },
   "outputs": [],
   "source": [
    "df_all.drop(['Special','Weak Foot', 'Skill Moves','Position', 'Joined', 'Loaned From',\n",
    "       'Contract Valid Until', 'Composure'],axis=1, inplace=True)"
   ]
  },
  {
   "cell_type": "code",
   "execution_count": 90,
   "metadata": {
    "colab": {
     "base_uri": "https://localhost:8080/"
    },
    "executionInfo": {
     "elapsed": 11710,
     "status": "ok",
     "timestamp": 1615841448181,
     "user": {
      "displayName": "이보람",
      "photoUrl": "",
      "userId": "01536695193053509639"
     },
     "user_tz": -540
    },
    "id": "2FFW4mS6DX9_",
    "outputId": "3c94aa1c-e0f7-484f-fda3-7c57fb8c3026"
   },
   "outputs": [
    {
     "data": {
      "text/plain": [
       "Index(['Name', 'Age', 'Overall', 'Rich_Club', 'Club_Value', 'Potential',\n",
       "       'Club', 'Value', 'Wage', 'Position_Class', 'International Reputation',\n",
       "       'Real Face', 'Jersey Number', 'WR', 'Age_C', 'Over_C', 'Period',\n",
       "       'Loaned', 'Special_sc', 'Position_Score'],\n",
       "      dtype='object')"
      ]
     },
     "execution_count": 90,
     "metadata": {},
     "output_type": "execute_result"
    }
   ],
   "source": [
    "df_all.columns"
   ]
  },
  {
   "cell_type": "markdown",
   "metadata": {
    "id": "zzh57A1sDgn_"
   },
   "source": [
    "Real Face"
   ]
  },
  {
   "cell_type": "code",
   "execution_count": 91,
   "metadata": {
    "executionInfo": {
     "elapsed": 11704,
     "status": "ok",
     "timestamp": 1615841448188,
     "user": {
      "displayName": "이보람",
      "photoUrl": "",
      "userId": "01536695193053509639"
     },
     "user_tz": -540
    },
    "id": "r0NriJLhC9Uu"
   },
   "outputs": [],
   "source": [
    "df_all['Real_Face']=df_all['Real Face']\n",
    "df_all.drop('Real Face', axis=1, inplace=True)\n",
    "df_all['Real_Face'].replace({'Yes':1, 'No':0},inplace= True)"
   ]
  },
  {
   "cell_type": "code",
   "execution_count": 69,
   "metadata": {
    "colab": {
     "base_uri": "https://localhost:8080/",
     "height": 426
    },
    "executionInfo": {
     "elapsed": 11695,
     "status": "ok",
     "timestamp": 1615841448191,
     "user": {
      "displayName": "이보람",
      "photoUrl": "",
      "userId": "01536695193053509639"
     },
     "user_tz": -540
    },
    "id": "kbrMNtyrC9Yi",
    "outputId": "81b7f5d8-99c9-481f-b120-703045fa2ee1"
   },
   "outputs": [
    {
     "data": {
      "text/html": [
       "<table class=\"simpletable\">\n",
       "<caption>OLS Regression Results</caption>\n",
       "<tr>\n",
       "  <th>Dep. Variable:</th>          <td>Wage</td>       <th>  R-squared:         </th> <td>   0.246</td> \n",
       "</tr>\n",
       "<tr>\n",
       "  <th>Model:</th>                   <td>OLS</td>       <th>  Adj. R-squared:    </th> <td>   0.246</td> \n",
       "</tr>\n",
       "<tr>\n",
       "  <th>Method:</th>             <td>Least Squares</td>  <th>  F-statistic:       </th> <td>   5832.</td> \n",
       "</tr>\n",
       "<tr>\n",
       "  <th>Date:</th>             <td>Thu, 18 Mar 2021</td> <th>  Prob (F-statistic):</th>  <td>  0.00</td>  \n",
       "</tr>\n",
       "<tr>\n",
       "  <th>Time:</th>                 <td>01:44:27</td>     <th>  Log-Likelihood:    </th> <td> -78401.</td> \n",
       "</tr>\n",
       "<tr>\n",
       "  <th>No. Observations:</th>      <td> 17918</td>      <th>  AIC:               </th> <td>1.568e+05</td>\n",
       "</tr>\n",
       "<tr>\n",
       "  <th>Df Residuals:</th>          <td> 17916</td>      <th>  BIC:               </th> <td>1.568e+05</td>\n",
       "</tr>\n",
       "<tr>\n",
       "  <th>Df Model:</th>              <td>     1</td>      <th>                     </th>     <td> </td>    \n",
       "</tr>\n",
       "<tr>\n",
       "  <th>Covariance Type:</th>      <td>nonrobust</td>    <th>                     </th>     <td> </td>    \n",
       "</tr>\n",
       "</table>\n",
       "<table class=\"simpletable\">\n",
       "<tr>\n",
       "      <td></td>         <th>coef</th>     <th>std err</th>      <th>t</th>      <th>P>|t|</th>  <th>[0.025</th>    <th>0.975]</th>  \n",
       "</tr>\n",
       "<tr>\n",
       "  <th>Intercept</th> <td>    6.3845</td> <td>    0.151</td> <td>   42.334</td> <td> 0.000</td> <td>    6.089</td> <td>    6.680</td>\n",
       "</tr>\n",
       "<tr>\n",
       "  <th>Real_Face</th> <td>   37.9075</td> <td>    0.496</td> <td>   76.368</td> <td> 0.000</td> <td>   36.935</td> <td>   38.880</td>\n",
       "</tr>\n",
       "</table>\n",
       "<table class=\"simpletable\">\n",
       "<tr>\n",
       "  <th>Omnibus:</th>       <td>24148.219</td> <th>  Durbin-Watson:     </th>  <td>   0.854</td>  \n",
       "</tr>\n",
       "<tr>\n",
       "  <th>Prob(Omnibus):</th>  <td> 0.000</td>   <th>  Jarque-Bera (JB):  </th> <td>9516248.892</td>\n",
       "</tr>\n",
       "<tr>\n",
       "  <th>Skew:</th>           <td> 7.538</td>   <th>  Prob(JB):          </th>  <td>    0.00</td>  \n",
       "</tr>\n",
       "<tr>\n",
       "  <th>Kurtosis:</th>       <td>114.889</td>  <th>  Cond. No.          </th>  <td>    3.49</td>  \n",
       "</tr>\n",
       "</table><br/><br/>Warnings:<br/>[1] Standard Errors assume that the covariance matrix of the errors is correctly specified."
      ],
      "text/plain": [
       "<class 'statsmodels.iolib.summary.Summary'>\n",
       "\"\"\"\n",
       "                            OLS Regression Results                            \n",
       "==============================================================================\n",
       "Dep. Variable:                   Wage   R-squared:                       0.246\n",
       "Model:                            OLS   Adj. R-squared:                  0.246\n",
       "Method:                 Least Squares   F-statistic:                     5832.\n",
       "Date:                Thu, 18 Mar 2021   Prob (F-statistic):               0.00\n",
       "Time:                        01:44:27   Log-Likelihood:                -78401.\n",
       "No. Observations:               17918   AIC:                         1.568e+05\n",
       "Df Residuals:                   17916   BIC:                         1.568e+05\n",
       "Df Model:                           1                                         \n",
       "Covariance Type:            nonrobust                                         \n",
       "==============================================================================\n",
       "                 coef    std err          t      P>|t|      [0.025      0.975]\n",
       "------------------------------------------------------------------------------\n",
       "Intercept      6.3845      0.151     42.334      0.000       6.089       6.680\n",
       "Real_Face     37.9075      0.496     76.368      0.000      36.935      38.880\n",
       "==============================================================================\n",
       "Omnibus:                    24148.219   Durbin-Watson:                   0.854\n",
       "Prob(Omnibus):                  0.000   Jarque-Bera (JB):          9516248.892\n",
       "Skew:                           7.538   Prob(JB):                         0.00\n",
       "Kurtosis:                     114.889   Cond. No.                         3.49\n",
       "==============================================================================\n",
       "\n",
       "Warnings:\n",
       "[1] Standard Errors assume that the covariance matrix of the errors is correctly specified.\n",
       "\"\"\""
      ]
     },
     "execution_count": 69,
     "metadata": {},
     "output_type": "execute_result"
    }
   ],
   "source": [
    "im_model4 = smf.ols(formula = 'Wage~Real_Face',data = df_all).fit()\n",
    "im_model4.summary()"
   ]
  },
  {
   "cell_type": "code",
   "execution_count": 93,
   "metadata": {
    "executionInfo": {
     "elapsed": 623,
     "status": "ok",
     "timestamp": 1615841643356,
     "user": {
      "displayName": "이보람",
      "photoUrl": "",
      "userId": "01536695193053509639"
     },
     "user_tz": -540
    },
    "id": "sIePZLytqnnc"
   },
   "outputs": [],
   "source": [
    "# Position 실수화\n",
    "df_all['Position_Class'].replace({'Forward':3, 'Midfielder':2, 'Defender':1, 'GoalKeeper':0}, inplace = True)"
   ]
  },
  {
   "cell_type": "code",
   "execution_count": 94,
   "metadata": {
    "executionInfo": {
     "elapsed": 12093,
     "status": "aborted",
     "timestamp": 1615841448644,
     "user": {
      "displayName": "이보람",
      "photoUrl": "",
      "userId": "01536695193053509639"
     },
     "user_tz": -540
    },
    "id": "u6FvnxU5C9hN"
   },
   "outputs": [],
   "source": [
    "df_all.to_csv('fifa_0315.csv')"
   ]
  },
  {
   "cell_type": "code",
   "execution_count": 6,
   "metadata": {},
   "outputs": [],
   "source": [
    "df_all=pd.read_csv('fifa_0315.csv', index_col=0)"
   ]
  },
  {
   "cell_type": "code",
   "execution_count": 4,
   "metadata": {},
   "outputs": [
    {
     "data": {
      "text/plain": [
       "Index(['Unnamed: 0', 'Name', 'Age', 'Overall', 'Rich_Club', 'Club_Value',\n",
       "       'Potential', 'Club', 'Value', 'Wage', 'Position_Class',\n",
       "       'International Reputation', 'Jersey Number', 'WR', 'Age_C', 'Over_C',\n",
       "       'Period', 'Loaned', 'Special_sc', 'Position_Score', 'Real_Face'],\n",
       "      dtype='object')"
      ]
     },
     "execution_count": 4,
     "metadata": {},
     "output_type": "execute_result"
    }
   ],
   "source": [
    "df_all.columns"
   ]
  },
  {
   "cell_type": "code",
   "execution_count": 9,
   "metadata": {},
   "outputs": [
    {
     "data": {
      "text/html": [
       "<div>\n",
       "<style scoped>\n",
       "    .dataframe tbody tr th:only-of-type {\n",
       "        vertical-align: middle;\n",
       "    }\n",
       "\n",
       "    .dataframe tbody tr th {\n",
       "        vertical-align: top;\n",
       "    }\n",
       "\n",
       "    .dataframe thead th {\n",
       "        text-align: right;\n",
       "    }\n",
       "</style>\n",
       "<table border=\"1\" class=\"dataframe\">\n",
       "  <thead>\n",
       "    <tr style=\"text-align: right;\">\n",
       "      <th></th>\n",
       "      <th>Name</th>\n",
       "      <th>Overall</th>\n",
       "    </tr>\n",
       "  </thead>\n",
       "  <tbody>\n",
       "    <tr>\n",
       "      <th>18206</th>\n",
       "      <td>G. Nugent</td>\n",
       "      <td>46</td>\n",
       "    </tr>\n",
       "    <tr>\n",
       "      <th>18198</th>\n",
       "      <td>J. Livesey</td>\n",
       "      <td>47</td>\n",
       "    </tr>\n",
       "    <tr>\n",
       "      <th>18194</th>\n",
       "      <td>J. Milli</td>\n",
       "      <td>47</td>\n",
       "    </tr>\n",
       "    <tr>\n",
       "      <th>18205</th>\n",
       "      <td>D. Walker-Rice</td>\n",
       "      <td>47</td>\n",
       "    </tr>\n",
       "    <tr>\n",
       "      <th>18204</th>\n",
       "      <td>B. Worman</td>\n",
       "      <td>47</td>\n",
       "    </tr>\n",
       "    <tr>\n",
       "      <th>...</th>\n",
       "      <td>...</td>\n",
       "      <td>...</td>\n",
       "    </tr>\n",
       "    <tr>\n",
       "      <th>5</th>\n",
       "      <td>E. Hazard</td>\n",
       "      <td>91</td>\n",
       "    </tr>\n",
       "    <tr>\n",
       "      <th>4</th>\n",
       "      <td>K. De Bruyne</td>\n",
       "      <td>91</td>\n",
       "    </tr>\n",
       "    <tr>\n",
       "      <th>2</th>\n",
       "      <td>Neymar Jr</td>\n",
       "      <td>92</td>\n",
       "    </tr>\n",
       "    <tr>\n",
       "      <th>1</th>\n",
       "      <td>Cristiano Ronaldo</td>\n",
       "      <td>94</td>\n",
       "    </tr>\n",
       "    <tr>\n",
       "      <th>0</th>\n",
       "      <td>L. Messi</td>\n",
       "      <td>94</td>\n",
       "    </tr>\n",
       "  </tbody>\n",
       "</table>\n",
       "<p>17918 rows × 2 columns</p>\n",
       "</div>"
      ],
      "text/plain": [
       "                    Name  Overall\n",
       "18206          G. Nugent       46\n",
       "18198         J. Livesey       47\n",
       "18194           J. Milli       47\n",
       "18205     D. Walker-Rice       47\n",
       "18204          B. Worman       47\n",
       "...                  ...      ...\n",
       "5              E. Hazard       91\n",
       "4           K. De Bruyne       91\n",
       "2              Neymar Jr       92\n",
       "1      Cristiano Ronaldo       94\n",
       "0               L. Messi       94\n",
       "\n",
       "[17918 rows x 2 columns]"
      ]
     },
     "execution_count": 9,
     "metadata": {},
     "output_type": "execute_result"
    }
   ],
   "source": [
    "df_all.sort_values(by='Overall',ascending = True )[['Name', 'Overall']]"
   ]
  },
  {
   "cell_type": "code",
   "execution_count": 11,
   "metadata": {},
   "outputs": [
    {
     "data": {
      "text/html": [
       "<div>\n",
       "<style scoped>\n",
       "    .dataframe tbody tr th:only-of-type {\n",
       "        vertical-align: middle;\n",
       "    }\n",
       "\n",
       "    .dataframe tbody tr th {\n",
       "        vertical-align: top;\n",
       "    }\n",
       "\n",
       "    .dataframe thead th {\n",
       "        text-align: right;\n",
       "    }\n",
       "</style>\n",
       "<table border=\"1\" class=\"dataframe\">\n",
       "  <thead>\n",
       "    <tr style=\"text-align: right;\">\n",
       "      <th></th>\n",
       "      <th>Wage</th>\n",
       "    </tr>\n",
       "    <tr>\n",
       "      <th>Real_Face</th>\n",
       "      <th></th>\n",
       "    </tr>\n",
       "  </thead>\n",
       "  <tbody>\n",
       "    <tr>\n",
       "      <th>0</th>\n",
       "      <td>16264</td>\n",
       "    </tr>\n",
       "    <tr>\n",
       "      <th>1</th>\n",
       "      <td>1654</td>\n",
       "    </tr>\n",
       "  </tbody>\n",
       "</table>\n",
       "</div>"
      ],
      "text/plain": [
       "            Wage\n",
       "Real_Face       \n",
       "0          16264\n",
       "1           1654"
      ]
     },
     "execution_count": 11,
     "metadata": {},
     "output_type": "execute_result"
    }
   ],
   "source": [
    "piv = pd.pivot_table(df_all,\n",
    "                     index = 'Real_Face',\n",
    "                     values = 'Wage',\n",
    "                     aggfunc ='count')\n",
    "piv"
   ]
  },
  {
   "cell_type": "code",
   "execution_count": null,
   "metadata": {},
   "outputs": [],
   "source": []
  },
  {
   "cell_type": "code",
   "execution_count": null,
   "metadata": {},
   "outputs": [],
   "source": []
  },
  {
   "cell_type": "code",
   "execution_count": null,
   "metadata": {},
   "outputs": [],
   "source": []
  }
 ],
 "metadata": {
  "accelerator": "GPU",
  "colab": {
   "collapsed_sections": [],
   "name": "1. fifa_데이터분석_demo_colab.ipynb",
   "provenance": []
  },
  "kernelspec": {
   "display_name": "Python 3",
   "language": "python",
   "name": "python3"
  },
  "language_info": {
   "codemirror_mode": {
    "name": "ipython",
    "version": 3
   },
   "file_extension": ".py",
   "mimetype": "text/x-python",
   "name": "python",
   "nbconvert_exporter": "python",
   "pygments_lexer": "ipython3",
   "version": "3.8.3"
  }
 },
 "nbformat": 4,
 "nbformat_minor": 1
}
